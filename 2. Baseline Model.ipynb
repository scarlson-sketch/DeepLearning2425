{
 "cells": [
  {
   "cell_type": "markdown",
   "id": "9f2d1f7b",
   "metadata": {},
   "source": [
    "## **<h3 align=\"center\"> Deep Learning - Project </h3>**\n",
    "# **<h3 align=\"center\">Baseline Model</h3>**\n",
    "**Group 4 members:**<br>\n",
    "Alexandra Pinto - 20211599@novaims.unl.pt - 20211599<br>\n",
    "Steven Carlson - 20240554@novaims.unl.pt - 20240554<br>\n",
    "Sven Goerdes - 20240503@novaims.unl.pt - 20240503<br>\n",
    "Tim Straub - 20240505@novaims.unl.pt - 20240505<br>\n",
    "Zofia Wojcik  - 20240654@novaims.unl.pt - 20240654<br>"
   ]
  },
  {
   "cell_type": "markdown",
   "id": "cdb766d3",
   "metadata": {},
   "source": [
    "# Table of Contents\n",
    "* [1. Introduction](#intro)\n",
    "* [2. Setup](#setup)\n",
    "* [3. Data Loading](#load)\n",
    "* [4. Train a Baseline Model](#train)"
   ]
  },
  {
   "cell_type": "markdown",
   "id": "f3ca5ee3",
   "metadata": {},
   "source": [
    "# 1. Introduction <a class=\"anchor\" id=\"intro\"></a>\n",
    "In this notebook we start with building a baseline model to classify images into 202 distinct classes. This baseline model will serve as a reference point, allowing us to evaluate the effectiveness of subsequent improvements and coming up with the right strategy to this problem."
   ]
  },
  {
   "cell_type": "markdown",
   "id": "27a7e513",
   "metadata": {},
   "source": [
    "# 2. Setup <a class=\"anchor\" id=\"setup\"></a>\n",
    "In this section, we will import the necessary libraries that will be used throughout the notebook. "
   ]
  },
  {
   "cell_type": "code",
   "execution_count": 1,
   "id": "1fa0fc14",
   "metadata": {},
   "outputs": [
    {
     "name": "stderr",
     "output_type": "stream",
     "text": [
      "2025-04-24 13:46:11.831632: E external/local_xla/xla/stream_executor/cuda/cuda_fft.cc:467] Unable to register cuFFT factory: Attempting to register factory for plugin cuFFT when one has already been registered\n",
      "WARNING: All log messages before absl::InitializeLog() is called are written to STDERR\n",
      "E0000 00:00:1745498771.847521   17501 cuda_dnn.cc:8579] Unable to register cuDNN factory: Attempting to register factory for plugin cuDNN when one has already been registered\n",
      "E0000 00:00:1745498771.852673   17501 cuda_blas.cc:1407] Unable to register cuBLAS factory: Attempting to register factory for plugin cuBLAS when one has already been registered\n",
      "W0000 00:00:1745498771.865598   17501 computation_placer.cc:177] computation placer already registered. Please check linkage and avoid linking the same target more than once.\n",
      "W0000 00:00:1745498771.865615   17501 computation_placer.cc:177] computation placer already registered. Please check linkage and avoid linking the same target more than once.\n",
      "W0000 00:00:1745498771.865617   17501 computation_placer.cc:177] computation placer already registered. Please check linkage and avoid linking the same target more than once.\n",
      "W0000 00:00:1745498771.865618   17501 computation_placer.cc:177] computation placer already registered. Please check linkage and avoid linking the same target more than once.\n",
      "2025-04-24 13:46:11.869274: I tensorflow/core/platform/cpu_feature_guard.cc:210] This TensorFlow binary is optimized to use available CPU instructions in performance-critical operations.\n",
      "To enable the following instructions: AVX2 FMA, in other operations, rebuild TensorFlow with the appropriate compiler flags.\n"
     ]
    }
   ],
   "source": [
    "import pandas as pd\n",
    "import os\n",
    "from glob import glob\n",
    "from tensorflow.keras.applications import VGG16\n",
    "from tensorflow.keras import models, layers, optimizers\n",
    "from tensorflow.keras.callbacks import EarlyStopping\n",
    "from tensorflow.keras.preprocessing.image import ImageDataGenerator\n",
    "from tensorflow.keras.callbacks import ModelCheckpoint\n",
    "from tensorflow.keras.models import load_model"
   ]
  },
  {
   "cell_type": "markdown",
   "id": "c73c9573",
   "metadata": {},
   "source": [
    "# 3. Data Loading <a class=\"anchor\" id=\"load\"></a>"
   ]
  },
  {
   "cell_type": "code",
   "execution_count": 2,
   "id": "60c4c032",
   "metadata": {},
   "outputs": [],
   "source": [
    "#Load and concatenate all train/test CSVs\n",
    "train_csvs = glob('train_test_splits/*_train.csv')\n",
    "test_csvs = glob('train_test_splits/*_test.csv')\n",
    "\n",
    "# Load all CSVs into a list of DataFrames\n",
    "train_dfs = [pd.read_csv(csv_path) for csv_path in train_csvs]\n",
    "test_dfs = [pd.read_csv(csv_path) for csv_path in test_csvs]\n",
    "\n",
    "# Concatenate them all\n",
    "combined_train_df = pd.concat(train_dfs, ignore_index=True)\n",
    "combined_test_df = pd.concat(test_dfs, ignore_index=True)"
   ]
  },
  {
   "cell_type": "code",
   "execution_count": 3,
   "id": "69234649",
   "metadata": {},
   "outputs": [],
   "source": [
    "# Prepend image paths \n",
    "image_root_dir = \"rare_species\"\n",
    "combined_train_df['filepath'] = combined_train_df['file_path'].apply(lambda x: os.path.join(image_root_dir, x))\n",
    "combined_test_df['filepath'] = combined_test_df['file_path'].apply(lambda x: os.path.join(image_root_dir, x))"
   ]
  },
  {
   "cell_type": "code",
   "execution_count": 4,
   "id": "392cb007",
   "metadata": {},
   "outputs": [],
   "source": [
    "# Data generator for TRAINING images (includes augmentation)\n",
    "train_datagen = ImageDataGenerator(\n",
    "    rescale=1.0 / 255,         # Normalize pixel values from [0, 255] → [0, 1]\n",
    "    rotation_range=15,         # Randomly rotate images by up to 15 degrees \n",
    "    zoom_range=0.1,            # Random zoom inside image (10%) \n",
    "    horizontal_flip=True,      # Randomly do mirror view\n",
    "    validation_split=0.2       # Reserve 20% of training data for validation \n",
    ")\n",
    "\n",
    "# Data generator for TEST images (no augmentation)\n",
    "test_datagen = ImageDataGenerator(rescale=1.0 / 255)\n",
    "\n",
    "# Function to create generators based on image size and batch size\n",
    "def create_generators(image_size=(128, 128), batch_size=16):\n",
    "    train_generator = train_datagen.flow_from_dataframe(\n",
    "            dataframe=combined_train_df,         # DataFrame with image filepaths and labels\n",
    "            x_col='filepath',                 # Column with full path to images\n",
    "            y_col='family',                   # Column with class labels (family)\n",
    "            target_size=image_size,           # Resize all images to this size\n",
    "            class_mode='categorical',         # One-hot encode class labels\n",
    "            batch_size=batch_size,            # Load this many images per batch\n",
    "            subset='training',                # Use the training subset (80%)\n",
    "            shuffle=True,                     # Shuffle the data for training\n",
    "            seed=4                            # For reproducibility\n",
    "    )\n",
    "\n",
    "    val_generator = train_datagen.flow_from_dataframe(\n",
    "            dataframe=combined_train_df,         # DataFrame with image filepaths and labels\n",
    "            x_col='filepath',                 # Column with full path to images\n",
    "            y_col='family',                   # Column with class labels (family)\n",
    "            target_size=image_size,           # Resize all images to this size\n",
    "            class_mode='categorical',         # One-hot encode class labels\n",
    "            batch_size=batch_size,            # Load this many images per batch\n",
    "            subset='validation',              # Use the training subset (80%)\n",
    "            shuffle=True,                     # Shuffle the data for training\n",
    "            seed=4                            # For reproducibility\n",
    "    )\n",
    "\n",
    "    test_generator = test_datagen.flow_from_dataframe(\n",
    "            dataframe=combined_test_df,\n",
    "            x_col='filepath',\n",
    "            y_col='family',\n",
    "            target_size=image_size,\n",
    "            class_mode='categorical',\n",
    "            batch_size=1,                     # Load one image at a time for testing\n",
    "            shuffle=False                     # Do not shuffle so predictions align with input order\n",
    "    )\n",
    "\n",
    "    return train_generator, val_generator, test_generator"
   ]
  },
  {
   "cell_type": "code",
   "execution_count": 5,
   "id": "f07f10e4",
   "metadata": {},
   "outputs": [],
   "source": [
    "checkpoint = ModelCheckpoint(\n",
    "    filepath='model_checkpoints/epoch_{epoch:02d}_valacc_{val_accuracy:.2f}.keras',\n",
    "    save_weights_only=False,        # Set to True if you only want weights\n",
    "    save_best_only=False,           # Or True if you only want best model\n",
    "    monitor='val_accuracy',             # Metric to track\n",
    "    mode='max',                    # Maximize this metric\n",
    "    verbose=1\n",
    ")"
   ]
  },
  {
   "cell_type": "markdown",
   "id": "1c921be7",
   "metadata": {},
   "source": [
    "# 4. Train a Baseline Model <a class=\"anchor\" id=\"train\"></a>"
   ]
  },
  {
   "cell_type": "code",
   "execution_count": 6,
   "id": "b7e3cd5e",
   "metadata": {},
   "outputs": [
    {
     "name": "stdout",
     "output_type": "stream",
     "text": [
      "Found 7566 validated image filenames belonging to 202 classes.\n",
      "Found 1891 validated image filenames belonging to 202 classes.\n",
      "Found 2367 validated image filenames belonging to 202 classes.\n"
     ]
    }
   ],
   "source": [
    "# Create generators \n",
    "image_size = (224, 224)\n",
    "batch_size = 32\n",
    "\n",
    "train_generator, val_generator, test_generator = create_generators(\n",
    "    image_size=image_size,\n",
    "    batch_size=batch_size\n",
    ")"
   ]
  },
  {
   "cell_type": "code",
   "execution_count": 7,
   "id": "dbc0995c",
   "metadata": {},
   "outputs": [
    {
     "name": "stderr",
     "output_type": "stream",
     "text": [
      "I0000 00:00:1745498786.107450   17501 gpu_device.cc:2019] Created device /job:localhost/replica:0/task:0/device:GPU:0 with 5564 MB memory:  -> device: 0, name: NVIDIA GeForce RTX 3070, pci bus id: 0000:07:00.0, compute capability: 8.6\n"
     ]
    },
    {
     "name": "stdout",
     "output_type": "stream",
     "text": [
      "Downloading data from https://storage.googleapis.com/tensorflow/keras-applications/vgg16/vgg16_weights_tf_dim_ordering_tf_kernels_notop.h5\n",
      "\u001b[1m58889256/58889256\u001b[0m \u001b[32m━━━━━━━━━━━━━━━━━━━━\u001b[0m\u001b[37m\u001b[0m \u001b[1m10s\u001b[0m 0us/step\n"
     ]
    }
   ],
   "source": [
    "# Load VGG16 \n",
    "base_model = VGG16(\n",
    "    input_shape=(224, 224, 3),\n",
    "    include_top=False,       # Don't include the original classifier\n",
    "    weights='imagenet'\n",
    ")\n",
    "base_model.trainable = False  # freeze all layers for baseline\n",
    "\n",
    "# Build full model \n",
    "model = models.Sequential([\n",
    "    base_model,\n",
    "    layers.GlobalAveragePooling2D(),       # More efficient than Flatten\n",
    "    layers.Dense(512, activation='relu'),  # Larger dense layer for higher class count\n",
    "    layers.Dropout(0.5),\n",
    "    layers.Dense(202, activation='softmax')  # Final output layer for 202 classes\n",
    "])\n",
    "\n",
    "# Compile the model\n",
    "model.compile(\n",
    "    optimizer=optimizers.Adam(learning_rate=1e-4),\n",
    "    loss='categorical_crossentropy',\n",
    "    metrics=['accuracy']\n",
    ")"
   ]
  },
  {
   "cell_type": "code",
   "execution_count": null,
   "id": "033c783e",
   "metadata": {},
   "outputs": [
    {
     "name": "stderr",
     "output_type": "stream",
     "text": [
      "/root/DeepLearning2425/tf-gpu/lib/python3.12/site-packages/keras/src/trainers/data_adapters/py_dataset_adapter.py:121: UserWarning: Your `PyDataset` class should call `super().__init__(**kwargs)` in its constructor. `**kwargs` can include `workers`, `use_multiprocessing`, `max_queue_size`. Do not pass these arguments to `fit()`, as they will be ignored.\n",
      "  self._warn_if_super_not_called()\n"
     ]
    },
    {
     "name": "stdout",
     "output_type": "stream",
     "text": [
      "Epoch 1/30\n"
     ]
    },
    {
     "name": "stderr",
     "output_type": "stream",
     "text": [
      "WARNING: All log messages before absl::InitializeLog() is called are written to STDERR\n",
      "I0000 00:00:1745446258.328949   10909 service.cc:152] XLA service 0x7f4af0005cd0 initialized for platform CUDA (this does not guarantee that XLA will be used). Devices:\n",
      "I0000 00:00:1745446258.328986   10909 service.cc:160]   StreamExecutor device (0): NVIDIA GeForce RTX 3070, Compute Capability 8.6\n",
      "2025-04-23 23:10:58.356490: I tensorflow/compiler/mlir/tensorflow/utils/dump_mlir_util.cc:269] disabling MLIR crash reproducer, set env var `MLIR_CRASH_REPRODUCER_DIRECTORY` to enable.\n",
      "I0000 00:00:1745446258.615987   10909 cuda_dnn.cc:529] Loaded cuDNN version 90800\n",
      "2025-04-23 23:10:59.740661: I external/local_xla/xla/stream_executor/cuda/subprocess_compilation.cc:346] ptxas warning : Registers are spilled to local memory in function 'gemm_fusion_dot_921', 188 bytes spill stores, 188 bytes spill loads\n",
      "\n",
      "2025-04-23 23:10:59.856016: I external/local_xla/xla/stream_executor/cuda/subprocess_compilation.cc:346] ptxas warning : Registers are spilled to local memory in function 'gemm_fusion_dot_1110', 84 bytes spill stores, 84 bytes spill loads\n",
      "\n",
      "2025-04-23 23:11:00.090415: I external/local_xla/xla/stream_executor/cuda/subprocess_compilation.cc:346] ptxas warning : Registers are spilled to local memory in function 'gemm_fusion_dot_1413', 40 bytes spill stores, 40 bytes spill loads\n",
      "\n",
      "2025-04-23 23:11:00.601282: I external/local_xla/xla/stream_executor/cuda/subprocess_compilation.cc:346] ptxas warning : Registers are spilled to local memory in function 'gemm_fusion_dot_1429', 12 bytes spill stores, 12 bytes spill loads\n",
      "\n",
      "2025-04-23 23:11:00.761603: I external/local_xla/xla/stream_executor/cuda/subprocess_compilation.cc:346] ptxas warning : Registers are spilled to local memory in function 'gemm_fusion_dot_1413', 20 bytes spill stores, 20 bytes spill loads\n",
      "\n",
      "2025-04-23 23:11:00.992057: I external/local_xla/xla/stream_executor/cuda/subprocess_compilation.cc:346] ptxas warning : Registers are spilled to local memory in function 'gemm_fusion_dot_1110', 84 bytes spill stores, 84 bytes spill loads\n",
      "\n",
      "2025-04-23 23:11:00.995098: I external/local_xla/xla/stream_executor/cuda/subprocess_compilation.cc:346] ptxas warning : Registers are spilled to local memory in function 'gemm_fusion_dot_1413', 16 bytes spill stores, 16 bytes spill loads\n",
      "\n",
      "2025-04-23 23:11:01.000550: I external/local_xla/xla/stream_executor/cuda/subprocess_compilation.cc:346] ptxas warning : Registers are spilled to local memory in function 'gemm_fusion_dot_1110', 404 bytes spill stores, 404 bytes spill loads\n",
      "\n"
     ]
    },
    {
     "name": "stdout",
     "output_type": "stream",
     "text": [
      "\u001b[1m  2/237\u001b[0m \u001b[37m━━━━━━━━━━━━━━━━━━━━\u001b[0m \u001b[1m16s\u001b[0m 70ms/step - accuracy: 0.0000e+00 - loss: 5.4528 "
     ]
    },
    {
     "name": "stderr",
     "output_type": "stream",
     "text": [
      "I0000 00:00:1745446266.358122   10909 device_compiler.h:188] Compiled cluster using XLA!  This line is logged at most once for the lifetime of the process.\n"
     ]
    },
    {
     "name": "stdout",
     "output_type": "stream",
     "text": [
      "\u001b[1m 93/237\u001b[0m \u001b[32m━━━━━━━\u001b[0m\u001b[37m━━━━━━━━━━━━━\u001b[0m \u001b[1m1:28\u001b[0m 613ms/step - accuracy: 0.0071 - loss: 5.3511"
     ]
    },
    {
     "name": "stderr",
     "output_type": "stream",
     "text": [
      "2025-04-23 23:12:03.602305: I external/local_xla/xla/stream_executor/cuda/subprocess_compilation.cc:346] ptxas warning : Registers are spilled to local memory in function 'gemm_fusion_dot_921', 8 bytes spill stores, 8 bytes spill loads\n",
      "\n",
      "2025-04-23 23:12:03.632613: I external/local_xla/xla/stream_executor/cuda/subprocess_compilation.cc:346] ptxas warning : Registers are spilled to local memory in function 'gemm_fusion_dot_921', 4 bytes spill stores, 4 bytes spill loads\n",
      "\n",
      "2025-04-23 23:12:03.930436: I external/local_xla/xla/stream_executor/cuda/subprocess_compilation.cc:346] ptxas warning : Registers are spilled to local memory in function 'gemm_fusion_dot_921', 104 bytes spill stores, 104 bytes spill loads\n",
      "\n",
      "2025-04-23 23:12:04.389469: I external/local_xla/xla/stream_executor/cuda/subprocess_compilation.cc:346] ptxas warning : Registers are spilled to local memory in function 'gemm_fusion_dot_1110', 152 bytes spill stores, 152 bytes spill loads\n",
      "\n"
     ]
    },
    {
     "name": "stdout",
     "output_type": "stream",
     "text": [
      "\u001b[1m237/237\u001b[0m \u001b[32m━━━━━━━━━━━━━━━━━━━━\u001b[0m\u001b[37m\u001b[0m \u001b[1m0s\u001b[0m 635ms/step - accuracy: 0.0153 - loss: 5.2652"
     ]
    },
    {
     "name": "stderr",
     "output_type": "stream",
     "text": [
      "2025-04-23 23:13:39.338968: I external/local_xla/xla/stream_executor/cuda/subprocess_compilation.cc:346] ptxas warning : Registers are spilled to local memory in function 'gemm_fusion_dot_234', 120 bytes spill stores, 120 bytes spill loads\n",
      "\n",
      "2025-04-23 23:13:39.472843: I external/local_xla/xla/stream_executor/cuda/subprocess_compilation.cc:346] ptxas warning : Registers are spilled to local memory in function 'gemm_fusion_dot_234', 76 bytes spill stores, 76 bytes spill loads\n",
      "\n",
      "2025-04-23 23:13:39.570276: I external/local_xla/xla/stream_executor/cuda/subprocess_compilation.cc:346] ptxas warning : Registers are spilled to local memory in function 'gemm_fusion_dot_234', 636 bytes spill stores, 636 bytes spill loads\n",
      "\n",
      "/root/DeepLearning2425/tf-gpu/lib/python3.12/site-packages/PIL/Image.py:3402: DecompressionBombWarning: Image size (115600000 pixels) exceeds limit of 89478485 pixels, could be decompression bomb DOS attack.\n",
      "  warnings.warn(\n",
      "2025-04-23 23:14:18.525915: I external/local_xla/xla/stream_executor/cuda/subprocess_compilation.cc:346] ptxas warning : Registers are spilled to local memory in function 'gemm_fusion_dot_227', 8 bytes spill stores, 8 bytes spill loads\n",
      "\n",
      "2025-04-23 23:14:18.570875: I external/local_xla/xla/stream_executor/cuda/subprocess_compilation.cc:346] ptxas warning : Registers are spilled to local memory in function 'gemm_fusion_dot_227', 4 bytes spill stores, 4 bytes spill loads\n",
      "\n",
      "2025-04-23 23:14:18.860522: I external/local_xla/xla/stream_executor/cuda/subprocess_compilation.cc:346] ptxas warning : Registers are spilled to local memory in function 'gemm_fusion_dot_227', 104 bytes spill stores, 104 bytes spill loads\n",
      "\n",
      "2025-04-23 23:14:19.110294: I external/local_xla/xla/stream_executor/cuda/subprocess_compilation.cc:346] ptxas warning : Registers are spilled to local memory in function 'gemm_fusion_dot_234', 64 bytes spill stores, 64 bytes spill loads\n",
      "\n",
      "2025-04-23 23:14:19.307612: I external/local_xla/xla/stream_executor/cuda/subprocess_compilation.cc:346] ptxas warning : Registers are spilled to local memory in function 'gemm_fusion_dot_234', 124 bytes spill stores, 124 bytes spill loads\n",
      "\n",
      "2025-04-23 23:14:19.623300: I external/local_xla/xla/stream_executor/cuda/subprocess_compilation.cc:346] ptxas warning : Registers are spilled to local memory in function 'gemm_fusion_dot_234', 268 bytes spill stores, 268 bytes spill loads\n",
      "\n"
     ]
    },
    {
     "name": "stdout",
     "output_type": "stream",
     "text": [
      "\n",
      "Epoch 1: saving model to model_checkpoints/epoch_01_valacc_0.02.keras\n",
      "\u001b[1m237/237\u001b[0m \u001b[32m━━━━━━━━━━━━━━━━━━━━\u001b[0m\u001b[37m\u001b[0m \u001b[1m205s\u001b[0m 829ms/step - accuracy: 0.0154 - loss: 5.2647 - val_accuracy: 0.0164 - val_loss: 5.8355\n",
      "Epoch 2/30\n",
      "\u001b[1m237/237\u001b[0m \u001b[32m━━━━━━━━━━━━━━━━━━━━\u001b[0m\u001b[37m\u001b[0m \u001b[1m0s\u001b[0m 566ms/step - accuracy: 0.0405 - loss: 4.9694\n",
      "Epoch 2: saving model to model_checkpoints/epoch_02_valacc_0.03.keras\n",
      "\u001b[1m237/237\u001b[0m \u001b[32m━━━━━━━━━━━━━━━━━━━━\u001b[0m\u001b[37m\u001b[0m \u001b[1m171s\u001b[0m 722ms/step - accuracy: 0.0405 - loss: 4.9693 - val_accuracy: 0.0264 - val_loss: 6.1793\n",
      "Epoch 3/30\n",
      "\u001b[1m237/237\u001b[0m \u001b[32m━━━━━━━━━━━━━━━━━━━━\u001b[0m\u001b[37m\u001b[0m \u001b[1m0s\u001b[0m 568ms/step - accuracy: 0.0607 - loss: 4.8371\n",
      "Epoch 3: saving model to model_checkpoints/epoch_03_valacc_0.04.keras\n",
      "\u001b[1m237/237\u001b[0m \u001b[32m━━━━━━━━━━━━━━━━━━━━\u001b[0m\u001b[37m\u001b[0m \u001b[1m172s\u001b[0m 726ms/step - accuracy: 0.0607 - loss: 4.8371 - val_accuracy: 0.0354 - val_loss: 6.4063\n",
      "Epoch 4/30\n",
      "\u001b[1m237/237\u001b[0m \u001b[32m━━━━━━━━━━━━━━━━━━━━\u001b[0m\u001b[37m\u001b[0m \u001b[1m0s\u001b[0m 568ms/step - accuracy: 0.0744 - loss: 4.7540\n",
      "Epoch 4: saving model to model_checkpoints/epoch_04_valacc_0.04.keras\n",
      "\u001b[1m237/237\u001b[0m \u001b[32m━━━━━━━━━━━━━━━━━━━━\u001b[0m\u001b[37m\u001b[0m \u001b[1m172s\u001b[0m 724ms/step - accuracy: 0.0744 - loss: 4.7540 - val_accuracy: 0.0412 - val_loss: 6.6710\n",
      "Epoch 5/30\n",
      "\u001b[1m237/237\u001b[0m \u001b[32m━━━━━━━━━━━━━━━━━━━━\u001b[0m\u001b[37m\u001b[0m \u001b[1m0s\u001b[0m 571ms/step - accuracy: 0.0853 - loss: 4.6737\n",
      "Epoch 5: saving model to model_checkpoints/epoch_05_valacc_0.04.keras\n",
      "\u001b[1m237/237\u001b[0m \u001b[32m━━━━━━━━━━━━━━━━━━━━\u001b[0m\u001b[37m\u001b[0m \u001b[1m173s\u001b[0m 729ms/step - accuracy: 0.0853 - loss: 4.6737 - val_accuracy: 0.0402 - val_loss: 6.8395\n",
      "Epoch 6/30\n",
      "\u001b[1m237/237\u001b[0m \u001b[32m━━━━━━━━━━━━━━━━━━━━\u001b[0m\u001b[37m\u001b[0m \u001b[1m0s\u001b[0m 572ms/step - accuracy: 0.0945 - loss: 4.5930\n",
      "Epoch 6: saving model to model_checkpoints/epoch_06_valacc_0.05.keras\n",
      "\u001b[1m237/237\u001b[0m \u001b[32m━━━━━━━━━━━━━━━━━━━━\u001b[0m\u001b[37m\u001b[0m \u001b[1m172s\u001b[0m 728ms/step - accuracy: 0.0945 - loss: 4.5929 - val_accuracy: 0.0513 - val_loss: 7.0088\n",
      "Epoch 7/30\n",
      "\u001b[1m237/237\u001b[0m \u001b[32m━━━━━━━━━━━━━━━━━━━━\u001b[0m\u001b[37m\u001b[0m \u001b[1m0s\u001b[0m 573ms/step - accuracy: 0.1066 - loss: 4.5404\n",
      "Epoch 7: saving model to model_checkpoints/epoch_07_valacc_0.05.keras\n",
      "\u001b[1m237/237\u001b[0m \u001b[32m━━━━━━━━━━━━━━━━━━━━\u001b[0m\u001b[37m\u001b[0m \u001b[1m173s\u001b[0m 729ms/step - accuracy: 0.1066 - loss: 4.5404 - val_accuracy: 0.0502 - val_loss: 7.2213\n",
      "Epoch 8/30\n",
      "\u001b[1m237/237\u001b[0m \u001b[32m━━━━━━━━━━━━━━━━━━━━\u001b[0m\u001b[37m\u001b[0m \u001b[1m0s\u001b[0m 570ms/step - accuracy: 0.1184 - loss: 4.4657\n",
      "Epoch 8: saving model to model_checkpoints/epoch_08_valacc_0.06.keras\n",
      "\u001b[1m237/237\u001b[0m \u001b[32m━━━━━━━━━━━━━━━━━━━━\u001b[0m\u001b[37m\u001b[0m \u001b[1m172s\u001b[0m 727ms/step - accuracy: 0.1184 - loss: 4.4657 - val_accuracy: 0.0571 - val_loss: 7.2610\n",
      "Epoch 9/30\n",
      "\u001b[1m237/237\u001b[0m \u001b[32m━━━━━━━━━━━━━━━━━━━━\u001b[0m\u001b[37m\u001b[0m \u001b[1m0s\u001b[0m 570ms/step - accuracy: 0.1273 - loss: 4.3962\n",
      "Epoch 9: saving model to model_checkpoints/epoch_09_valacc_0.06.keras\n",
      "\u001b[1m237/237\u001b[0m \u001b[32m━━━━━━━━━━━━━━━━━━━━\u001b[0m\u001b[37m\u001b[0m \u001b[1m173s\u001b[0m 729ms/step - accuracy: 0.1273 - loss: 4.3963 - val_accuracy: 0.0555 - val_loss: 7.4030\n",
      "Epoch 10/30\n",
      "\u001b[1m237/237\u001b[0m \u001b[32m━━━━━━━━━━━━━━━━━━━━\u001b[0m\u001b[37m\u001b[0m \u001b[1m0s\u001b[0m 572ms/step - accuracy: 0.1205 - loss: 4.4031\n",
      "Epoch 10: saving model to model_checkpoints/epoch_10_valacc_0.06.keras\n",
      "\u001b[1m237/237\u001b[0m \u001b[32m━━━━━━━━━━━━━━━━━━━━\u001b[0m\u001b[37m\u001b[0m \u001b[1m173s\u001b[0m 730ms/step - accuracy: 0.1205 - loss: 4.4029 - val_accuracy: 0.0592 - val_loss: 7.5884\n",
      "Epoch 11/30\n",
      "\u001b[1m237/237\u001b[0m \u001b[32m━━━━━━━━━━━━━━━━━━━━\u001b[0m\u001b[37m\u001b[0m \u001b[1m0s\u001b[0m 566ms/step - accuracy: 0.1236 - loss: 4.3098\n",
      "Epoch 11: saving model to model_checkpoints/epoch_11_valacc_0.06.keras\n",
      "\u001b[1m237/237\u001b[0m \u001b[32m━━━━━━━━━━━━━━━━━━━━\u001b[0m\u001b[37m\u001b[0m \u001b[1m171s\u001b[0m 721ms/step - accuracy: 0.1237 - loss: 4.3099 - val_accuracy: 0.0576 - val_loss: 7.6659\n",
      "Epoch 12/30\n",
      "\u001b[1m237/237\u001b[0m \u001b[32m━━━━━━━━━━━━━━━━━━━━\u001b[0m\u001b[37m\u001b[0m \u001b[1m0s\u001b[0m 574ms/step - accuracy: 0.1311 - loss: 4.2595\n",
      "Epoch 12: saving model to model_checkpoints/epoch_12_valacc_0.07.keras\n",
      "\u001b[1m237/237\u001b[0m \u001b[32m━━━━━━━━━━━━━━━━━━━━\u001b[0m\u001b[37m\u001b[0m \u001b[1m173s\u001b[0m 731ms/step - accuracy: 0.1311 - loss: 4.2595 - val_accuracy: 0.0661 - val_loss: 7.7810\n",
      "Epoch 13/30\n",
      "\u001b[1m237/237\u001b[0m \u001b[32m━━━━━━━━━━━━━━━━━━━━\u001b[0m\u001b[37m\u001b[0m \u001b[1m0s\u001b[0m 574ms/step - accuracy: 0.1447 - loss: 4.2368\n",
      "Epoch 13: saving model to model_checkpoints/epoch_13_valacc_0.07.keras\n",
      "\u001b[1m237/237\u001b[0m \u001b[32m━━━━━━━━━━━━━━━━━━━━\u001b[0m\u001b[37m\u001b[0m \u001b[1m173s\u001b[0m 731ms/step - accuracy: 0.1447 - loss: 4.2368 - val_accuracy: 0.0656 - val_loss: 7.9092\n",
      "Epoch 14/30\n",
      "\u001b[1m237/237\u001b[0m \u001b[32m━━━━━━━━━━━━━━━━━━━━\u001b[0m\u001b[37m\u001b[0m \u001b[1m0s\u001b[0m 565ms/step - accuracy: 0.1279 - loss: 4.2043\n",
      "Epoch 14: saving model to model_checkpoints/epoch_14_valacc_0.06.keras\n",
      "\u001b[1m237/237\u001b[0m \u001b[32m━━━━━━━━━━━━━━━━━━━━\u001b[0m\u001b[37m\u001b[0m \u001b[1m171s\u001b[0m 721ms/step - accuracy: 0.1279 - loss: 4.2043 - val_accuracy: 0.0613 - val_loss: 8.0530\n",
      "Epoch 15/30\n",
      "\u001b[1m237/237\u001b[0m \u001b[32m━━━━━━━━━━━━━━━━━━━━\u001b[0m\u001b[37m\u001b[0m \u001b[1m0s\u001b[0m 568ms/step - accuracy: 0.1476 - loss: 4.1338\n",
      "Epoch 15: saving model to model_checkpoints/epoch_15_valacc_0.07.keras\n",
      "\u001b[1m237/237\u001b[0m \u001b[32m━━━━━━━━━━━━━━━━━━━━\u001b[0m\u001b[37m\u001b[0m \u001b[1m172s\u001b[0m 726ms/step - accuracy: 0.1476 - loss: 4.1339 - val_accuracy: 0.0735 - val_loss: 8.1349\n",
      "Epoch 16/30\n",
      "\u001b[1m237/237\u001b[0m \u001b[32m━━━━━━━━━━━━━━━━━━━━\u001b[0m\u001b[37m\u001b[0m \u001b[1m0s\u001b[0m 564ms/step - accuracy: 0.1431 - loss: 4.1124\n",
      "Epoch 16: saving model to model_checkpoints/epoch_16_valacc_0.08.keras\n",
      "\u001b[1m237/237\u001b[0m \u001b[32m━━━━━━━━━━━━━━━━━━━━\u001b[0m\u001b[37m\u001b[0m \u001b[1m171s\u001b[0m 720ms/step - accuracy: 0.1431 - loss: 4.1124 - val_accuracy: 0.0762 - val_loss: 8.1498\n",
      "Epoch 17/30\n",
      "\u001b[1m237/237\u001b[0m \u001b[32m━━━━━━━━━━━━━━━━━━━━\u001b[0m\u001b[37m\u001b[0m \u001b[1m0s\u001b[0m 563ms/step - accuracy: 0.1568 - loss: 4.0593\n",
      "Epoch 17: saving model to model_checkpoints/epoch_17_valacc_0.08.keras\n",
      "\u001b[1m237/237\u001b[0m \u001b[32m━━━━━━━━━━━━━━━━━━━━\u001b[0m\u001b[37m\u001b[0m \u001b[1m171s\u001b[0m 720ms/step - accuracy: 0.1568 - loss: 4.0593 - val_accuracy: 0.0762 - val_loss: 8.3104\n",
      "Epoch 18/30\n",
      "\u001b[1m237/237\u001b[0m \u001b[32m━━━━━━━━━━━━━━━━━━━━\u001b[0m\u001b[37m\u001b[0m \u001b[1m0s\u001b[0m 573ms/step - accuracy: 0.1541 - loss: 4.0444\n",
      "Epoch 18: saving model to model_checkpoints/epoch_18_valacc_0.08.keras\n",
      "\u001b[1m237/237\u001b[0m \u001b[32m━━━━━━━━━━━━━━━━━━━━\u001b[0m\u001b[37m\u001b[0m \u001b[1m173s\u001b[0m 730ms/step - accuracy: 0.1541 - loss: 4.0444 - val_accuracy: 0.0762 - val_loss: 8.3777\n",
      "Epoch 19/30\n",
      "\u001b[1m237/237\u001b[0m \u001b[32m━━━━━━━━━━━━━━━━━━━━\u001b[0m\u001b[37m\u001b[0m \u001b[1m0s\u001b[0m 567ms/step - accuracy: 0.1642 - loss: 4.0132\n",
      "Epoch 19: saving model to model_checkpoints/epoch_19_valacc_0.08.keras\n",
      "\u001b[1m237/237\u001b[0m \u001b[32m━━━━━━━━━━━━━━━━━━━━\u001b[0m\u001b[37m\u001b[0m \u001b[1m171s\u001b[0m 723ms/step - accuracy: 0.1642 - loss: 4.0132 - val_accuracy: 0.0788 - val_loss: 8.5146\n",
      "Epoch 20/30\n",
      "\u001b[1m237/237\u001b[0m \u001b[32m━━━━━━━━━━━━━━━━━━━━\u001b[0m\u001b[37m\u001b[0m \u001b[1m0s\u001b[0m 569ms/step - accuracy: 0.1571 - loss: 3.9730"
     ]
    }
   ],
   "source": [
    "# Train the model \n",
    "history = model.fit(\n",
    "    train_generator,\n",
    "    validation_data=val_generator,\n",
    "    epochs=30,\n",
    "    callbacks=[EarlyStopping(patience=10, restore_best_weights=True, monitor=\"val_accuracy\"), checkpoint],\n",
    "    verbose=1\n",
    ")"
   ]
  },
  {
   "cell_type": "code",
   "execution_count": 8,
   "id": "0d25d691",
   "metadata": {},
   "outputs": [],
   "source": [
    "model = load_model('model_checkpoints/epoch_22_valacc_0.08.keras')"
   ]
  },
  {
   "cell_type": "code",
   "execution_count": 10,
   "id": "33be9505",
   "metadata": {},
   "outputs": [
    {
     "name": "stdout",
     "output_type": "stream",
     "text": [
      "Epoch 21/30\n"
     ]
    },
    {
     "name": "stderr",
     "output_type": "stream",
     "text": [
      "WARNING: All log messages before absl::InitializeLog() is called are written to STDERR\n",
      "I0000 00:00:1745498869.172858   17667 service.cc:152] XLA service 0x7ffa24004700 initialized for platform CUDA (this does not guarantee that XLA will be used). Devices:\n",
      "I0000 00:00:1745498869.172894   17667 service.cc:160]   StreamExecutor device (0): NVIDIA GeForce RTX 3070, Compute Capability 8.6\n",
      "2025-04-24 13:47:49.198665: I tensorflow/compiler/mlir/tensorflow/utils/dump_mlir_util.cc:269] disabling MLIR crash reproducer, set env var `MLIR_CRASH_REPRODUCER_DIRECTORY` to enable.\n",
      "I0000 00:00:1745498869.495383   17667 cuda_dnn.cc:529] Loaded cuDNN version 90800\n",
      "2025-04-24 13:47:50.671641: I external/local_xla/xla/stream_executor/cuda/subprocess_compilation.cc:346] ptxas warning : Registers are spilled to local memory in function 'gemm_fusion_dot_921', 188 bytes spill stores, 188 bytes spill loads\n",
      "\n",
      "2025-04-24 13:47:50.841860: I external/local_xla/xla/stream_executor/cuda/subprocess_compilation.cc:346] ptxas warning : Registers are spilled to local memory in function 'gemm_fusion_dot_1110', 84 bytes spill stores, 84 bytes spill loads\n",
      "\n",
      "2025-04-24 13:47:51.187874: I external/local_xla/xla/stream_executor/cuda/subprocess_compilation.cc:346] ptxas warning : Registers are spilled to local memory in function 'gemm_fusion_dot_1110', 84 bytes spill stores, 84 bytes spill loads\n",
      "\n",
      "2025-04-24 13:47:51.270034: I external/local_xla/xla/stream_executor/cuda/subprocess_compilation.cc:346] ptxas warning : Registers are spilled to local memory in function 'gemm_fusion_dot_1429', 12 bytes spill stores, 12 bytes spill loads\n",
      "\n",
      "2025-04-24 13:47:51.336321: I external/local_xla/xla/stream_executor/cuda/subprocess_compilation.cc:346] ptxas warning : Registers are spilled to local memory in function 'gemm_fusion_dot_1413', 20 bytes spill stores, 20 bytes spill loads\n",
      "\n",
      "2025-04-24 13:47:51.693274: I external/local_xla/xla/stream_executor/cuda/subprocess_compilation.cc:346] ptxas warning : Registers are spilled to local memory in function 'gemm_fusion_dot_1413', 16 bytes spill stores, 16 bytes spill loads\n",
      "\n",
      "2025-04-24 13:47:51.794462: I external/local_xla/xla/stream_executor/cuda/subprocess_compilation.cc:346] ptxas warning : Registers are spilled to local memory in function 'gemm_fusion_dot_1110', 404 bytes spill stores, 404 bytes spill loads\n",
      "\n",
      "2025-04-24 13:47:51.870212: I external/local_xla/xla/stream_executor/cuda/subprocess_compilation.cc:346] ptxas warning : Registers are spilled to local memory in function 'gemm_fusion_dot_1413', 40 bytes spill stores, 40 bytes spill loads\n",
      "\n"
     ]
    },
    {
     "name": "stdout",
     "output_type": "stream",
     "text": [
      "\u001b[1m  2/237\u001b[0m \u001b[37m━━━━━━━━━━━━━━━━━━━━\u001b[0m \u001b[1m17s\u001b[0m 73ms/step - accuracy: 0.1641 - loss: 4.2334 "
     ]
    },
    {
     "name": "stderr",
     "output_type": "stream",
     "text": [
      "I0000 00:00:1745498878.486987   17667 device_compiler.h:188] Compiled cluster using XLA!  This line is logged at most once for the lifetime of the process.\n"
     ]
    },
    {
     "name": "stdout",
     "output_type": "stream",
     "text": [
      "\u001b[1m 42/237\u001b[0m \u001b[32m━━━\u001b[0m\u001b[37m━━━━━━━━━━━━━━━━━\u001b[0m \u001b[1m2:00\u001b[0m 620ms/step - accuracy: 0.1806 - loss: 3.9580"
     ]
    },
    {
     "name": "stderr",
     "output_type": "stream",
     "text": [
      "2025-04-24 13:48:24.996114: I external/local_xla/xla/stream_executor/cuda/subprocess_compilation.cc:346] ptxas warning : Registers are spilled to local memory in function 'gemm_fusion_dot_921', 8 bytes spill stores, 8 bytes spill loads\n",
      "\n",
      "2025-04-24 13:48:25.283734: I external/local_xla/xla/stream_executor/cuda/subprocess_compilation.cc:346] ptxas warning : Registers are spilled to local memory in function 'gemm_fusion_dot_921', 104 bytes spill stores, 104 bytes spill loads\n",
      "\n",
      "2025-04-24 13:48:25.333848: I external/local_xla/xla/stream_executor/cuda/subprocess_compilation.cc:346] ptxas warning : Registers are spilled to local memory in function 'gemm_fusion_dot_921', 4 bytes spill stores, 4 bytes spill loads\n",
      "\n",
      "2025-04-24 13:48:26.121573: I external/local_xla/xla/stream_executor/cuda/subprocess_compilation.cc:346] ptxas warning : Registers are spilled to local memory in function 'gemm_fusion_dot_1110', 152 bytes spill stores, 152 bytes spill loads\n",
      "\n"
     ]
    },
    {
     "name": "stdout",
     "output_type": "stream",
     "text": [
      "\u001b[1m237/237\u001b[0m \u001b[32m━━━━━━━━━━━━━━━━━━━━\u001b[0m\u001b[37m\u001b[0m \u001b[1m0s\u001b[0m 628ms/step - accuracy: 0.1745 - loss: 3.9206"
     ]
    },
    {
     "name": "stderr",
     "output_type": "stream",
     "text": [
      "/home/timst/DeepLearning2425/.venv/lib/python3.12/site-packages/keras/src/trainers/data_adapters/py_dataset_adapter.py:121: UserWarning: Your `PyDataset` class should call `super().__init__(**kwargs)` in its constructor. `**kwargs` can include `workers`, `use_multiprocessing`, `max_queue_size`. Do not pass these arguments to `fit()`, as they will be ignored.\n",
      "  self._warn_if_super_not_called()\n",
      "2025-04-24 13:50:30.085809: I external/local_xla/xla/stream_executor/cuda/subprocess_compilation.cc:346] ptxas warning : Registers are spilled to local memory in function 'gemm_fusion_dot_234', 120 bytes spill stores, 120 bytes spill loads\n",
      "\n",
      "2025-04-24 13:50:30.240866: I external/local_xla/xla/stream_executor/cuda/subprocess_compilation.cc:346] ptxas warning : Registers are spilled to local memory in function 'gemm_fusion_dot_234', 76 bytes spill stores, 76 bytes spill loads\n",
      "\n",
      "2025-04-24 13:50:30.389571: I external/local_xla/xla/stream_executor/cuda/subprocess_compilation.cc:346] ptxas warning : Registers are spilled to local memory in function 'gemm_fusion_dot_234', 636 bytes spill stores, 636 bytes spill loads\n",
      "\n",
      "/home/timst/DeepLearning2425/.venv/lib/python3.12/site-packages/PIL/Image.py:3442: DecompressionBombWarning: Image size (115600000 pixels) exceeds limit of 89478485 pixels, could be decompression bomb DOS attack.\n",
      "  warnings.warn(\n",
      "2025-04-24 13:51:10.794477: I external/local_xla/xla/stream_executor/cuda/subprocess_compilation.cc:346] ptxas warning : Registers are spilled to local memory in function 'gemm_fusion_dot_227', 8 bytes spill stores, 8 bytes spill loads\n",
      "\n",
      "2025-04-24 13:51:10.915228: I external/local_xla/xla/stream_executor/cuda/subprocess_compilation.cc:346] ptxas warning : Registers are spilled to local memory in function 'gemm_fusion_dot_227', 4 bytes spill stores, 4 bytes spill loads\n",
      "\n",
      "2025-04-24 13:51:11.231130: I external/local_xla/xla/stream_executor/cuda/subprocess_compilation.cc:346] ptxas warning : Registers are spilled to local memory in function 'gemm_fusion_dot_227', 104 bytes spill stores, 104 bytes spill loads\n",
      "\n",
      "2025-04-24 13:51:11.662463: I external/local_xla/xla/stream_executor/cuda/subprocess_compilation.cc:346] ptxas warning : Registers are spilled to local memory in function 'gemm_fusion_dot_234', 268 bytes spill stores, 268 bytes spill loads\n",
      "\n",
      "2025-04-24 13:51:11.824444: I external/local_xla/xla/stream_executor/cuda/subprocess_compilation.cc:346] ptxas warning : Registers are spilled to local memory in function 'gemm_fusion_dot_234', 124 bytes spill stores, 124 bytes spill loads\n",
      "\n",
      "2025-04-24 13:51:11.970937: I external/local_xla/xla/stream_executor/cuda/subprocess_compilation.cc:346] ptxas warning : Registers are spilled to local memory in function 'gemm_fusion_dot_234', 64 bytes spill stores, 64 bytes spill loads\n",
      "\n"
     ]
    },
    {
     "name": "stdout",
     "output_type": "stream",
     "text": [
      "\n",
      "Epoch 21: saving model to model_checkpoints/epoch_21_valacc_0.08.keras\n",
      "\u001b[1m237/237\u001b[0m \u001b[32m━━━━━━━━━━━━━━━━━━━━\u001b[0m\u001b[37m\u001b[0m \u001b[1m207s\u001b[0m 830ms/step - accuracy: 0.1744 - loss: 3.9206 - val_accuracy: 0.0836 - val_loss: 8.6867\n",
      "Epoch 22/30\n",
      "\u001b[1m237/237\u001b[0m \u001b[32m━━━━━━━━━━━━━━━━━━━━\u001b[0m\u001b[37m\u001b[0m \u001b[1m0s\u001b[0m 577ms/step - accuracy: 0.1803 - loss: 3.8627\n",
      "Epoch 22: saving model to model_checkpoints/epoch_22_valacc_0.08.keras\n",
      "\u001b[1m237/237\u001b[0m \u001b[32m━━━━━━━━━━━━━━━━━━━━\u001b[0m\u001b[37m\u001b[0m \u001b[1m175s\u001b[0m 737ms/step - accuracy: 0.1803 - loss: 3.8628 - val_accuracy: 0.0846 - val_loss: 8.6969\n",
      "Epoch 23/30\n",
      "\u001b[1m237/237\u001b[0m \u001b[32m━━━━━━━━━━━━━━━━━━━━\u001b[0m\u001b[37m\u001b[0m \u001b[1m0s\u001b[0m 581ms/step - accuracy: 0.1755 - loss: 3.8758\n",
      "Epoch 23: saving model to model_checkpoints/epoch_23_valacc_0.09.keras\n",
      "\u001b[1m237/237\u001b[0m \u001b[32m━━━━━━━━━━━━━━━━━━━━\u001b[0m\u001b[37m\u001b[0m \u001b[1m176s\u001b[0m 743ms/step - accuracy: 0.1756 - loss: 3.8758 - val_accuracy: 0.0915 - val_loss: 8.8475\n",
      "Epoch 24/30\n",
      "\u001b[1m237/237\u001b[0m \u001b[32m━━━━━━━━━━━━━━━━━━━━\u001b[0m\u001b[37m\u001b[0m \u001b[1m0s\u001b[0m 571ms/step - accuracy: 0.1751 - loss: 3.8441\n",
      "Epoch 24: saving model to model_checkpoints/epoch_24_valacc_0.09.keras\n",
      "\u001b[1m237/237\u001b[0m \u001b[32m━━━━━━━━━━━━━━━━━━━━\u001b[0m\u001b[37m\u001b[0m \u001b[1m172s\u001b[0m 728ms/step - accuracy: 0.1751 - loss: 3.8441 - val_accuracy: 0.0899 - val_loss: 8.9304\n",
      "Epoch 25/30\n",
      "\u001b[1m237/237\u001b[0m \u001b[32m━━━━━━━━━━━━━━━━━━━━\u001b[0m\u001b[37m\u001b[0m \u001b[1m0s\u001b[0m 560ms/step - accuracy: 0.1896 - loss: 3.7954\n",
      "Epoch 25: saving model to model_checkpoints/epoch_25_valacc_0.09.keras\n",
      "\u001b[1m237/237\u001b[0m \u001b[32m━━━━━━━━━━━━━━━━━━━━\u001b[0m\u001b[37m\u001b[0m \u001b[1m170s\u001b[0m 718ms/step - accuracy: 0.1896 - loss: 3.7955 - val_accuracy: 0.0851 - val_loss: 8.9267\n",
      "Epoch 26/30\n",
      "\u001b[1m237/237\u001b[0m \u001b[32m━━━━━━━━━━━━━━━━━━━━\u001b[0m\u001b[37m\u001b[0m \u001b[1m0s\u001b[0m 564ms/step - accuracy: 0.1911 - loss: 3.7701\n",
      "Epoch 26: saving model to model_checkpoints/epoch_26_valacc_0.09.keras\n",
      "\u001b[1m237/237\u001b[0m \u001b[32m━━━━━━━━━━━━━━━━━━━━\u001b[0m\u001b[37m\u001b[0m \u001b[1m171s\u001b[0m 720ms/step - accuracy: 0.1911 - loss: 3.7701 - val_accuracy: 0.0883 - val_loss: 8.9826\n",
      "Epoch 27/30\n",
      "\u001b[1m237/237\u001b[0m \u001b[32m━━━━━━━━━━━━━━━━━━━━\u001b[0m\u001b[37m\u001b[0m \u001b[1m0s\u001b[0m 569ms/step - accuracy: 0.1827 - loss: 3.7677\n",
      "Epoch 27: saving model to model_checkpoints/epoch_27_valacc_0.09.keras\n",
      "\u001b[1m237/237\u001b[0m \u001b[32m━━━━━━━━━━━━━━━━━━━━\u001b[0m\u001b[37m\u001b[0m \u001b[1m172s\u001b[0m 726ms/step - accuracy: 0.1828 - loss: 3.7676 - val_accuracy: 0.0920 - val_loss: 9.0557\n",
      "Epoch 28/30\n",
      "\u001b[1m237/237\u001b[0m \u001b[32m━━━━━━━━━━━━━━━━━━━━\u001b[0m\u001b[37m\u001b[0m \u001b[1m0s\u001b[0m 559ms/step - accuracy: 0.1983 - loss: 3.7182\n",
      "Epoch 28: saving model to model_checkpoints/epoch_28_valacc_0.09.keras\n",
      "\u001b[1m237/237\u001b[0m \u001b[32m━━━━━━━━━━━━━━━━━━━━\u001b[0m\u001b[37m\u001b[0m \u001b[1m170s\u001b[0m 717ms/step - accuracy: 0.1983 - loss: 3.7182 - val_accuracy: 0.0851 - val_loss: 9.2004\n",
      "Epoch 29/30\n",
      "\u001b[1m237/237\u001b[0m \u001b[32m━━━━━━━━━━━━━━━━━━━━\u001b[0m\u001b[37m\u001b[0m \u001b[1m0s\u001b[0m 564ms/step - accuracy: 0.1990 - loss: 3.7060\n",
      "Epoch 29: saving model to model_checkpoints/epoch_29_valacc_0.09.keras\n",
      "\u001b[1m237/237\u001b[0m \u001b[32m━━━━━━━━━━━━━━━━━━━━\u001b[0m\u001b[37m\u001b[0m \u001b[1m171s\u001b[0m 721ms/step - accuracy: 0.1990 - loss: 3.7060 - val_accuracy: 0.0915 - val_loss: 9.1530\n",
      "Epoch 30/30\n",
      "\u001b[1m237/237\u001b[0m \u001b[32m━━━━━━━━━━━━━━━━━━━━\u001b[0m\u001b[37m\u001b[0m \u001b[1m0s\u001b[0m 567ms/step - accuracy: 0.1983 - loss: 3.6624\n",
      "Epoch 30: saving model to model_checkpoints/epoch_30_valacc_0.09.keras\n",
      "\u001b[1m237/237\u001b[0m \u001b[32m━━━━━━━━━━━━━━━━━━━━\u001b[0m\u001b[37m\u001b[0m \u001b[1m173s\u001b[0m 728ms/step - accuracy: 0.1983 - loss: 3.6625 - val_accuracy: 0.0920 - val_loss: 9.2757\n"
     ]
    }
   ],
   "source": [
    "history = model.fit(\n",
    "    train_generator,\n",
    "    validation_data=val_generator,\n",
    "    epochs=30,\n",
    "    initial_epoch=20,  # Replace with the epoch number you want to continue from\n",
    "    callbacks=[EarlyStopping(patience=10, restore_best_weights=True, monitor=\"val_accuracy\"), checkpoint],\n",
    "    verbose=1\n",
    ")"
   ]
  },
  {
   "cell_type": "code",
   "execution_count": 13,
   "id": "12008d2f",
   "metadata": {},
   "outputs": [
    {
     "data": {
      "image/png": "[encoded data removed]",
      "text/plain": [
       "<Figure size 640x480 with 1 Axes>"
      ]
     },
     "metadata": {},
     "output_type": "display_data"
    },
    {
     "data": {
      "image/png": "[encoded data removed]",
      "text/plain": [
       "<Figure size 640x480 with 1 Axes>"
      ]
     },
     "metadata": {},
     "output_type": "display_data"
    }
   ],
   "source": [
    "import matplotlib.pyplot as plt\n",
    "\n",
    "# plot the accuracy results\n",
    "plt.plot(history.history['accuracy'], label='Train Acc')\n",
    "plt.plot(history.history['val_accuracy'], label='Val Acc')\n",
    "plt.xlabel('Epoch')\n",
    "plt.ylabel('Accuracy')\n",
    "plt.legend()\n",
    "plt.title('Training vs. Validation Accuracy')\n",
    "plt.show()\n",
    "\n",
    "# Plot the loss results\n",
    "plt.plot(history.history['loss'], label='Train Loss')\n",
    "plt.plot(history.history['val_loss'], label='Val Loss')\n",
    "plt.title(\"Loss over Epochs\")\n",
    "plt.xlabel(\"Epoch\")\n",
    "plt.ylabel(\"Loss\")\n",
    "plt.legend()\n",
    "plt.show()"
   ]
  }
 ],
 "metadata": {
  "kernelspec": {
   "display_name": ".venv",
   "language": "python",
   "name": "python3"
  },
  "language_info": {
   "codemirror_mode": {
    "name": "ipython",
    "version": 3
   },
   "file_extension": ".py",
   "mimetype": "text/x-python",
   "name": "python",
   "nbconvert_exporter": "python",
   "pygments_lexer": "ipython3",
   "version": "3.12.3"
  }
 },
 "nbformat": 4,
 "nbformat_minor": 5
}
