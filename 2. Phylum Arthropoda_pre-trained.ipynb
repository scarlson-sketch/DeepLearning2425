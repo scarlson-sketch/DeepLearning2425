{
 "cells": [
  {
   "cell_type": "markdown",
   "metadata": {},
   "source": [
    "## **<h3 align=\"center\"> Deep Learning - Project </h3>**\n",
    "# **<h3 align=\"center\"> Phylum Arthropoda - Steven</h3>**\n",
    "**Group 4 members:**<br>\n",
    "Alexandra Pinto - 20211599@novaims.unl.pt - 20211599<br>\n",
    "Steven Carlson - 20240554@novaims.unl.pt - 20240554<br>\n",
    "Sven Goerdes - 20240503@novaims.unl.pt - 20240503<br>\n",
    "Tim Straub - 20240505@novaims.unl.pt - 20240505<br>\n",
    "Zofia Wojcik  - 20240654@novaims.unl.pt - 20240654<br>"
   ]
  },
  {
   "cell_type": "markdown",
   "metadata": {},
   "source": [
    "# Table of Contents\n",
    "* [1. Introduction](#intro)\n",
    "* [2. Setup](#setup)\n",
    "* [3. Data Loading](#dataloading)\n",
    "* [4. Image Preprocessing](#imagepreprocessing)\n",
    "* [5. Neural Networks Models](#nnmodels)\n",
    "\n"
   ]
  },
  {
   "cell_type": "markdown",
   "metadata": {},
   "source": [
    "# 1. Introduction <a class=\"anchor\" id=\"intro\"></a>\n",
    "\n",
    "In this second notebook, we will preprocess images from the **Arthropoda** phylum and develop a deep learning model to accurately classify them at the family level."
   ]
  },
  {
   "cell_type": "markdown",
   "metadata": {
    "vscode": {
     "languageId": "plaintext"
    }
   },
   "source": [
    "# 2. Setup <a class=\"anchor\" id=\"setup\"></a>\n",
    "In this section, we will import the necessary libraries that will be used throughout the notebook. These libraries will help with data handling and image processing."
   ]
  },
  {
   "cell_type": "code",
   "execution_count": 140,
   "metadata": {},
   "outputs": [],
   "source": [
    "# Standard libraries\n",
    "import pandas as pd\n",
    "import numpy as np\n",
    "import os\n",
    "import matplotlib.pyplot as plt\n",
    "import zipfile\n",
    "import seaborn as sns\n",
    "\n",
    "# Libraries for image processing\n",
    "from glob import glob\n",
    "from PIL import Image\n"
   ]
  },
  {
   "cell_type": "code",
   "execution_count": 141,
   "metadata": {},
   "outputs": [],
   "source": [
    "#Libraries from Keras / TensorFlow\n",
    "import tensorflow as tf\n",
    "from tensorflow.keras import layers, models\n",
    "from keras.utils import image_dataset_from_directory\n",
    "from keras import optimizers\n",
    "from tensorflow.keras import layers, models, optimizers\n",
    "from tensorflow.keras import callbacks\n",
    "\n",
    "#import tensorflow_hub as hub\n",
    "\n",
    "#Import pre-trained models\n",
    "from tensorflow.keras.applications import ResNet50\n",
    "from tensorflow.keras.applications.resnet50 import preprocess_input as resnet_preprocess\n",
    "\n",
    "from tensorflow.keras.applications import MobileNetV2\n",
    "from tensorflow.keras.applications.mobilenet_v2 import preprocess_input as mobilenet_preprocess\n",
    "\n",
    "from tensorflow.keras.applications import EfficientNetB0\n",
    "from tensorflow.keras.applications.efficientnet import preprocess_input as efficientnet_preprocess\n",
    "\n",
    "from tensorflow.keras.applications import DenseNet121\n",
    "from tensorflow.keras.applications.densenet import preprocess_input as densenet_preprocess\n",
    "\n",
    "from tensorflow.keras.applications import InceptionV3\n",
    "from tensorflow.keras.applications.inception_v3 import preprocess_input as inception_preprocess\n",
    "\n",
    "\n"
   ]
  },
  {
   "cell_type": "markdown",
   "metadata": {},
   "source": [
    "# 3. Data Loading <a class=\"anchor\" id=\"dataloading\"></a>\n",
    "\n",
    "Let's open the train and test for Arthropoda Phylum."
   ]
  },
  {
   "cell_type": "code",
   "execution_count": 142,
   "metadata": {},
   "outputs": [
    {
     "data": {
      "text/html": [
       "<div>\n",
       "<style scoped>\n",
       "    .dataframe tbody tr th:only-of-type {\n",
       "        vertical-align: middle;\n",
       "    }\n",
       "\n",
       "    .dataframe tbody tr th {\n",
       "        vertical-align: top;\n",
       "    }\n",
       "\n",
       "    .dataframe thead th {\n",
       "        text-align: right;\n",
       "    }\n",
       "</style>\n",
       "<table border=\"1\" class=\"dataframe\">\n",
       "  <thead>\n",
       "    <tr style=\"text-align: right;\">\n",
       "      <th></th>\n",
       "      <th>eol_content_id</th>\n",
       "      <th>eol_page_id</th>\n",
       "      <th>kingdom</th>\n",
       "      <th>phylum</th>\n",
       "      <th>family</th>\n",
       "      <th>file_path</th>\n",
       "    </tr>\n",
       "  </thead>\n",
       "  <tbody>\n",
       "    <tr>\n",
       "      <th>0</th>\n",
       "      <td>28260809</td>\n",
       "      <td>1065329</td>\n",
       "      <td>animalia</td>\n",
       "      <td>arthropoda</td>\n",
       "      <td>apidae</td>\n",
       "      <td>arthropoda_apidae/28260809_1065329_eol-full-si...</td>\n",
       "    </tr>\n",
       "    <tr>\n",
       "      <th>1</th>\n",
       "      <td>29945328</td>\n",
       "      <td>1077217</td>\n",
       "      <td>animalia</td>\n",
       "      <td>arthropoda</td>\n",
       "      <td>pseudophasmatidae</td>\n",
       "      <td>arthropoda_pseudophasmatidae/29945328_1077217_...</td>\n",
       "    </tr>\n",
       "    <tr>\n",
       "      <th>2</th>\n",
       "      <td>14644212</td>\n",
       "      <td>463474</td>\n",
       "      <td>animalia</td>\n",
       "      <td>arthropoda</td>\n",
       "      <td>formicidae</td>\n",
       "      <td>arthropoda_formicidae/14644212_463474_eol-full...</td>\n",
       "    </tr>\n",
       "  </tbody>\n",
       "</table>\n",
       "</div>"
      ],
      "text/plain": [
       "   eol_content_id  eol_page_id   kingdom      phylum             family  \\\n",
       "0        28260809      1065329  animalia  arthropoda             apidae   \n",
       "1        29945328      1077217  animalia  arthropoda  pseudophasmatidae   \n",
       "2        14644212       463474  animalia  arthropoda         formicidae   \n",
       "\n",
       "                                           file_path  \n",
       "0  arthropoda_apidae/28260809_1065329_eol-full-si...  \n",
       "1  arthropoda_pseudophasmatidae/29945328_1077217_...  \n",
       "2  arthropoda_formicidae/14644212_463474_eol-full...  "
      ]
     },
     "execution_count": 142,
     "metadata": {},
     "output_type": "execute_result"
    }
   ],
   "source": [
    "# Load the DataFrame from the CSV file\n",
    "arthropoda_train = pd.read_csv(\"/home/sacar/DeepLearning2425/train_test_splits/arthropoda_train.csv\")\n",
    "arthropoda_train.head(3)"
   ]
  },
  {
   "cell_type": "code",
   "execution_count": 143,
   "metadata": {},
   "outputs": [
    {
     "data": {
      "text/html": [
       "<div>\n",
       "<style scoped>\n",
       "    .dataframe tbody tr th:only-of-type {\n",
       "        vertical-align: middle;\n",
       "    }\n",
       "\n",
       "    .dataframe tbody tr th {\n",
       "        vertical-align: top;\n",
       "    }\n",
       "\n",
       "    .dataframe thead th {\n",
       "        text-align: right;\n",
       "    }\n",
       "</style>\n",
       "<table border=\"1\" class=\"dataframe\">\n",
       "  <thead>\n",
       "    <tr style=\"text-align: right;\">\n",
       "      <th></th>\n",
       "      <th>eol_content_id</th>\n",
       "      <th>eol_page_id</th>\n",
       "      <th>kingdom</th>\n",
       "      <th>phylum</th>\n",
       "      <th>family</th>\n",
       "      <th>file_path</th>\n",
       "    </tr>\n",
       "  </thead>\n",
       "  <tbody>\n",
       "    <tr>\n",
       "      <th>0</th>\n",
       "      <td>28408206</td>\n",
       "      <td>1065346</td>\n",
       "      <td>animalia</td>\n",
       "      <td>arthropoda</td>\n",
       "      <td>apidae</td>\n",
       "      <td>arthropoda_apidae/28408206_1065346_eol-full-si...</td>\n",
       "    </tr>\n",
       "    <tr>\n",
       "      <th>1</th>\n",
       "      <td>28253620</td>\n",
       "      <td>1065348</td>\n",
       "      <td>animalia</td>\n",
       "      <td>arthropoda</td>\n",
       "      <td>apidae</td>\n",
       "      <td>arthropoda_apidae/28253620_1065348_eol-full-si...</td>\n",
       "    </tr>\n",
       "    <tr>\n",
       "      <th>2</th>\n",
       "      <td>21847584</td>\n",
       "      <td>1065348</td>\n",
       "      <td>animalia</td>\n",
       "      <td>arthropoda</td>\n",
       "      <td>apidae</td>\n",
       "      <td>arthropoda_apidae/21847584_1065348_eol-full-si...</td>\n",
       "    </tr>\n",
       "  </tbody>\n",
       "</table>\n",
       "</div>"
      ],
      "text/plain": [
       "   eol_content_id  eol_page_id   kingdom      phylum  family  \\\n",
       "0        28408206      1065346  animalia  arthropoda  apidae   \n",
       "1        28253620      1065348  animalia  arthropoda  apidae   \n",
       "2        21847584      1065348  animalia  arthropoda  apidae   \n",
       "\n",
       "                                           file_path  \n",
       "0  arthropoda_apidae/28408206_1065346_eol-full-si...  \n",
       "1  arthropoda_apidae/28253620_1065348_eol-full-si...  \n",
       "2  arthropoda_apidae/21847584_1065348_eol-full-si...  "
      ]
     },
     "execution_count": 143,
     "metadata": {},
     "output_type": "execute_result"
    }
   ],
   "source": [
    "# Load the DataFrame from the CSV file\n",
    "arthropoda_test = pd.read_csv(\"/home/sacar/DeepLearning2425/train_test_splits/arthropoda_test.csv\")\n",
    "arthropoda_test.head(3)"
   ]
  },
  {
   "cell_type": "markdown",
   "metadata": {},
   "source": [
    "# 4. Image Preprocessing <a class=\"anchor\" id=\"imagepreprocessing\"></a>"
   ]
  },
  {
   "cell_type": "code",
   "execution_count": 144,
   "metadata": {},
   "outputs": [],
   "source": [
    "#Control Panel -- Choose one model to run!\n",
    "is_resnet = 0\n",
    "is_mobilenet = 1\n",
    "is_efficientnet = 0\n",
    "is_densenet = 0\n",
    "is_inception = 0\n",
    "is_convnext = 0"
   ]
  },
  {
   "cell_type": "code",
   "execution_count": 145,
   "metadata": {},
   "outputs": [],
   "source": [
    "#Define preprocess and augmentation functions\n",
    "\n",
    "#Function to preprocess the images\n",
    "def process_image(file_path, label):\n",
    "    image = tf.io.read_file(file_path) # Read the image file\n",
    "    image = tf.image.decode_jpeg(image, channels=3) # Decode the JPEG image\n",
    "    image = tf.image.resize(image, image_size) # Resize the image to the target size\n",
    "    \n",
    "    #CHANGE THIS LINE DEPENDING ON WHICH PRE-TRAINED MODEL IS BEING USED\n",
    "    \n",
    "    if is_resnet:\n",
    "        image = resnet_preprocess(image)  # Apply ResNet50 preprocessing\n",
    "        print(\"ResNet50 preprocessing applied\")\n",
    "    elif is_mobilenet: \n",
    "        image = mobilenet_preprocess(image)  # Apply MobileNetV2 preprocessing\n",
    "        print\n",
    "    elif is_efficientnet:\n",
    "        image = efficientnet_preprocess(image)  # Apply EfficientNetB0 preprocessing\n",
    "        print(\"EfficientNetB0 preprocessing applied\")\n",
    "    elif is_densenet:\n",
    "        image = densenet_preprocess(image)  # Apply DenseNet121 preprocessing\n",
    "        print(\"DenseNet121 preprocessing applied\")\n",
    "    elif is_inception:\n",
    "        image = inception_preprocess(image)  # Apply InceptionV3 preprocessing\n",
    "        print(\"InceptionV3 preprocessing applied\")\n",
    "    else:\n",
    "        image = tf.cast(image, tf.float32) / 255.0  # Apply ConvNeXt / default preprocessing\n",
    "        print(\"ConvNeXt preprocessing applied\")\n",
    "    \n",
    "    return image, label\n",
    "\n",
    "\n",
    "#Function to augment the images\n",
    "def augment_image(image, label):\n",
    "\n",
    "    #Randomly change brightness\n",
    "    image = tf.image.random_brightness(image, max_delta=0.2)\n",
    "\n",
    "    #Apply geometric augmentations\n",
    "    image = geometric_augmentation_layers(image, training=True) # Apply geometric augmentations\n",
    "    image = tf.clip_by_value(image, 0.0, 1.0)\n",
    "    \n",
    "    return image, label\n",
    "\n",
    "\n",
    "# Geometric augmentations\n",
    "geometric_augmentation_layers = tf.keras.Sequential(\n",
    "    [\n",
    "        # Randomly flip horizontally\n",
    "        tf.keras.layers.RandomFlip(\"horizontal\"),\n",
    "\n",
    "        # Randomly rotate\n",
    "        tf.keras.layers.RandomRotation(factor=0.12),\n",
    "\n",
    "        # Random zoom\n",
    "        tf.keras.layers.RandomZoom(height_factor=(-0.35, 0.35), # Corresponds to [0.8, 1.2] of original height\n",
    "                                   width_factor=(-0.35, 0.35)), # Corresponds to [0.8, 1.2] of original width\n",
    "\n",
    "        # Random shift\n",
    "        tf.keras.layers.RandomTranslation(height_factor=0.20,\n",
    "                                          width_factor=0.20),\n",
    "\n",
    "        # Contrast\n",
    "        tf.keras.layers.RandomContrast(factor=0.25),\n",
    "\n",
    "    ],\n",
    "    name=\"geometric_augmentations\",\n",
    ")\n"
   ]
  },
  {
   "cell_type": "code",
   "execution_count": 146,
   "metadata": {},
   "outputs": [],
   "source": [
    "#Define some stuff\n",
    "num_classes = arthropoda_train['family'].nunique() #number of classes = number of families\n",
    "batch_size = 64\n",
    "input_shape = (224, 224, 3)\n",
    "image_size = (224, 224)\n",
    "value_range = (0.0, 1.0)\n",
    "num_classes = 17  \n",
    "\n"
   ]
  },
  {
   "cell_type": "code",
   "execution_count": 147,
   "metadata": {},
   "outputs": [
    {
     "name": "stdout",
     "output_type": "stream",
     "text": [
      "['/home/sacar/DeepLearning2425/rare_species/arthropoda_apidae/28260809_1065329_eol-full-size-copy.jpg', '/home/sacar/DeepLearning2425/rare_species/arthropoda_pseudophasmatidae/29945328_1077217_eol-full-size-copy.jpg', '/home/sacar/DeepLearning2425/rare_species/arthropoda_formicidae/14644212_463474_eol-full-size-copy.jpg', '/home/sacar/DeepLearning2425/rare_species/arthropoda_pseudophasmatidae/29945335_1077217_eol-full-size-copy.jpg', '/home/sacar/DeepLearning2425/rare_species/arthropoda_papilionidae/21035374_130548_eol-full-size-copy.jpg']\n",
      "[0, 13, 5, 13, 10]\n",
      "['/home/sacar/DeepLearning2425/rare_species/arthropoda_apidae/28408206_1065346_eol-full-size-copy.jpg', '/home/sacar/DeepLearning2425/rare_species/arthropoda_apidae/28253620_1065348_eol-full-size-copy.jpg', '/home/sacar/DeepLearning2425/rare_species/arthropoda_apidae/21847584_1065348_eol-full-size-copy.jpg', '/home/sacar/DeepLearning2425/rare_species/arthropoda_formicidae/14681521_403723_eol-full-size-copy.jpg', '/home/sacar/DeepLearning2425/rare_species/arthropoda_palinuridae/30050875_46516728_eol-full-size-copy.jpg']\n",
      "[0, 0, 0, 5, 9]\n"
     ]
    }
   ],
   "source": [
    "root_dir = \"/home/sacar/DeepLearning2425/rare_species\"\n",
    "\n",
    "#Get the file paths and labels for the training and test set\n",
    "arthropoda_train['full_path'] = arthropoda_train['file_path'].apply(lambda x: os.path.normpath(os.path.join(root_dir, x)))\n",
    "arthropoda_test['full_path'] = arthropoda_test['file_path'].apply(lambda x: os.path.normpath(os.path.join(root_dir, x)))\n",
    "\n",
    "file_paths_train = arthropoda_train['full_path'].tolist()\n",
    "labels_train = arthropoda_train['family'].tolist()\n",
    "\n",
    "file_paths_test = arthropoda_test['full_path'].tolist()\n",
    "labels_test = arthropoda_test['family'].tolist()\n",
    "\n",
    "#Map the labels to integers\n",
    "label_names = sorted(set(labels_train)) # Get the unique labels\n",
    "label_to_index = {name: i for i, name in enumerate(label_names)} # Create a mapping from labels to integers\n",
    "labels_train = [label_to_index[label] for label in labels_train]\n",
    "labels_test = [label_to_index[label] for label in labels_test]\n",
    "\n",
    "print(file_paths_train[:5])\n",
    "print(labels_train[:5])\n",
    "print(file_paths_test[:5])\n",
    "print(labels_test[:5])"
   ]
  },
  {
   "cell_type": "code",
   "execution_count": 148,
   "metadata": {},
   "outputs": [],
   "source": [
    "#Create the tensorflow datasets\n",
    "\n",
    "#Load data\n",
    "data = tf.data.Dataset.from_tensor_slices((file_paths_train, labels_train))\n",
    "data = data.shuffle(buffer_size=len(file_paths_train), reshuffle_each_iteration=False, seed=42) # Shuffle the dataset\n",
    "\n",
    "#Create train/val\n",
    "train_size = int(0.8 * len(file_paths_train)) #80% for training, 20% for validation\n",
    "train = data.take(train_size) # Take the first 80% for training\n",
    "val = data.skip(train_size) # Skip the first 80% for validation\n",
    "\n",
    "#Training preprocess pipeline\n",
    "train = train.map(process_image, num_parallel_calls=tf.data.AUTOTUNE) # Map the function to the dataset\n",
    "train = train.cache() # Cache the dataset for faster access\n",
    "train = train.map(augment_image, num_parallel_calls=tf.data.AUTOTUNE) # Map the function to the dataset\n",
    "train = train.shuffle(buffer_size=len(file_paths_train), reshuffle_each_iteration=True, seed=42).batch(8).prefetch(buffer_size=tf.data.AUTOTUNE) #shuffle and batch\n",
    "\n",
    "#Validation preprocess pipeline\n",
    "val = val.map(process_image, num_parallel_calls=tf.data.AUTOTUNE) # Map the function to the dataset\n",
    "val = val.cache() # Cache the dataset for faster access\n",
    "val = val.batch(8).prefetch(buffer_size=tf.data.AUTOTUNE) #batch\n",
    "\n",
    "\n",
    "#Test preprocess pipeline\n",
    "test = tf.data.Dataset.from_tensor_slices((file_paths_test, labels_test))\n",
    "test = test.map(process_image, num_parallel_calls=tf.data.AUTOTUNE)\n",
    "test = test.cache().batch(8).prefetch(tf.data.AUTOTUNE)"
   ]
  },
  {
   "cell_type": "code",
   "execution_count": 149,
   "metadata": {},
   "outputs": [
    {
     "name": "stdout",
     "output_type": "stream",
     "text": [
      "Image shape: (8, 224, 224, 3)\n",
      "Label: [0 8 5 5 2 8 0 5]\n",
      "Image shape: (8, 224, 224, 3)\n",
      "Label: [4 0 5 5 5 6 0 1]\n",
      "Image shape: (8, 224, 224, 3)\n",
      "Label: [ 3  5  3 11  6 10  1  3]\n",
      "Image shape: (8, 224, 224, 3)\n",
      "Label: [ 0  0  0  5  9  0 16  5]\n",
      "Image shape: (8, 224, 224, 3)\n",
      "Label: [ 5  5  0 16  6  0 11  0]\n",
      "Image shape: (8, 224, 224, 3)\n",
      "Label: [ 0  5 13  5  5  8  5  0]\n"
     ]
    },
    {
     "name": "stderr",
     "output_type": "stream",
     "text": [
      "2025-04-10 18:06:52.995363: W tensorflow/core/kernels/data/cache_dataset_ops.cc:916] The calling iterator did not fully read the dataset being cached. In order to avoid unexpected truncation of the dataset, the partially cached contents of the dataset  will be discarded. This can happen if you have an input pipeline similar to `dataset.cache().take(k).repeat()`. You should use `dataset.take(k).cache().repeat()` instead.\n",
      "2025-04-10 18:06:53.003139: I tensorflow/core/framework/local_rendezvous.cc:407] Local rendezvous is aborting with status: OUT_OF_RANGE: End of sequence\n"
     ]
    }
   ],
   "source": [
    "for image, label in train.take(3):\n",
    "    print(\"Image shape:\", image.numpy().shape)\n",
    "    print(\"Label:\", label.numpy())\n",
    "\n",
    "for image, label in test.take(3):\n",
    "    print(\"Image shape:\", image.numpy().shape)\n",
    "    print(\"Label:\", label.numpy())"
   ]
  },
  {
   "cell_type": "markdown",
   "metadata": {},
   "source": [
    "# 5. Neural Network Models <a class=\"anchor\" id=\"nnmodels\"></a>"
   ]
  },
  {
   "cell_type": "code",
   "execution_count": 150,
   "metadata": {},
   "outputs": [
    {
     "name": "stdout",
     "output_type": "stream",
     "text": [
      "Physical devices cannot be modified after being initialized\n"
     ]
    }
   ],
   "source": [
    "gpus = tf.config.list_physical_devices('GPU')\n",
    "if gpus:\n",
    "    try:\n",
    "        for gpu in gpus:\n",
    "            tf.config.experimental.set_memory_growth(gpu, True)\n",
    "    except RuntimeError as e:\n",
    "        print(e)"
   ]
  },
  {
   "cell_type": "code",
   "execution_count": 151,
   "metadata": {},
   "outputs": [
    {
     "name": "stdout",
     "output_type": "stream",
     "text": [
      "✅ GPU(s) detected: ['/physical_device:GPU:0']\n"
     ]
    }
   ],
   "source": [
    "# Print GPU devices detected\n",
    "gpus = tf.config.list_physical_devices('GPU')\n",
    "if gpus:\n",
    "    print(f\"✅ GPU(s) detected: {[gpu.name for gpu in gpus]}\")\n",
    "else:\n",
    "    print(\"❌ No GPU detected by TensorFlow.\")"
   ]
  },
  {
   "cell_type": "markdown",
   "metadata": {},
   "source": [
    "# Resnet50"
   ]
  },
  {
   "cell_type": "code",
   "execution_count": 152,
   "metadata": {},
   "outputs": [],
   "source": [
    "if is_resnet == 1:\n",
    "    # 1. Load the ResNet50 base model (without top classifier)\n",
    "    base_model = ResNet50(\n",
    "        weights='imagenet',          # Use ImageNet pretrained weights\n",
    "        include_top=False,           # Exclude the default final dense layer\n",
    "        input_shape=(224, 224, 3)    # Adjust to match your input images\n",
    "    )\n",
    "\n",
    "    # 2. Freeze the base model so we only train the classifier head\n",
    "    base_model.trainable = False\n",
    "\n",
    "    # 3. Build custom classification head\n",
    "    x = base_model.output\n",
    "    x = layers.GlobalAveragePooling2D()(x)\n",
    "    x = layers.Dense(256, activation='relu')(x)\n",
    "    x = layers.Dropout(0.5)(x)\n",
    "    output = layers.Dense(num_classes, activation='softmax')(x)\n",
    "\n",
    "\n",
    "    # 4. Create the full model\n",
    "    model = models.Model(inputs=base_model.input, outputs=output)\n",
    "\n",
    "    # 5. Compile the model\n",
    "    model.compile(\n",
    "        optimizer=optimizers.Adam(learning_rate=1e-5),\n",
    "        loss='sparse_categorical_crossentropy',  # ✅ Use sparse version for integer labels\n",
    "        metrics=['accuracy']\n",
    "    )\n",
    "\n",
    "\n",
    "    # 6. Train the model\n",
    "    history = model.fit(\n",
    "        train,\n",
    "        epochs=100,\n",
    "        validation_data=val,\n",
    "        callbacks=[EarlyStopping(monitor='val_loss', patience=20, restore_best_weights=True)],\n",
    "        verbose=1\n",
    "    )\n",
    "\n",
    "    # 7. Save the model\n",
    "    model.save(\"resnet50_rare_species_model.h5\")\n",
    "\n",
    "    plot_filename = 'resnet50_rare_species_1.png' # Match naming convention\n",
    "    plt.savefig(plot_filename)\n",
    "    print(f\"Training plot saved to {plot_filename}\")\n",
    "    \n",
    "    # Plot training & validation accuracy\n",
    "    plt.figure(figsize=(12, 5))\n",
    "    plt.plot(history.history['accuracy'])\n",
    "    plt.plot(history.history['val_accuracy'])\n",
    "    plt.title('Model accuracy')\n",
    "    plt.ylabel('Accuracy')\n",
    "    plt.xlabel('Epoch')\n",
    "    plt.legend(['Train', 'Val'])\n",
    "    plt.show()\n",
    "\n",
    "    #Plot training & validation F1 score\n",
    "    plt.figure(figsize=(12, 5))\n",
    "    plt.plot(history.history['f1_score'])\n",
    "    plt.plot(history.history['val_f1_score'])\n",
    "    plt.title('Model F1 Score')\n",
    "    plt.ylabel('F1 Score')\n",
    "    plt.xlabel('Epoch')\n",
    "    plt.legend(['Train', 'Val'])\n",
    "    plt.show()\n",
    "\n"
   ]
  },
  {
   "cell_type": "markdown",
   "metadata": {},
   "source": [
    "# MobileNetV2"
   ]
  },
  {
   "cell_type": "code",
   "execution_count": null,
   "metadata": {},
   "outputs": [
    {
     "name": "stdout",
     "output_type": "stream",
     "text": [
      "Epoch 1/100\n",
      "\u001b[1m74/74\u001b[0m \u001b[32m━━━━━━━━━━━━━━━━━━━━\u001b[0m\u001b[37m\u001b[0m \u001b[1m0s\u001b[0m 150ms/step - accuracy: 0.1735 - loss: 3.0897"
     ]
    },
    {
     "name": "stderr",
     "output_type": "stream",
     "text": [
      "WARNING:absl:You are saving your model as an HDF5 file via `model.save()` or `keras.saving.save_model(model)`. This file format is considered legacy. We recommend using instead the native Keras format, e.g. `model.save('my_model.keras')` or `keras.saving.save_model(model, 'my_model.keras')`. \n"
     ]
    },
    {
     "name": "stdout",
     "output_type": "stream",
     "text": [
      "\u001b[1m74/74\u001b[0m \u001b[32m━━━━━━━━━━━━━━━━━━━━\u001b[0m\u001b[37m\u001b[0m \u001b[1m41s\u001b[0m 314ms/step - accuracy: 0.1748 - loss: 3.0858 - val_accuracy: 0.3581 - val_loss: 2.2745 - learning_rate: 1.0000e-04\n",
      "Epoch 2/100\n",
      "\u001b[1m74/74\u001b[0m \u001b[32m━━━━━━━━━━━━━━━━━━━━\u001b[0m\u001b[37m\u001b[0m \u001b[1m0s\u001b[0m 23ms/step - accuracy: 0.3753 - loss: 2.3148"
     ]
    },
    {
     "name": "stderr",
     "output_type": "stream",
     "text": [
      "WARNING:absl:You are saving your model as an HDF5 file via `model.save()` or `keras.saving.save_model(model)`. This file format is considered legacy. We recommend using instead the native Keras format, e.g. `model.save('my_model.keras')` or `keras.saving.save_model(model, 'my_model.keras')`. \n"
     ]
    },
    {
     "name": "stdout",
     "output_type": "stream",
     "text": [
      "\u001b[1m74/74\u001b[0m \u001b[32m━━━━━━━━━━━━━━━━━━━━\u001b[0m\u001b[37m\u001b[0m \u001b[1m5s\u001b[0m 36ms/step - accuracy: 0.3756 - loss: 2.3140 - val_accuracy: 0.4054 - val_loss: 2.0618 - learning_rate: 1.0000e-04\n",
      "Epoch 3/100\n",
      "\u001b[1m74/74\u001b[0m \u001b[32m━━━━━━━━━━━━━━━━━━━━\u001b[0m\u001b[37m\u001b[0m \u001b[1m0s\u001b[0m 20ms/step - accuracy: 0.3781 - loss: 2.2003"
     ]
    },
    {
     "name": "stderr",
     "output_type": "stream",
     "text": [
      "WARNING:absl:You are saving your model as an HDF5 file via `model.save()` or `keras.saving.save_model(model)`. This file format is considered legacy. We recommend using instead the native Keras format, e.g. `model.save('my_model.keras')` or `keras.saving.save_model(model, 'my_model.keras')`. \n"
     ]
    },
    {
     "name": "stdout",
     "output_type": "stream",
     "text": [
      "\u001b[1m74/74\u001b[0m \u001b[32m━━━━━━━━━━━━━━━━━━━━\u001b[0m\u001b[37m\u001b[0m \u001b[1m4s\u001b[0m 33ms/step - accuracy: 0.3783 - loss: 2.1989 - val_accuracy: 0.4324 - val_loss: 1.8867 - learning_rate: 1.0000e-04\n",
      "Epoch 4/100\n",
      "\u001b[1m73/74\u001b[0m \u001b[32m━━━━━━━━━━━━━━━━━━━\u001b[0m\u001b[37m━\u001b[0m \u001b[1m0s\u001b[0m 19ms/step - accuracy: 0.4608 - loss: 1.7990"
     ]
    },
    {
     "name": "stderr",
     "output_type": "stream",
     "text": [
      "WARNING:absl:You are saving your model as an HDF5 file via `model.save()` or `keras.saving.save_model(model)`. This file format is considered legacy. We recommend using instead the native Keras format, e.g. `model.save('my_model.keras')` or `keras.saving.save_model(model, 'my_model.keras')`. \n"
     ]
    },
    {
     "name": "stdout",
     "output_type": "stream",
     "text": [
      "\u001b[1m74/74\u001b[0m \u001b[32m━━━━━━━━━━━━━━━━━━━━\u001b[0m\u001b[37m\u001b[0m \u001b[1m4s\u001b[0m 29ms/step - accuracy: 0.4603 - loss: 1.8007 - val_accuracy: 0.4595 - val_loss: 1.7921 - learning_rate: 1.0000e-04\n",
      "Epoch 5/100\n",
      "\u001b[1m73/74\u001b[0m \u001b[32m━━━━━━━━━━━━━━━━━━━\u001b[0m\u001b[37m━\u001b[0m \u001b[1m0s\u001b[0m 18ms/step - accuracy: 0.5312 - loss: 1.6366"
     ]
    },
    {
     "name": "stderr",
     "output_type": "stream",
     "text": [
      "WARNING:absl:You are saving your model as an HDF5 file via `model.save()` or `keras.saving.save_model(model)`. This file format is considered legacy. We recommend using instead the native Keras format, e.g. `model.save('my_model.keras')` or `keras.saving.save_model(model, 'my_model.keras')`. \n"
     ]
    },
    {
     "name": "stdout",
     "output_type": "stream",
     "text": [
      "\u001b[1m74/74\u001b[0m \u001b[32m━━━━━━━━━━━━━━━━━━━━\u001b[0m\u001b[37m\u001b[0m \u001b[1m4s\u001b[0m 28ms/step - accuracy: 0.5303 - loss: 1.6391 - val_accuracy: 0.4797 - val_loss: 1.6906 - learning_rate: 1.0000e-04\n",
      "Epoch 6/100\n",
      "\u001b[1m74/74\u001b[0m \u001b[32m━━━━━━━━━━━━━━━━━━━━\u001b[0m\u001b[37m\u001b[0m \u001b[1m0s\u001b[0m 18ms/step - accuracy: 0.5076 - loss: 1.6187"
     ]
    },
    {
     "name": "stderr",
     "output_type": "stream",
     "text": [
      "WARNING:absl:You are saving your model as an HDF5 file via `model.save()` or `keras.saving.save_model(model)`. This file format is considered legacy. We recommend using instead the native Keras format, e.g. `model.save('my_model.keras')` or `keras.saving.save_model(model, 'my_model.keras')`. \n"
     ]
    },
    {
     "name": "stdout",
     "output_type": "stream",
     "text": [
      "\u001b[1m74/74\u001b[0m \u001b[32m━━━━━━━━━━━━━━━━━━━━\u001b[0m\u001b[37m\u001b[0m \u001b[1m4s\u001b[0m 27ms/step - accuracy: 0.5075 - loss: 1.6187 - val_accuracy: 0.5203 - val_loss: 1.5839 - learning_rate: 1.0000e-04\n",
      "Epoch 7/100\n",
      "\u001b[1m74/74\u001b[0m \u001b[32m━━━━━━━━━━━━━━━━━━━━\u001b[0m\u001b[37m\u001b[0m \u001b[1m0s\u001b[0m 17ms/step - accuracy: 0.5211 - loss: 1.5826"
     ]
    },
    {
     "name": "stderr",
     "output_type": "stream",
     "text": [
      "WARNING:absl:You are saving your model as an HDF5 file via `model.save()` or `keras.saving.save_model(model)`. This file format is considered legacy. We recommend using instead the native Keras format, e.g. `model.save('my_model.keras')` or `keras.saving.save_model(model, 'my_model.keras')`. \n"
     ]
    },
    {
     "name": "stdout",
     "output_type": "stream",
     "text": [
      "\u001b[1m74/74\u001b[0m \u001b[32m━━━━━━━━━━━━━━━━━━━━\u001b[0m\u001b[37m\u001b[0m \u001b[1m4s\u001b[0m 26ms/step - accuracy: 0.5213 - loss: 1.5818 - val_accuracy: 0.5541 - val_loss: 1.5061 - learning_rate: 1.0000e-04\n",
      "Epoch 8/100\n",
      "\u001b[1m74/74\u001b[0m \u001b[32m━━━━━━━━━━━━━━━━━━━━\u001b[0m\u001b[37m\u001b[0m \u001b[1m0s\u001b[0m 17ms/step - accuracy: 0.5426 - loss: 1.5282"
     ]
    },
    {
     "name": "stderr",
     "output_type": "stream",
     "text": [
      "WARNING:absl:You are saving your model as an HDF5 file via `model.save()` or `keras.saving.save_model(model)`. This file format is considered legacy. We recommend using instead the native Keras format, e.g. `model.save('my_model.keras')` or `keras.saving.save_model(model, 'my_model.keras')`. \n"
     ]
    },
    {
     "name": "stdout",
     "output_type": "stream",
     "text": [
      "\u001b[1m74/74\u001b[0m \u001b[32m━━━━━━━━━━━━━━━━━━━━\u001b[0m\u001b[37m\u001b[0m \u001b[1m5s\u001b[0m 27ms/step - accuracy: 0.5427 - loss: 1.5282 - val_accuracy: 0.5878 - val_loss: 1.4015 - learning_rate: 1.0000e-04\n",
      "Epoch 9/100\n",
      "\u001b[1m71/74\u001b[0m \u001b[32m━━━━━━━━━━━━━━━━━━━\u001b[0m\u001b[37m━\u001b[0m \u001b[1m0s\u001b[0m 17ms/step - accuracy: 0.5743 - loss: 1.4417"
     ]
    },
    {
     "name": "stderr",
     "output_type": "stream",
     "text": [
      "WARNING:absl:You are saving your model as an HDF5 file via `model.save()` or `keras.saving.save_model(model)`. This file format is considered legacy. We recommend using instead the native Keras format, e.g. `model.save('my_model.keras')` or `keras.saving.save_model(model, 'my_model.keras')`. \n"
     ]
    },
    {
     "name": "stdout",
     "output_type": "stream",
     "text": [
      "\u001b[1m74/74\u001b[0m \u001b[32m━━━━━━━━━━━━━━━━━━━━\u001b[0m\u001b[37m\u001b[0m \u001b[1m4s\u001b[0m 27ms/step - accuracy: 0.5747 - loss: 1.4397 - val_accuracy: 0.5946 - val_loss: 1.3396 - learning_rate: 1.0000e-04\n",
      "Epoch 10/100\n",
      "\u001b[1m73/74\u001b[0m \u001b[32m━━━━━━━━━━━━━━━━━━━\u001b[0m\u001b[37m━\u001b[0m \u001b[1m0s\u001b[0m 17ms/step - accuracy: 0.5535 - loss: 1.4074"
     ]
    },
    {
     "name": "stderr",
     "output_type": "stream",
     "text": [
      "WARNING:absl:You are saving your model as an HDF5 file via `model.save()` or `keras.saving.save_model(model)`. This file format is considered legacy. We recommend using instead the native Keras format, e.g. `model.save('my_model.keras')` or `keras.saving.save_model(model, 'my_model.keras')`. \n"
     ]
    },
    {
     "name": "stdout",
     "output_type": "stream",
     "text": [
      "\u001b[1m74/74\u001b[0m \u001b[32m━━━━━━━━━━━━━━━━━━━━\u001b[0m\u001b[37m\u001b[0m \u001b[1m4s\u001b[0m 26ms/step - accuracy: 0.5543 - loss: 1.4061 - val_accuracy: 0.6081 - val_loss: 1.3039 - learning_rate: 1.0000e-04\n",
      "Epoch 11/100\n",
      "\u001b[1m71/74\u001b[0m \u001b[32m━━━━━━━━━━━━━━━━━━━\u001b[0m\u001b[37m━\u001b[0m \u001b[1m0s\u001b[0m 18ms/step - accuracy: 0.6278 - loss: 1.2422"
     ]
    },
    {
     "name": "stderr",
     "output_type": "stream",
     "text": [
      "WARNING:absl:You are saving your model as an HDF5 file via `model.save()` or `keras.saving.save_model(model)`. This file format is considered legacy. We recommend using instead the native Keras format, e.g. `model.save('my_model.keras')` or `keras.saving.save_model(model, 'my_model.keras')`. \n"
     ]
    },
    {
     "name": "stdout",
     "output_type": "stream",
     "text": [
      "\u001b[1m74/74\u001b[0m \u001b[32m━━━━━━━━━━━━━━━━━━━━\u001b[0m\u001b[37m\u001b[0m \u001b[1m4s\u001b[0m 27ms/step - accuracy: 0.6278 - loss: 1.2445 - val_accuracy: 0.6149 - val_loss: 1.2905 - learning_rate: 1.0000e-04\n",
      "Epoch 12/100\n",
      "\u001b[1m73/74\u001b[0m \u001b[32m━━━━━━━━━━━━━━━━━━━\u001b[0m\u001b[37m━\u001b[0m \u001b[1m0s\u001b[0m 18ms/step - accuracy: 0.6183 - loss: 1.2176"
     ]
    },
    {
     "name": "stderr",
     "output_type": "stream",
     "text": [
      "WARNING:absl:You are saving your model as an HDF5 file via `model.save()` or `keras.saving.save_model(model)`. This file format is considered legacy. We recommend using instead the native Keras format, e.g. `model.save('my_model.keras')` or `keras.saving.save_model(model, 'my_model.keras')`. \n"
     ]
    },
    {
     "name": "stdout",
     "output_type": "stream",
     "text": [
      "\u001b[1m74/74\u001b[0m \u001b[32m━━━━━━━━━━━━━━━━━━━━\u001b[0m\u001b[37m\u001b[0m \u001b[1m4s\u001b[0m 28ms/step - accuracy: 0.6183 - loss: 1.2186 - val_accuracy: 0.6284 - val_loss: 1.2354 - learning_rate: 1.0000e-04\n",
      "Epoch 13/100\n",
      "\u001b[1m72/74\u001b[0m \u001b[32m━━━━━━━━━━━━━━━━━━━\u001b[0m\u001b[37m━\u001b[0m \u001b[1m0s\u001b[0m 18ms/step - accuracy: 0.6516 - loss: 1.1573"
     ]
    },
    {
     "name": "stderr",
     "output_type": "stream",
     "text": [
      "WARNING:absl:You are saving your model as an HDF5 file via `model.save()` or `keras.saving.save_model(model)`. This file format is considered legacy. We recommend using instead the native Keras format, e.g. `model.save('my_model.keras')` or `keras.saving.save_model(model, 'my_model.keras')`. \n"
     ]
    },
    {
     "name": "stdout",
     "output_type": "stream",
     "text": [
      "\u001b[1m74/74\u001b[0m \u001b[32m━━━━━━━━━━━━━━━━━━━━\u001b[0m\u001b[37m\u001b[0m \u001b[1m4s\u001b[0m 28ms/step - accuracy: 0.6517 - loss: 1.1583 - val_accuracy: 0.6554 - val_loss: 1.1645 - learning_rate: 1.0000e-04\n",
      "Epoch 14/100\n",
      "\u001b[1m73/74\u001b[0m \u001b[32m━━━━━━━━━━━━━━━━━━━\u001b[0m\u001b[37m━\u001b[0m \u001b[1m0s\u001b[0m 17ms/step - accuracy: 0.6773 - loss: 1.1081"
     ]
    },
    {
     "name": "stderr",
     "output_type": "stream",
     "text": [
      "WARNING:absl:You are saving your model as an HDF5 file via `model.save()` or `keras.saving.save_model(model)`. This file format is considered legacy. We recommend using instead the native Keras format, e.g. `model.save('my_model.keras')` or `keras.saving.save_model(model, 'my_model.keras')`. \n"
     ]
    },
    {
     "name": "stdout",
     "output_type": "stream",
     "text": [
      "\u001b[1m74/74\u001b[0m \u001b[32m━━━━━━━━━━━━━━━━━━━━\u001b[0m\u001b[37m\u001b[0m \u001b[1m4s\u001b[0m 28ms/step - accuracy: 0.6769 - loss: 1.1091 - val_accuracy: 0.6554 - val_loss: 1.1389 - learning_rate: 1.0000e-04\n",
      "Epoch 15/100\n",
      "\u001b[1m74/74\u001b[0m \u001b[32m━━━━━━━━━━━━━━━━━━━━\u001b[0m\u001b[37m\u001b[0m \u001b[1m3s\u001b[0m 20ms/step - accuracy: 0.6451 - loss: 1.1189 - val_accuracy: 0.6757 - val_loss: 1.1416 - learning_rate: 1.0000e-04\n",
      "Epoch 16/100\n",
      "\u001b[1m73/74\u001b[0m \u001b[32m━━━━━━━━━━━━━━━━━━━\u001b[0m\u001b[37m━\u001b[0m \u001b[1m0s\u001b[0m 37ms/step - accuracy: 0.6657 - loss: 1.1143"
     ]
    },
    {
     "name": "stderr",
     "output_type": "stream",
     "text": [
      "WARNING:absl:You are saving your model as an HDF5 file via `model.save()` or `keras.saving.save_model(model)`. This file format is considered legacy. We recommend using instead the native Keras format, e.g. `model.save('my_model.keras')` or `keras.saving.save_model(model, 'my_model.keras')`. \n"
     ]
    },
    {
     "name": "stdout",
     "output_type": "stream",
     "text": [
      "\u001b[1m74/74\u001b[0m \u001b[32m━━━━━━━━━━━━━━━━━━━━\u001b[0m\u001b[37m\u001b[0m \u001b[1m5s\u001b[0m 45ms/step - accuracy: 0.6668 - loss: 1.1124 - val_accuracy: 0.6486 - val_loss: 1.1051 - learning_rate: 1.0000e-04\n",
      "Epoch 17/100\n",
      "\u001b[1m74/74\u001b[0m \u001b[32m━━━━━━━━━━━━━━━━━━━━\u001b[0m\u001b[37m\u001b[0m \u001b[1m0s\u001b[0m 17ms/step - accuracy: 0.6933 - loss: 0.9850"
     ]
    },
    {
     "name": "stderr",
     "output_type": "stream",
     "text": [
      "WARNING:absl:You are saving your model as an HDF5 file via `model.save()` or `keras.saving.save_model(model)`. This file format is considered legacy. We recommend using instead the native Keras format, e.g. `model.save('my_model.keras')` or `keras.saving.save_model(model, 'my_model.keras')`. \n"
     ]
    },
    {
     "name": "stdout",
     "output_type": "stream",
     "text": [
      "\u001b[1m74/74\u001b[0m \u001b[32m━━━━━━━━━━━━━━━━━━━━\u001b[0m\u001b[37m\u001b[0m \u001b[1m4s\u001b[0m 26ms/step - accuracy: 0.6934 - loss: 0.9856 - val_accuracy: 0.6486 - val_loss: 1.0654 - learning_rate: 1.0000e-04\n",
      "Epoch 18/100\n",
      "\u001b[1m74/74\u001b[0m \u001b[32m━━━━━━━━━━━━━━━━━━━━\u001b[0m\u001b[37m\u001b[0m \u001b[1m3s\u001b[0m 21ms/step - accuracy: 0.7214 - loss: 1.0067 - val_accuracy: 0.6351 - val_loss: 1.1088 - learning_rate: 1.0000e-04\n",
      "Epoch 19/100\n",
      "\u001b[1m71/74\u001b[0m \u001b[32m━━━━━━━━━━━━━━━━━━━\u001b[0m\u001b[37m━\u001b[0m \u001b[1m0s\u001b[0m 16ms/step - accuracy: 0.6835 - loss: 1.0499"
     ]
    },
    {
     "name": "stderr",
     "output_type": "stream",
     "text": [
      "WARNING:absl:You are saving your model as an HDF5 file via `model.save()` or `keras.saving.save_model(model)`. This file format is considered legacy. We recommend using instead the native Keras format, e.g. `model.save('my_model.keras')` or `keras.saving.save_model(model, 'my_model.keras')`. \n"
     ]
    },
    {
     "name": "stdout",
     "output_type": "stream",
     "text": [
      "\u001b[1m74/74\u001b[0m \u001b[32m━━━━━━━━━━━━━━━━━━━━\u001b[0m\u001b[37m\u001b[0m \u001b[1m4s\u001b[0m 25ms/step - accuracy: 0.6841 - loss: 1.0498 - val_accuracy: 0.6486 - val_loss: 1.0434 - learning_rate: 1.0000e-04\n",
      "Epoch 20/100\n",
      "\u001b[1m71/74\u001b[0m \u001b[32m━━━━━━━━━━━━━━━━━━━\u001b[0m\u001b[37m━\u001b[0m \u001b[1m0s\u001b[0m 17ms/step - accuracy: 0.7378 - loss: 0.9508"
     ]
    },
    {
     "name": "stderr",
     "output_type": "stream",
     "text": [
      "WARNING:absl:You are saving your model as an HDF5 file via `model.save()` or `keras.saving.save_model(model)`. This file format is considered legacy. We recommend using instead the native Keras format, e.g. `model.save('my_model.keras')` or `keras.saving.save_model(model, 'my_model.keras')`. \n"
     ]
    },
    {
     "name": "stdout",
     "output_type": "stream",
     "text": [
      "\u001b[1m74/74\u001b[0m \u001b[32m━━━━━━━━━━━━━━━━━━━━\u001b[0m\u001b[37m\u001b[0m \u001b[1m4s\u001b[0m 25ms/step - accuracy: 0.7357 - loss: 0.9517 - val_accuracy: 0.6689 - val_loss: 1.0425 - learning_rate: 1.0000e-04\n",
      "Epoch 21/100\n",
      "\u001b[1m74/74\u001b[0m \u001b[32m━━━━━━━━━━━━━━━━━━━━\u001b[0m\u001b[37m\u001b[0m \u001b[1m3s\u001b[0m 21ms/step - accuracy: 0.6875 - loss: 0.9798 - val_accuracy: 0.6419 - val_loss: 1.0648 - learning_rate: 1.0000e-04\n",
      "Epoch 22/100\n",
      "\u001b[1m73/74\u001b[0m \u001b[32m━━━━━━━━━━━━━━━━━━━\u001b[0m\u001b[37m━\u001b[0m \u001b[1m0s\u001b[0m 16ms/step - accuracy: 0.7182 - loss: 0.9231"
     ]
    },
    {
     "name": "stderr",
     "output_type": "stream",
     "text": [
      "WARNING:absl:You are saving your model as an HDF5 file via `model.save()` or `keras.saving.save_model(model)`. This file format is considered legacy. We recommend using instead the native Keras format, e.g. `model.save('my_model.keras')` or `keras.saving.save_model(model, 'my_model.keras')`. \n"
     ]
    },
    {
     "name": "stdout",
     "output_type": "stream",
     "text": [
      "\u001b[1m74/74\u001b[0m \u001b[32m━━━━━━━━━━━━━━━━━━━━\u001b[0m\u001b[37m\u001b[0m \u001b[1m4s\u001b[0m 26ms/step - accuracy: 0.7183 - loss: 0.9238 - val_accuracy: 0.6757 - val_loss: 1.0163 - learning_rate: 1.0000e-04\n",
      "Epoch 23/100\n",
      "\u001b[1m74/74\u001b[0m \u001b[32m━━━━━━━━━━━━━━━━━━━━\u001b[0m\u001b[37m\u001b[0m \u001b[1m0s\u001b[0m 16ms/step - accuracy: 0.7271 - loss: 0.9618"
     ]
    },
    {
     "name": "stderr",
     "output_type": "stream",
     "text": [
      "WARNING:absl:You are saving your model as an HDF5 file via `model.save()` or `keras.saving.save_model(model)`. This file format is considered legacy. We recommend using instead the native Keras format, e.g. `model.save('my_model.keras')` or `keras.saving.save_model(model, 'my_model.keras')`. \n"
     ]
    },
    {
     "name": "stdout",
     "output_type": "stream",
     "text": [
      "\u001b[1m74/74\u001b[0m \u001b[32m━━━━━━━━━━━━━━━━━━━━\u001b[0m\u001b[37m\u001b[0m \u001b[1m3s\u001b[0m 24ms/step - accuracy: 0.7270 - loss: 0.9617 - val_accuracy: 0.6689 - val_loss: 0.9836 - learning_rate: 1.0000e-04\n",
      "Epoch 24/100\n",
      "\u001b[1m71/74\u001b[0m \u001b[32m━━━━━━━━━━━━━━━━━━━\u001b[0m\u001b[37m━\u001b[0m \u001b[1m0s\u001b[0m 17ms/step - accuracy: 0.7414 - loss: 0.8542"
     ]
    },
    {
     "name": "stderr",
     "output_type": "stream",
     "text": [
      "WARNING:absl:You are saving your model as an HDF5 file via `model.save()` or `keras.saving.save_model(model)`. This file format is considered legacy. We recommend using instead the native Keras format, e.g. `model.save('my_model.keras')` or `keras.saving.save_model(model, 'my_model.keras')`. \n"
     ]
    },
    {
     "name": "stdout",
     "output_type": "stream",
     "text": [
      "\u001b[1m74/74\u001b[0m \u001b[32m━━━━━━━━━━━━━━━━━━━━\u001b[0m\u001b[37m\u001b[0m \u001b[1m4s\u001b[0m 26ms/step - accuracy: 0.7406 - loss: 0.8562 - val_accuracy: 0.7027 - val_loss: 0.9370 - learning_rate: 1.0000e-04\n",
      "Epoch 25/100\n",
      "\u001b[1m74/74\u001b[0m \u001b[32m━━━━━━━━━━━━━━━━━━━━\u001b[0m\u001b[37m\u001b[0m \u001b[1m3s\u001b[0m 21ms/step - accuracy: 0.7360 - loss: 0.8836 - val_accuracy: 0.6959 - val_loss: 0.9925 - learning_rate: 1.0000e-04\n",
      "Epoch 26/100\n",
      "\u001b[1m74/74\u001b[0m \u001b[32m━━━━━━━━━━━━━━━━━━━━\u001b[0m\u001b[37m\u001b[0m \u001b[1m5s\u001b[0m 21ms/step - accuracy: 0.7279 - loss: 0.8069 - val_accuracy: 0.6959 - val_loss: 0.9703 - learning_rate: 1.0000e-04\n",
      "Epoch 27/100\n",
      "\u001b[1m74/74\u001b[0m \u001b[32m━━━━━━━━━━━━━━━━━━━━\u001b[0m\u001b[37m\u001b[0m \u001b[1m3s\u001b[0m 20ms/step - accuracy: 0.7452 - loss: 0.8513 - val_accuracy: 0.6892 - val_loss: 0.9886 - learning_rate: 1.0000e-04\n",
      "Epoch 28/100\n",
      "\u001b[1m74/74\u001b[0m \u001b[32m━━━━━━━━━━━━━━━━━━━━\u001b[0m\u001b[37m\u001b[0m \u001b[1m3s\u001b[0m 21ms/step - accuracy: 0.7246 - loss: 0.8782 - val_accuracy: 0.6757 - val_loss: 0.9703 - learning_rate: 1.0000e-04\n",
      "Epoch 29/100\n",
      "\u001b[1m74/74\u001b[0m \u001b[32m━━━━━━━━━━━━━━━━━━━━\u001b[0m\u001b[37m\u001b[0m \u001b[1m3s\u001b[0m 20ms/step - accuracy: 0.7728 - loss: 0.7866 - val_accuracy: 0.6757 - val_loss: 1.0239 - learning_rate: 1.0000e-04\n",
      "Epoch 30/100\n",
      "\u001b[1m74/74\u001b[0m \u001b[32m━━━━━━━━━━━━━━━━━━━━\u001b[0m\u001b[37m\u001b[0m \u001b[1m3s\u001b[0m 22ms/step - accuracy: 0.7241 - loss: 0.8543 - val_accuracy: 0.7027 - val_loss: 0.9669 - learning_rate: 5.0000e-05\n",
      "Epoch 31/100\n",
      "\u001b[1m74/74\u001b[0m \u001b[32m━━━━━━━━━━━━━━━━━━━━\u001b[0m\u001b[37m\u001b[0m \u001b[1m3s\u001b[0m 20ms/step - accuracy: 0.7509 - loss: 0.8232 - val_accuracy: 0.6892 - val_loss: 0.9728 - learning_rate: 5.0000e-05\n",
      "Epoch 32/100\n",
      "\u001b[1m74/74\u001b[0m \u001b[32m━━━━━━━━━━━━━━━━━━━━\u001b[0m\u001b[37m\u001b[0m \u001b[1m3s\u001b[0m 19ms/step - accuracy: 0.7862 - loss: 0.7568 - val_accuracy: 0.7162 - val_loss: 0.9797 - learning_rate: 5.0000e-05\n",
      "Epoch 33/100\n",
      "\u001b[1m74/74\u001b[0m \u001b[32m━━━━━━━━━━━━━━━━━━━━\u001b[0m\u001b[37m\u001b[0m \u001b[1m3s\u001b[0m 20ms/step - accuracy: 0.8037 - loss: 0.6733 - val_accuracy: 0.6892 - val_loss: 0.9851 - learning_rate: 5.0000e-05\n",
      "Epoch 34/100\n",
      "\u001b[1m74/74\u001b[0m \u001b[32m━━━━━━━━━━━━━━━━━━━━\u001b[0m\u001b[37m\u001b[0m \u001b[1m3s\u001b[0m 19ms/step - accuracy: 0.7680 - loss: 0.6889 - val_accuracy: 0.7162 - val_loss: 0.9589 - learning_rate: 5.0000e-05\n",
      "Epoch 1/100\n",
      "\u001b[1m74/74\u001b[0m \u001b[32m━━━━━━━━━━━━━━━━━━━━\u001b[0m\u001b[37m\u001b[0m \u001b[1m0s\u001b[0m 189ms/step - accuracy: 0.5952 - loss: 1.4331"
     ]
    },
    {
     "name": "stderr",
     "output_type": "stream",
     "text": [
      "WARNING:absl:You are saving your model as an HDF5 file via `model.save()` or `keras.saving.save_model(model)`. This file format is considered legacy. We recommend using instead the native Keras format, e.g. `model.save('my_model.keras')` or `keras.saving.save_model(model, 'my_model.keras')`. \n"
     ]
    },
    {
     "name": "stdout",
     "output_type": "stream",
     "text": [
      "\u001b[1m74/74\u001b[0m \u001b[32m━━━━━━━━━━━━━━━━━━━━\u001b[0m\u001b[37m\u001b[0m \u001b[1m48s\u001b[0m 277ms/step - accuracy: 0.5953 - loss: 1.4320 - val_accuracy: 0.7230 - val_loss: 0.8681 - learning_rate: 1.0000e-04\n",
      "Epoch 2/100\n",
      "\u001b[1m74/74\u001b[0m \u001b[32m━━━━━━━━━━━━━━━━━━━━\u001b[0m\u001b[37m\u001b[0m \u001b[1m0s\u001b[0m 25ms/step - accuracy: 0.6342 - loss: 1.2231"
     ]
    },
    {
     "name": "stderr",
     "output_type": "stream",
     "text": [
      "WARNING:absl:You are saving your model as an HDF5 file via `model.save()` or `keras.saving.save_model(model)`. This file format is considered legacy. We recommend using instead the native Keras format, e.g. `model.save('my_model.keras')` or `keras.saving.save_model(model, 'my_model.keras')`. \n"
     ]
    },
    {
     "name": "stdout",
     "output_type": "stream",
     "text": [
      "\u001b[1m74/74\u001b[0m \u001b[32m━━━━━━━━━━━━━━━━━━━━\u001b[0m\u001b[37m\u001b[0m \u001b[1m4s\u001b[0m 34ms/step - accuracy: 0.6344 - loss: 1.2224 - val_accuracy: 0.7365 - val_loss: 0.8163 - learning_rate: 1.0000e-04\n",
      "Epoch 3/100\n",
      "\u001b[1m74/74\u001b[0m \u001b[32m━━━━━━━━━━━━━━━━━━━━\u001b[0m\u001b[37m\u001b[0m \u001b[1m4s\u001b[0m 27ms/step - accuracy: 0.7038 - loss: 0.9853 - val_accuracy: 0.7500 - val_loss: 0.8509 - learning_rate: 1.0000e-04\n",
      "Epoch 4/100\n",
      "\u001b[1m74/74\u001b[0m \u001b[32m━━━━━━━━━━━━━━━━━━━━\u001b[0m\u001b[37m\u001b[0m \u001b[1m4s\u001b[0m 27ms/step - accuracy: 0.7234 - loss: 0.8513 - val_accuracy: 0.7770 - val_loss: 0.8368 - learning_rate: 1.0000e-04\n",
      "Epoch 5/100\n",
      "\u001b[1m72/74\u001b[0m \u001b[32m━━━━━━━━━━━━━━━━━━━\u001b[0m\u001b[37m━\u001b[0m \u001b[1m0s\u001b[0m 24ms/step - accuracy: 0.7738 - loss: 0.7844"
     ]
    },
    {
     "name": "stderr",
     "output_type": "stream",
     "text": [
      "WARNING:absl:You are saving your model as an HDF5 file via `model.save()` or `keras.saving.save_model(model)`. This file format is considered legacy. We recommend using instead the native Keras format, e.g. `model.save('my_model.keras')` or `keras.saving.save_model(model, 'my_model.keras')`. \n"
     ]
    },
    {
     "name": "stdout",
     "output_type": "stream",
     "text": [
      "\u001b[1m74/74\u001b[0m \u001b[32m━━━━━━━━━━━━━━━━━━━━\u001b[0m\u001b[37m\u001b[0m \u001b[1m4s\u001b[0m 38ms/step - accuracy: 0.7728 - loss: 0.7863 - val_accuracy: 0.7770 - val_loss: 0.7549 - learning_rate: 1.0000e-04\n",
      "Epoch 6/100\n",
      "\u001b[1m74/74\u001b[0m \u001b[32m━━━━━━━━━━━━━━━━━━━━\u001b[0m\u001b[37m\u001b[0m \u001b[1m4s\u001b[0m 28ms/step - accuracy: 0.7568 - loss: 0.7786 - val_accuracy: 0.7770 - val_loss: 0.8431 - learning_rate: 1.0000e-04\n",
      "Epoch 7/100\n",
      "\u001b[1m74/74\u001b[0m \u001b[32m━━━━━━━━━━━━━━━━━━━━\u001b[0m\u001b[37m\u001b[0m \u001b[1m5s\u001b[0m 48ms/step - accuracy: 0.8174 - loss: 0.6190 - val_accuracy: 0.7703 - val_loss: 0.8934 - learning_rate: 1.0000e-04\n",
      "Epoch 8/100\n",
      "\u001b[1m74/74\u001b[0m \u001b[32m━━━━━━━━━━━━━━━━━━━━\u001b[0m\u001b[37m\u001b[0m \u001b[1m4s\u001b[0m 29ms/step - accuracy: 0.8020 - loss: 0.6257 - val_accuracy: 0.8041 - val_loss: 0.7634 - learning_rate: 1.0000e-04\n",
      "Epoch 9/100\n",
      "\u001b[1m74/74\u001b[0m \u001b[32m━━━━━━━━━━━━━━━━━━━━\u001b[0m\u001b[37m\u001b[0m \u001b[1m4s\u001b[0m 29ms/step - accuracy: 0.8603 - loss: 0.4580 - val_accuracy: 0.7838 - val_loss: 0.8879 - learning_rate: 1.0000e-04\n",
      "Epoch 10/100\n",
      "\u001b[1m74/74\u001b[0m \u001b[32m━━━━━━━━━━━━━━━━━━━━\u001b[0m\u001b[37m\u001b[0m \u001b[1m4s\u001b[0m 28ms/step - accuracy: 0.8275 - loss: 0.5438 - val_accuracy: 0.7635 - val_loss: 0.8575 - learning_rate: 1.0000e-04\n",
      "Epoch 11/100\n",
      "\u001b[1m74/74\u001b[0m \u001b[32m━━━━━━━━━━━━━━━━━━━━\u001b[0m\u001b[37m\u001b[0m \u001b[1m4s\u001b[0m 28ms/step - accuracy: 0.8758 - loss: 0.3869 - val_accuracy: 0.7635 - val_loss: 0.8655 - learning_rate: 5.0000e-05\n",
      "Epoch 12/100\n",
      "\u001b[1m74/74\u001b[0m \u001b[32m━━━━━━━━━━━━━━━━━━━━\u001b[0m\u001b[37m\u001b[0m \u001b[1m4s\u001b[0m 28ms/step - accuracy: 0.8789 - loss: 0.4363 - val_accuracy: 0.7635 - val_loss: 0.8401 - learning_rate: 5.0000e-05\n",
      "Epoch 13/100\n",
      "\u001b[1m74/74\u001b[0m \u001b[32m━━━━━━━━━━━━━━━━━━━━\u001b[0m\u001b[37m\u001b[0m \u001b[1m4s\u001b[0m 28ms/step - accuracy: 0.8841 - loss: 0.3739 - val_accuracy: 0.7635 - val_loss: 0.8727 - learning_rate: 5.0000e-05\n",
      "Epoch 14/100\n",
      "\u001b[1m74/74\u001b[0m \u001b[32m━━━━━━━━━━━━━━━━━━━━\u001b[0m\u001b[37m\u001b[0m \u001b[1m4s\u001b[0m 28ms/step - accuracy: 0.8731 - loss: 0.3791 - val_accuracy: 0.7973 - val_loss: 0.8563 - learning_rate: 5.0000e-05\n",
      "Epoch 15/100\n",
      "\u001b[1m74/74\u001b[0m \u001b[32m━━━━━━━━━━━━━━━━━━━━\u001b[0m\u001b[37m\u001b[0m \u001b[1m4s\u001b[0m 27ms/step - accuracy: 0.8743 - loss: 0.3806 - val_accuracy: 0.7905 - val_loss: 0.7840 - learning_rate: 5.0000e-05\n"
     ]
    },
    {
     "name": "stderr",
     "output_type": "stream",
     "text": [
      "WARNING:absl:You are saving your model as an HDF5 file via `model.save()` or `keras.saving.save_model(model)`. This file format is considered legacy. We recommend using instead the native Keras format, e.g. `model.save('my_model.keras')` or `keras.saving.save_model(model, 'my_model.keras')`. \n"
     ]
    },
    {
     "data": {
      "image/png": "[encoded data removed]",
      "text/plain": [
       "<Figure size 1200x500 with 1 Axes>"
      ]
     },
     "metadata": {},
     "output_type": "display_data"
    },
    {
     "data": {
      "image/png": "[encoded data removed]",
      "text/plain": [
       "<Figure size 1200x500 with 1 Axes>"
      ]
     },
     "metadata": {},
     "output_type": "display_data"
    },
    {
     "name": "stdout",
     "output_type": "stream",
     "text": [
      "Training plot saved to mobilenetV2_rare_species_1.png\n"
     ]
    },
    {
     "data": {
      "text/plain": [
       "<Figure size 640x480 with 0 Axes>"
      ]
     },
     "metadata": {},
     "output_type": "display_data"
    }
   ],
   "source": [
    "if is_mobilenet == 1:\n",
    "    # Load base model without top layer\n",
    "    base_model = MobileNetV2(\n",
    "        input_shape=(224, 224, 3),  # Match your resized image shape\n",
    "        include_top=False,         # Don't include the original classifier\n",
    "        weights='imagenet'         # Use ImageNet-pretrained weights\n",
    "    )\n",
    "\n",
    "    # Define callbacks\n",
    "    my_callbacks = [\n",
    "    callbacks.EarlyStopping(patience=10, restore_best_weights=True),\n",
    "    callbacks.ReduceLROnPlateau(monitor='val_loss', factor=0.5, patience=5),\n",
    "    callbacks.ModelCheckpoint(\"best_model.h5\", save_best_only=True)\n",
    "    ]\n",
    "\n",
    "\n",
    "    #Phase 1: \n",
    "    # Freeze base model so we only train the new layers for now\n",
    "    base_model.trainable = False\n",
    "\n",
    "    # Build custom model\n",
    "    model = models.Sequential([\n",
    "        base_model,                                # Feature extractor\n",
    "        layers.GlobalAveragePooling2D(),           # Pool over spatial dimensions\n",
    "        layers.Dropout(0.5),                       # Regularization layer\n",
    "        layers.Dense(256, activation='relu'),      # Fully connected layer\n",
    "        layers.Dense(num_classes, activation='softmax')      # Output layer (5 mollusk families)\n",
    "    ])\n",
    "\n",
    "    # Compile model\n",
    "    model.compile(\n",
    "        optimizer=optimizers.Adam(learning_rate=1e-4),\n",
    "        loss='sparse_categorical_crossentropy',  # Use sparse version for integer labels\n",
    "        metrics=['accuracy'],\n",
    "    )\n",
    "\n",
    "    # Train the model\n",
    "    history1 = model.fit(\n",
    "        train,\n",
    "        validation_data=val,\n",
    "        callbacks = my_callbacks,\n",
    "        epochs=100,           # Start small, increase if needed\n",
    "        verbose=1\n",
    "    )\n",
    "\n",
    "    #Phase 2:\n",
    "    # Unfreeze everything but the first 100 layers\n",
    "    base_model.trainable = True\n",
    "    for layer in base_model.layers[:100]:\n",
    "        layer.trainable = False\n",
    "\n",
    "    # Compile model\n",
    "    model.compile(\n",
    "        optimizer=optimizers.Adam(learning_rate=1e-4),\n",
    "        loss='sparse_categorical_crossentropy',  # Use sparse version for integer labels\n",
    "        metrics=['accuracy'],\n",
    "    )\n",
    "\n",
    "    # Train the model\n",
    "    history2 = model.fit(\n",
    "        train,\n",
    "        validation_data=val,\n",
    "        callbacks = my_callbacks,\n",
    "        epochs=100,           # Start small, increase if needed\n",
    "        verbose=1\n",
    "    )\n",
    "\n",
    "    # Save the model\n",
    "    model.save(\"mobilenetv2_rare_species_model.h5\")\n",
    "\n",
    "    # Plot training & validation accuracy\n",
    "    plt.figure(figsize=(12, 5))\n",
    "    plt.plot(history2.history['accuracy'])\n",
    "    plt.plot(history2.history['val_accuracy'])\n",
    "    plt.title('Model accuracy')\n",
    "    plt.ylabel('Accuracy')\n",
    "    plt.xlabel('Epoch')\n",
    "    plt.legend(['Train', 'Val'])\n",
    "    plt.show()\n",
    "\n",
    "    '''\n",
    "    #Plot training & validation F1 score\n",
    "    plt.figure(figsize=(12, 5))\n",
    "    plt.plot(history2.history['f1_score'])\n",
    "    plt.plot(history2.history['val_f1_score'])\n",
    "    plt.title('Model F1 Score')\n",
    "    plt.ylabel('F1 Score')\n",
    "    plt.xlabel('Epoch')\n",
    "    plt.legend(['Train', 'Val'])\n",
    "    plt.show()\n",
    "    '''\n",
    "    \n",
    "    #Plot training & validation loss\n",
    "    plt.figure(figsize=(12, 5))\n",
    "    plt.plot(history2.history['loss'])\n",
    "    plt.plot(history2.history['val_loss'])\n",
    "    plt.title('Model Loss')\n",
    "    plt.ylabel('Loss')\n",
    "    plt.xlabel('Epoch')\n",
    "    plt.legend(['Train', 'Val'])\n",
    "    plt.show()\n",
    "\n",
    "\n",
    "    plot_filename = 'mobilenetV2_rare_species_1.png' # Match naming convention\n",
    "    plt.savefig(plot_filename)\n",
    "    print(f\"Training plot saved to {plot_filename}\")"
   ]
  },
  {
   "cell_type": "markdown",
   "metadata": {},
   "source": [
    "# EfficientNetB0"
   ]
  },
  {
   "cell_type": "code",
   "execution_count": 154,
   "metadata": {},
   "outputs": [],
   "source": [
    "if is_efficientnet == 1:\n",
    "    # Load EfficientNetB0 as base model\n",
    "    base_model = EfficientNetB0(\n",
    "        input_shape=(224, 224, 3),\n",
    "        include_top=False,\n",
    "        weights='imagenet'\n",
    "    )\n",
    "\n",
    "    # Freeze base model\n",
    "    base_model.trainable = False\n",
    "\n",
    "    # Build classifier on top\n",
    "    model = models.Sequential([\n",
    "        base_model,                                # Feature extractor\n",
    "        layers.GlobalAveragePooling2D(),           # Pool features\n",
    "        layers.Dropout(0.3),                       # Regularization\n",
    "        layers.Dense(128, activation='relu'),      # Fully connected layer\n",
    "        layers.Dense(num_classes, activation='softmax')  # Output layer\n",
    "    ])\n",
    "\n",
    "    # Compile the model\n",
    "    model.compile(\n",
    "        optimizer=optimizers.Adam(learning_rate=1e-4),\n",
    "        loss='sparse_categorical_crossentropy',\n",
    "        metrics=['accuracy']\n",
    "    )\n",
    "\n",
    "    # Print summary\n",
    "    model.summary()\n",
    "\n",
    "    # Train it\n",
    "    history = model.fit(\n",
    "        train,\n",
    "        validation_data=val,\n",
    "        epochs=100,         # Adjust as needed\n",
    "        verbose=1\n",
    "    )\n",
    "\n",
    "    #Save the model\n",
    "    model.save(\"efficientnet_rare_species_model.h5\")\n",
    "    \n",
    "    plot_filename = 'efficientnet_rare_species_1.png' # Match naming convention\n",
    "    plt.savefig(plot_filename)\n",
    "    print(f\"Training plot saved to {plot_filename}\")\n",
    "\n",
    "    # Plot training & validation accuracy\n",
    "    plt.figure(figsize=(12, 5))\n",
    "    plt.plot(history.history['accuracy'])\n",
    "    plt.plot(history.history['val_accuracy'])\n",
    "    plt.title('Model accuracy')\n",
    "    plt.ylabel('Accuracy')\n",
    "    plt.xlabel('Epoch')\n",
    "    plt.legend(['Train', 'Val'])\n",
    "    plt.show()\n",
    "\n",
    "    #Plot training & validation F1 score\n",
    "    plt.figure(figsize=(12, 5))\n",
    "    plt.plot(history.history['f1_score'])\n",
    "    plt.plot(history.history['val_f1_score'])\n",
    "    plt.title('Model F1 Score')\n",
    "    plt.ylabel('F1 Score')\n",
    "    plt.xlabel('Epoch')\n",
    "    plt.legend(['Train', 'Val'])\n",
    "    plt.show()\n"
   ]
  },
  {
   "cell_type": "markdown",
   "metadata": {},
   "source": [
    "# DenseNet"
   ]
  },
  {
   "cell_type": "code",
   "execution_count": 155,
   "metadata": {},
   "outputs": [],
   "source": [
    "if is_densenet == 1:\n",
    "    base_model = DenseNet121(\n",
    "        input_shape=(224, 224, 3),\n",
    "        include_top=False,\n",
    "        weights='imagenet'\n",
    "    )\n",
    "\n",
    "    base_model.trainable = False\n",
    "\n",
    "    model = models.Sequential([\n",
    "        base_model,\n",
    "        layers.GlobalAveragePooling2D(),\n",
    "        layers.Dropout(0.3),\n",
    "        layers.Dense(128, activation='relu'),\n",
    "        layers.Dense(num_classes, activation='softmax')\n",
    "    ])\n",
    "\n",
    "    model.compile(\n",
    "        optimizer=optimizers.Adam(learning_rate=1e-4),\n",
    "        loss='sparse_categorical_crossentropy',\n",
    "        metrics=['accuracy']\n",
    "    )\n",
    "\n",
    "    model.summary()\n",
    "\n",
    "    history = model.fit(\n",
    "        train,\n",
    "        validation_data=val,\n",
    "        epochs=100,\n",
    "        verbose=1\n",
    "    )\n",
    "\n",
    "    # Save the model\n",
    "    model.save(\"densenet_rare_species_model.h5\")\n",
    "\n",
    "    plot_filename = 'densenet_rare_species_1.png' # Match naming convention\n",
    "    plt.savefig(plot_filename)\n",
    "    print(f\"Training plot saved to {plot_filename}\")\n",
    "\n",
    "    # Plot training & validation accuracy\n",
    "    plt.figure(figsize=(12, 5))\n",
    "    plt.plot(history.history['accuracy'])\n",
    "    plt.plot(history.history['val_accuracy'])\n",
    "    plt.title('Model accuracy')\n",
    "    plt.ylabel('Accuracy')\n",
    "    plt.xlabel('Epoch')\n",
    "    plt.legend(['Train', 'Val'])\n",
    "    plt.show()\n",
    "\n",
    "    #Plot training & validation F1 score\n",
    "    plt.figure(figsize=(12, 5))\n",
    "    plt.plot(history.history['f1_score'])\n",
    "    plt.plot(history.history['val_f1_score'])\n",
    "    plt.title('Model F1 Score')\n",
    "    plt.ylabel('F1 Score')\n",
    "    plt.xlabel('Epoch')\n",
    "    plt.legend(['Train', 'Val'])\n",
    "    plt.show()"
   ]
  },
  {
   "cell_type": "markdown",
   "metadata": {},
   "source": [
    "# InceptionV3"
   ]
  },
  {
   "cell_type": "code",
   "execution_count": 156,
   "metadata": {},
   "outputs": [],
   "source": [
    "if is_inception == 1:\n",
    "    base_model = InceptionV3(\n",
    "        input_shape=(224, 224, 3),\n",
    "        include_top=False,\n",
    "        weights='imagenet'\n",
    "    )\n",
    "\n",
    "    base_model.trainable = False\n",
    "\n",
    "    model = models.Sequential([\n",
    "        base_model,\n",
    "        layers.GlobalAveragePooling2D(),\n",
    "        layers.Dropout(0.3),\n",
    "        layers.Dense(128, activation='relu'),\n",
    "        layers.Dense(num_classes, activation='softmax')\n",
    "    ])\n",
    "\n",
    "    model.compile(\n",
    "        optimizer=optimizers.Adam(learning_rate=1e-4),\n",
    "        loss='sparse_categorical_crossentropy',\n",
    "        metrics=['accuracy']\n",
    "    )\n",
    "\n",
    "    model.summary()\n",
    "\n",
    "    history = model.fit(\n",
    "        train,\n",
    "        validation_data=val,\n",
    "        epochs=100,\n",
    "        verbose=1\n",
    "    )\n",
    "\n",
    "    #Save the model\n",
    "    model.save(\"inception_rare_species_model.h5\")\n",
    "\n",
    "    plot_filename = 'inceptionV3_rare_species_1.png' # Match naming convention\n",
    "    plt.savefig(plot_filename)\n",
    "    print(f\"Training plot saved to {plot_filename}\")\n",
    "\n",
    "    # Plot training & validation accuracy\n",
    "    plt.figure(figsize=(12, 5))\n",
    "    plt.plot(history.history['accuracy'])\n",
    "    plt.plot(history.history['val_accuracy'])\n",
    "    plt.title('Model accuracy')\n",
    "    plt.ylabel('Accuracy')\n",
    "    plt.xlabel('Epoch')\n",
    "    plt.legend(['Train', 'Val'])\n",
    "    plt.show()\n",
    "\n",
    "    #Plot training & validation F1 score\n",
    "    plt.figure(figsize=(12, 5))\n",
    "    plt.plot(history.history['f1_score'])\n",
    "    plt.plot(history.history['val_f1_score'])\n",
    "    plt.title('Model F1 Score')\n",
    "    plt.ylabel('F1 Score')\n",
    "    plt.xlabel('Epoch')\n",
    "    plt.legend(['Train', 'Val'])\n",
    "    plt.show()"
   ]
  },
  {
   "cell_type": "markdown",
   "metadata": {},
   "source": [
    "# Convnext"
   ]
  },
  {
   "cell_type": "code",
   "execution_count": 157,
   "metadata": {},
   "outputs": [],
   "source": [
    "if is_convnext == 1:\n",
    "    base_model = tf.keras.Sequential([\n",
    "        hub.KerasLayer(\n",
    "            \"https://tfhub.dev/sayakpaul/convnext_tiny_1k_224/1\",\n",
    "            trainable=False,\n",
    "            input_shape=(224, 224, 3)\n",
    "        )\n",
    "    ])\n",
    "\n",
    "    model = models.Sequential([\n",
    "        base_model,\n",
    "        layers.GlobalAveragePooling2D(),\n",
    "        layers.Dropout(0.3),\n",
    "        layers.Dense(128, activation='relu'),\n",
    "        layers.Dense(num_classes, activation='softmax')\n",
    "    ])\n",
    "\n",
    "    model.compile(\n",
    "        optimizer=optimizers.Adam(learning_rate=1e-4),\n",
    "        loss='sparse_categorical_crossentropy',\n",
    "        metrics=['accuracy']\n",
    "    )\n",
    "\n",
    "    model.summary()\n",
    "\n",
    "    history = model.fit(\n",
    "        train,\n",
    "        validation_data=val,\n",
    "        epochs=100,\n",
    "        verbose=1)\n",
    "    \n",
    "    #Save the model\n",
    "    model.save(\"convnext_rare_species_model.h5\")\n",
    "\n",
    "    plot_filename = 'convnext_rare_species_1.png' # Match naming convention\n",
    "    plt.savefig(plot_filename)\n",
    "    print(f\"Training plot saved to {plot_filename}\")\n",
    "\n",
    "    # Plot training & validation accuracy\n",
    "    plt.figure(figsize=(12, 5))\n",
    "    plt.plot(history.history['accuracy'])\n",
    "    plt.plot(history.history['val_accuracy'])\n",
    "    plt.title('Model accuracy')\n",
    "    plt.ylabel('Accuracy')\n",
    "    plt.xlabel('Epoch')\n",
    "    plt.legend(['Train', 'Val'])\n",
    "    plt.show()\n",
    "\n",
    "    #Plot training & validation F1 score\n",
    "    plt.figure(figsize=(12, 5))\n",
    "    plt.plot(history.history['f1_score'])\n",
    "    plt.plot(history.history['val_f1_score'])\n",
    "    plt.title('Model F1 Score')\n",
    "    plt.ylabel('F1 Score')\n",
    "    plt.xlabel('Epoch')\n",
    "    plt.legend(['Train', 'Val'])\n",
    "    plt.show()"
   ]
  }
 ],
 "metadata": {
  "kernelspec": {
   "display_name": "Python (tf_wsl_env)",
   "language": "python",
   "name": "tf_wsl_env"
  },
  "language_info": {
   "codemirror_mode": {
    "name": "ipython",
    "version": 3
   },
   "file_extension": ".py",
   "mimetype": "text/x-python",
   "name": "python",
   "nbconvert_exporter": "python",
   "pygments_lexer": "ipython3",
   "version": "3.12.3"
  }
 },
 "nbformat": 4,
 "nbformat_minor": 2
}
