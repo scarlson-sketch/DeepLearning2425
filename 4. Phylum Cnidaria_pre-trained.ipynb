{
 "cells": [
  {
   "cell_type": "markdown",
   "metadata": {},
   "source": [
    "## **<h3 align=\"center\"> Deep Learning - Project </h3>**\n",
    "# **<h3 align=\"center\"> Phylum Cnidaria - Tim </h3>**\n",
    "**Group 4 members:**<br>\n",
    "Alexandra Pinto - 20211599@novaims.unl.pt - 20211599<br>\n",
    "Steven Carlson - 20240554@novaims.unl.pt - 20240554<br>\n",
    "Sven Goerdes - 20240503@novaims.unl.pt - 20240503<br>\n",
    "Tim Straub - 20240505@novaims.unl.pt - 20240505<br>\n",
    "Zofia Wojcik  - 20240654@novaims.unl.pt - 20240654<br>"
   ]
  },
  {
   "cell_type": "markdown",
   "metadata": {},
   "source": [
    "# Table of Contents\n",
    "* [1. Introduction](#intro)\n",
    "* [2. Setup](#setup)\n",
    "* [3. Data Loading](#dataloading)\n",
    "* [4. Image Preprocessing](#imagepreprocessing)\n",
    "* [5. Neural Networks Models](#nnmodels)\n",
    "\n"
   ]
  },
  {
   "cell_type": "markdown",
   "metadata": {},
   "source": [
    "# 1. Introduction <a class=\"anchor\" id=\"intro\"></a>\n",
    "\n",
    "In this third notebook, we will preprocess images from the **Chordata** phylum and develop a deep learning model to accurately classify them at the family level."
   ]
  },
  {
   "cell_type": "markdown",
   "metadata": {},
   "source": [
    "# 2. Setup <a class=\"anchor\" id=\"setup\"></a>\n",
    "In this section, we will import the necessary libraries that will be used throughout the notebook. These libraries will help with data handling and image processing."
   ]
  },
  {
   "cell_type": "code",
   "execution_count": 63,
   "metadata": {},
   "outputs": [],
   "source": [
    "# Standard libraries\n",
    "import pandas as pd\n",
    "import numpy as np\n",
    "import os\n",
    "import matplotlib.pyplot as plt\n",
    "import zipfile\n",
    "import seaborn as sns\n",
    "\n",
    "# Libraries for image processing\n",
    "from glob import glob\n",
    "from PIL import Image\n",
    "\n",
    "from tensorflow.keras.applications import MobileNetV2\n",
    "from tensorflow.keras.applications.mobilenet_v2 import preprocess_input as mobilenet_preprocess\n",
    "from tensorflow.keras import layers, models, optimizers"
   ]
  },
  {
   "cell_type": "code",
   "execution_count": 64,
   "metadata": {},
   "outputs": [
    {
     "name": "stdout",
     "output_type": "stream",
     "text": [
      "Memory growth set for GPUs\n"
     ]
    }
   ],
   "source": [
    "import tensorflow as tf\n",
    "gpus = tf.config.list_physical_devices('GPU')\n",
    "if gpus:\n",
    "    try:\n",
    "        for gpu in gpus:\n",
    "            tf.config.experimental.set_memory_growth(gpu, True)\n",
    "        print(\"Memory growth set for GPUs\")\n",
    "    except RuntimeError as e:\n",
    "        print(e)\n"
   ]
  },
  {
   "cell_type": "markdown",
   "metadata": {},
   "source": [
    "# 3. Data Loading <a class=\"anchor\" id=\"dataloading\"></a>\n",
    "\n",
    "Let's open the train and test for Chordata Phylum."
   ]
  },
  {
   "cell_type": "code",
   "execution_count": 65,
   "metadata": {},
   "outputs": [
    {
     "data": {
      "text/html": [
       "<div>\n",
       "<style scoped>\n",
       "    .dataframe tbody tr th:only-of-type {\n",
       "        vertical-align: middle;\n",
       "    }\n",
       "\n",
       "    .dataframe tbody tr th {\n",
       "        vertical-align: top;\n",
       "    }\n",
       "\n",
       "    .dataframe thead th {\n",
       "        text-align: right;\n",
       "    }\n",
       "</style>\n",
       "<table border=\"1\" class=\"dataframe\">\n",
       "  <thead>\n",
       "    <tr style=\"text-align: right;\">\n",
       "      <th></th>\n",
       "      <th>eol_content_id</th>\n",
       "      <th>eol_page_id</th>\n",
       "      <th>kingdom</th>\n",
       "      <th>phylum</th>\n",
       "      <th>family</th>\n",
       "      <th>file_path</th>\n",
       "      <th>resized_image</th>\n",
       "      <th>clahe_image</th>\n",
       "      <th>noBackground_image</th>\n",
       "      <th>has_black_background</th>\n",
       "      <th>mixed_image</th>\n",
       "    </tr>\n",
       "  </thead>\n",
       "  <tbody>\n",
       "    <tr>\n",
       "      <th>0</th>\n",
       "      <td>28219388</td>\n",
       "      <td>45276311</td>\n",
       "      <td>animalia</td>\n",
       "      <td>cnidaria</td>\n",
       "      <td>acroporidae</td>\n",
       "      <td>cnidaria_acroporidae/28219388_45276311_eol-ful...</td>\n",
       "      <td>[[[76, 74, 71], [73, 70, 71], [74, 71, 72], [7...</td>\n",
       "      <td>[[[72, 70, 67], [57, 53, 54], [58, 56, 57], [8...</td>\n",
       "      <td>[[[0, 0, 0], [0, 0, 0], [0, 0, 0], [0, 0, 0], ...</td>\n",
       "      <td>False</td>\n",
       "      <td>[[[0, 0, 0], [0, 0, 0], [0, 0, 0], [0, 0, 0], ...</td>\n",
       "    </tr>\n",
       "    <tr>\n",
       "      <th>1</th>\n",
       "      <td>29729570</td>\n",
       "      <td>45276321</td>\n",
       "      <td>animalia</td>\n",
       "      <td>cnidaria</td>\n",
       "      <td>acroporidae</td>\n",
       "      <td>cnidaria_acroporidae/29729570_45276321_eol-ful...</td>\n",
       "      <td>[[[202, 202, 170], [195, 186, 156], [209, 197,...</td>\n",
       "      <td>[[[157, 157, 126], [135, 128, 100], [158, 149,...</td>\n",
       "      <td>[[[0, 0, 0], [0, 0, 0], [0, 0, 0], [0, 0, 0], ...</td>\n",
       "      <td>False</td>\n",
       "      <td>[[[0, 0, 0], [0, 0, 0], [0, 0, 0], [0, 0, 0], ...</td>\n",
       "    </tr>\n",
       "    <tr>\n",
       "      <th>2</th>\n",
       "      <td>20332243</td>\n",
       "      <td>46545536</td>\n",
       "      <td>animalia</td>\n",
       "      <td>cnidaria</td>\n",
       "      <td>lobophylliidae</td>\n",
       "      <td>cnidaria_lobophylliidae/20332243_46545536_eol-...</td>\n",
       "      <td>[[[8, 159, 90], [9, 183, 111], [2, 212, 128], ...</td>\n",
       "      <td>[[[0, 78, 19], [0, 113, 49], [0, 185, 103], [0...</td>\n",
       "      <td>[[[0, 0, 0], [0, 0, 0], [0, 0, 0], [0, 0, 0], ...</td>\n",
       "      <td>False</td>\n",
       "      <td>[[[0, 0, 0], [0, 0, 0], [0, 0, 0], [0, 0, 0], ...</td>\n",
       "    </tr>\n",
       "  </tbody>\n",
       "</table>\n",
       "</div>"
      ],
      "text/plain": [
       "   eol_content_id  eol_page_id   kingdom    phylum          family  \\\n",
       "0        28219388     45276311  animalia  cnidaria     acroporidae   \n",
       "1        29729570     45276321  animalia  cnidaria     acroporidae   \n",
       "2        20332243     46545536  animalia  cnidaria  lobophylliidae   \n",
       "\n",
       "                                           file_path  \\\n",
       "0  cnidaria_acroporidae/28219388_45276311_eol-ful...   \n",
       "1  cnidaria_acroporidae/29729570_45276321_eol-ful...   \n",
       "2  cnidaria_lobophylliidae/20332243_46545536_eol-...   \n",
       "\n",
       "                                       resized_image  \\\n",
       "0  [[[76, 74, 71], [73, 70, 71], [74, 71, 72], [7...   \n",
       "1  [[[202, 202, 170], [195, 186, 156], [209, 197,...   \n",
       "2  [[[8, 159, 90], [9, 183, 111], [2, 212, 128], ...   \n",
       "\n",
       "                                         clahe_image  \\\n",
       "0  [[[72, 70, 67], [57, 53, 54], [58, 56, 57], [8...   \n",
       "1  [[[157, 157, 126], [135, 128, 100], [158, 149,...   \n",
       "2  [[[0, 78, 19], [0, 113, 49], [0, 185, 103], [0...   \n",
       "\n",
       "                                  noBackground_image  has_black_background  \\\n",
       "0  [[[0, 0, 0], [0, 0, 0], [0, 0, 0], [0, 0, 0], ...                 False   \n",
       "1  [[[0, 0, 0], [0, 0, 0], [0, 0, 0], [0, 0, 0], ...                 False   \n",
       "2  [[[0, 0, 0], [0, 0, 0], [0, 0, 0], [0, 0, 0], ...                 False   \n",
       "\n",
       "                                         mixed_image  \n",
       "0  [[[0, 0, 0], [0, 0, 0], [0, 0, 0], [0, 0, 0], ...  \n",
       "1  [[[0, 0, 0], [0, 0, 0], [0, 0, 0], [0, 0, 0], ...  \n",
       "2  [[[0, 0, 0], [0, 0, 0], [0, 0, 0], [0, 0, 0], ...  "
      ]
     },
     "execution_count": 65,
     "metadata": {},
     "output_type": "execute_result"
    }
   ],
   "source": [
    "# Load the DataFrame from the CSV file\n",
    "cnidaria_train = pd.read_pickle(\"train_test_splits/cnidaria_train_processed.pkl\")\n",
    "cnidaria_train.head(3)"
   ]
  },
  {
   "cell_type": "code",
   "execution_count": 66,
   "metadata": {},
   "outputs": [
    {
     "data": {
      "text/html": [
       "<div>\n",
       "<style scoped>\n",
       "    .dataframe tbody tr th:only-of-type {\n",
       "        vertical-align: middle;\n",
       "    }\n",
       "\n",
       "    .dataframe tbody tr th {\n",
       "        vertical-align: top;\n",
       "    }\n",
       "\n",
       "    .dataframe thead th {\n",
       "        text-align: right;\n",
       "    }\n",
       "</style>\n",
       "<table border=\"1\" class=\"dataframe\">\n",
       "  <thead>\n",
       "    <tr style=\"text-align: right;\">\n",
       "      <th></th>\n",
       "      <th>eol_content_id</th>\n",
       "      <th>eol_page_id</th>\n",
       "      <th>kingdom</th>\n",
       "      <th>phylum</th>\n",
       "      <th>family</th>\n",
       "      <th>file_path</th>\n",
       "      <th>resized_image</th>\n",
       "      <th>clahe_image</th>\n",
       "      <th>noBackground_image</th>\n",
       "      <th>has_black_background</th>\n",
       "      <th>mixed_image</th>\n",
       "    </tr>\n",
       "  </thead>\n",
       "  <tbody>\n",
       "    <tr>\n",
       "      <th>0</th>\n",
       "      <td>21699228</td>\n",
       "      <td>45276518</td>\n",
       "      <td>animalia</td>\n",
       "      <td>cnidaria</td>\n",
       "      <td>agariciidae</td>\n",
       "      <td>cnidaria_agariciidae/21699228_45276518_eol-ful...</td>\n",
       "      <td>[[[81, 148, 190], [83, 150, 192], [84, 151, 19...</td>\n",
       "      <td>[[[85, 152, 193], [94, 160, 202], [94, 160, 20...</td>\n",
       "      <td>[[[0, 0, 0], [0, 0, 0], [0, 0, 0], [0, 0, 0], ...</td>\n",
       "      <td>True</td>\n",
       "      <td>[[[85, 152, 193], [94, 160, 202], [94, 160, 20...</td>\n",
       "    </tr>\n",
       "    <tr>\n",
       "      <th>1</th>\n",
       "      <td>2746810</td>\n",
       "      <td>45276959</td>\n",
       "      <td>animalia</td>\n",
       "      <td>cnidaria</td>\n",
       "      <td>siderastreidae</td>\n",
       "      <td>cnidaria_siderastreidae/2746810_45276959_eol-f...</td>\n",
       "      <td>[[[192, 220, 224], [193, 221, 225], [193, 221,...</td>\n",
       "      <td>[[[122, 147, 151], [124, 149, 153], [124, 149,...</td>\n",
       "      <td>[[[0, 0, 0], [0, 0, 0], [0, 0, 0], [0, 0, 0], ...</td>\n",
       "      <td>False</td>\n",
       "      <td>[[[0, 0, 0], [0, 0, 0], [0, 0, 0], [0, 0, 0], ...</td>\n",
       "    </tr>\n",
       "    <tr>\n",
       "      <th>2</th>\n",
       "      <td>29729172</td>\n",
       "      <td>45276583</td>\n",
       "      <td>animalia</td>\n",
       "      <td>cnidaria</td>\n",
       "      <td>fungiidae</td>\n",
       "      <td>cnidaria_fungiidae/29729172_45276583_eol-full-...</td>\n",
       "      <td>[[[128, 147, 84], [49, 62, 51], [50, 61, 71], ...</td>\n",
       "      <td>[[[183, 203, 137], [12, 25, 14], [15, 27, 36],...</td>\n",
       "      <td>[[[0, 0, 0], [0, 0, 0], [0, 0, 0], [0, 0, 0], ...</td>\n",
       "      <td>False</td>\n",
       "      <td>[[[0, 0, 0], [0, 0, 0], [0, 0, 0], [0, 0, 0], ...</td>\n",
       "    </tr>\n",
       "  </tbody>\n",
       "</table>\n",
       "</div>"
      ],
      "text/plain": [
       "   eol_content_id  eol_page_id   kingdom    phylum          family  \\\n",
       "0        21699228     45276518  animalia  cnidaria     agariciidae   \n",
       "1         2746810     45276959  animalia  cnidaria  siderastreidae   \n",
       "2        29729172     45276583  animalia  cnidaria       fungiidae   \n",
       "\n",
       "                                           file_path  \\\n",
       "0  cnidaria_agariciidae/21699228_45276518_eol-ful...   \n",
       "1  cnidaria_siderastreidae/2746810_45276959_eol-f...   \n",
       "2  cnidaria_fungiidae/29729172_45276583_eol-full-...   \n",
       "\n",
       "                                       resized_image  \\\n",
       "0  [[[81, 148, 190], [83, 150, 192], [84, 151, 19...   \n",
       "1  [[[192, 220, 224], [193, 221, 225], [193, 221,...   \n",
       "2  [[[128, 147, 84], [49, 62, 51], [50, 61, 71], ...   \n",
       "\n",
       "                                         clahe_image  \\\n",
       "0  [[[85, 152, 193], [94, 160, 202], [94, 160, 20...   \n",
       "1  [[[122, 147, 151], [124, 149, 153], [124, 149,...   \n",
       "2  [[[183, 203, 137], [12, 25, 14], [15, 27, 36],...   \n",
       "\n",
       "                                  noBackground_image  has_black_background  \\\n",
       "0  [[[0, 0, 0], [0, 0, 0], [0, 0, 0], [0, 0, 0], ...                  True   \n",
       "1  [[[0, 0, 0], [0, 0, 0], [0, 0, 0], [0, 0, 0], ...                 False   \n",
       "2  [[[0, 0, 0], [0, 0, 0], [0, 0, 0], [0, 0, 0], ...                 False   \n",
       "\n",
       "                                         mixed_image  \n",
       "0  [[[85, 152, 193], [94, 160, 202], [94, 160, 20...  \n",
       "1  [[[0, 0, 0], [0, 0, 0], [0, 0, 0], [0, 0, 0], ...  \n",
       "2  [[[0, 0, 0], [0, 0, 0], [0, 0, 0], [0, 0, 0], ...  "
      ]
     },
     "execution_count": 66,
     "metadata": {},
     "output_type": "execute_result"
    }
   ],
   "source": [
    "# Load the DataFrame from the CSV file\n",
    "cnidaria_test = pd.read_pickle(\"train_test_splits/cnidaria_test_processed.pkl\")\n",
    "cnidaria_test.head(3)"
   ]
  },
  {
   "cell_type": "code",
   "execution_count": 67,
   "metadata": {},
   "outputs": [
    {
     "data": {
      "text/plain": [
       "((647, 11), (162, 11))"
      ]
     },
     "execution_count": 67,
     "metadata": {},
     "output_type": "execute_result"
    }
   ],
   "source": [
    "cnidaria_train.shape, cnidaria_test.shape"
   ]
  },
  {
   "cell_type": "code",
   "execution_count": 68,
   "metadata": {},
   "outputs": [
    {
     "data": {
      "text/plain": [
       "family\n",
       "acroporidae         168\n",
       "agariciidae          95\n",
       "euphylliidae         72\n",
       "faviidae             48\n",
       "merulinidae          48\n",
       "pocilloporidae       48\n",
       "helioporidae         24\n",
       "lobophylliidae       24\n",
       "dendrophylliidae     24\n",
       "siderastreidae       24\n",
       "fungiidae            24\n",
       "diploastraeidae      24\n",
       "meandrinidae         24\n",
       "Name: count, dtype: int64"
      ]
     },
     "execution_count": 68,
     "metadata": {},
     "output_type": "execute_result"
    }
   ],
   "source": [
    "cnidaria_train['family'].value_counts()"
   ]
  },
  {
   "cell_type": "code",
   "execution_count": 69,
   "metadata": {},
   "outputs": [
    {
     "data": {
      "text/plain": [
       "13"
      ]
     },
     "execution_count": 69,
     "metadata": {},
     "output_type": "execute_result"
    }
   ],
   "source": [
    "cnidaria_train[\"family\"].nunique()"
   ]
  },
  {
   "cell_type": "code",
   "execution_count": 70,
   "metadata": {},
   "outputs": [
    {
     "name": "stdout",
     "output_type": "stream",
     "text": [
      "X_train shape: (647, 224, 224, 3)\n",
      "X_test shape:  (162, 224, 224, 3)\n"
     ]
    }
   ],
   "source": [
    "# 1) Build the label→index map from the train families\n",
    "label_to_index = {\n",
    "    label: idx \n",
    "    for idx, label in enumerate(sorted(cnidaria_train[\"family\"].unique()))\n",
    "}\n",
    "\n",
    "# 2) Convert DataFrame columns to NumPy arrays\n",
    "X_train = np.stack(cnidaria_train[\"clahe_image\"].values).astype(\"float32\") / 255.0\n",
    "y_train = np.array([label_to_index[label] for label in cnidaria_train[\"family\"]])\n",
    "\n",
    "X_test  = np.stack(cnidaria_test[\"clahe_image\"].values).astype(\"float32\") / 255.0\n",
    "y_test  = np.array([label_to_index[label] for label in cnidaria_test[\"family\"]])\n",
    "\n",
    "print(\"X_train shape:\", X_train.shape)  # (num_train_samples, 224, 224, 3)\n",
    "print(\"X_test shape: \", X_test.shape)   # (num_test_samples, 224, 224, 3)\n",
    "\n",
    "# 3) Create TensorFlow Datasets (no validation split)\n",
    "batch_size = 8\n",
    "AUTOTUNE   = tf.data.AUTOTUNE\n",
    "\n",
    "train_ds = (\n",
    "    tf.data.Dataset.from_tensor_slices((X_train, y_train))\n",
    "    .shuffle(buffer_size=len(X_train), seed=42)\n",
    "    .batch(batch_size)\n",
    "    .prefetch(AUTOTUNE)\n",
    ")\n",
    "\n",
    "test_ds = (\n",
    "    tf.data.Dataset.from_tensor_slices((X_test, y_test))\n",
    "    .batch(batch_size)\n",
    "    .prefetch(AUTOTUNE)\n",
    ")"
   ]
  },
  {
   "cell_type": "code",
   "execution_count": 71,
   "metadata": {},
   "outputs": [],
   "source": [
    "# import numpy as np\n",
    "# import tensorflow as tf\n",
    "# import pandas as pd\n",
    "# from sklearn.model_selection import train_test_split\n",
    "\n",
    "# # --- Assume your DataFrame columns are already set ---\n",
    "# # cnidaria_train contains:\n",
    "# #   - \"noBackground_image\": preprocessed image arrays (shape [224,224,3] for each)\n",
    "# #   - \"family\": the family label as a string\n",
    "# # And label_to_index and label_names are already defined.\n",
    "\n",
    "# def\n",
    "\n",
    "# # Convert the \"noBackground_image\" column to a stacked NumPy array for training and test images:\n",
    "# X_train = np.stack(cnidaria_train[\"noBackground_image\"].values)\n",
    "# y_train = np.array([label_to_index[label] for label in cnidaria_train[\"family\"]])\n",
    "\n",
    "# X_test  = np.stack(cnidaria_test[\"noBackground_image\"].values)\n",
    "# y_test  = np.array([label_to_index[label] for label in cnidaria_test[\"family\"]])\n",
    "\n",
    "# print(\"X_train shape:\", X_train.shape)  # Should be (num_samples, 224, 224, 3)\n",
    "# print(\"X_test shape:\", X_test.shape)\n",
    "\n",
    "# # --- Split Training Data into Train and Validation Sets (80/20 split) ---\n",
    "# X_tr, X_val, y_tr, y_val = train_test_split(X_train, y_train, test_size=0.2, random_state=42)\n",
    "\n",
    "# print(\"Training set size:\", X_tr.shape[0])\n",
    "# print(\"Validation set size:\", X_val.shape[0])\n",
    "\n",
    "# # --- Create TensorFlow Datasets from the NumPy Arrays ---\n",
    "\n",
    "# # For training dataset:\n",
    "# train_ds = tf.data.Dataset.from_tensor_slices((X_tr, y_tr))\n",
    "# train_ds = train_ds.shuffle(buffer_size=len(X_tr), seed=42)\n",
    "# train_ds = train_ds.batch(8).prefetch(tf.data.AUTOTUNE)\n",
    "\n",
    "# # For validation dataset:\n",
    "# val_ds = tf.data.Dataset.from_tensor_slices((X_val, y_val))\n",
    "# val_ds = val_ds.batch(8).prefetch(tf.data.AUTOTUNE)\n",
    "\n",
    "# # For test dataset:\n",
    "# test_ds = tf.data.Dataset.from_tensor_slices((X_test, y_test))\n",
    "# test_ds = test_ds.batch(8).prefetch(tf.data.AUTOTUNE)\n",
    "\n",
    "\n"
   ]
  },
  {
   "cell_type": "markdown",
   "metadata": {},
   "source": [
    "# 4. Image Preprocessing <a class=\"anchor\" id=\"imagepreprocessing\"></a>"
   ]
  },
  {
   "cell_type": "markdown",
   "metadata": {},
   "source": [
    "## 4.2 Advanced Preprocessing"
   ]
  },
  {
   "cell_type": "code",
   "execution_count": 72,
   "metadata": {},
   "outputs": [],
   "source": [
    "#Define model shape\n",
    "num_classes = cnidaria_train['family'].nunique() #number of classes = number of families\n",
    "batch_size = 32\n",
    "input_shape = (224, 224, 3)\n",
    "image_size = (224, 224)\n",
    "value_range = (0.0, 1.0)"
   ]
  },
  {
   "cell_type": "markdown",
   "metadata": {},
   "source": [
    "### Augmentation"
   ]
  },
  {
   "cell_type": "code",
   "execution_count": 73,
   "metadata": {},
   "outputs": [],
   "source": [
    "#Function to augment the images\n",
    "def augment_image(image, label):\n",
    "\n",
    "    #Randomly change brightness\n",
    "    image = tf.image.random_brightness(image, max_delta=0.2)\n",
    "\n",
    "    #Apply geometric augmentations\n",
    "    image = geometric_augmentation_layers(image, training=True) # Apply geometric augmentations\n",
    "    image = tf.clip_by_value(image, 0.0, 1.0)\n",
    "    \n",
    "    return image, label\n",
    "\n",
    "\n",
    "# Geometric augmentations\n",
    "geometric_augmentation_layers = tf.keras.Sequential(\n",
    "    [\n",
    "        # Randomly flip horizontally\n",
    "        tf.keras.layers.RandomFlip(\"horizontal\"),\n",
    "\n",
    "        # Randomly rotate\n",
    "        tf.keras.layers.RandomRotation(factor=0.12),\n",
    "\n",
    "        # Random zoom\n",
    "        tf.keras.layers.RandomZoom(height_factor=(-0.35, 0.35), # Corresponds to [0.8, 1.2] of original height\n",
    "                                   width_factor=(-0.35, 0.35)), # Corresponds to [0.8, 1.2] of original width\n",
    "\n",
    "        # Random shift\n",
    "        tf.keras.layers.RandomTranslation(height_factor=0.20,\n",
    "                                          width_factor=0.20),\n",
    "\n",
    "        # Contrast\n",
    "        tf.keras.layers.RandomContrast(factor=0.25),\n",
    "\n",
    "    ],\n",
    "    name=\"geometric_augmentations\",\n",
    ")"
   ]
  },
  {
   "cell_type": "markdown",
   "metadata": {},
   "source": [
    "### CLAHE: Contrast Limited Adaptive Histogram Equalization  <a class=\"anchor\" id=\"clahe\"></a>\n",
    "\n",
    "CLAHE improves local contrast by equalizing pixel values in small regions of the image. Ideal for biological datasets where detail visibility is key.\n",
    "Studies:\n",
    "- https://www.sciencedirect.com/science/article/pii/S2212440323001177\n",
    "- https://arxiv.org/abs/2003.10822"
   ]
  },
  {
   "cell_type": "code",
   "execution_count": 74,
   "metadata": {},
   "outputs": [],
   "source": [
    "# import cv2\n",
    "\n",
    "# def process_image_with_clahe(image_path, size=(224, 224)):\n",
    "#     \"\"\"\n",
    "#     Loads an image, resizes it, and applies CLAHE.\n",
    "#     Returns the resized image and the CLAHE-enhanced version.\n",
    "#     \"\"\"\n",
    "#     try:\n",
    "#         img = cv2.imread(image_path)\n",
    "#         if img is None:\n",
    "#             print(f\"❌ Failed to load: {image_path}\")\n",
    "#             return None, None\n",
    "\n",
    "#         # Convert to RGB\n",
    "#         img_rgb = cv2.cvtColor(img, cv2.COLOR_BGR2RGB)\n",
    "\n",
    "#         # Resize\n",
    "#         resized_img = cv2.resize(img_rgb, size, interpolation=cv2.INTER_AREA)\n",
    "\n",
    "#         # Convert to LAB and apply CLAHE\n",
    "#         lab = cv2.cvtColor(resized_img, cv2.COLOR_RGB2LAB)\n",
    "#         l, a, b = cv2.split(lab)\n",
    "#         clahe = cv2.createCLAHE(clipLimit=5.0, tileGridSize=(8, 8))\n",
    "#         l_clahe = clahe.apply(l)\n",
    "#         lab_clahe = cv2.merge((l_clahe, a, b))\n",
    "#         img_clahe = cv2.cvtColor(lab_clahe, cv2.COLOR_LAB2RGB)\n",
    "\n",
    "#         return resized_img, img_clahe\n",
    "\n",
    "#     except Exception as e:\n",
    "#         print(f\"⚠️ Error processing {image_path}: {e}\")\n",
    "#         return None, None\n"
   ]
  },
  {
   "cell_type": "code",
   "execution_count": 75,
   "metadata": {},
   "outputs": [],
   "source": [
    "# chordata_train[[\"resized_image\", \"image_clahe\"]] = chordata_train[\"file_path\"].progress_apply(\n",
    "#     lambda path: pd.Series(process_image_with_clahe(os.path.join(image_folder, path)))\n",
    "# )"
   ]
  },
  {
   "cell_type": "code",
   "execution_count": 76,
   "metadata": {},
   "outputs": [],
   "source": [
    "# chordata_train.shape"
   ]
  },
  {
   "cell_type": "markdown",
   "metadata": {},
   "source": [
    "Let's display the images to check if its working."
   ]
  },
  {
   "cell_type": "code",
   "execution_count": 77,
   "metadata": {},
   "outputs": [],
   "source": [
    "# def show_random_image_triplets(df, image_folder=\"rare_species\", baseline_column=\"resized_image\", clahe_column=\"image_clahe\", num_samples=10):\n",
    "#     \"\"\"\n",
    "#     Displays random triplets of original, baseline preprocessed, and CLAHE-enhanced images.\n",
    "\n",
    "#     Args:\n",
    "#         df (pd.DataFrame): DataFrame with image paths, baseline images, and CLAHE images.\n",
    "#         image_folder (str): Folder containing the original images.\n",
    "#         baseline_column (str): Column with preprocessed baseline images.\n",
    "#         clahe_column (str): Column with CLAHE-enhanced images.\n",
    "#         num_samples (int): Number of samples to display.\n",
    "#     \"\"\"\n",
    "#     sample_df = df.sample(n=num_samples).reset_index(drop=True)\n",
    "\n",
    "#     # Set up the plot (3 columns: Original, Baseline, CLAHE)\n",
    "#     fig, axes = plt.subplots(num_samples, 3, figsize=(12, 4 * num_samples))\n",
    "#     if num_samples == 1:\n",
    "#         axes = [axes]  # Make it iterable\n",
    "\n",
    "#     for i in range(num_samples):\n",
    "#         row = sample_df.loc[i]\n",
    "#         file_path = os.path.join(image_folder, row[\"file_path\"])\n",
    "\n",
    "#         try:\n",
    "#             # Load original from file\n",
    "#             original_img = Image.open(file_path).convert(\"RGB\")\n",
    "#             baseline_img = row[baseline_column]\n",
    "#             clahe_img = row[clahe_column]\n",
    "\n",
    "#             if baseline_img is None or clahe_img is None:\n",
    "#                 raise ValueError(\"Missing image in baseline or CLAHE\")\n",
    "\n",
    "#             # Original\n",
    "#             axes[i][0].imshow(original_img)\n",
    "#             axes[i][0].set_title(\"Original Image\")\n",
    "#             axes[i][0].axis(\"off\")\n",
    "\n",
    "#             # Baseline\n",
    "#             axes[i][1].imshow(baseline_img)\n",
    "#             axes[i][1].set_title(\"Baseline Image\")\n",
    "#             axes[i][1].axis(\"off\")\n",
    "\n",
    "#             # CLAHE\n",
    "#             axes[i][2].imshow(clahe_img)\n",
    "#             axes[i][2].set_title(\"CLAHE Image\")\n",
    "#             axes[i][2].axis(\"off\")\n",
    "\n",
    "#         except Exception as e:\n",
    "#             print(f\"❌ Error displaying image {file_path}: {e}\")\n",
    "#             for j in range(3):\n",
    "#                 axes[i][j].axis(\"off\")\n",
    "\n",
    "#     plt.tight_layout()\n",
    "#     plt.show()\n",
    "# # Show random triplets of images\n",
    "# show_random_image_triplets(chordata_train, num_samples=5)\n"
   ]
  },
  {
   "cell_type": "markdown",
   "metadata": {},
   "source": [
    "### Pre-Process Pipeline"
   ]
  },
  {
   "cell_type": "code",
   "execution_count": 78,
   "metadata": {},
   "outputs": [],
   "source": [
    "#Function to preprocess the images\n",
    "def process_image(image, label):\n",
    "    # image = tf.io.read_file(file_path) # Read the image file\n",
    "    # image = tf.image.decode_jpeg(image, channels=3) # Decode the JPEG image\n",
    "    # image = tf.image.resize(image, image_size) # Resize the image to the target size\n",
    "    image = tf.cast(image, tf.float32) / 255.0\n",
    "    \n",
    "    #CHANGE THIS LINE DEPENDING ON WHICH PRE-TRAINED MODEL IS BEING USED\n",
    "    \n",
    "    #image = resnet_preprocess(image)  # Apply ResNet50 preprocessing\n",
    "    image = mobilenet_preprocess(image)  # Apply MobileNetV2 preprocessing\n",
    "    #image = efficientnet_preprocess(image)  # Apply EfficientNetB0 preprocessing\n",
    "    #image = densenet_preprocess(image)  # Apply DenseNet121 preprocessing\n",
    "    #image = inception_preprocess(image)  # Apply InceptionV3 preprocessing\n",
    "    #image = tf.cast(image, tf.float32) / 255.0  # Apply ConvNeXt\n",
    "    return image, label"
   ]
  },
  {
   "cell_type": "code",
   "execution_count": 79,
   "metadata": {},
   "outputs": [],
   "source": [
    "import tensorflow as tf\n",
    "import os\n",
    "\n",
    "# --- 1) Build a raw, unbatched dataset from X_train/y_train ---\n",
    "raw_ds = tf.data.Dataset.from_tensor_slices((X_train, y_train))\n",
    "raw_ds = raw_ds.shuffle(buffer_size=len(X_train), seed=42)\n",
    "\n",
    "# --- 2) Identify minority class indices as int64 to match y_train’s dtype ---\n",
    "minority_threshold   = 24\n",
    "family_counts        = cnidaria_train['family'].value_counts()\n",
    "minority_families    = family_counts[family_counts <= minority_threshold].index\n",
    "minority_indices     = [label_to_index[f] for f in minority_families if f in label_to_index]\n",
    "minority_indices_tf  = tf.constant(minority_indices, dtype=raw_ds.element_spec[1].dtype)\n",
    "\n",
    "# --- 3) Split raw_ds into minority vs. majority (on scalar labels) ---\n",
    "minority_ds = raw_ds.filter(\n",
    "    lambda img, lbl: tf.reduce_any(tf.equal(lbl, minority_indices_tf))\n",
    ")\n",
    "majority_ds = raw_ds.filter(\n",
    "    lambda img, lbl: tf.logical_not(tf.reduce_any(tf.equal(lbl, minority_indices_tf)))\n",
    ")\n",
    "\n",
    "# --- 4) Oversample minority ---\n",
    "oversample_factor = 2\n",
    "minority_ds = minority_ds.repeat(oversample_factor)\n",
    "\n",
    "# --- 5) Re‑combine and reshuffle ---\n",
    "train_ds = majority_ds.concatenate(minority_ds)\n",
    "train_ds = train_ds.shuffle(buffer_size=len(X_train) + len(minority_indices)*oversample_factor, \n",
    "                            reshuffle_each_iteration=True, \n",
    "                            seed=42)\n",
    "\n",
    "# --- 6) Apply your preprocess → augment → batch → prefetch ---\n",
    "train_ds = train_ds.map(process_image, num_parallel_calls=tf.data.AUTOTUNE)\n",
    "train_ds = train_ds.cache()\n",
    "train_ds = train_ds.map(augment_image, num_parallel_calls=tf.data.AUTOTUNE)\n",
    "train_ds = train_ds.batch(8).prefetch(tf.data.AUTOTUNE)\n",
    "\n",
    "# --- 7) Build the test pipeline the same way (no oversampling) ---\n",
    "test_ds = tf.data.Dataset.from_tensor_slices((X_test, y_test))\n",
    "test_ds = test_ds.map(process_image, num_parallel_calls=tf.data.AUTOTUNE)\n",
    "test_ds = test_ds.cache().batch(8).prefetch(tf.data.AUTOTUNE)\n"
   ]
  },
  {
   "cell_type": "code",
   "execution_count": 80,
   "metadata": {},
   "outputs": [],
   "source": [
    "# import os\n",
    "# import numpy as np\n",
    "# import tensorflow as tf\n",
    "# import pandas as pd\n",
    "# from sklearn.model_selection import train_test_split\n",
    "\n",
    "# # Assume that your DataFrame (cnidaria_train and cnidaria_test) is already updated\n",
    "# # with a \"noBackground_image\" column that contains NumPy arrays.\n",
    "# # And that cnidaria_train['family'] contains the family labels.\n",
    "# # Also assume label_to_index mapping and label_names are already defined.\n",
    "\n",
    "# # For training data:\n",
    "# X_train = np.stack(cnidaria_train[\"noBackground_image\"].values)\n",
    "# y_train = np.array([label_to_index[label] for label in cnidaria_train[\"family\"]])\n",
    "\n",
    "# # For test data:\n",
    "# X_test = np.stack(cnidaria_test[\"noBackground_image\"].values)\n",
    "# y_test = np.array([label_to_index[label] for label in cnidaria_test[\"family\"]])\n",
    "\n",
    "# # Split the training data into train and validation sets (80%/20% split)\n",
    "# X_tr, X_val, y_tr, y_val = train_test_split(X_train, y_train, test_size=0.2, random_state=42)\n",
    "\n",
    "# print(\"X_tr shape:\", X_tr.shape)\n",
    "# print(\"X_val shape:\", X_val.shape)\n",
    "# print(\"X_test shape:\", X_test.shape)\n",
    "\n",
    "# # Create TensorFlow datasets from NumPy arrays\n",
    "# train_ds = tf.data.Dataset.from_tensor_slices((X_tr, y_tr))\n",
    "# train_ds = train_ds.shuffle(buffer_size=len(X_tr), seed=42).batch(8).prefetch(tf.data.AUTOTUNE)\n",
    "\n",
    "# val_ds = tf.data.Dataset.from_tensor_slices((X_val, y_val))\n",
    "# val_ds = val_ds.batch(8).prefetch(tf.data.AUTOTUNE)\n",
    "\n",
    "# test_ds = tf.data.Dataset.from_tensor_slices((X_test, y_test))\n",
    "# test_ds = test_ds.batch(8).prefetch(tf.data.AUTOTUNE)"
   ]
  },
  {
   "cell_type": "code",
   "execution_count": 81,
   "metadata": {},
   "outputs": [],
   "source": [
    "# import os\n",
    "# import math\n",
    "# import tensorflow as tf\n",
    "# import pandas as pd\n",
    "\n",
    "# # --- Your existing dataset creation ---\n",
    "# root_dir = \"/root/DeepLearning2425/rare_species\"\n",
    "\n",
    "# # Construct full file paths for train and test DataFrames.\n",
    "# cnidaria_train['full_path'] = cnidaria_train['file_path'].apply(lambda x: os.path.normpath(os.path.join(root_dir, x)))\n",
    "# cnidaria_test['full_path']  = cnidaria_test['file_path'].apply(lambda x: os.path.normpath(os.path.join(root_dir, x)))\n",
    "\n",
    "# file_paths_train = cnidaria_train['full_path'].tolist()\n",
    "# labels_train = cnidaria_train['family'].tolist()\n",
    "\n",
    "# file_paths_test = cnidaria_test['full_path'].tolist()\n",
    "# labels_test = cnidaria_test['family'].tolist()\n",
    "\n",
    "# # Map the labels to integers.\n",
    "# label_names = sorted(set(labels_train))  # Unique family names sorted alphabetically.\n",
    "# label_to_index = {name: i for i, name in enumerate(label_names)}\n",
    "# labels_train = [label_to_index[label] for label in labels_train]\n",
    "# labels_test  = [label_to_index[label] for label in labels_test]\n",
    "\n",
    "# print(\"Sample train paths:\", file_paths_train[:5])\n",
    "# print(\"Sample train labels:\", labels_train[:5])\n",
    "# print(\"Sample test paths:\", file_paths_test[:5])\n",
    "# print(\"Sample test labels:\", labels_test[:5])\n",
    "\n",
    "# # Create the initial dataset.\n",
    "# data = tf.data.Dataset.from_tensor_slices((file_paths_train, labels_train))\n",
    "# data = data.shuffle(buffer_size=len(file_paths_train), reshuffle_each_iteration=False, seed=42)\n",
    "\n",
    "# # --- Split train and validation ---\n",
    "# train_size = int(0.8 * len(file_paths_train))  # 80% for training, 20% for validation\n",
    "# train = data.take(train_size)\n",
    "# val = data.skip(train_size)\n",
    "\n",
    "# # --- Compute label distribution in training set ---\n",
    "# train_labels = []\n",
    "# for _, label in train:\n",
    "#     train_labels.append(label.numpy())\n",
    "# train_labels = pd.Series(train_labels)\n",
    "# train_distribution = train_labels.value_counts().sort_index()\n",
    "# # Map integer index back to family names for display.\n",
    "# train_distribution.index = [label_names[i] for i in train_distribution.index]\n",
    "# print(\"Training set label distribution:\")\n",
    "# print(train_distribution)\n",
    "\n",
    "# # --- Compute oversampling factors: ---\n",
    "# # Determine the count of the majority class.\n",
    "# max_count = train_distribution.max()\n",
    "# # For each class, the factor to oversample is the ceiling of (max_count / class_count).\n",
    "# oversampling_factors = {fam: math.ceil(max_count / count) for fam, count in train_distribution.items()}\n",
    "# print(\"Oversampling factors:\")\n",
    "# print(oversampling_factors)\n",
    "\n",
    "# # --- Build balanced training dataset via oversampling ---\n",
    "# # For each unique class label, create a dataset filtered by that label and repeat it.\n",
    "# oversampled_ds_list = []\n",
    "# for class_idx in sorted(train_labels.unique()):\n",
    "#     # Find the class name from the mapping.\n",
    "#     class_name = label_names[class_idx]\n",
    "#     factor = oversampling_factors[class_name]\n",
    "#     ds_class = train.filter(lambda fp, label, ci=class_idx: tf.equal(label, ci))\n",
    "#     ds_class = ds_class.repeat(factor)  # Repeat this subset 'factor' times.\n",
    "#     oversampled_ds_list.append(ds_class)\n",
    "\n",
    "# # Concatenate all oversampled class datasets together.\n",
    "# balanced_train = oversampled_ds_list[0]\n",
    "# for ds in oversampled_ds_list[1:]:\n",
    "#     balanced_train = balanced_train.concatenate(ds)\n",
    "\n",
    "# # Shuffle the balanced training dataset again.\n",
    "# balanced_train = balanced_train.shuffle(buffer_size=1000, reshuffle_each_iteration=True, seed=42)\n",
    "\n",
    "# # --- Continue with your preprocessing pipeline ---\n",
    "# # Assume process_image and augment_image are defined earlier.\n",
    "# balanced_train = balanced_train.map(process_image, num_parallel_calls=tf.data.AUTOTUNE)\n",
    "# balanced_train = balanced_train.cache()\n",
    "# balanced_train = balanced_train.map(augment_image, num_parallel_calls=tf.data.AUTOTUNE)\n",
    "# balanced_train = balanced_train.batch(8).prefetch(buffer_size=tf.data.AUTOTUNE)\n",
    "\n",
    "# # Validation pipeline remains unchanged.\n",
    "# val = val.map(process_image, num_parallel_calls=tf.data.AUTOTUNE)\n",
    "# val = val.cache()\n",
    "# val = val.batch(8).prefetch(buffer_size=tf.data.AUTOTUNE)\n",
    "\n",
    "# # Test pipeline remains unchanged.\n",
    "# test = tf.data.Dataset.from_tensor_slices((file_paths_test, labels_test))\n",
    "# test = test.map(process_image, num_parallel_calls=tf.data.AUTOTUNE)\n",
    "# test = test.cache().batch(8).prefetch(tf.data.AUTOTUNE)\n"
   ]
  },
  {
   "cell_type": "markdown",
   "metadata": {},
   "source": [
    "# 5. Neural Network Models <a class=\"anchor\" id=\"nnmodels\"></a>"
   ]
  },
  {
   "cell_type": "code",
   "execution_count": 82,
   "metadata": {},
   "outputs": [
    {
     "name": "stdout",
     "output_type": "stream",
     "text": [
      "TensorFlow version: 2.19.0\n",
      "GPUs: [PhysicalDevice(name='/physical_device:GPU:0', device_type='GPU')]\n"
     ]
    }
   ],
   "source": [
    "import tensorflow as tf\n",
    "print(\"TensorFlow version:\", tf.__version__)\n",
    "print(\"GPUs:\", tf.config.list_physical_devices('GPU'))"
   ]
  },
  {
   "cell_type": "code",
   "execution_count": 83,
   "metadata": {},
   "outputs": [],
   "source": [
    "from tensorflow.keras.models import Model\n",
    "from tensorflow.keras.layers import Input, Conv2D, MaxPooling2D, Flatten, Dense, Dropout\n",
    "from tensorflow.keras.utils import to_categorical\n",
    "from tensorflow.keras.regularizers import l2\n",
    "from tensorflow.keras.callbacks import EarlyStopping, ModelCheckpoint\n",
    "from sklearn.preprocessing import LabelEncoder\n",
    "import numpy as np\n",
    "import os\n",
    "from tensorflow.keras.callbacks import ModelCheckpoint\n",
    "# Compute class weights\n",
    "from sklearn.utils.class_weight import compute_class_weight"
   ]
  },
  {
   "cell_type": "markdown",
   "metadata": {},
   "source": [
    "## 5.1 MobileNetV2"
   ]
  },
  {
   "cell_type": "markdown",
   "metadata": {},
   "source": [
    "### Model Setup"
   ]
  },
  {
   "cell_type": "code",
   "execution_count": 84,
   "metadata": {},
   "outputs": [
    {
     "data": {
      "text/html": [
       "<pre style=\"white-space:pre;overflow-x:auto;line-height:normal;font-family:Menlo,'DejaVu Sans Mono',consolas,'Courier New',monospace\"><span style=\"font-weight: bold\">Model: \"sequential_1\"</span>\n",
       "</pre>\n"
      ],
      "text/plain": [
       "\u001b[1mModel: \"sequential_1\"\u001b[0m\n"
      ]
     },
     "metadata": {},
     "output_type": "display_data"
    },
    {
     "data": {
      "text/html": [
       "<pre style=\"white-space:pre;overflow-x:auto;line-height:normal;font-family:Menlo,'DejaVu Sans Mono',consolas,'Courier New',monospace\">┏━━━━━━━━━━━━━━━━━━━━━━━━━━━━━━━━━┳━━━━━━━━━━━━━━━━━━━━━━━━┳━━━━━━━━━━━━━━━┓\n",
       "┃<span style=\"font-weight: bold\"> Layer (type)                    </span>┃<span style=\"font-weight: bold\"> Output Shape           </span>┃<span style=\"font-weight: bold\">       Param # </span>┃\n",
       "┡━━━━━━━━━━━━━━━━━━━━━━━━━━━━━━━━━╇━━━━━━━━━━━━━━━━━━━━━━━━╇━━━━━━━━━━━━━━━┩\n",
       "│ mobilenetv2_1.00_224            │ (<span style=\"color: #00d7ff; text-decoration-color: #00d7ff\">None</span>, <span style=\"color: #00af00; text-decoration-color: #00af00\">7</span>, <span style=\"color: #00af00; text-decoration-color: #00af00\">7</span>, <span style=\"color: #00af00; text-decoration-color: #00af00\">1280</span>)     │     <span style=\"color: #00af00; text-decoration-color: #00af00\">2,257,984</span> │\n",
       "│ (<span style=\"color: #0087ff; text-decoration-color: #0087ff\">Functional</span>)                    │                        │               │\n",
       "├─────────────────────────────────┼────────────────────────┼───────────────┤\n",
       "│ global_average_pooling2d_1      │ (<span style=\"color: #00d7ff; text-decoration-color: #00d7ff\">None</span>, <span style=\"color: #00af00; text-decoration-color: #00af00\">1280</span>)           │             <span style=\"color: #00af00; text-decoration-color: #00af00\">0</span> │\n",
       "│ (<span style=\"color: #0087ff; text-decoration-color: #0087ff\">GlobalAveragePooling2D</span>)        │                        │               │\n",
       "├─────────────────────────────────┼────────────────────────┼───────────────┤\n",
       "│ dropout_1 (<span style=\"color: #0087ff; text-decoration-color: #0087ff\">Dropout</span>)             │ (<span style=\"color: #00d7ff; text-decoration-color: #00d7ff\">None</span>, <span style=\"color: #00af00; text-decoration-color: #00af00\">1280</span>)           │             <span style=\"color: #00af00; text-decoration-color: #00af00\">0</span> │\n",
       "├─────────────────────────────────┼────────────────────────┼───────────────┤\n",
       "│ dense_2 (<span style=\"color: #0087ff; text-decoration-color: #0087ff\">Dense</span>)                 │ (<span style=\"color: #00d7ff; text-decoration-color: #00d7ff\">None</span>, <span style=\"color: #00af00; text-decoration-color: #00af00\">128</span>)            │       <span style=\"color: #00af00; text-decoration-color: #00af00\">163,968</span> │\n",
       "├─────────────────────────────────┼────────────────────────┼───────────────┤\n",
       "│ dense_3 (<span style=\"color: #0087ff; text-decoration-color: #0087ff\">Dense</span>)                 │ (<span style=\"color: #00d7ff; text-decoration-color: #00d7ff\">None</span>, <span style=\"color: #00af00; text-decoration-color: #00af00\">13</span>)             │         <span style=\"color: #00af00; text-decoration-color: #00af00\">1,677</span> │\n",
       "└─────────────────────────────────┴────────────────────────┴───────────────┘\n",
       "</pre>\n"
      ],
      "text/plain": [
       "┏━━━━━━━━━━━━━━━━━━━━━━━━━━━━━━━━━┳━━━━━━━━━━━━━━━━━━━━━━━━┳━━━━━━━━━━━━━━━┓\n",
       "┃\u001b[1m \u001b[0m\u001b[1mLayer (type)                   \u001b[0m\u001b[1m \u001b[0m┃\u001b[1m \u001b[0m\u001b[1mOutput Shape          \u001b[0m\u001b[1m \u001b[0m┃\u001b[1m \u001b[0m\u001b[1m      Param #\u001b[0m\u001b[1m \u001b[0m┃\n",
       "┡━━━━━━━━━━━━━━━━━━━━━━━━━━━━━━━━━╇━━━━━━━━━━━━━━━━━━━━━━━━╇━━━━━━━━━━━━━━━┩\n",
       "│ mobilenetv2_1.00_224            │ (\u001b[38;5;45mNone\u001b[0m, \u001b[38;5;34m7\u001b[0m, \u001b[38;5;34m7\u001b[0m, \u001b[38;5;34m1280\u001b[0m)     │     \u001b[38;5;34m2,257,984\u001b[0m │\n",
       "│ (\u001b[38;5;33mFunctional\u001b[0m)                    │                        │               │\n",
       "├─────────────────────────────────┼────────────────────────┼───────────────┤\n",
       "│ global_average_pooling2d_1      │ (\u001b[38;5;45mNone\u001b[0m, \u001b[38;5;34m1280\u001b[0m)           │             \u001b[38;5;34m0\u001b[0m │\n",
       "│ (\u001b[38;5;33mGlobalAveragePooling2D\u001b[0m)        │                        │               │\n",
       "├─────────────────────────────────┼────────────────────────┼───────────────┤\n",
       "│ dropout_1 (\u001b[38;5;33mDropout\u001b[0m)             │ (\u001b[38;5;45mNone\u001b[0m, \u001b[38;5;34m1280\u001b[0m)           │             \u001b[38;5;34m0\u001b[0m │\n",
       "├─────────────────────────────────┼────────────────────────┼───────────────┤\n",
       "│ dense_2 (\u001b[38;5;33mDense\u001b[0m)                 │ (\u001b[38;5;45mNone\u001b[0m, \u001b[38;5;34m128\u001b[0m)            │       \u001b[38;5;34m163,968\u001b[0m │\n",
       "├─────────────────────────────────┼────────────────────────┼───────────────┤\n",
       "│ dense_3 (\u001b[38;5;33mDense\u001b[0m)                 │ (\u001b[38;5;45mNone\u001b[0m, \u001b[38;5;34m13\u001b[0m)             │         \u001b[38;5;34m1,677\u001b[0m │\n",
       "└─────────────────────────────────┴────────────────────────┴───────────────┘\n"
      ]
     },
     "metadata": {},
     "output_type": "display_data"
    },
    {
     "data": {
      "text/html": [
       "<pre style=\"white-space:pre;overflow-x:auto;line-height:normal;font-family:Menlo,'DejaVu Sans Mono',consolas,'Courier New',monospace\"><span style=\"font-weight: bold\"> Total params: </span><span style=\"color: #00af00; text-decoration-color: #00af00\">2,423,629</span> (9.25 MB)\n",
       "</pre>\n"
      ],
      "text/plain": [
       "\u001b[1m Total params: \u001b[0m\u001b[38;5;34m2,423,629\u001b[0m (9.25 MB)\n"
      ]
     },
     "metadata": {},
     "output_type": "display_data"
    },
    {
     "data": {
      "text/html": [
       "<pre style=\"white-space:pre;overflow-x:auto;line-height:normal;font-family:Menlo,'DejaVu Sans Mono',consolas,'Courier New',monospace\"><span style=\"font-weight: bold\"> Trainable params: </span><span style=\"color: #00af00; text-decoration-color: #00af00\">165,645</span> (647.05 KB)\n",
       "</pre>\n"
      ],
      "text/plain": [
       "\u001b[1m Trainable params: \u001b[0m\u001b[38;5;34m165,645\u001b[0m (647.05 KB)\n"
      ]
     },
     "metadata": {},
     "output_type": "display_data"
    },
    {
     "data": {
      "text/html": [
       "<pre style=\"white-space:pre;overflow-x:auto;line-height:normal;font-family:Menlo,'DejaVu Sans Mono',consolas,'Courier New',monospace\"><span style=\"font-weight: bold\"> Non-trainable params: </span><span style=\"color: #00af00; text-decoration-color: #00af00\">2,257,984</span> (8.61 MB)\n",
       "</pre>\n"
      ],
      "text/plain": [
       "\u001b[1m Non-trainable params: \u001b[0m\u001b[38;5;34m2,257,984\u001b[0m (8.61 MB)\n"
      ]
     },
     "metadata": {},
     "output_type": "display_data"
    }
   ],
   "source": [
    "from tensorflow.keras.regularizers import l2\n",
    "from sklearn.utils.class_weight import compute_class_weight\n",
    "\n",
    "# Load base model without top layer\n",
    "base_model = MobileNetV2(\n",
    "    input_shape=input_shape,  # Match your resized image shape\n",
    "    include_top=False,         # Don't include the original classifier\n",
    "    weights='imagenet'         # Use ImageNet-pretrained weights\n",
    ")\n",
    "\n",
    "# Freeze base model so we only train the new layers for now\n",
    "base_model.trainable = False\n",
    "\n",
    "model = models.Sequential([\n",
    "    base_model,                                # Pre-trained feature extractor\n",
    "    layers.GlobalAveragePooling2D(),           # Pool the spatial features\n",
    "    layers.Dropout(0.3),                       # Dropout for regularization\n",
    "    layers.Dense(128, activation='relu', kernel_regularizer=l2(0.001)),  # L2 regularized Dense layer\n",
    "    layers.Dense(num_classes, activation='softmax', kernel_regularizer=l2(0.001))  # Output layer with L2 regularizer\n",
    "])\n",
    "\n",
    "# Compile the model\n",
    "model.compile(\n",
    "    optimizer=optimizers.Adam(learning_rate=1e-4),  # Use a lower learning rate for fine-tuning\n",
    "    loss='sparse_categorical_crossentropy',\n",
    "    metrics=['accuracy']\n",
    ")\n",
    "\n",
    "model.summary()"
   ]
  },
  {
   "cell_type": "markdown",
   "metadata": {},
   "source": [
    "### Model Training"
   ]
  },
  {
   "cell_type": "code",
   "execution_count": 85,
   "metadata": {},
   "outputs": [],
   "source": [
    "# y_train = np.array(labels_train)  # Replace labels_train with your training label list\n",
    "# class_weights = compute_class_weight(\n",
    "#     class_weight='balanced',\n",
    "#     classes=np.unique(y_train),\n",
    "#     y=y_train\n",
    "# )\n",
    "\n",
    "# class_weights_dict = dict(enumerate(class_weights))\n",
    "# print(\"Computed class weights:\", class_weights_dict)"
   ]
  },
  {
   "cell_type": "code",
   "execution_count": 86,
   "metadata": {},
   "outputs": [
    {
     "name": "stdout",
     "output_type": "stream",
     "text": [
      "Epoch 1/40\n",
      "    102/Unknown \u001b[1m13s\u001b[0m 61ms/step - accuracy: 0.1324 - loss: 2.8674"
     ]
    },
    {
     "name": "stderr",
     "output_type": "stream",
     "text": [
      "/root/DeepLearning2425/tf-gpu/lib/python3.12/site-packages/keras/src/trainers/epoch_iterator.py:151: UserWarning: Your input ran out of data; interrupting training. Make sure that your dataset or generator can generate at least `steps_per_epoch * epochs` batches. You may need to use the `.repeat()` function when building your dataset.\n",
      "  self._interrupted_warning()\n"
     ]
    },
    {
     "name": "stdout",
     "output_type": "stream",
     "text": [
      "\u001b[1m102/102\u001b[0m \u001b[32m━━━━━━━━━━━━━━━━━━━━\u001b[0m\u001b[37m\u001b[0m \u001b[1m19s\u001b[0m 115ms/step - accuracy: 0.1325 - loss: 2.8673 - val_accuracy: 0.2593 - val_loss: 2.6463\n",
      "Epoch 2/40\n",
      "\u001b[1m102/102\u001b[0m \u001b[32m━━━━━━━━━━━━━━━━━━━━\u001b[0m\u001b[37m\u001b[0m \u001b[1m4s\u001b[0m 35ms/step - accuracy: 0.1850 - loss: 2.7459 - val_accuracy: 0.2593 - val_loss: 2.5961\n",
      "Epoch 3/40\n",
      "\u001b[1m102/102\u001b[0m \u001b[32m━━━━━━━━━━━━━━━━━━━━\u001b[0m\u001b[37m\u001b[0m \u001b[1m4s\u001b[0m 35ms/step - accuracy: 0.2156 - loss: 2.7140 - val_accuracy: 0.2593 - val_loss: 2.5802\n",
      "Epoch 4/40\n",
      "\u001b[1m102/102\u001b[0m \u001b[32m━━━━━━━━━━━━━━━━━━━━\u001b[0m\u001b[37m\u001b[0m \u001b[1m4s\u001b[0m 35ms/step - accuracy: 0.1975 - loss: 2.6447 - val_accuracy: 0.2593 - val_loss: 2.5775\n",
      "Epoch 5/40\n",
      "\u001b[1m102/102\u001b[0m \u001b[32m━━━━━━━━━━━━━━━━━━━━\u001b[0m\u001b[37m\u001b[0m \u001b[1m4s\u001b[0m 35ms/step - accuracy: 0.2071 - loss: 2.6616 - val_accuracy: 0.1481 - val_loss: 2.5783\n",
      "Epoch 6/40\n",
      "\u001b[1m102/102\u001b[0m \u001b[32m━━━━━━━━━━━━━━━━━━━━\u001b[0m\u001b[37m\u001b[0m \u001b[1m4s\u001b[0m 35ms/step - accuracy: 0.2227 - loss: 2.6612 - val_accuracy: 0.1481 - val_loss: 2.5677\n",
      "Epoch 7/40\n",
      "\u001b[1m102/102\u001b[0m \u001b[32m━━━━━━━━━━━━━━━━━━━━\u001b[0m\u001b[37m\u001b[0m \u001b[1m4s\u001b[0m 35ms/step - accuracy: 0.2020 - loss: 2.6298 - val_accuracy: 0.1481 - val_loss: 2.5632\n",
      "Epoch 8/40\n",
      "\u001b[1m102/102\u001b[0m \u001b[32m━━━━━━━━━━━━━━━━━━━━\u001b[0m\u001b[37m\u001b[0m \u001b[1m4s\u001b[0m 36ms/step - accuracy: 0.2115 - loss: 2.6222 - val_accuracy: 0.2593 - val_loss: 2.5483\n",
      "Epoch 9/40\n",
      "\u001b[1m102/102\u001b[0m \u001b[32m━━━━━━━━━━━━━━━━━━━━\u001b[0m\u001b[37m\u001b[0m \u001b[1m4s\u001b[0m 35ms/step - accuracy: 0.2196 - loss: 2.6169 - val_accuracy: 0.2593 - val_loss: 2.5411\n",
      "Epoch 10/40\n",
      "\u001b[1m102/102\u001b[0m \u001b[32m━━━━━━━━━━━━━━━━━━━━\u001b[0m\u001b[37m\u001b[0m \u001b[1m4s\u001b[0m 34ms/step - accuracy: 0.2231 - loss: 2.5853 - val_accuracy: 0.2593 - val_loss: 2.5429\n",
      "Epoch 11/40\n",
      "\u001b[1m102/102\u001b[0m \u001b[32m━━━━━━━━━━━━━━━━━━━━\u001b[0m\u001b[37m\u001b[0m \u001b[1m4s\u001b[0m 35ms/step - accuracy: 0.2253 - loss: 2.6246 - val_accuracy: 0.2593 - val_loss: 2.5325\n",
      "Epoch 12/40\n",
      "\u001b[1m102/102\u001b[0m \u001b[32m━━━━━━━━━━━━━━━━━━━━\u001b[0m\u001b[37m\u001b[0m \u001b[1m4s\u001b[0m 34ms/step - accuracy: 0.2222 - loss: 2.6041 - val_accuracy: 0.2593 - val_loss: 2.5253\n",
      "Epoch 13/40\n",
      "\u001b[1m102/102\u001b[0m \u001b[32m━━━━━━━━━━━━━━━━━━━━\u001b[0m\u001b[37m\u001b[0m \u001b[1m4s\u001b[0m 35ms/step - accuracy: 0.2397 - loss: 2.5704 - val_accuracy: 0.2593 - val_loss: 2.5240\n",
      "Epoch 14/40\n",
      "\u001b[1m102/102\u001b[0m \u001b[32m━━━━━━━━━━━━━━━━━━━━\u001b[0m\u001b[37m\u001b[0m \u001b[1m4s\u001b[0m 35ms/step - accuracy: 0.2387 - loss: 2.5686 - val_accuracy: 0.2593 - val_loss: 2.5161\n",
      "Epoch 15/40\n",
      "\u001b[1m102/102\u001b[0m \u001b[32m━━━━━━━━━━━━━━━━━━━━\u001b[0m\u001b[37m\u001b[0m \u001b[1m4s\u001b[0m 36ms/step - accuracy: 0.2430 - loss: 2.5818 - val_accuracy: 0.2593 - val_loss: 2.5121\n",
      "Epoch 16/40\n",
      "\u001b[1m102/102\u001b[0m \u001b[32m━━━━━━━━━━━━━━━━━━━━\u001b[0m\u001b[37m\u001b[0m \u001b[1m4s\u001b[0m 36ms/step - accuracy: 0.2430 - loss: 2.5628 - val_accuracy: 0.2593 - val_loss: 2.5087\n",
      "Epoch 17/40\n",
      "\u001b[1m102/102\u001b[0m \u001b[32m━━━━━━━━━━━━━━━━━━━━\u001b[0m\u001b[37m\u001b[0m \u001b[1m4s\u001b[0m 35ms/step - accuracy: 0.2248 - loss: 2.5649 - val_accuracy: 0.2593 - val_loss: 2.5166\n",
      "Epoch 18/40\n",
      "\u001b[1m102/102\u001b[0m \u001b[32m━━━━━━━━━━━━━━━━━━━━\u001b[0m\u001b[37m\u001b[0m \u001b[1m4s\u001b[0m 35ms/step - accuracy: 0.2299 - loss: 2.5706 - val_accuracy: 0.2593 - val_loss: 2.5133\n",
      "Epoch 19/40\n",
      "\u001b[1m102/102\u001b[0m \u001b[32m━━━━━━━━━━━━━━━━━━━━\u001b[0m\u001b[37m\u001b[0m \u001b[1m4s\u001b[0m 35ms/step - accuracy: 0.2364 - loss: 2.5509 - val_accuracy: 0.2593 - val_loss: 2.5020\n",
      "Epoch 20/40\n",
      "\u001b[1m102/102\u001b[0m \u001b[32m━━━━━━━━━━━━━━━━━━━━\u001b[0m\u001b[37m\u001b[0m \u001b[1m4s\u001b[0m 34ms/step - accuracy: 0.2379 - loss: 2.5651 - val_accuracy: 0.2593 - val_loss: 2.4929\n",
      "Epoch 21/40\n",
      "\u001b[1m102/102\u001b[0m \u001b[32m━━━━━━━━━━━━━━━━━━━━\u001b[0m\u001b[37m\u001b[0m \u001b[1m4s\u001b[0m 35ms/step - accuracy: 0.2402 - loss: 2.5606 - val_accuracy: 0.2593 - val_loss: 2.4915\n",
      "Epoch 22/40\n",
      "\u001b[1m102/102\u001b[0m \u001b[32m━━━━━━━━━━━━━━━━━━━━\u001b[0m\u001b[37m\u001b[0m \u001b[1m4s\u001b[0m 35ms/step - accuracy: 0.2359 - loss: 2.5506 - val_accuracy: 0.2593 - val_loss: 2.4892\n",
      "Epoch 23/40\n",
      "\u001b[1m102/102\u001b[0m \u001b[32m━━━━━━━━━━━━━━━━━━━━\u001b[0m\u001b[37m\u001b[0m \u001b[1m4s\u001b[0m 35ms/step - accuracy: 0.2389 - loss: 2.5393 - val_accuracy: 0.2593 - val_loss: 2.4839\n",
      "Epoch 24/40\n",
      "\u001b[1m 98/102\u001b[0m \u001b[32m━━━━━━━━━━━━━━━━━━━\u001b[0m\u001b[37m━\u001b[0m \u001b[1m0s\u001b[0m 34ms/step - accuracy: 0.2388 - loss: 2.5439"
     ]
    },
    {
     "name": "stderr",
     "output_type": "stream",
     "text": [
      "2025-04-22 18:09:23.235542: I tensorflow/core/framework/local_rendezvous.cc:407] Local rendezvous is aborting with status: OUT_OF_RANGE: End of sequence\n",
      "\t [[{{node IteratorGetNext}}]]\n"
     ]
    },
    {
     "name": "stdout",
     "output_type": "stream",
     "text": [
      "\u001b[1m102/102\u001b[0m \u001b[32m━━━━━━━━━━━━━━━━━━━━\u001b[0m\u001b[37m\u001b[0m \u001b[1m4s\u001b[0m 35ms/step - accuracy: 0.2370 - loss: 2.5459 - val_accuracy: 0.2593 - val_loss: 2.4881\n",
      "Epoch 25/40\n",
      "\u001b[1m102/102\u001b[0m \u001b[32m━━━━━━━━━━━━━━━━━━━━\u001b[0m\u001b[37m\u001b[0m \u001b[1m4s\u001b[0m 35ms/step - accuracy: 0.2397 - loss: 2.5520 - val_accuracy: 0.2593 - val_loss: 2.4851\n",
      "Epoch 26/40\n",
      "\u001b[1m102/102\u001b[0m \u001b[32m━━━━━━━━━━━━━━━━━━━━\u001b[0m\u001b[37m\u001b[0m \u001b[1m4s\u001b[0m 35ms/step - accuracy: 0.2366 - loss: 2.5371 - val_accuracy: 0.2593 - val_loss: 2.4773\n",
      "Epoch 27/40\n",
      "\u001b[1m102/102\u001b[0m \u001b[32m━━━━━━━━━━━━━━━━━━━━\u001b[0m\u001b[37m\u001b[0m \u001b[1m4s\u001b[0m 35ms/step - accuracy: 0.2339 - loss: 2.5483 - val_accuracy: 0.2593 - val_loss: 2.4760\n",
      "Epoch 28/40\n",
      "\u001b[1m102/102\u001b[0m \u001b[32m━━━━━━━━━━━━━━━━━━━━\u001b[0m\u001b[37m\u001b[0m \u001b[1m4s\u001b[0m 35ms/step - accuracy: 0.2401 - loss: 2.5340 - val_accuracy: 0.2593 - val_loss: 2.4730\n",
      "Epoch 29/40\n",
      "\u001b[1m102/102\u001b[0m \u001b[32m━━━━━━━━━━━━━━━━━━━━\u001b[0m\u001b[37m\u001b[0m \u001b[1m4s\u001b[0m 36ms/step - accuracy: 0.2435 - loss: 2.5508 - val_accuracy: 0.2593 - val_loss: 2.4718\n",
      "Epoch 30/40\n",
      "\u001b[1m102/102\u001b[0m \u001b[32m━━━━━━━━━━━━━━━━━━━━\u001b[0m\u001b[37m\u001b[0m \u001b[1m4s\u001b[0m 35ms/step - accuracy: 0.2349 - loss: 2.5350 - val_accuracy: 0.2593 - val_loss: 2.4719\n",
      "Epoch 31/40\n",
      "\u001b[1m102/102\u001b[0m \u001b[32m━━━━━━━━━━━━━━━━━━━━\u001b[0m\u001b[37m\u001b[0m \u001b[1m4s\u001b[0m 34ms/step - accuracy: 0.2361 - loss: 2.5274 - val_accuracy: 0.2593 - val_loss: 2.4745\n",
      "Epoch 32/40\n",
      "\u001b[1m102/102\u001b[0m \u001b[32m━━━━━━━━━━━━━━━━━━━━\u001b[0m\u001b[37m\u001b[0m \u001b[1m4s\u001b[0m 35ms/step - accuracy: 0.2371 - loss: 2.5478 - val_accuracy: 0.2593 - val_loss: 2.4788\n",
      "Epoch 33/40\n",
      "\u001b[1m102/102\u001b[0m \u001b[32m━━━━━━━━━━━━━━━━━━━━\u001b[0m\u001b[37m\u001b[0m \u001b[1m4s\u001b[0m 34ms/step - accuracy: 0.2427 - loss: 2.5386 - val_accuracy: 0.2593 - val_loss: 2.4683\n",
      "Epoch 34/40\n",
      "\u001b[1m102/102\u001b[0m \u001b[32m━━━━━━━━━━━━━━━━━━━━\u001b[0m\u001b[37m\u001b[0m \u001b[1m4s\u001b[0m 35ms/step - accuracy: 0.2398 - loss: 2.5270 - val_accuracy: 0.2593 - val_loss: 2.4669\n",
      "Epoch 35/40\n",
      "\u001b[1m102/102\u001b[0m \u001b[32m━━━━━━━━━━━━━━━━━━━━\u001b[0m\u001b[37m\u001b[0m \u001b[1m4s\u001b[0m 34ms/step - accuracy: 0.2418 - loss: 2.5319 - val_accuracy: 0.2593 - val_loss: 2.4574\n",
      "Epoch 36/40\n",
      "\u001b[1m102/102\u001b[0m \u001b[32m━━━━━━━━━━━━━━━━━━━━\u001b[0m\u001b[37m\u001b[0m \u001b[1m4s\u001b[0m 34ms/step - accuracy: 0.2398 - loss: 2.5183 - val_accuracy: 0.2593 - val_loss: 2.4544\n",
      "Epoch 37/40\n",
      "\u001b[1m102/102\u001b[0m \u001b[32m━━━━━━━━━━━━━━━━━━━━\u001b[0m\u001b[37m\u001b[0m \u001b[1m4s\u001b[0m 34ms/step - accuracy: 0.2398 - loss: 2.5130 - val_accuracy: 0.2593 - val_loss: 2.4547\n",
      "Epoch 38/40\n",
      "\u001b[1m102/102\u001b[0m \u001b[32m━━━━━━━━━━━━━━━━━━━━\u001b[0m\u001b[37m\u001b[0m \u001b[1m4s\u001b[0m 34ms/step - accuracy: 0.2391 - loss: 2.5137 - val_accuracy: 0.2593 - val_loss: 2.4562\n",
      "Epoch 39/40\n",
      "\u001b[1m102/102\u001b[0m \u001b[32m━━━━━━━━━━━━━━━━━━━━\u001b[0m\u001b[37m\u001b[0m \u001b[1m4s\u001b[0m 35ms/step - accuracy: 0.2389 - loss: 2.5201 - val_accuracy: 0.2593 - val_loss: 2.4494\n",
      "Epoch 40/40\n",
      "\u001b[1m102/102\u001b[0m \u001b[32m━━━━━━━━━━━━━━━━━━━━\u001b[0m\u001b[37m\u001b[0m \u001b[1m4s\u001b[0m 35ms/step - accuracy: 0.2398 - loss: 2.5256 - val_accuracy: 0.2593 - val_loss: 2.4510\n"
     ]
    }
   ],
   "source": [
    "from tensorflow.keras.callbacks import ModelCheckpoint\n",
    "\n",
    "#callbacks\n",
    "checkpoint = ModelCheckpoint(\n",
    "    \"models/cnidaria_models/mobilenetV2_br.keras\",\n",
    "    monitor='val_loss',\n",
    "    save_best_only=True,\n",
    "    verbose=1\n",
    ")\n",
    "\n",
    "history_br = model.fit(\n",
    "        train_ds,\n",
    "        validation_data=test_ds,\n",
    "        epochs=40,           # Start small, increase if needed\n",
    "        verbose=1\n",
    "    )\n",
    "\n",
    "#save the model\n",
    "model.save(\"models/cnidaria_models/finetuned_model.keras\")"
   ]
  },
  {
   "cell_type": "code",
   "execution_count": 87,
   "metadata": {},
   "outputs": [
    {
     "name": "stdout",
     "output_type": "stream",
     "text": [
      "Best validation accuracy: 0.25925925374031067\n"
     ]
    }
   ],
   "source": [
    "#get the best accuracy score\n",
    "best_accuracy = max(history_br.history['val_accuracy'])\n",
    "print(\"Best validation accuracy:\", best_accuracy)"
   ]
  },
  {
   "cell_type": "markdown",
   "metadata": {},
   "source": [
    "### Result Visualizations"
   ]
  },
  {
   "cell_type": "code",
   "execution_count": 88,
   "metadata": {},
   "outputs": [],
   "source": [
    "#This function is used in notebook 2, notebook 3 and notebook 4\n",
    "import matplotlib.pyplot as plt\n",
    "\n",
    "def plot_loss(history):\n",
    "    \"\"\"\n",
    "    Plot the training and validation loss over epochs.\n",
    "\n",
    "    Parameters:\n",
    "    - history: History object returned by model.fit() containing training/validation loss values.\n",
    "\n",
    "    Returns:\n",
    "    - None (displays a plot of training and validation loss)\n",
    "    \"\"\"\n",
    "    plt.figure(figsize=(7, 2))\n",
    "    plt.plot(history.history['loss'], label='Training Loss')\n",
    "    plt.plot(history.history['val_loss'], label='Validation Loss')\n",
    "    plt.xlabel('Epochs')\n",
    "    plt.ylabel('Loss')\n",
    "    plt.legend()\n",
    "    plt.title('Training and Validation Loss')\n",
    "    plt.show()\n"
   ]
  },
  {
   "cell_type": "code",
   "execution_count": 89,
   "metadata": {},
   "outputs": [
    {
     "ename": "NameError",
     "evalue": "name 'history' is not defined",
     "output_type": "error",
     "traceback": [
      "\u001b[31m---------------------------------------------------------------------------\u001b[39m",
      "\u001b[31mNameError\u001b[39m                                 Traceback (most recent call last)",
      "\u001b[36mCell\u001b[39m\u001b[36m \u001b[39m\u001b[32mIn[89]\u001b[39m\u001b[32m, line 1\u001b[39m\n\u001b[32m----> \u001b[39m\u001b[32m1\u001b[39m plot_loss(\u001b[43mhistory\u001b[49m)\n",
      "\u001b[31mNameError\u001b[39m: name 'history' is not defined"
     ]
    }
   ],
   "source": [
    "plot_loss(history)"
   ]
  },
  {
   "cell_type": "code",
   "execution_count": null,
   "metadata": {},
   "outputs": [
    {
     "data": {
      "image/png": "[encoded data removed]",
      "text/plain": [
       "<Figure size 800x400 with 1 Axes>"
      ]
     },
     "metadata": {},
     "output_type": "display_data"
    }
   ],
   "source": [
    "def plot_accuracy(history):\n",
    "    plt.figure(figsize=(8, 4))\n",
    "    plt.plot(history.history['accuracy'], label='Training Accuracy', marker='o')\n",
    "    plt.plot(history.history['val_accuracy'], label='Validation Accuracy', marker='o')\n",
    "    plt.xlabel('Epochs')\n",
    "    plt.ylabel('Accuracy')\n",
    "    plt.legend()\n",
    "    plt.title('Training and Validation Accuracy')\n",
    "    plt.grid(True)\n",
    "    plt.show()\n",
    "\n",
    "plot_accuracy(history)"
   ]
  },
  {
   "cell_type": "code",
   "execution_count": null,
   "metadata": {},
   "outputs": [
    {
     "name": "stdout",
     "output_type": "stream",
     "text": [
      "\u001b[1m17/17\u001b[0m \u001b[32m━━━━━━━━━━━━━━━━━━━━\u001b[0m\u001b[37m\u001b[0m \u001b[1m7s\u001b[0m 208ms/step\n"
     ]
    },
    {
     "data": {
      "image/png": "[encoded data removed]",
      "text/plain": [
       "<Figure size 1000x800 with 2 Axes>"
      ]
     },
     "metadata": {},
     "output_type": "display_data"
    },
    {
     "name": "stdout",
     "output_type": "stream",
     "text": [
      "                  precision    recall  f1-score   support\n",
      "\n",
      "     acroporidae       0.94      0.44      0.60        36\n",
      "     agariciidae       0.29      0.11      0.16        18\n",
      "dendrophylliidae       0.20      0.25      0.22         4\n",
      " diploastraeidae       0.00      0.00      0.00         8\n",
      "    euphylliidae       0.00      0.00      0.00        13\n",
      "        faviidae       0.30      0.78      0.44         9\n",
      "       fungiidae       0.36      0.57      0.44         7\n",
      "    helioporidae       0.25      0.14      0.18         7\n",
      "  lobophylliidae       0.38      1.00      0.55         3\n",
      "    meandrinidae       0.75      1.00      0.86         3\n",
      "     merulinidae       0.14      0.50      0.22         6\n",
      "  pocilloporidae       0.45      0.62      0.53         8\n",
      "  siderastreidae       0.35      0.75      0.48         8\n",
      "\n",
      "        accuracy                           0.39       130\n",
      "       macro avg       0.34      0.47      0.36       130\n",
      "    weighted avg       0.44      0.39      0.36       130\n",
      "\n"
     ]
    }
   ],
   "source": [
    "import numpy as np\n",
    "import matplotlib.pyplot as plt\n",
    "import seaborn as sns\n",
    "from sklearn.metrics import confusion_matrix, classification_report\n",
    "\n",
    "# Generate predictions for the validation set\n",
    "# This returns probabilities, so we use argmax to obtain predicted class indices.\n",
    "y_val_pred_probs = model.predict(val)\n",
    "y_val_pred = np.argmax(y_val_pred_probs, axis=1)\n",
    "\n",
    "# Extract the true labels from the validation dataset\n",
    "y_val_true = []\n",
    "for images, labels in val:\n",
    "    # Convert labels from a tensor to a NumPy array and extend our list.\n",
    "    y_val_true.extend(labels.numpy())\n",
    "y_val_true = np.array(y_val_true)\n",
    "\n",
    "# Compute the confusion matrix\n",
    "cm = confusion_matrix(y_val_true, y_val_pred)\n",
    "\n",
    "# Optional: if you have the label names (sorted list of unique labels), use them for tick labels\n",
    "# For example, if defined earlier:\n",
    "# label_names = sorted(set(labels_train))\n",
    "# If not, you can omit xticklabels and yticklabels\n",
    "plt.figure(figsize=(10, 8))\n",
    "sns.heatmap(cm, annot=True, fmt=\"d\", cmap=\"Blues\", \n",
    "            xticklabels=label_names, yticklabels=label_names)\n",
    "plt.xlabel(\"Predicted Label\")\n",
    "plt.ylabel(\"True Label\")\n",
    "plt.title(\"Confusion Matrix - Validation Set\")\n",
    "plt.show()\n",
    "\n",
    "# Print a detailed classification report\n",
    "print(classification_report(y_val_true, y_val_pred, target_names=label_names))\n"
   ]
  },
  {
   "cell_type": "markdown",
   "metadata": {},
   "source": [
    "# 5.2 Clip"
   ]
  },
  {
   "cell_type": "code",
   "execution_count": null,
   "metadata": {},
   "outputs": [
    {
     "name": "stderr",
     "output_type": "stream",
     "text": [
      "/root/DeepLearning2425/tf-gpu/lib/python3.12/site-packages/tqdm/auto.py:21: TqdmWarning: IProgress not found. Please update jupyter and ipywidgets. See https://ipywidgets.readthedocs.io/en/stable/user_install.html\n",
      "  from .autonotebook import tqdm as notebook_tqdm\n"
     ]
    }
   ],
   "source": [
    "from sklearn.model_selection import train_test_split\n",
    "from sklearn.metrics import f1_score\n",
    "\n",
    "\n",
    "import torch\n",
    "from torch import nn\n",
    "from torch.utils.data import Dataset, DataLoader\n",
    "from torchvision import transforms\n",
    "from PIL import Image\n",
    "\n",
    "# Transformers for CLIP model and tokenizer\n",
    "from transformers import CLIPProcessor, CLIPModel\n",
    "\n",
    "\n",
    "\n",
    "from tqdm import tqdm  # progress bar"
   ]
  },
  {
   "cell_type": "code",
   "execution_count": null,
   "metadata": {},
   "outputs": [
    {
     "name": "stdout",
     "output_type": "stream",
     "text": [
      "Train samples: 517, Val samples: 130, Test samples: 162\n"
     ]
    }
   ],
   "source": [
    "train_df, val_df = train_test_split(cnidaria_train, test_size=0.2, random_state=42, stratify=cnidaria_train['family'])\n",
    "test_df = cnidaria_test.copy()\n",
    "print(f\"Train samples: {len(train_df)}, Val samples: {len(val_df)}, Test samples: {len(test_df)}\")"
   ]
  },
  {
   "cell_type": "markdown",
   "metadata": {},
   "source": [
    "## Transformers"
   ]
  },
  {
   "cell_type": "code",
   "execution_count": null,
   "metadata": {},
   "outputs": [],
   "source": [
    "train_transforms = transforms.Compose([\n",
    "    transforms.Resize((256, 256)),\n",
    "    transforms.RandomCrop(224),\n",
    "    transforms.RandomHorizontalFlip(),\n",
    "])\n",
    "\n",
    "val_test_transforms = transforms.Compose([\n",
    "    transforms.Resize((224, 224))\n",
    "])\n"
   ]
  },
  {
   "cell_type": "markdown",
   "metadata": {},
   "source": [
    "## PyTorch Dataset"
   ]
  },
  {
   "cell_type": "code",
   "execution_count": null,
   "metadata": {},
   "outputs": [],
   "source": [
    "import os\n",
    "from PIL import Image\n",
    "from torch.utils.data import Dataset\n",
    "\n",
    "class RareSpeciesDataset(Dataset):\n",
    "    def __init__(self, dataframe, transform, processor, root_dir, max_pixels=89478485):\n",
    "        self.df = dataframe.reset_index(drop=True)\n",
    "        self.transform = transform\n",
    "        self.processor = processor  \n",
    "        self.root_dir = root_dir\n",
    "        self.max_pixels = max_pixels  # Example threshold; adjust as needed\n",
    "\n",
    "    def __len__(self):\n",
    "        return len(self.df)\n",
    "    \n",
    "    def __getitem__(self, idx):\n",
    "        row = self.df.iloc[idx]\n",
    "        full_image_path = os.path.join(self.root_dir, row['file_path'])\n",
    "        \n",
    "        try:\n",
    "            image = Image.open(full_image_path).convert('RGB')\n",
    "        except Exception as e:\n",
    "            print(f\"Error loading image {full_image_path}: {e}\")\n",
    "            # Optionally return a dummy image\n",
    "            image = Image.new('RGB', (256, 256), (0, 0, 0))\n",
    "        \n",
    "        # Check if the image is very large, and if so, reduce resolution\n",
    "        if image.size[0] * image.size[1] > self.max_pixels:\n",
    "            # Halve both the width and the height\n",
    "            new_size = (image.size[0] // 2, image.size[1] // 2)\n",
    "            image = image.resize(new_size)\n",
    "            print(f\"Resized image {full_image_path} from {image.size} to {new_size}\")\n",
    "        \n",
    "        # Now apply your transforms (which likely includes another resize step)\n",
    "        image = self.transform(image)\n",
    "        caption = f\"a photo of {row['family']}\"\n",
    "        return image, caption\n"
   ]
  },
  {
   "cell_type": "code",
   "execution_count": null,
   "metadata": {},
   "outputs": [],
   "source": [
    "from torch.utils.data.sampler import WeightedRandomSampler\n",
    "import numpy as np\n",
    "\n",
    "# Calculate frequency for each family within Cnidaria\n",
    "family_counts = train_df['family'].value_counts().to_dict()\n",
    "\n",
    "# Compute sample weights: weight = 1 / (frequency of the family)\n",
    "weights = train_df['family'].apply(lambda x: 1.0 / family_counts[x]).values\n",
    "weights = np.array(weights)\n",
    "\n",
    "# Create the WeightedRandomSampler with replacement\n",
    "sampler = WeightedRandomSampler(\n",
    "    weights=weights,\n",
    "    num_samples=len(weights),  # number of samples per epoch\n",
    "    replacement=True\n",
    ")"
   ]
  },
  {
   "cell_type": "code",
   "execution_count": null,
   "metadata": {},
   "outputs": [],
   "source": [
    "def custom_collate_fn(batch):\n",
    "    # batch is a list of tuples, where each tuple is (image, caption)\n",
    "    images, captions = zip(*batch)\n",
    "    # Return images and captions as lists (they remain as PIL images)\n",
    "    return list(images), list(captions)"
   ]
  },
  {
   "cell_type": "code",
   "execution_count": null,
   "metadata": {},
   "outputs": [
    {
     "name": "stderr",
     "output_type": "stream",
     "text": [
      "Using a slow image processor as `use_fast` is unset and a slow processor was saved with this model. `use_fast=True` will be the default behavior in v4.52, even if the model was saved with a slow processor. This will result in minor differences in outputs. You'll still be able to use a slow processor with `use_fast=False`.\n"
     ]
    }
   ],
   "source": [
    "# Initialize the CLIP processor from transformers\n",
    "processor = CLIPProcessor.from_pretrained(\"openai/clip-vit-base-patch16\")\n",
    "\n",
    "# Assume that all your images are stored under the folder named \"rare_species\"\n",
    "root_directory = \"rare_species\"\n",
    "\n",
    "# Create dataset objects with the root_directory argument:\n",
    "train_dataset = RareSpeciesDataset(train_df, train_transforms, processor, root_directory)\n",
    "val_dataset   = RareSpeciesDataset(val_df, val_test_transforms, processor, root_directory)\n",
    "test_dataset  = RareSpeciesDataset(test_df, val_test_transforms, processor, root_directory)\n",
    "\n",
    "# Create the DataLoaders as before:\n",
    "train_loader = DataLoader(train_dataset, batch_size=32, num_workers=0, collate_fn=custom_collate_fn, sampler=sampler)\n",
    "val_loader = DataLoader(val_dataset, batch_size=32, shuffle=False, num_workers=0, collate_fn=custom_collate_fn)\n",
    "test_loader = DataLoader(test_dataset, batch_size=32, shuffle=False, num_workers=0, collate_fn=custom_collate_fn)"
   ]
  },
  {
   "cell_type": "markdown",
   "metadata": {},
   "source": [
    "## Model Setup"
   ]
  },
  {
   "cell_type": "code",
   "execution_count": null,
   "metadata": {},
   "outputs": [],
   "source": [
    "device = torch.device(\"cuda\" if torch.cuda.is_available() else \"cpu\")\n",
    "model = CLIPModel.from_pretrained(\"openai/clip-vit-base-patch16\").to(device)"
   ]
  },
  {
   "cell_type": "code",
   "execution_count": null,
   "metadata": {},
   "outputs": [],
   "source": [
    "# # save the model\n",
    "# model.save_pretrained(\"rare_species_clip_model\")\n",
    "# processor.save_pretrained(\"rare_species_clip_processor\")"
   ]
  },
  {
   "cell_type": "code",
   "execution_count": null,
   "metadata": {},
   "outputs": [],
   "source": [
    "# device = torch.device(\"cuda\" if torch.cuda.is_available() else \"cpu\")\n",
    "\n",
    "# # Load the model and processor\n",
    "# model = CLIPModel.from_pretrained(\"rare_species_clip_model\").to(device)\n",
    "# processor = CLIPProcessor.from_pretrained(\"rare_species_clip_processor\")"
   ]
  },
  {
   "cell_type": "code",
   "execution_count": null,
   "metadata": {},
   "outputs": [],
   "source": [
    "# optimizer = torch.optim.Adam(model.parameters(), lr=1e-4)\n",
    "# num_epochs = 40  # Adjust the number of epochs as needed\n",
    "\n",
    "# for epoch in range(num_epochs):\n",
    "#     model.train()\n",
    "#     total_loss = 0.0\n",
    "#     for images, captions in train_loader:\n",
    "#         # Process the list of PIL images and corresponding captions.\n",
    "#         inputs = processor(text=captions, images=images, return_tensors=\"pt\", padding=True)\n",
    "#         # Move all inputs to the proper device\n",
    "#         inputs = {k: v.to(device) for k, v in inputs.items()}\n",
    "        \n",
    "#         # Forward pass: get image and text embeddings from the model\n",
    "#         outputs = model(**inputs)\n",
    "#         image_embeds = outputs.image_embeds  # shape: [batch_size, embedding_dim]\n",
    "#         text_embeds = outputs.text_embeds    # shape: [batch_size, embedding_dim]\n",
    "        \n",
    "#         # Normalize embeddings to unit norm\n",
    "#         image_embeds = image_embeds / image_embeds.norm(dim=-1, keepdim=True)\n",
    "#         text_embeds = text_embeds / text_embeds.norm(dim=-1, keepdim=True)\n",
    "        \n",
    "#         # Compute cosine similarity\n",
    "#         logits_per_image = image_embeds @ text_embeds.t()\n",
    "#         logits_per_text = text_embeds @ image_embeds.t()\n",
    "        \n",
    "#         # Ground truth: the i-th image should match the i-th text.\n",
    "#         target = torch.arange(image_embeds.shape[0]).to(device)\n",
    "        \n",
    "#         loss_image = nn.CrossEntropyLoss()(logits_per_image, target)\n",
    "#         loss_text  = nn.CrossEntropyLoss()(logits_per_text, target)\n",
    "#         loss = (loss_image + loss_text) / 2\n",
    "        \n",
    "#         optimizer.zero_grad()\n",
    "#         loss.backward()\n",
    "#         optimizer.step()\n",
    "        \n",
    "#         total_loss += loss.item()\n",
    "        \n",
    "#     avg_loss = total_loss / len(train_loader)\n",
    "#     print(f\"Epoch {epoch+1}/{num_epochs}, Loss: {avg_loss:.4f}\")\n"
   ]
  },
  {
   "cell_type": "markdown",
   "metadata": {},
   "source": [
    "## Train and Evaluation"
   ]
  },
  {
   "cell_type": "code",
   "execution_count": null,
   "metadata": {},
   "outputs": [],
   "source": [
    "import os\n",
    "os.environ[\"TOKENIZERS_PARALLELISM\"] = \"false\""
   ]
  },
  {
   "cell_type": "code",
   "execution_count": null,
   "metadata": {},
   "outputs": [],
   "source": [
    "torch.backends.cudnn.benchmark = True"
   ]
  },
  {
   "cell_type": "code",
   "execution_count": null,
   "metadata": {},
   "outputs": [
    {
     "name": "stderr",
     "output_type": "stream",
     "text": [
      "Epoch 1/40:   0%|          | 0/17 [00:00<?, ?it/s]"
     ]
    },
    {
     "name": "stderr",
     "output_type": "stream",
     "text": [
      "                                                                      \r"
     ]
    },
    {
     "name": "stdout",
     "output_type": "stream",
     "text": [
      "Epoch 1/40 - Loss: 3.3029\n",
      "    Training   - Accuracy: 0.0484, F1 Score: 0.0331\n",
      "    Validation - Accuracy: 0.0615, F1 Score: 0.0258\n"
     ]
    },
    {
     "name": "stderr",
     "output_type": "stream",
     "text": [
      "                                                                      \r"
     ]
    },
    {
     "name": "stdout",
     "output_type": "stream",
     "text": [
      "Epoch 2/40 - Loss: 3.1759\n",
      "    Training   - Accuracy: 0.0542, F1 Score: 0.0362\n",
      "    Validation - Accuracy: 0.0538, F1 Score: 0.0182\n"
     ]
    },
    {
     "name": "stderr",
     "output_type": "stream",
     "text": [
      "                                                                      \r"
     ]
    },
    {
     "name": "stdout",
     "output_type": "stream",
     "text": [
      "Epoch 3/40 - Loss: 3.2300\n",
      "    Training   - Accuracy: 0.0484, F1 Score: 0.0374\n",
      "    Validation - Accuracy: 0.0385, F1 Score: 0.0125\n"
     ]
    },
    {
     "name": "stderr",
     "output_type": "stream",
     "text": [
      "                                                                      \r"
     ]
    },
    {
     "name": "stdout",
     "output_type": "stream",
     "text": [
      "Epoch 4/40 - Loss: 3.2020\n",
      "    Training   - Accuracy: 0.0522, F1 Score: 0.0387\n",
      "    Validation - Accuracy: 0.0462, F1 Score: 0.0294\n"
     ]
    },
    {
     "name": "stderr",
     "output_type": "stream",
     "text": [
      "                                                                      \r"
     ]
    },
    {
     "name": "stdout",
     "output_type": "stream",
     "text": [
      "Epoch 5/40 - Loss: 3.2847\n",
      "    Training   - Accuracy: 0.0658, F1 Score: 0.0534\n",
      "    Validation - Accuracy: 0.0615, F1 Score: 0.0326\n"
     ]
    },
    {
     "name": "stderr",
     "output_type": "stream",
     "text": [
      "                                                                      \r"
     ]
    },
    {
     "name": "stdout",
     "output_type": "stream",
     "text": [
      "Epoch 6/40 - Loss: 3.1482\n",
      "    Training   - Accuracy: 0.0503, F1 Score: 0.0443\n",
      "    Validation - Accuracy: 0.0538, F1 Score: 0.0321\n"
     ]
    },
    {
     "name": "stderr",
     "output_type": "stream",
     "text": [
      "                                                                      \r"
     ]
    },
    {
     "name": "stdout",
     "output_type": "stream",
     "text": [
      "Epoch 7/40 - Loss: 3.1825\n",
      "    Training   - Accuracy: 0.0619, F1 Score: 0.0422\n",
      "    Validation - Accuracy: 0.0538, F1 Score: 0.0328\n"
     ]
    },
    {
     "name": "stderr",
     "output_type": "stream",
     "text": [
      "                                                                      \r"
     ]
    },
    {
     "name": "stdout",
     "output_type": "stream",
     "text": [
      "Epoch 8/40 - Loss: 3.1508\n",
      "    Training   - Accuracy: 0.0638, F1 Score: 0.0564\n",
      "    Validation - Accuracy: 0.0462, F1 Score: 0.0147\n"
     ]
    },
    {
     "name": "stderr",
     "output_type": "stream",
     "text": [
      "                                                                      \r"
     ]
    },
    {
     "name": "stdout",
     "output_type": "stream",
     "text": [
      "Epoch 9/40 - Loss: 3.1261\n",
      "    Training   - Accuracy: 0.0735, F1 Score: 0.0584\n",
      "    Validation - Accuracy: 0.0538, F1 Score: 0.0282\n"
     ]
    },
    {
     "name": "stderr",
     "output_type": "stream",
     "text": [
      "                                                                       \r"
     ]
    },
    {
     "name": "stdout",
     "output_type": "stream",
     "text": [
      "Epoch 10/40 - Loss: 3.1150\n",
      "    Training   - Accuracy: 0.0638, F1 Score: 0.0478\n",
      "    Validation - Accuracy: 0.0615, F1 Score: 0.0395\n"
     ]
    },
    {
     "name": "stderr",
     "output_type": "stream",
     "text": [
      "                                                                       \r"
     ]
    },
    {
     "name": "stdout",
     "output_type": "stream",
     "text": [
      "Epoch 11/40 - Loss: 3.1454\n",
      "    Training   - Accuracy: 0.0619, F1 Score: 0.0465\n",
      "    Validation - Accuracy: 0.0538, F1 Score: 0.0311\n"
     ]
    },
    {
     "name": "stderr",
     "output_type": "stream",
     "text": [
      "                                                                       \r"
     ]
    },
    {
     "name": "stdout",
     "output_type": "stream",
     "text": [
      "Epoch 12/40 - Loss: 3.1440\n",
      "    Training   - Accuracy: 0.0870, F1 Score: 0.0661\n",
      "    Validation - Accuracy: 0.0615, F1 Score: 0.0316\n"
     ]
    },
    {
     "name": "stderr",
     "output_type": "stream",
     "text": [
      "                                                                       \r"
     ]
    },
    {
     "name": "stdout",
     "output_type": "stream",
     "text": [
      "Epoch 13/40 - Loss: 3.1256\n",
      "    Training   - Accuracy: 0.0600, F1 Score: 0.0404\n",
      "    Validation - Accuracy: 0.0846, F1 Score: 0.0709\n"
     ]
    },
    {
     "name": "stderr",
     "output_type": "stream",
     "text": [
      "                                                                       \r"
     ]
    },
    {
     "name": "stdout",
     "output_type": "stream",
     "text": [
      "Epoch 14/40 - Loss: 3.1642\n",
      "    Training   - Accuracy: 0.0561, F1 Score: 0.0477\n",
      "    Validation - Accuracy: 0.0615, F1 Score: 0.0322\n"
     ]
    },
    {
     "name": "stderr",
     "output_type": "stream",
     "text": [
      "                                                                       \r"
     ]
    },
    {
     "name": "stdout",
     "output_type": "stream",
     "text": [
      "Epoch 15/40 - Loss: 3.1708\n",
      "    Training   - Accuracy: 0.0658, F1 Score: 0.0553\n",
      "    Validation - Accuracy: 0.0615, F1 Score: 0.0500\n"
     ]
    },
    {
     "name": "stderr",
     "output_type": "stream",
     "text": [
      "                                                                       \r"
     ]
    },
    {
     "name": "stdout",
     "output_type": "stream",
     "text": [
      "Epoch 16/40 - Loss: 3.1811\n",
      "    Training   - Accuracy: 0.0735, F1 Score: 0.0604\n",
      "    Validation - Accuracy: 0.0769, F1 Score: 0.0547\n"
     ]
    },
    {
     "name": "stderr",
     "output_type": "stream",
     "text": [
      "                                                                       \r"
     ]
    },
    {
     "name": "stdout",
     "output_type": "stream",
     "text": [
      "Epoch 17/40 - Loss: 3.1745\n",
      "    Training   - Accuracy: 0.0580, F1 Score: 0.0466\n",
      "    Validation - Accuracy: 0.0615, F1 Score: 0.0340\n"
     ]
    },
    {
     "name": "stderr",
     "output_type": "stream",
     "text": [
      "                                                                       \r"
     ]
    },
    {
     "name": "stdout",
     "output_type": "stream",
     "text": [
      "Epoch 18/40 - Loss: 3.1114\n",
      "    Training   - Accuracy: 0.0696, F1 Score: 0.0562\n",
      "    Validation - Accuracy: 0.0462, F1 Score: 0.0323\n"
     ]
    },
    {
     "name": "stderr",
     "output_type": "stream",
     "text": [
      "                                                                       \r"
     ]
    },
    {
     "name": "stdout",
     "output_type": "stream",
     "text": [
      "Epoch 19/40 - Loss: 3.1387\n",
      "    Training   - Accuracy: 0.0677, F1 Score: 0.0512\n",
      "    Validation - Accuracy: 0.0692, F1 Score: 0.0467\n"
     ]
    },
    {
     "name": "stderr",
     "output_type": "stream",
     "text": [
      "                                                                       \r"
     ]
    },
    {
     "name": "stdout",
     "output_type": "stream",
     "text": [
      "Epoch 20/40 - Loss: 3.0758\n",
      "    Training   - Accuracy: 0.0638, F1 Score: 0.0436\n",
      "    Validation - Accuracy: 0.0385, F1 Score: 0.0246\n"
     ]
    },
    {
     "name": "stderr",
     "output_type": "stream",
     "text": [
      "                                                                       \r"
     ]
    },
    {
     "name": "stdout",
     "output_type": "stream",
     "text": [
      "Epoch 21/40 - Loss: 3.1484\n",
      "    Training   - Accuracy: 0.0561, F1 Score: 0.0390\n",
      "    Validation - Accuracy: 0.0846, F1 Score: 0.0575\n"
     ]
    },
    {
     "name": "stderr",
     "output_type": "stream",
     "text": [
      "                                                                       \r"
     ]
    },
    {
     "name": "stdout",
     "output_type": "stream",
     "text": [
      "Epoch 22/40 - Loss: 3.2219\n",
      "    Training   - Accuracy: 0.0658, F1 Score: 0.0481\n",
      "    Validation - Accuracy: 0.0462, F1 Score: 0.0391\n"
     ]
    },
    {
     "name": "stderr",
     "output_type": "stream",
     "text": [
      "                                                                       \r"
     ]
    },
    {
     "name": "stdout",
     "output_type": "stream",
     "text": [
      "Epoch 23/40 - Loss: 3.3195\n",
      "    Training   - Accuracy: 0.0309, F1 Score: 0.0192\n",
      "    Validation - Accuracy: 0.0385, F1 Score: 0.0147\n"
     ]
    },
    {
     "name": "stderr",
     "output_type": "stream",
     "text": [
      "                                                                       \r"
     ]
    },
    {
     "name": "stdout",
     "output_type": "stream",
     "text": [
      "Epoch 24/40 - Loss: 3.3565\n",
      "    Training   - Accuracy: 0.0290, F1 Score: 0.0145\n",
      "    Validation - Accuracy: 0.0231, F1 Score: 0.0126\n"
     ]
    },
    {
     "name": "stderr",
     "output_type": "stream",
     "text": [
      "                                                                       \r"
     ]
    },
    {
     "name": "stdout",
     "output_type": "stream",
     "text": [
      "Epoch 25/40 - Loss: 3.3285\n",
      "    Training   - Accuracy: 0.0271, F1 Score: 0.0144\n",
      "    Validation - Accuracy: 0.0385, F1 Score: 0.0160\n"
     ]
    },
    {
     "name": "stderr",
     "output_type": "stream",
     "text": [
      "                                                                       \r"
     ]
    },
    {
     "name": "stdout",
     "output_type": "stream",
     "text": [
      "Epoch 26/40 - Loss: 3.3389\n",
      "    Training   - Accuracy: 0.0193, F1 Score: 0.0095\n",
      "    Validation - Accuracy: 0.0308, F1 Score: 0.0271\n"
     ]
    },
    {
     "name": "stderr",
     "output_type": "stream",
     "text": [
      "                                                                       \r"
     ]
    },
    {
     "name": "stdout",
     "output_type": "stream",
     "text": [
      "Epoch 27/40 - Loss: 3.2988\n",
      "    Training   - Accuracy: 0.0290, F1 Score: 0.0157\n",
      "    Validation - Accuracy: 0.0154, F1 Score: 0.0065\n"
     ]
    },
    {
     "name": "stderr",
     "output_type": "stream",
     "text": [
      "                                                                       \r"
     ]
    },
    {
     "name": "stdout",
     "output_type": "stream",
     "text": [
      "Epoch 28/40 - Loss: 3.3239\n",
      "    Training   - Accuracy: 0.0193, F1 Score: 0.0138\n",
      "    Validation - Accuracy: 0.0308, F1 Score: 0.0166\n"
     ]
    },
    {
     "name": "stderr",
     "output_type": "stream",
     "text": [
      "                                                                       \r"
     ]
    },
    {
     "name": "stdout",
     "output_type": "stream",
     "text": [
      "Epoch 29/40 - Loss: 3.3025\n",
      "    Training   - Accuracy: 0.0445, F1 Score: 0.0326\n",
      "    Validation - Accuracy: 0.0385, F1 Score: 0.0186\n"
     ]
    },
    {
     "name": "stderr",
     "output_type": "stream",
     "text": [
      "                                                                       \r"
     ]
    },
    {
     "name": "stdout",
     "output_type": "stream",
     "text": [
      "Epoch 30/40 - Loss: 3.2821\n",
      "    Training   - Accuracy: 0.0387, F1 Score: 0.0286\n",
      "    Validation - Accuracy: 0.0385, F1 Score: 0.0241\n"
     ]
    },
    {
     "name": "stderr",
     "output_type": "stream",
     "text": [
      "                                                                       \r"
     ]
    },
    {
     "name": "stdout",
     "output_type": "stream",
     "text": [
      "Epoch 31/40 - Loss: 3.2880\n",
      "    Training   - Accuracy: 0.0619, F1 Score: 0.0469\n",
      "    Validation - Accuracy: 0.0308, F1 Score: 0.0190\n"
     ]
    },
    {
     "name": "stderr",
     "output_type": "stream",
     "text": [
      "                                                                       \r"
     ]
    },
    {
     "name": "stdout",
     "output_type": "stream",
     "text": [
      "Epoch 32/40 - Loss: 3.2443\n",
      "    Training   - Accuracy: 0.0561, F1 Score: 0.0439\n",
      "    Validation - Accuracy: 0.0308, F1 Score: 0.0170\n"
     ]
    },
    {
     "name": "stderr",
     "output_type": "stream",
     "text": [
      "                                                                       \r"
     ]
    },
    {
     "name": "stdout",
     "output_type": "stream",
     "text": [
      "Epoch 33/40 - Loss: 3.2085\n",
      "    Training   - Accuracy: 0.0812, F1 Score: 0.0757\n",
      "    Validation - Accuracy: 0.0231, F1 Score: 0.0126\n"
     ]
    },
    {
     "name": "stderr",
     "output_type": "stream",
     "text": [
      "                                                                       \r"
     ]
    },
    {
     "name": "stdout",
     "output_type": "stream",
     "text": [
      "Epoch 34/40 - Loss: 3.1239\n",
      "    Training   - Accuracy: 0.0948, F1 Score: 0.0719\n",
      "    Validation - Accuracy: 0.0462, F1 Score: 0.0244\n"
     ]
    },
    {
     "name": "stderr",
     "output_type": "stream",
     "text": [
      "                                                                       \r"
     ]
    },
    {
     "name": "stdout",
     "output_type": "stream",
     "text": [
      "Epoch 35/40 - Loss: 3.1324\n",
      "    Training   - Accuracy: 0.0851, F1 Score: 0.0715\n",
      "    Validation - Accuracy: 0.0692, F1 Score: 0.0366\n"
     ]
    },
    {
     "name": "stderr",
     "output_type": "stream",
     "text": [
      "                                                                       \r"
     ]
    },
    {
     "name": "stdout",
     "output_type": "stream",
     "text": [
      "Epoch 36/40 - Loss: 3.1370\n",
      "    Training   - Accuracy: 0.0851, F1 Score: 0.0748\n",
      "    Validation - Accuracy: 0.0615, F1 Score: 0.0384\n"
     ]
    },
    {
     "name": "stderr",
     "output_type": "stream",
     "text": [
      "                                                                       \r"
     ]
    },
    {
     "name": "stdout",
     "output_type": "stream",
     "text": [
      "Epoch 37/40 - Loss: 3.1447\n",
      "    Training   - Accuracy: 0.0561, F1 Score: 0.0381\n",
      "    Validation - Accuracy: 0.0615, F1 Score: 0.0480\n"
     ]
    },
    {
     "name": "stderr",
     "output_type": "stream",
     "text": [
      "                                                                       \r"
     ]
    },
    {
     "name": "stdout",
     "output_type": "stream",
     "text": [
      "Epoch 38/40 - Loss: 3.1016\n",
      "    Training   - Accuracy: 0.0716, F1 Score: 0.0519\n",
      "    Validation - Accuracy: 0.0769, F1 Score: 0.0641\n"
     ]
    },
    {
     "name": "stderr",
     "output_type": "stream",
     "text": [
      "                                                                       \r"
     ]
    },
    {
     "name": "stdout",
     "output_type": "stream",
     "text": [
      "Epoch 39/40 - Loss: 3.0580\n",
      "    Training   - Accuracy: 0.0754, F1 Score: 0.0573\n",
      "    Validation - Accuracy: 0.0769, F1 Score: 0.0486\n"
     ]
    },
    {
     "name": "stderr",
     "output_type": "stream",
     "text": [
      "                                                                       \r"
     ]
    },
    {
     "name": "stdout",
     "output_type": "stream",
     "text": [
      "Epoch 40/40 - Loss: 3.0212\n",
      "    Training   - Accuracy: 0.0735, F1 Score: 0.0566\n",
      "    Validation - Accuracy: 0.0846, F1 Score: 0.0554\n"
     ]
    }
   ],
   "source": [
    "import numpy as np\n",
    "from sklearn.metrics import f1_score\n",
    "import torch\n",
    "from torch import nn\n",
    "from tqdm import tqdm  # progress bar\n",
    "from torch.amp import autocast, GradScaler  # new API usage\n",
    "\n",
    "# Modified evaluation function remains unchanged\n",
    "def evaluate_model(loader, model, processor, device):\n",
    "    model.eval()\n",
    "    all_preds = []\n",
    "    all_targets = []\n",
    "    with torch.no_grad():\n",
    "        for images, captions in tqdm(loader, desc=\"Evaluating\", leave=False):\n",
    "            inputs = processor(text=captions, images=images, return_tensors=\"pt\", padding=True)\n",
    "            inputs = {k: v.to(device) for k, v in inputs.items()}\n",
    "            \n",
    "            outputs = model(**inputs)\n",
    "            image_embeds = outputs.image_embeds\n",
    "            text_embeds  = outputs.text_embeds\n",
    "            \n",
    "            image_embeds = image_embeds / image_embeds.norm(dim=-1, keepdim=True)\n",
    "            text_embeds  = text_embeds / text_embeds.norm(dim=-1, keepdim=True)\n",
    "            \n",
    "            sims = image_embeds @ text_embeds.t()\n",
    "            \n",
    "            preds = sims.argmax(dim=1).cpu().numpy()\n",
    "            targets = np.arange(sims.shape[0])\n",
    "            \n",
    "            all_preds.extend(preds)\n",
    "            all_targets.extend(targets)\n",
    "            \n",
    "    all_preds = np.array(all_preds)\n",
    "    all_targets = np.array(all_targets)\n",
    "    accuracy = np.mean(all_preds == all_targets)\n",
    "    f1 = f1_score(all_targets, all_preds, average='macro')\n",
    "    return accuracy, f1\n",
    "\n",
    "# History lists for tracking metrics over epochs\n",
    "num_epochs = 40\n",
    "optimizer = torch.optim.Adam(model.parameters(), lr=1e-4)\n",
    "scaler = GradScaler(device='cuda')  # Initialize the scaler with device_type\n",
    "\n",
    "train_loss_history = [] \n",
    "train_acc_history, train_f1_history = [], []\n",
    "val_acc_history, val_f1_history = [], []\n",
    "\n",
    "for epoch in range(num_epochs):\n",
    "    model.train()\n",
    "    running_loss = 0.0\n",
    "    \n",
    "    train_bar = tqdm(train_loader, desc=f\"Epoch {epoch+1}/{num_epochs}\", leave=False)\n",
    "    for images, captions in train_bar:\n",
    "        optimizer.zero_grad()\n",
    "        inputs = processor(text=captions, images=images, return_tensors=\"pt\", padding=True)\n",
    "        inputs = {k: v.to(device) for k, v in inputs.items()}\n",
    "        \n",
    "        with autocast(device_type='cuda'):\n",
    "            outputs = model(**inputs)\n",
    "            image_embeds = outputs.image_embeds\n",
    "            text_embeds  = outputs.text_embeds\n",
    "            \n",
    "            image_embeds = image_embeds / image_embeds.norm(dim=-1, keepdim=True)\n",
    "            text_embeds  = text_embeds  / text_embeds.norm(dim=-1, keepdim=True)\n",
    "            \n",
    "            logits_per_image = image_embeds @ text_embeds.t()\n",
    "            logits_per_text  = text_embeds @ image_embeds.t()\n",
    "            \n",
    "            target = torch.arange(image_embeds.shape[0]).to(device)\n",
    "            \n",
    "            loss_img = nn.CrossEntropyLoss()(logits_per_image, target)\n",
    "            loss_txt = nn.CrossEntropyLoss()(logits_per_text, target)\n",
    "            loss = (loss_img + loss_txt) / 2\n",
    "        \n",
    "        scaler.scale(loss).backward()\n",
    "        scaler.step(optimizer)\n",
    "        scaler.update()\n",
    "        \n",
    "        running_loss += loss.item()\n",
    "        train_bar.set_postfix(loss=loss.item())\n",
    "    \n",
    "    avg_loss = running_loss / len(train_loader)\n",
    "    train_loss_history.append(avg_loss)\n",
    "    \n",
    "    train_accuracy, train_f1 = evaluate_model(train_loader, model, processor, device)\n",
    "    val_accuracy, val_f1 = evaluate_model(val_loader, model, processor, device)\n",
    "    \n",
    "    train_acc_history.append(train_accuracy)\n",
    "    train_f1_history.append(train_f1)\n",
    "    val_acc_history.append(val_accuracy)\n",
    "    val_f1_history.append(val_f1)\n",
    "    \n",
    "    print(f\"Epoch {epoch+1}/{num_epochs} - Loss: {avg_loss:.4f}\")\n",
    "    print(f\"    Training   - Accuracy: {train_accuracy:.4f}, F1 Score: {train_f1:.4f}\")\n",
    "    print(f\"    Validation - Accuracy: {val_accuracy:.4f}, F1 Score: {val_f1:.4f}\")\n",
    "\n",
    "# Save the model and processor\n",
    "model.save_pretrained(\"rare_species_clip_model\")\n",
    "processor.save_pretrained(\"rare_species_clip_processor\")\n",
    "\n",
    "# Save the training history\n",
    "import pandas as pd\n",
    "history_df = pd.DataFrame({\n",
    "    \"train_loss\": train_loss_history,\n",
    "    \"train_accuracy\": train_acc_history,\n",
    "    \"train_f1\": train_f1_history,\n",
    "    \"val_accuracy\": val_acc_history,\n",
    "    \"val_f1\": val_f1_history\n",
    "})\n",
    "history_df.to_csv(\"training_history.csv\", index=False)"
   ]
  },
  {
   "cell_type": "code",
   "execution_count": null,
   "metadata": {},
   "outputs": [
    {
     "data": {
      "image/png": "[encoded data removed]",
      "text/plain": [
       "<Figure size 1400x600 with 2 Axes>"
      ]
     },
     "metadata": {},
     "output_type": "display_data"
    }
   ],
   "source": [
    "#plot the training history and validation history\n",
    "import matplotlib.pyplot as plt\n",
    "import seaborn as sns\n",
    "def plot_training_history(history_df):\n",
    "    plt.figure(figsize=(14, 6))\n",
    "\n",
    "    # Loss\n",
    "    plt.subplot(1, 2, 1)\n",
    "    plt.plot(history_df['train_loss'], label='Train Loss', color='blue')\n",
    "    plt.title('Training Loss')\n",
    "    plt.xlabel('Epochs')\n",
    "    plt.ylabel('Loss')\n",
    "    plt.legend()\n",
    "\n",
    "    # Accuracy\n",
    "    plt.subplot(1, 2, 2)\n",
    "    plt.plot(history_df['train_accuracy'], label='Train Accuracy', color='green')\n",
    "    plt.plot(history_df['val_accuracy'], label='Validation Accuracy', color='orange')\n",
    "    plt.title('Training and Validation Accuracy')\n",
    "    plt.xlabel('Epochs')\n",
    "    plt.ylabel('Accuracy')\n",
    "    plt.legend()\n",
    "\n",
    "    plt.tight_layout()\n",
    "    plt.show()\n",
    "plot_training_history(history_df)"
   ]
  }
 ],
 "metadata": {
  "kernelspec": {
   "display_name": "tf-gpu",
   "language": "python",
   "name": "python3"
  },
  "language_info": {
   "codemirror_mode": {
    "name": "ipython",
    "version": 3
   },
   "file_extension": ".py",
   "mimetype": "text/x-python",
   "name": "python",
   "nbconvert_exporter": "python",
   "pygments_lexer": "ipython3",
   "version": "3.12.3"
  }
 },
 "nbformat": 4,
 "nbformat_minor": 2
}
