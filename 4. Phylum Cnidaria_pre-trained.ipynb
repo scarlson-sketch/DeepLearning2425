{
 "cells": [
  {
   "cell_type": "markdown",
   "metadata": {},
   "source": [
    "## **<h3 align=\"center\"> Deep Learning - Project </h3>**\n",
    "# **<h3 align=\"center\"> Phylum Cnidaria - Tim </h3>**\n",
    "**Group 4 members:**<br>\n",
    "Alexandra Pinto - 20211599@novaims.unl.pt - 20211599<br>\n",
    "Steven Carlson - 20240554@novaims.unl.pt - 20240554<br>\n",
    "Sven Goerdes - 20240503@novaims.unl.pt - 20240503<br>\n",
    "Tim Straub - 20240505@novaims.unl.pt - 20240505<br>\n",
    "Zofia Wojcik  - 20240654@novaims.unl.pt - 20240654<br>"
   ]
  },
  {
   "cell_type": "markdown",
   "metadata": {},
   "source": [
    "# Table of Contents\n",
    "* [1. Introduction](#intro)\n",
    "* [2. Setup](#setup)\n",
    "* [3. Data Loading](#dataloading)\n",
    "* [4. Image Preprocessing](#imagepreprocessing)\n",
    "* [5. Neural Networks Models](#nnmodels)\n",
    "\n"
   ]
  },
  {
   "cell_type": "markdown",
   "metadata": {},
   "source": [
    "# 1. Introduction <a class=\"anchor\" id=\"intro\"></a>\n",
    "\n",
    "In this third notebook, we will preprocess images from the **Chordata** phylum and develop a deep learning model to accurately classify them at the family level."
   ]
  },
  {
   "cell_type": "markdown",
   "metadata": {},
   "source": [
    "# 2. Setup <a class=\"anchor\" id=\"setup\"></a>\n",
    "In this section, we will import the necessary libraries that will be used throughout the notebook. These libraries will help with data handling and image processing."
   ]
  },
  {
   "cell_type": "code",
   "execution_count": 47,
   "metadata": {},
   "outputs": [],
   "source": [
    "# Standard libraries\n",
    "import pandas as pd\n",
    "import numpy as np\n",
    "import os\n",
    "import matplotlib.pyplot as plt\n",
    "import zipfile\n",
    "import seaborn as sns\n",
    "\n",
    "# Libraries for image processing\n",
    "from glob import glob\n",
    "from PIL import Image\n",
    "\n",
    "from tensorflow.keras.applications import MobileNetV2\n",
    "from tensorflow.keras.applications.mobilenet_v2 import preprocess_input as mobilenet_preprocess\n",
    "import keras_tuner as kt\n",
    "from tensorflow.keras import models, layers, optimizers, regularizers\n",
    "from tensorflow.keras.applications import MobileNetV2\n",
    "\n",
    "from tensorflow.keras.applications import InceptionV3\n",
    "from tensorflow.keras.applications.inception_v3 import preprocess_input as inception_preprocess\n",
    "from tensorflow.keras import layers, models, optimizers\n",
    "from sklearn.model_selection import train_test_split"
   ]
  },
  {
   "cell_type": "code",
   "execution_count": 48,
   "metadata": {},
   "outputs": [
    {
     "name": "stdout",
     "output_type": "stream",
     "text": [
      "Memory growth set for GPUs\n"
     ]
    }
   ],
   "source": [
    "import tensorflow as tf\n",
    "gpus = tf.config.list_physical_devices('GPU')\n",
    "if gpus:\n",
    "    try:\n",
    "        for gpu in gpus:\n",
    "            tf.config.experimental.set_memory_growth(gpu, True)\n",
    "        print(\"Memory growth set for GPUs\")\n",
    "    except RuntimeError as e:\n",
    "        print(e)\n"
   ]
  },
  {
   "cell_type": "markdown",
   "metadata": {},
   "source": [
    "# 3. Data Loading <a class=\"anchor\" id=\"dataloading\"></a>\n",
    "\n",
    "Let's open the train and test for Chordata Phylum."
   ]
  },
  {
   "cell_type": "code",
   "execution_count": 49,
   "metadata": {},
   "outputs": [
    {
     "data": {
      "text/html": [
       "<div>\n",
       "<style scoped>\n",
       "    .dataframe tbody tr th:only-of-type {\n",
       "        vertical-align: middle;\n",
       "    }\n",
       "\n",
       "    .dataframe tbody tr th {\n",
       "        vertical-align: top;\n",
       "    }\n",
       "\n",
       "    .dataframe thead th {\n",
       "        text-align: right;\n",
       "    }\n",
       "</style>\n",
       "<table border=\"1\" class=\"dataframe\">\n",
       "  <thead>\n",
       "    <tr style=\"text-align: right;\">\n",
       "      <th></th>\n",
       "      <th>eol_content_id</th>\n",
       "      <th>eol_page_id</th>\n",
       "      <th>kingdom</th>\n",
       "      <th>phylum</th>\n",
       "      <th>family</th>\n",
       "      <th>file_path</th>\n",
       "      <th>resized_image</th>\n",
       "      <th>clahe_image</th>\n",
       "      <th>noBackground_image</th>\n",
       "      <th>has_black_background</th>\n",
       "      <th>mixed_image</th>\n",
       "    </tr>\n",
       "  </thead>\n",
       "  <tbody>\n",
       "    <tr>\n",
       "      <th>0</th>\n",
       "      <td>28219388</td>\n",
       "      <td>45276311</td>\n",
       "      <td>animalia</td>\n",
       "      <td>cnidaria</td>\n",
       "      <td>acroporidae</td>\n",
       "      <td>cnidaria_acroporidae/28219388_45276311_eol-ful...</td>\n",
       "      <td>[[[76, 74, 71], [73, 70, 71], [74, 71, 72], [7...</td>\n",
       "      <td>[[[72, 70, 67], [57, 53, 54], [58, 56, 57], [8...</td>\n",
       "      <td>[[[0, 0, 0], [0, 0, 0], [0, 0, 0], [0, 0, 0], ...</td>\n",
       "      <td>False</td>\n",
       "      <td>[[[0, 0, 0], [0, 0, 0], [0, 0, 0], [0, 0, 0], ...</td>\n",
       "    </tr>\n",
       "    <tr>\n",
       "      <th>1</th>\n",
       "      <td>29729570</td>\n",
       "      <td>45276321</td>\n",
       "      <td>animalia</td>\n",
       "      <td>cnidaria</td>\n",
       "      <td>acroporidae</td>\n",
       "      <td>cnidaria_acroporidae/29729570_45276321_eol-ful...</td>\n",
       "      <td>[[[202, 202, 170], [195, 186, 156], [209, 197,...</td>\n",
       "      <td>[[[157, 157, 126], [135, 128, 100], [158, 149,...</td>\n",
       "      <td>[[[0, 0, 0], [0, 0, 0], [0, 0, 0], [0, 0, 0], ...</td>\n",
       "      <td>False</td>\n",
       "      <td>[[[0, 0, 0], [0, 0, 0], [0, 0, 0], [0, 0, 0], ...</td>\n",
       "    </tr>\n",
       "    <tr>\n",
       "      <th>2</th>\n",
       "      <td>20332243</td>\n",
       "      <td>46545536</td>\n",
       "      <td>animalia</td>\n",
       "      <td>cnidaria</td>\n",
       "      <td>lobophylliidae</td>\n",
       "      <td>cnidaria_lobophylliidae/20332243_46545536_eol-...</td>\n",
       "      <td>[[[8, 159, 90], [9, 183, 111], [2, 212, 128], ...</td>\n",
       "      <td>[[[0, 78, 19], [0, 113, 49], [0, 185, 103], [0...</td>\n",
       "      <td>[[[0, 0, 0], [0, 0, 0], [0, 0, 0], [0, 0, 0], ...</td>\n",
       "      <td>False</td>\n",
       "      <td>[[[0, 0, 0], [0, 0, 0], [0, 0, 0], [0, 0, 0], ...</td>\n",
       "    </tr>\n",
       "  </tbody>\n",
       "</table>\n",
       "</div>"
      ],
      "text/plain": [
       "   eol_content_id  eol_page_id   kingdom    phylum          family  \\\n",
       "0        28219388     45276311  animalia  cnidaria     acroporidae   \n",
       "1        29729570     45276321  animalia  cnidaria     acroporidae   \n",
       "2        20332243     46545536  animalia  cnidaria  lobophylliidae   \n",
       "\n",
       "                                           file_path  \\\n",
       "0  cnidaria_acroporidae/28219388_45276311_eol-ful...   \n",
       "1  cnidaria_acroporidae/29729570_45276321_eol-ful...   \n",
       "2  cnidaria_lobophylliidae/20332243_46545536_eol-...   \n",
       "\n",
       "                                       resized_image  \\\n",
       "0  [[[76, 74, 71], [73, 70, 71], [74, 71, 72], [7...   \n",
       "1  [[[202, 202, 170], [195, 186, 156], [209, 197,...   \n",
       "2  [[[8, 159, 90], [9, 183, 111], [2, 212, 128], ...   \n",
       "\n",
       "                                         clahe_image  \\\n",
       "0  [[[72, 70, 67], [57, 53, 54], [58, 56, 57], [8...   \n",
       "1  [[[157, 157, 126], [135, 128, 100], [158, 149,...   \n",
       "2  [[[0, 78, 19], [0, 113, 49], [0, 185, 103], [0...   \n",
       "\n",
       "                                  noBackground_image  has_black_background  \\\n",
       "0  [[[0, 0, 0], [0, 0, 0], [0, 0, 0], [0, 0, 0], ...                 False   \n",
       "1  [[[0, 0, 0], [0, 0, 0], [0, 0, 0], [0, 0, 0], ...                 False   \n",
       "2  [[[0, 0, 0], [0, 0, 0], [0, 0, 0], [0, 0, 0], ...                 False   \n",
       "\n",
       "                                         mixed_image  \n",
       "0  [[[0, 0, 0], [0, 0, 0], [0, 0, 0], [0, 0, 0], ...  \n",
       "1  [[[0, 0, 0], [0, 0, 0], [0, 0, 0], [0, 0, 0], ...  \n",
       "2  [[[0, 0, 0], [0, 0, 0], [0, 0, 0], [0, 0, 0], ...  "
      ]
     },
     "execution_count": 49,
     "metadata": {},
     "output_type": "execute_result"
    }
   ],
   "source": [
    "# Load the DataFrame from the CSV file\n",
    "cnidaria_train = pd.read_pickle(\"train_test_splits/cnidaria_train_processed.pkl\")\n",
    "cnidaria_train.head(3)"
   ]
  },
  {
   "cell_type": "code",
   "execution_count": 50,
   "metadata": {},
   "outputs": [
    {
     "data": {
      "text/html": [
       "<div>\n",
       "<style scoped>\n",
       "    .dataframe tbody tr th:only-of-type {\n",
       "        vertical-align: middle;\n",
       "    }\n",
       "\n",
       "    .dataframe tbody tr th {\n",
       "        vertical-align: top;\n",
       "    }\n",
       "\n",
       "    .dataframe thead th {\n",
       "        text-align: right;\n",
       "    }\n",
       "</style>\n",
       "<table border=\"1\" class=\"dataframe\">\n",
       "  <thead>\n",
       "    <tr style=\"text-align: right;\">\n",
       "      <th></th>\n",
       "      <th>eol_content_id</th>\n",
       "      <th>eol_page_id</th>\n",
       "      <th>kingdom</th>\n",
       "      <th>phylum</th>\n",
       "      <th>family</th>\n",
       "      <th>file_path</th>\n",
       "      <th>resized_image</th>\n",
       "      <th>clahe_image</th>\n",
       "      <th>noBackground_image</th>\n",
       "      <th>has_black_background</th>\n",
       "      <th>mixed_image</th>\n",
       "    </tr>\n",
       "  </thead>\n",
       "  <tbody>\n",
       "    <tr>\n",
       "      <th>0</th>\n",
       "      <td>21699228</td>\n",
       "      <td>45276518</td>\n",
       "      <td>animalia</td>\n",
       "      <td>cnidaria</td>\n",
       "      <td>agariciidae</td>\n",
       "      <td>cnidaria_agariciidae/21699228_45276518_eol-ful...</td>\n",
       "      <td>[[[81, 148, 190], [83, 150, 192], [84, 151, 19...</td>\n",
       "      <td>[[[85, 152, 193], [94, 160, 202], [94, 160, 20...</td>\n",
       "      <td>[[[0, 0, 0], [0, 0, 0], [0, 0, 0], [0, 0, 0], ...</td>\n",
       "      <td>True</td>\n",
       "      <td>[[[85, 152, 193], [94, 160, 202], [94, 160, 20...</td>\n",
       "    </tr>\n",
       "    <tr>\n",
       "      <th>1</th>\n",
       "      <td>2746810</td>\n",
       "      <td>45276959</td>\n",
       "      <td>animalia</td>\n",
       "      <td>cnidaria</td>\n",
       "      <td>siderastreidae</td>\n",
       "      <td>cnidaria_siderastreidae/2746810_45276959_eol-f...</td>\n",
       "      <td>[[[192, 220, 224], [193, 221, 225], [193, 221,...</td>\n",
       "      <td>[[[122, 147, 151], [124, 149, 153], [124, 149,...</td>\n",
       "      <td>[[[0, 0, 0], [0, 0, 0], [0, 0, 0], [0, 0, 0], ...</td>\n",
       "      <td>False</td>\n",
       "      <td>[[[0, 0, 0], [0, 0, 0], [0, 0, 0], [0, 0, 0], ...</td>\n",
       "    </tr>\n",
       "    <tr>\n",
       "      <th>2</th>\n",
       "      <td>29729172</td>\n",
       "      <td>45276583</td>\n",
       "      <td>animalia</td>\n",
       "      <td>cnidaria</td>\n",
       "      <td>fungiidae</td>\n",
       "      <td>cnidaria_fungiidae/29729172_45276583_eol-full-...</td>\n",
       "      <td>[[[128, 147, 84], [49, 62, 51], [50, 61, 71], ...</td>\n",
       "      <td>[[[183, 203, 137], [12, 25, 14], [15, 27, 36],...</td>\n",
       "      <td>[[[0, 0, 0], [0, 0, 0], [0, 0, 0], [0, 0, 0], ...</td>\n",
       "      <td>False</td>\n",
       "      <td>[[[0, 0, 0], [0, 0, 0], [0, 0, 0], [0, 0, 0], ...</td>\n",
       "    </tr>\n",
       "  </tbody>\n",
       "</table>\n",
       "</div>"
      ],
      "text/plain": [
       "   eol_content_id  eol_page_id   kingdom    phylum          family  \\\n",
       "0        21699228     45276518  animalia  cnidaria     agariciidae   \n",
       "1         2746810     45276959  animalia  cnidaria  siderastreidae   \n",
       "2        29729172     45276583  animalia  cnidaria       fungiidae   \n",
       "\n",
       "                                           file_path  \\\n",
       "0  cnidaria_agariciidae/21699228_45276518_eol-ful...   \n",
       "1  cnidaria_siderastreidae/2746810_45276959_eol-f...   \n",
       "2  cnidaria_fungiidae/29729172_45276583_eol-full-...   \n",
       "\n",
       "                                       resized_image  \\\n",
       "0  [[[81, 148, 190], [83, 150, 192], [84, 151, 19...   \n",
       "1  [[[192, 220, 224], [193, 221, 225], [193, 221,...   \n",
       "2  [[[128, 147, 84], [49, 62, 51], [50, 61, 71], ...   \n",
       "\n",
       "                                         clahe_image  \\\n",
       "0  [[[85, 152, 193], [94, 160, 202], [94, 160, 20...   \n",
       "1  [[[122, 147, 151], [124, 149, 153], [124, 149,...   \n",
       "2  [[[183, 203, 137], [12, 25, 14], [15, 27, 36],...   \n",
       "\n",
       "                                  noBackground_image  has_black_background  \\\n",
       "0  [[[0, 0, 0], [0, 0, 0], [0, 0, 0], [0, 0, 0], ...                  True   \n",
       "1  [[[0, 0, 0], [0, 0, 0], [0, 0, 0], [0, 0, 0], ...                 False   \n",
       "2  [[[0, 0, 0], [0, 0, 0], [0, 0, 0], [0, 0, 0], ...                 False   \n",
       "\n",
       "                                         mixed_image  \n",
       "0  [[[85, 152, 193], [94, 160, 202], [94, 160, 20...  \n",
       "1  [[[0, 0, 0], [0, 0, 0], [0, 0, 0], [0, 0, 0], ...  \n",
       "2  [[[0, 0, 0], [0, 0, 0], [0, 0, 0], [0, 0, 0], ...  "
      ]
     },
     "execution_count": 50,
     "metadata": {},
     "output_type": "execute_result"
    }
   ],
   "source": [
    "# Load the DataFrame from the CSV file\n",
    "cnidaria_test = pd.read_pickle(\"train_test_splits/cnidaria_test_processed.pkl\")\n",
    "cnidaria_test.head(3)"
   ]
  },
  {
   "cell_type": "code",
   "execution_count": 51,
   "metadata": {},
   "outputs": [
    {
     "data": {
      "text/plain": [
       "((647, 11), (162, 11))"
      ]
     },
     "execution_count": 51,
     "metadata": {},
     "output_type": "execute_result"
    }
   ],
   "source": [
    "cnidaria_train.shape, cnidaria_test.shape"
   ]
  },
  {
   "cell_type": "code",
   "execution_count": 52,
   "metadata": {},
   "outputs": [
    {
     "data": {
      "text/plain": [
       "family\n",
       "acroporidae         168\n",
       "agariciidae          95\n",
       "euphylliidae         72\n",
       "faviidae             48\n",
       "merulinidae          48\n",
       "pocilloporidae       48\n",
       "helioporidae         24\n",
       "lobophylliidae       24\n",
       "dendrophylliidae     24\n",
       "siderastreidae       24\n",
       "fungiidae            24\n",
       "diploastraeidae      24\n",
       "meandrinidae         24\n",
       "Name: count, dtype: int64"
      ]
     },
     "execution_count": 52,
     "metadata": {},
     "output_type": "execute_result"
    }
   ],
   "source": [
    "cnidaria_train['family'].value_counts()"
   ]
  },
  {
   "cell_type": "code",
   "execution_count": 53,
   "metadata": {},
   "outputs": [
    {
     "data": {
      "text/plain": [
       "13"
      ]
     },
     "execution_count": 53,
     "metadata": {},
     "output_type": "execute_result"
    }
   ],
   "source": [
    "cnidaria_train[\"family\"].nunique()"
   ]
  },
  {
   "cell_type": "markdown",
   "metadata": {},
   "source": [
    "## Splitting Train "
   ]
  },
  {
   "cell_type": "code",
   "execution_count": 54,
   "metadata": {},
   "outputs": [],
   "source": [
    "#train test split with cnidaria_train\n",
    "cnidaria_train, cnidaria_val = train_test_split(cnidaria_train, test_size=0.2, stratify=cnidaria_train[\"family\"], random_state=42)\n"
   ]
  },
  {
   "cell_type": "markdown",
   "metadata": {},
   "source": [
    "# 4. Image Preprocessing <a class=\"anchor\" id=\"imagepreprocessing\"></a>"
   ]
  },
  {
   "cell_type": "markdown",
   "metadata": {},
   "source": [
    "## 4.2 Advanced Preprocessing"
   ]
  },
  {
   "cell_type": "code",
   "execution_count": 9,
   "metadata": {},
   "outputs": [],
   "source": [
    "#Define model shape\n",
    "num_classes = cnidaria_train['family'].nunique() #number of classes = number of families\n",
    "batch_size = 32\n",
    "input_shape = (224, 224, 3)\n",
    "image_size = (224, 224)\n",
    "value_range = (0.0, 1.0)"
   ]
  },
  {
   "cell_type": "markdown",
   "metadata": {},
   "source": [
    "### Augmentation"
   ]
  },
  {
   "cell_type": "code",
   "execution_count": 55,
   "metadata": {},
   "outputs": [],
   "source": [
    "#Function to augment the images\n",
    "def augment_image(image, label):\n",
    "\n",
    "    #Randomly change brightness\n",
    "    image = tf.image.random_brightness(image, max_delta=0.2)\n",
    "\n",
    "    #Apply geometric augmentations\n",
    "    image = geometric_augmentation_layers(image, training=True) # Apply geometric augmentations\n",
    "    image = tf.clip_by_value(image, 0.0, 1.0)\n",
    "    \n",
    "    return image, label\n",
    "\n",
    "\n",
    "# Geometric augmentations\n",
    "geometric_augmentation_layers = tf.keras.Sequential(\n",
    "    [\n",
    "        # Randomly flip horizontally\n",
    "        tf.keras.layers.RandomFlip(\"horizontal\"),\n",
    "\n",
    "        # Randomly rotate\n",
    "        tf.keras.layers.RandomRotation(factor=0.12),\n",
    "\n",
    "        # Random zoom\n",
    "        tf.keras.layers.RandomZoom(height_factor=(-0.35, 0.35), # Corresponds to [0.8, 1.2] of original height\n",
    "                                   width_factor=(-0.35, 0.35)), # Corresponds to [0.8, 1.2] of original width\n",
    "\n",
    "        # Random shift\n",
    "        tf.keras.layers.RandomTranslation(height_factor=0.20,\n",
    "                                          width_factor=0.20),\n",
    "\n",
    "        # Contrast\n",
    "        tf.keras.layers.RandomContrast(factor=0.25),\n",
    "\n",
    "    ],\n",
    "    name=\"geometric_augmentations\",\n",
    ")"
   ]
  },
  {
   "cell_type": "markdown",
   "metadata": {},
   "source": [
    "### CLAHE: Contrast Limited Adaptive Histogram Equalization  <a class=\"anchor\" id=\"clahe\"></a>\n",
    "\n",
    "CLAHE improves local contrast by equalizing pixel values in small regions of the image. Ideal for biological datasets where detail visibility is key.\n",
    "Studies:\n",
    "- https://www.sciencedirect.com/science/article/pii/S2212440323001177\n",
    "- https://arxiv.org/abs/2003.10822"
   ]
  },
  {
   "cell_type": "code",
   "execution_count": 11,
   "metadata": {},
   "outputs": [],
   "source": [
    "# import cv2\n",
    "\n",
    "# def process_image_with_clahe(image_path, size=(224, 224)):\n",
    "#     \"\"\"\n",
    "#     Loads an image, resizes it, and applies CLAHE.\n",
    "#     Returns the resized image and the CLAHE-enhanced version.\n",
    "#     \"\"\"\n",
    "#     try:\n",
    "#         img = cv2.imread(image_path)\n",
    "#         if img is None:\n",
    "#             print(f\"❌ Failed to load: {image_path}\")\n",
    "#             return None, None\n",
    "\n",
    "#         # Convert to RGB\n",
    "#         img_rgb = cv2.cvtColor(img, cv2.COLOR_BGR2RGB)\n",
    "\n",
    "#         # Resize\n",
    "#         resized_img = cv2.resize(img_rgb, size, interpolation=cv2.INTER_AREA)\n",
    "\n",
    "#         # Convert to LAB and apply CLAHE\n",
    "#         lab = cv2.cvtColor(resized_img, cv2.COLOR_RGB2LAB)\n",
    "#         l, a, b = cv2.split(lab)\n",
    "#         clahe = cv2.createCLAHE(clipLimit=5.0, tileGridSize=(8, 8))\n",
    "#         l_clahe = clahe.apply(l)\n",
    "#         lab_clahe = cv2.merge((l_clahe, a, b))\n",
    "#         img_clahe = cv2.cvtColor(lab_clahe, cv2.COLOR_LAB2RGB)\n",
    "\n",
    "#         return resized_img, img_clahe\n",
    "\n",
    "#     except Exception as e:\n",
    "#         print(f\"⚠️ Error processing {image_path}: {e}\")\n",
    "#         return None, None\n"
   ]
  },
  {
   "cell_type": "code",
   "execution_count": 12,
   "metadata": {},
   "outputs": [],
   "source": [
    "# chordata_train[[\"resized_image\", \"image_clahe\"]] = chordata_train[\"file_path\"].progress_apply(\n",
    "#     lambda path: pd.Series(process_image_with_clahe(os.path.join(image_folder, path)))\n",
    "# )"
   ]
  },
  {
   "cell_type": "code",
   "execution_count": 13,
   "metadata": {},
   "outputs": [],
   "source": [
    "# chordata_train.shape"
   ]
  },
  {
   "cell_type": "markdown",
   "metadata": {},
   "source": [
    "Let's display the images to check if its working."
   ]
  },
  {
   "cell_type": "code",
   "execution_count": 14,
   "metadata": {},
   "outputs": [],
   "source": [
    "# def show_random_image_triplets(df, image_folder=\"rare_species\", baseline_column=\"resized_image\", clahe_column=\"image_clahe\", num_samples=10):\n",
    "#     \"\"\"\n",
    "#     Displays random triplets of original, baseline preprocessed, and CLAHE-enhanced images.\n",
    "\n",
    "#     Args:\n",
    "#         df (pd.DataFrame): DataFrame with image paths, baseline images, and CLAHE images.\n",
    "#         image_folder (str): Folder containing the original images.\n",
    "#         baseline_column (str): Column with preprocessed baseline images.\n",
    "#         clahe_column (str): Column with CLAHE-enhanced images.\n",
    "#         num_samples (int): Number of samples to display.\n",
    "#     \"\"\"\n",
    "#     sample_df = df.sample(n=num_samples).reset_index(drop=True)\n",
    "\n",
    "#     # Set up the plot (3 columns: Original, Baseline, CLAHE)\n",
    "#     fig, axes = plt.subplots(num_samples, 3, figsize=(12, 4 * num_samples))\n",
    "#     if num_samples == 1:\n",
    "#         axes = [axes]  # Make it iterable\n",
    "\n",
    "#     for i in range(num_samples):\n",
    "#         row = sample_df.loc[i]\n",
    "#         file_path = os.path.join(image_folder, row[\"file_path\"])\n",
    "\n",
    "#         try:\n",
    "#             # Load original from file\n",
    "#             original_img = Image.open(file_path).convert(\"RGB\")\n",
    "#             baseline_img = row[baseline_column]\n",
    "#             clahe_img = row[clahe_column]\n",
    "\n",
    "#             if baseline_img is None or clahe_img is None:\n",
    "#                 raise ValueError(\"Missing image in baseline or CLAHE\")\n",
    "\n",
    "#             # Original\n",
    "#             axes[i][0].imshow(original_img)\n",
    "#             axes[i][0].set_title(\"Original Image\")\n",
    "#             axes[i][0].axis(\"off\")\n",
    "\n",
    "#             # Baseline\n",
    "#             axes[i][1].imshow(baseline_img)\n",
    "#             axes[i][1].set_title(\"Baseline Image\")\n",
    "#             axes[i][1].axis(\"off\")\n",
    "\n",
    "#             # CLAHE\n",
    "#             axes[i][2].imshow(clahe_img)\n",
    "#             axes[i][2].set_title(\"CLAHE Image\")\n",
    "#             axes[i][2].axis(\"off\")\n",
    "\n",
    "#         except Exception as e:\n",
    "#             print(f\"❌ Error displaying image {file_path}: {e}\")\n",
    "#             for j in range(3):\n",
    "#                 axes[i][j].axis(\"off\")\n",
    "\n",
    "#     plt.tight_layout()\n",
    "#     plt.show()\n",
    "# # Show random triplets of images\n",
    "# show_random_image_triplets(chordata_train, num_samples=5)\n"
   ]
  },
  {
   "cell_type": "markdown",
   "metadata": {},
   "source": [
    "### Pre-Process Pipeline"
   ]
  },
  {
   "cell_type": "code",
   "execution_count": 15,
   "metadata": {},
   "outputs": [],
   "source": [
    "#Function to preprocess the images\n",
    "def process_image(image, label):\n",
    "    image = tf.cast(image, tf.float32)\n",
    "    \n",
    "    #CHANGE THIS LINE DEPENDING ON WHICH PRE-TRAINED MODEL IS BEING USED\n",
    "    \n",
    "    image = mobilenet_preprocess(image)  # Apply MobileNetV2 preprocessing\n",
    "    # image = inception_preprocess(image)  # Apply InceptionV3 preprocessing\n",
    "    return image, label"
   ]
  },
  {
   "cell_type": "code",
   "execution_count": 16,
   "metadata": {},
   "outputs": [
    {
     "name": "stdout",
     "output_type": "stream",
     "text": [
      "X_train shape: (517, 224, 224, 3)\n",
      "X_test shape:  (130, 224, 224, 3)\n"
     ]
    }
   ],
   "source": [
    "# 1) Build the label→index map from the train families\n",
    "label_to_index = {\n",
    "    label: idx \n",
    "    for idx, label in enumerate(sorted(cnidaria_train[\"family\"].unique()))\n",
    "}\n",
    "\n",
    "# 2) Convert DataFrame columns to NumPy arrays\n",
    "X_train = np.stack(cnidaria_train[\"clahe_image\"].values).astype(\"float32\")\n",
    "y_train = np.array([label_to_index[label] for label in cnidaria_train[\"family\"]])\n",
    "\n",
    "X_val  = np.stack(cnidaria_val[\"clahe_image\"].values).astype(\"float32\")\n",
    "y_val  = np.array([label_to_index[label] for label in cnidaria_val[\"family\"]])\n",
    "\n",
    "print(\"X_train shape:\", X_train.shape)  # (num_train_samples, 224, 224, 3)\n",
    "print(\"X_test shape: \", X_val.shape)   # (num_test_samples, 224, 224, 3)\n",
    "\n",
    "# 3) Create TensorFlow Datasets (no validation split)\n",
    "batch_size = 32\n",
    "AUTOTUNE   = tf.data.AUTOTUNE"
   ]
  },
  {
   "cell_type": "code",
   "execution_count": 17,
   "metadata": {},
   "outputs": [],
   "source": [
    "\n",
    "# # --- 1) Build a raw, unbatched dataset from X_train/y_train ---\n",
    "# raw_ds = tf.data.Dataset.from_tensor_slices((X_train, y_train))\n",
    "# raw_ds = raw_ds.shuffle(buffer_size=len(X_train), seed=42)\n",
    "\n",
    "# # --- 2) Identify minority class indices as int64 to match y_train’s dtype ---\n",
    "# minority_threshold   = 24\n",
    "# family_counts        = cnidaria_train['family'].value_counts()\n",
    "# minority_families    = family_counts[family_counts <= minority_threshold].index\n",
    "# minority_indices     = [label_to_index[f] for f in minority_families if f in label_to_index]\n",
    "# minority_indices_tf  = tf.constant(minority_indices, dtype=raw_ds.element_spec[1].dtype)\n",
    "\n",
    "# # --- 3) Split raw_ds into minority vs. majority (on scalar labels) ---\n",
    "# minority_ds = raw_ds.filter(\n",
    "#     lambda img, lbl: tf.reduce_any(tf.equal(lbl, minority_indices_tf))\n",
    "# )\n",
    "# majority_ds = raw_ds.filter(\n",
    "#     lambda img, lbl: tf.logical_not(tf.reduce_any(tf.equal(lbl, minority_indices_tf)))\n",
    "# )\n",
    "\n",
    "# # --- 4) Oversample minority ---\n",
    "# oversample_factor = 2\n",
    "# minority_ds = minority_ds.repeat(oversample_factor)\n",
    "\n",
    "# # --- 5) Re‑combine and reshuffle ---\n",
    "# train_ds = majority_ds.concatenate(minority_ds)\n",
    "# train_ds = train_ds.shuffle(buffer_size=len(X_train) + len(minority_indices)*oversample_factor, \n",
    "#                             reshuffle_each_iteration=True, \n",
    "#                             seed=42)\n",
    "\n",
    "# --- 6) Apply your preprocess → augment → batch → prefetch ---\n",
    "\n",
    "with tf.device('/CPU:0'):\n",
    "    train_ds = tf.data.Dataset.from_tensor_slices((X_train, y_train)).map(process_image, num_parallel_calls=tf.data.AUTOTUNE).cache().map(augment_image, num_parallel_calls=tf.data.AUTOTUNE).batch(8).prefetch(tf.data.AUTOTUNE)\n",
    "\n",
    "    val_ds = tf.data.Dataset.from_tensor_slices((X_val, y_val)).map(process_image, num_parallel_calls=tf.data.AUTOTUNE).cache().batch(8).prefetch(tf.data.AUTOTUNE)\n"
   ]
  },
  {
   "cell_type": "markdown",
   "metadata": {},
   "source": [
    "# 5. MobileNetV2"
   ]
  },
  {
   "cell_type": "code",
   "execution_count": 36,
   "metadata": {},
   "outputs": [],
   "source": [
    "from tensorflow.keras.models import Model\n",
    "from tensorflow.keras.layers import Input, Conv2D, MaxPooling2D, Flatten, Dense, Dropout\n",
    "from tensorflow.keras.utils import to_categorical\n",
    "from tensorflow.keras.regularizers import l2\n",
    "from tensorflow.keras.callbacks import EarlyStopping, ModelCheckpoint\n",
    "from sklearn.preprocessing import LabelEncoder\n",
    "import numpy as np\n",
    "import os\n",
    "from tensorflow.keras.callbacks import ModelCheckpoint\n",
    "# Compute class weights\n",
    "from sklearn.utils.class_weight import compute_class_weight"
   ]
  },
  {
   "cell_type": "markdown",
   "metadata": {},
   "source": [
    "### Keras Tuner"
   ]
  },
  {
   "cell_type": "code",
   "execution_count": 27,
   "metadata": {},
   "outputs": [
    {
     "name": "stdout",
     "output_type": "stream",
     "text": [
      "Trial 20 Complete [00h 00m 25s]\n",
      "val_accuracy: 0.38461539149284363\n",
      "\n",
      "Best val_accuracy So Far: 0.4692307710647583\n",
      "Total elapsed time: 00h 08m 41s\n",
      "Optimal LR: 0.0028731802605672548\n",
      "Optimal Dropout: 0.5\n",
      "Optimal Dense units: 192\n",
      "Optimal L2: 0.00895375335828005\n",
      "Optimal L2_out: 0.0014721381315735936\n"
     ]
    }
   ],
   "source": [
    "def build_model(hp):\n",
    "    # base\n",
    "    base = MobileNetV2(input_shape=input_shape,\n",
    "                       include_top=False, weights='imagenet')\n",
    "    base.trainable = False\n",
    "\n",
    "    x = layers.GlobalAveragePooling2D()(base.output)\n",
    "    x = layers.Dropout(\n",
    "        hp.Float('dropout', 0.3, 0.7, step=0.1))(x)\n",
    "    x = layers.Dense(\n",
    "        hp.Int('units', 128, 512, step=64),\n",
    "        activation='relu',\n",
    "        kernel_regularizer=regularizers.l2(\n",
    "            hp.Float('l2', 1e-5, 1e-2, sampling='log'))\n",
    "    )(x)\n",
    "    out = layers.Dense(num_classes, activation='softmax',\n",
    "        kernel_regularizer=regularizers.l2(\n",
    "            hp.Float('l2_out', 1e-5, 1e-2, sampling='log'))\n",
    "    )(x)\n",
    "\n",
    "    model = models.Model(inputs=base.input, outputs=out)\n",
    "\n",
    "    # choose lr via log-sampling\n",
    "    lr = hp.Float('learning_rate', 1e-4, 1e-2, sampling='log')\n",
    "    model.compile(\n",
    "        optimizer=optimizers.Adam(learning_rate=lr),\n",
    "        loss='sparse_categorical_crossentropy',\n",
    "        metrics=['accuracy']\n",
    "    )\n",
    "    return model\n",
    "\n",
    "tuner = kt.BayesianOptimization(\n",
    "    build_model,\n",
    "    objective='val_accuracy',\n",
    "    max_trials=20,\n",
    "    overwrite=True,\n",
    ")\n",
    "\n",
    "tuner.search(\n",
    "    train_ds,\n",
    "    validation_data=val_ds,\n",
    "    epochs=3,\n",
    "    callbacks=[tf.keras.callbacks.EarlyStopping(patience=3)]\n",
    ")\n",
    "\n",
    "# Retrieve best hyperparameters\n",
    "best_hps = tuner.get_best_hyperparameters(num_trials=1)[0]\n",
    "print(f\"Optimal LR: {best_hps.get('learning_rate')}\")\n",
    "print(f\"Optimal Dropout: {best_hps.get('dropout')}\")\n",
    "print(f\"Optimal Dense units: {best_hps.get('units')}\")\n",
    "print(f\"Optimal L2: {best_hps.get('l2')}\")\n",
    "print(f\"Optimal L2_out: {best_hps.get('l2_out')}\")"
   ]
  },
  {
   "cell_type": "markdown",
   "metadata": {},
   "source": [
    "### Final Model"
   ]
  },
  {
   "cell_type": "markdown",
   "metadata": {},
   "source": [
    "Create final model based on keras tuner outputs\n",
    "\n",
    "- First iteration val accuracy = 0.74 but massive overfitting --> train: 0.98\n",
    "- Increased dropout, decreased dense layer unit and made LR reduce overtime --> val_acc: 0.71 train: 0.98"
   ]
  },
  {
   "cell_type": "code",
   "execution_count": 28,
   "metadata": {},
   "outputs": [
    {
     "data": {
      "text/html": [
       "<pre style=\"white-space:pre;overflow-x:auto;line-height:normal;font-family:Menlo,'DejaVu Sans Mono',consolas,'Courier New',monospace\"><span style=\"font-weight: bold\">Model: \"sequential\"</span>\n",
       "</pre>\n"
      ],
      "text/plain": [
       "\u001b[1mModel: \"sequential\"\u001b[0m\n"
      ]
     },
     "metadata": {},
     "output_type": "display_data"
    },
    {
     "data": {
      "text/html": [
       "<pre style=\"white-space:pre;overflow-x:auto;line-height:normal;font-family:Menlo,'DejaVu Sans Mono',consolas,'Courier New',monospace\">┏━━━━━━━━━━━━━━━━━━━━━━━━━━━━━━━━━┳━━━━━━━━━━━━━━━━━━━━━━━━┳━━━━━━━━━━━━━━━┓\n",
       "┃<span style=\"font-weight: bold\"> Layer (type)                    </span>┃<span style=\"font-weight: bold\"> Output Shape           </span>┃<span style=\"font-weight: bold\">       Param # </span>┃\n",
       "┡━━━━━━━━━━━━━━━━━━━━━━━━━━━━━━━━━╇━━━━━━━━━━━━━━━━━━━━━━━━╇━━━━━━━━━━━━━━━┩\n",
       "│ mobilenetv2_1.00_224            │ (<span style=\"color: #00d7ff; text-decoration-color: #00d7ff\">None</span>, <span style=\"color: #00af00; text-decoration-color: #00af00\">7</span>, <span style=\"color: #00af00; text-decoration-color: #00af00\">7</span>, <span style=\"color: #00af00; text-decoration-color: #00af00\">1280</span>)     │     <span style=\"color: #00af00; text-decoration-color: #00af00\">2,257,984</span> │\n",
       "│ (<span style=\"color: #0087ff; text-decoration-color: #0087ff\">Functional</span>)                    │                        │               │\n",
       "├─────────────────────────────────┼────────────────────────┼───────────────┤\n",
       "│ global_average_pooling2d_1      │ (<span style=\"color: #00d7ff; text-decoration-color: #00d7ff\">None</span>, <span style=\"color: #00af00; text-decoration-color: #00af00\">1280</span>)           │             <span style=\"color: #00af00; text-decoration-color: #00af00\">0</span> │\n",
       "│ (<span style=\"color: #0087ff; text-decoration-color: #0087ff\">GlobalAveragePooling2D</span>)        │                        │               │\n",
       "├─────────────────────────────────┼────────────────────────┼───────────────┤\n",
       "│ dropout_1 (<span style=\"color: #0087ff; text-decoration-color: #0087ff\">Dropout</span>)             │ (<span style=\"color: #00d7ff; text-decoration-color: #00d7ff\">None</span>, <span style=\"color: #00af00; text-decoration-color: #00af00\">1280</span>)           │             <span style=\"color: #00af00; text-decoration-color: #00af00\">0</span> │\n",
       "├─────────────────────────────────┼────────────────────────┼───────────────┤\n",
       "│ dense_2 (<span style=\"color: #0087ff; text-decoration-color: #0087ff\">Dense</span>)                 │ (<span style=\"color: #00d7ff; text-decoration-color: #00d7ff\">None</span>, <span style=\"color: #00af00; text-decoration-color: #00af00\">192</span>)            │       <span style=\"color: #00af00; text-decoration-color: #00af00\">245,952</span> │\n",
       "├─────────────────────────────────┼────────────────────────┼───────────────┤\n",
       "│ dense_3 (<span style=\"color: #0087ff; text-decoration-color: #0087ff\">Dense</span>)                 │ (<span style=\"color: #00d7ff; text-decoration-color: #00d7ff\">None</span>, <span style=\"color: #00af00; text-decoration-color: #00af00\">13</span>)             │         <span style=\"color: #00af00; text-decoration-color: #00af00\">2,509</span> │\n",
       "└─────────────────────────────────┴────────────────────────┴───────────────┘\n",
       "</pre>\n"
      ],
      "text/plain": [
       "┏━━━━━━━━━━━━━━━━━━━━━━━━━━━━━━━━━┳━━━━━━━━━━━━━━━━━━━━━━━━┳━━━━━━━━━━━━━━━┓\n",
       "┃\u001b[1m \u001b[0m\u001b[1mLayer (type)                   \u001b[0m\u001b[1m \u001b[0m┃\u001b[1m \u001b[0m\u001b[1mOutput Shape          \u001b[0m\u001b[1m \u001b[0m┃\u001b[1m \u001b[0m\u001b[1m      Param #\u001b[0m\u001b[1m \u001b[0m┃\n",
       "┡━━━━━━━━━━━━━━━━━━━━━━━━━━━━━━━━━╇━━━━━━━━━━━━━━━━━━━━━━━━╇━━━━━━━━━━━━━━━┩\n",
       "│ mobilenetv2_1.00_224            │ (\u001b[38;5;45mNone\u001b[0m, \u001b[38;5;34m7\u001b[0m, \u001b[38;5;34m7\u001b[0m, \u001b[38;5;34m1280\u001b[0m)     │     \u001b[38;5;34m2,257,984\u001b[0m │\n",
       "│ (\u001b[38;5;33mFunctional\u001b[0m)                    │                        │               │\n",
       "├─────────────────────────────────┼────────────────────────┼───────────────┤\n",
       "│ global_average_pooling2d_1      │ (\u001b[38;5;45mNone\u001b[0m, \u001b[38;5;34m1280\u001b[0m)           │             \u001b[38;5;34m0\u001b[0m │\n",
       "│ (\u001b[38;5;33mGlobalAveragePooling2D\u001b[0m)        │                        │               │\n",
       "├─────────────────────────────────┼────────────────────────┼───────────────┤\n",
       "│ dropout_1 (\u001b[38;5;33mDropout\u001b[0m)             │ (\u001b[38;5;45mNone\u001b[0m, \u001b[38;5;34m1280\u001b[0m)           │             \u001b[38;5;34m0\u001b[0m │\n",
       "├─────────────────────────────────┼────────────────────────┼───────────────┤\n",
       "│ dense_2 (\u001b[38;5;33mDense\u001b[0m)                 │ (\u001b[38;5;45mNone\u001b[0m, \u001b[38;5;34m192\u001b[0m)            │       \u001b[38;5;34m245,952\u001b[0m │\n",
       "├─────────────────────────────────┼────────────────────────┼───────────────┤\n",
       "│ dense_3 (\u001b[38;5;33mDense\u001b[0m)                 │ (\u001b[38;5;45mNone\u001b[0m, \u001b[38;5;34m13\u001b[0m)             │         \u001b[38;5;34m2,509\u001b[0m │\n",
       "└─────────────────────────────────┴────────────────────────┴───────────────┘\n"
      ]
     },
     "metadata": {},
     "output_type": "display_data"
    },
    {
     "data": {
      "text/html": [
       "<pre style=\"white-space:pre;overflow-x:auto;line-height:normal;font-family:Menlo,'DejaVu Sans Mono',consolas,'Courier New',monospace\"><span style=\"font-weight: bold\"> Total params: </span><span style=\"color: #00af00; text-decoration-color: #00af00\">2,506,445</span> (9.56 MB)\n",
       "</pre>\n"
      ],
      "text/plain": [
       "\u001b[1m Total params: \u001b[0m\u001b[38;5;34m2,506,445\u001b[0m (9.56 MB)\n"
      ]
     },
     "metadata": {},
     "output_type": "display_data"
    },
    {
     "data": {
      "text/html": [
       "<pre style=\"white-space:pre;overflow-x:auto;line-height:normal;font-family:Menlo,'DejaVu Sans Mono',consolas,'Courier New',monospace\"><span style=\"font-weight: bold\"> Trainable params: </span><span style=\"color: #00af00; text-decoration-color: #00af00\">248,461</span> (970.55 KB)\n",
       "</pre>\n"
      ],
      "text/plain": [
       "\u001b[1m Trainable params: \u001b[0m\u001b[38;5;34m248,461\u001b[0m (970.55 KB)\n"
      ]
     },
     "metadata": {},
     "output_type": "display_data"
    },
    {
     "data": {
      "text/html": [
       "<pre style=\"white-space:pre;overflow-x:auto;line-height:normal;font-family:Menlo,'DejaVu Sans Mono',consolas,'Courier New',monospace\"><span style=\"font-weight: bold\"> Non-trainable params: </span><span style=\"color: #00af00; text-decoration-color: #00af00\">2,257,984</span> (8.61 MB)\n",
       "</pre>\n"
      ],
      "text/plain": [
       "\u001b[1m Non-trainable params: \u001b[0m\u001b[38;5;34m2,257,984\u001b[0m (8.61 MB)\n"
      ]
     },
     "metadata": {},
     "output_type": "display_data"
    }
   ],
   "source": [
    "from tensorflow.keras.regularizers import l2\n",
    "from sklearn.utils.class_weight import compute_class_weight\n",
    "\n",
    "# Load base model without top layer\n",
    "base_model = MobileNetV2(\n",
    "    input_shape=input_shape,  # Match your resized image shape\n",
    "    include_top=False,         # Don't include the original classifier\n",
    "    weights='imagenet'         # Use ImageNet-pretrained weights\n",
    ")\n",
    "\n",
    "# Freeze base model so we only train the new layers for now\n",
    "base_model.trainable = False\n",
    "\n",
    "model = models.Sequential([\n",
    "    base_model,                                # Pre-trained feature extractor\n",
    "    layers.GlobalAveragePooling2D(),           # Pool the spatial features\n",
    "    layers.Dropout(0.5),                       # Dropout for regularization\n",
    "    layers.Dense(192, activation='relu', kernel_regularizer=l2(0.00895375335828005)),  # L2 regularized Dense layer\n",
    "    layers.Dense(num_classes, activation='softmax', kernel_regularizer=l2(0.0014721381315735936))  # Output layer with L2 regularizer\n",
    "])\n",
    "\n",
    "# Compile the model\n",
    "model.compile(\n",
    "    optimizer=optimizers.Adam(learning_rate=0.0028731802605672548), \n",
    "    loss='sparse_categorical_crossentropy',\n",
    "    metrics=['accuracy']\n",
    ")\n",
    "\n",
    "model.summary()"
   ]
  },
  {
   "cell_type": "code",
   "execution_count": 39,
   "metadata": {},
   "outputs": [
    {
     "data": {
      "text/html": [
       "<pre style=\"white-space:pre;overflow-x:auto;line-height:normal;font-family:Menlo,'DejaVu Sans Mono',consolas,'Courier New',monospace\"><span style=\"font-weight: bold\">Model: \"sequential_1\"</span>\n",
       "</pre>\n"
      ],
      "text/plain": [
       "\u001b[1mModel: \"sequential_1\"\u001b[0m\n"
      ]
     },
     "metadata": {},
     "output_type": "display_data"
    },
    {
     "data": {
      "text/html": [
       "<pre style=\"white-space:pre;overflow-x:auto;line-height:normal;font-family:Menlo,'DejaVu Sans Mono',consolas,'Courier New',monospace\">┏━━━━━━━━━━━━━━━━━━━━━━━━━━━━━━━━━┳━━━━━━━━━━━━━━━━━━━━━━━━┳━━━━━━━━━━━━━━━┓\n",
       "┃<span style=\"font-weight: bold\"> Layer (type)                    </span>┃<span style=\"font-weight: bold\"> Output Shape           </span>┃<span style=\"font-weight: bold\">       Param # </span>┃\n",
       "┡━━━━━━━━━━━━━━━━━━━━━━━━━━━━━━━━━╇━━━━━━━━━━━━━━━━━━━━━━━━╇━━━━━━━━━━━━━━━┩\n",
       "│ mobilenetv2_1.00_224            │ (<span style=\"color: #00d7ff; text-decoration-color: #00d7ff\">None</span>, <span style=\"color: #00af00; text-decoration-color: #00af00\">7</span>, <span style=\"color: #00af00; text-decoration-color: #00af00\">7</span>, <span style=\"color: #00af00; text-decoration-color: #00af00\">1280</span>)     │     <span style=\"color: #00af00; text-decoration-color: #00af00\">2,257,984</span> │\n",
       "│ (<span style=\"color: #0087ff; text-decoration-color: #0087ff\">Functional</span>)                    │                        │               │\n",
       "├─────────────────────────────────┼────────────────────────┼───────────────┤\n",
       "│ global_average_pooling2d_2      │ (<span style=\"color: #00d7ff; text-decoration-color: #00d7ff\">None</span>, <span style=\"color: #00af00; text-decoration-color: #00af00\">1280</span>)           │             <span style=\"color: #00af00; text-decoration-color: #00af00\">0</span> │\n",
       "│ (<span style=\"color: #0087ff; text-decoration-color: #0087ff\">GlobalAveragePooling2D</span>)        │                        │               │\n",
       "├─────────────────────────────────┼────────────────────────┼───────────────┤\n",
       "│ dropout_2 (<span style=\"color: #0087ff; text-decoration-color: #0087ff\">Dropout</span>)             │ (<span style=\"color: #00d7ff; text-decoration-color: #00d7ff\">None</span>, <span style=\"color: #00af00; text-decoration-color: #00af00\">1280</span>)           │             <span style=\"color: #00af00; text-decoration-color: #00af00\">0</span> │\n",
       "├─────────────────────────────────┼────────────────────────┼───────────────┤\n",
       "│ dense_4 (<span style=\"color: #0087ff; text-decoration-color: #0087ff\">Dense</span>)                 │ (<span style=\"color: #00d7ff; text-decoration-color: #00d7ff\">None</span>, <span style=\"color: #00af00; text-decoration-color: #00af00\">128</span>)            │       <span style=\"color: #00af00; text-decoration-color: #00af00\">163,968</span> │\n",
       "├─────────────────────────────────┼────────────────────────┼───────────────┤\n",
       "│ dense_5 (<span style=\"color: #0087ff; text-decoration-color: #0087ff\">Dense</span>)                 │ (<span style=\"color: #00d7ff; text-decoration-color: #00d7ff\">None</span>, <span style=\"color: #00af00; text-decoration-color: #00af00\">13</span>)             │         <span style=\"color: #00af00; text-decoration-color: #00af00\">1,677</span> │\n",
       "└─────────────────────────────────┴────────────────────────┴───────────────┘\n",
       "</pre>\n"
      ],
      "text/plain": [
       "┏━━━━━━━━━━━━━━━━━━━━━━━━━━━━━━━━━┳━━━━━━━━━━━━━━━━━━━━━━━━┳━━━━━━━━━━━━━━━┓\n",
       "┃\u001b[1m \u001b[0m\u001b[1mLayer (type)                   \u001b[0m\u001b[1m \u001b[0m┃\u001b[1m \u001b[0m\u001b[1mOutput Shape          \u001b[0m\u001b[1m \u001b[0m┃\u001b[1m \u001b[0m\u001b[1m      Param #\u001b[0m\u001b[1m \u001b[0m┃\n",
       "┡━━━━━━━━━━━━━━━━━━━━━━━━━━━━━━━━━╇━━━━━━━━━━━━━━━━━━━━━━━━╇━━━━━━━━━━━━━━━┩\n",
       "│ mobilenetv2_1.00_224            │ (\u001b[38;5;45mNone\u001b[0m, \u001b[38;5;34m7\u001b[0m, \u001b[38;5;34m7\u001b[0m, \u001b[38;5;34m1280\u001b[0m)     │     \u001b[38;5;34m2,257,984\u001b[0m │\n",
       "│ (\u001b[38;5;33mFunctional\u001b[0m)                    │                        │               │\n",
       "├─────────────────────────────────┼────────────────────────┼───────────────┤\n",
       "│ global_average_pooling2d_2      │ (\u001b[38;5;45mNone\u001b[0m, \u001b[38;5;34m1280\u001b[0m)           │             \u001b[38;5;34m0\u001b[0m │\n",
       "│ (\u001b[38;5;33mGlobalAveragePooling2D\u001b[0m)        │                        │               │\n",
       "├─────────────────────────────────┼────────────────────────┼───────────────┤\n",
       "│ dropout_2 (\u001b[38;5;33mDropout\u001b[0m)             │ (\u001b[38;5;45mNone\u001b[0m, \u001b[38;5;34m1280\u001b[0m)           │             \u001b[38;5;34m0\u001b[0m │\n",
       "├─────────────────────────────────┼────────────────────────┼───────────────┤\n",
       "│ dense_4 (\u001b[38;5;33mDense\u001b[0m)                 │ (\u001b[38;5;45mNone\u001b[0m, \u001b[38;5;34m128\u001b[0m)            │       \u001b[38;5;34m163,968\u001b[0m │\n",
       "├─────────────────────────────────┼────────────────────────┼───────────────┤\n",
       "│ dense_5 (\u001b[38;5;33mDense\u001b[0m)                 │ (\u001b[38;5;45mNone\u001b[0m, \u001b[38;5;34m13\u001b[0m)             │         \u001b[38;5;34m1,677\u001b[0m │\n",
       "└─────────────────────────────────┴────────────────────────┴───────────────┘\n"
      ]
     },
     "metadata": {},
     "output_type": "display_data"
    },
    {
     "data": {
      "text/html": [
       "<pre style=\"white-space:pre;overflow-x:auto;line-height:normal;font-family:Menlo,'DejaVu Sans Mono',consolas,'Courier New',monospace\"><span style=\"font-weight: bold\"> Total params: </span><span style=\"color: #00af00; text-decoration-color: #00af00\">2,423,629</span> (9.25 MB)\n",
       "</pre>\n"
      ],
      "text/plain": [
       "\u001b[1m Total params: \u001b[0m\u001b[38;5;34m2,423,629\u001b[0m (9.25 MB)\n"
      ]
     },
     "metadata": {},
     "output_type": "display_data"
    },
    {
     "data": {
      "text/html": [
       "<pre style=\"white-space:pre;overflow-x:auto;line-height:normal;font-family:Menlo,'DejaVu Sans Mono',consolas,'Courier New',monospace\"><span style=\"font-weight: bold\"> Trainable params: </span><span style=\"color: #00af00; text-decoration-color: #00af00\">165,645</span> (647.05 KB)\n",
       "</pre>\n"
      ],
      "text/plain": [
       "\u001b[1m Trainable params: \u001b[0m\u001b[38;5;34m165,645\u001b[0m (647.05 KB)\n"
      ]
     },
     "metadata": {},
     "output_type": "display_data"
    },
    {
     "data": {
      "text/html": [
       "<pre style=\"white-space:pre;overflow-x:auto;line-height:normal;font-family:Menlo,'DejaVu Sans Mono',consolas,'Courier New',monospace\"><span style=\"font-weight: bold\"> Non-trainable params: </span><span style=\"color: #00af00; text-decoration-color: #00af00\">2,257,984</span> (8.61 MB)\n",
       "</pre>\n"
      ],
      "text/plain": [
       "\u001b[1m Non-trainable params: \u001b[0m\u001b[38;5;34m2,257,984\u001b[0m (8.61 MB)\n"
      ]
     },
     "metadata": {},
     "output_type": "display_data"
    }
   ],
   "source": [
    "from tensorflow.keras.regularizers import l2\n",
    "from sklearn.utils.class_weight import compute_class_weight\n",
    "\n",
    "# Load base model without top layer\n",
    "base_model = MobileNetV2(\n",
    "    input_shape=input_shape,  # Match your resized image shape\n",
    "    include_top=False,         # Don't include the original classifier\n",
    "    weights='imagenet'         # Use ImageNet-pretrained weights\n",
    ")\n",
    "\n",
    "# Freeze base model so we only train the new layers for now\n",
    "base_model.trainable = False\n",
    "\n",
    "model = models.Sequential([\n",
    "    base_model,                                # Pre-trained feature extractor\n",
    "    layers.GlobalAveragePooling2D(),           # Pool the spatial features\n",
    "    layers.Dropout(0.5),                       # Dropout for regularization\n",
    "    layers.Dense(128, activation='relu', kernel_regularizer=l2(0.0002)),  # L2 regularized Dense layer\n",
    "    layers.Dense(num_classes, activation='softmax', kernel_regularizer=l2(0.0001))  # Output layer with L2 regularizer\n",
    "])\n",
    "\n",
    "# Compile the model\n",
    "model.compile(\n",
    "    optimizer=optimizers.Adam(learning_rate=0.004), \n",
    "    loss='sparse_categorical_crossentropy',\n",
    "    metrics=['accuracy']\n",
    ")\n",
    "\n",
    "model.summary()"
   ]
  },
  {
   "cell_type": "markdown",
   "metadata": {},
   "source": [
    "### Model Training"
   ]
  },
  {
   "cell_type": "code",
   "execution_count": 20,
   "metadata": {},
   "outputs": [],
   "source": [
    "# y_train = np.array(labels_train)  # Replace labels_train with your training label list\n",
    "# class_weights = compute_class_weight(\n",
    "#     class_weight='balanced',\n",
    "#     classes=np.unique(y_train),\n",
    "#     y=y_train\n",
    "# )\n",
    "\n",
    "# class_weights_dict = dict(enumerate(class_weights))\n",
    "# print(\"Computed class weights:\", class_weights_dict)"
   ]
  },
  {
   "cell_type": "code",
   "execution_count": 40,
   "metadata": {},
   "outputs": [
    {
     "name": "stdout",
     "output_type": "stream",
     "text": [
      "Epoch 1/5\n",
      "\u001b[1m65/65\u001b[0m \u001b[32m━━━━━━━━━━━━━━━━━━━━\u001b[0m\u001b[37m\u001b[0m \u001b[1m0s\u001b[0m 72ms/step - accuracy: 0.2021 - loss: 3.2658\n",
      "Epoch 1: val_accuracy improved from -inf to 0.27692, saving model to models/cnidaria_models/mobilenetV2_final.keras\n",
      "\u001b[1m65/65\u001b[0m \u001b[32m━━━━━━━━━━━━━━━━━━━━\u001b[0m\u001b[37m\u001b[0m \u001b[1m17s\u001b[0m 179ms/step - accuracy: 0.2028 - loss: 3.2572 - val_accuracy: 0.2769 - val_loss: 2.1885 - learning_rate: 0.0040\n",
      "Epoch 2/5\n",
      "\u001b[1m63/65\u001b[0m \u001b[32m━━━━━━━━━━━━━━━━━━━\u001b[0m\u001b[37m━\u001b[0m \u001b[1m0s\u001b[0m 32ms/step - accuracy: 0.4201 - loss: 1.9172\n",
      "Epoch 2: val_accuracy improved from 0.27692 to 0.39231, saving model to models/cnidaria_models/mobilenetV2_final.keras\n",
      "\u001b[1m65/65\u001b[0m \u001b[32m━━━━━━━━━━━━━━━━━━━━\u001b[0m\u001b[37m\u001b[0m \u001b[1m3s\u001b[0m 40ms/step - accuracy: 0.4185 - loss: 1.9199 - val_accuracy: 0.3923 - val_loss: 1.9707 - learning_rate: 0.0040\n",
      "Epoch 3/5\n",
      "\u001b[1m61/65\u001b[0m \u001b[32m━━━━━━━━━━━━━━━━━━\u001b[0m\u001b[37m━━\u001b[0m \u001b[1m0s\u001b[0m 27ms/step - accuracy: 0.3937 - loss: 1.8590\n",
      "Epoch 3: val_accuracy improved from 0.39231 to 0.43077, saving model to models/cnidaria_models/mobilenetV2_final.keras\n",
      "\u001b[1m65/65\u001b[0m \u001b[32m━━━━━━━━━━━━━━━━━━━━\u001b[0m\u001b[37m\u001b[0m \u001b[1m2s\u001b[0m 35ms/step - accuracy: 0.3929 - loss: 1.8617 - val_accuracy: 0.4308 - val_loss: 1.8103 - learning_rate: 0.0040\n",
      "Epoch 4/5\n",
      "\u001b[1m62/65\u001b[0m \u001b[32m━━━━━━━━━━━━━━━━━━━\u001b[0m\u001b[37m━\u001b[0m \u001b[1m0s\u001b[0m 27ms/step - accuracy: 0.4715 - loss: 1.6497\n",
      "Epoch 4: val_accuracy did not improve from 0.43077\n",
      "\u001b[1m65/65\u001b[0m \u001b[32m━━━━━━━━━━━━━━━━━━━━\u001b[0m\u001b[37m\u001b[0m \u001b[1m2s\u001b[0m 31ms/step - accuracy: 0.4692 - loss: 1.6553 - val_accuracy: 0.4231 - val_loss: 1.7890 - learning_rate: 0.0040\n",
      "Epoch 5/5\n",
      "\u001b[1m63/65\u001b[0m \u001b[32m━━━━━━━━━━━━━━━━━━━\u001b[0m\u001b[37m━\u001b[0m \u001b[1m0s\u001b[0m 27ms/step - accuracy: 0.4557 - loss: 1.6557\n",
      "Epoch 5: val_accuracy did not improve from 0.43077\n",
      "\u001b[1m65/65\u001b[0m \u001b[32m━━━━━━━━━━━━━━━━━━━━\u001b[0m\u001b[37m\u001b[0m \u001b[1m2s\u001b[0m 31ms/step - accuracy: 0.4558 - loss: 1.6589 - val_accuracy: 0.4231 - val_loss: 1.7331 - learning_rate: 0.0040\n"
     ]
    }
   ],
   "source": [
    "from tensorflow.keras.callbacks import ModelCheckpoint, EarlyStopping, ReduceLROnPlateau\n",
    "\n",
    "#callbacks\n",
    "checkpoint = ModelCheckpoint(\n",
    "    \"models/cnidaria_models/mobilenetV2_final.keras\",\n",
    "    monitor='val_accuracy',\n",
    "    mode = 'max',\n",
    "    save_best_only=True,\n",
    "    verbose=1\n",
    ")\n",
    "\n",
    "callbacks = [\n",
    "  #EarlyStopping(monitor='val_loss', patience=15, restore_best_weights=True),\n",
    "  ReduceLROnPlateau(monitor='val_loss', factor=0.5, patience=3, min_lr=1e-6),\n",
    "  checkpoint\n",
    "]\n",
    "\n",
    "history_final = model.fit(\n",
    "        train_ds,\n",
    "        validation_data=val_ds,\n",
    "        epochs=5,           # Start small, increase if needed\n",
    "        verbose=1,\n",
    "        callbacks=callbacks,\n",
    "    )\n",
    "\n",
    "#save the model\n",
    "model.save(\"models/cnidaria_models/mobilenetV2_final.keras\")"
   ]
  },
  {
   "cell_type": "code",
   "execution_count": 41,
   "metadata": {},
   "outputs": [
    {
     "name": "stdout",
     "output_type": "stream",
     "text": [
      "Best validation accuracy: 0.4307692348957062\n"
     ]
    }
   ],
   "source": [
    "#get the best accuracy score\n",
    "best_accuracy = max(history_final.history['val_accuracy'])\n",
    "print(\"Best validation accuracy:\", best_accuracy)"
   ]
  },
  {
   "cell_type": "code",
   "execution_count": 46,
   "metadata": {},
   "outputs": [
    {
     "name": "stdout",
     "output_type": "stream",
     "text": [
      "Best train accuracy: 0.4564796984195709\n"
     ]
    }
   ],
   "source": [
    "best_accuracy = max(history_final.history['accuracy'])\n",
    "print(\"Best train accuracy:\", best_accuracy)"
   ]
  },
  {
   "cell_type": "markdown",
   "metadata": {},
   "source": [
    "### Result Visualizations"
   ]
  },
  {
   "cell_type": "code",
   "execution_count": 42,
   "metadata": {},
   "outputs": [],
   "source": [
    "#This function is used in notebook 2, notebook 3 and notebook 4\n",
    "import matplotlib.pyplot as plt\n",
    "\n",
    "def plot_loss(history):\n",
    "    \"\"\"\n",
    "    Plot the training and validation loss over epochs.\n",
    "\n",
    "    Parameters:\n",
    "    - history: History object returned by model.fit() containing training/validation loss values.\n",
    "\n",
    "    Returns:\n",
    "    - None (displays a plot of training and validation loss)\n",
    "    \"\"\"\n",
    "    plt.figure(figsize=(7, 2))\n",
    "    plt.plot(history.history['loss'], label='Training Loss')\n",
    "    plt.plot(history.history['val_loss'], label='Validation Loss')\n",
    "    plt.xlabel('Epochs')\n",
    "    plt.ylabel('Loss')\n",
    "    plt.legend()\n",
    "    plt.title('Training and Validation Loss')\n",
    "    plt.show()\n"
   ]
  },
  {
   "cell_type": "code",
   "execution_count": 43,
   "metadata": {},
   "outputs": [
    {
     "data": {
      "image/png": "[encoded data removed]",
      "text/plain": [
       "<Figure size 700x200 with 1 Axes>"
      ]
     },
     "metadata": {},
     "output_type": "display_data"
    }
   ],
   "source": [
    "plot_loss(history_final)"
   ]
  },
  {
   "cell_type": "code",
   "execution_count": 44,
   "metadata": {},
   "outputs": [
    {
     "data": {
      "image/png": "[encoded data removed]",
      "text/plain": [
       "<Figure size 800x400 with 1 Axes>"
      ]
     },
     "metadata": {},
     "output_type": "display_data"
    }
   ],
   "source": [
    "def plot_accuracy(history):\n",
    "    plt.figure(figsize=(8, 4))\n",
    "    plt.plot(history.history['accuracy'], label='Training Accuracy', marker='o')\n",
    "    plt.plot(history.history['val_accuracy'], label='Validation Accuracy', marker='o')\n",
    "    plt.xlabel('Epochs')\n",
    "    plt.ylabel('Accuracy')\n",
    "    plt.legend()\n",
    "    plt.title('Training and Validation Accuracy')\n",
    "    plt.grid(True)\n",
    "    plt.show()\n",
    "\n",
    "plot_accuracy(history_final)"
   ]
  },
  {
   "cell_type": "markdown",
   "metadata": {},
   "source": [
    "# 6. Inception"
   ]
  },
  {
   "cell_type": "markdown",
   "metadata": {},
   "source": [
    "### Keras Tuner"
   ]
  },
  {
   "cell_type": "code",
   "execution_count": null,
   "metadata": {},
   "outputs": [
    {
     "name": "stdout",
     "output_type": "stream",
     "text": [
      "Trial 20 Complete [00h 00m 47s]\n",
      "val_accuracy: 0.5076923370361328\n",
      "\n",
      "Best val_accuracy So Far: 0.6000000238418579\n",
      "Total elapsed time: 00h 15m 16s\n",
      "Optimal LR: 0.0015620297094023163\n",
      "Optimal Dropout: 0.5\n",
      "Optimal Dense units: 256\n",
      "Best L2: 0.00013699319642911057\n",
      "Best L2 Out: 3.8801110961994215e-05\n"
     ]
    },
    {
     "ename": "",
     "evalue": "",
     "output_type": "error",
     "traceback": [
      "\u001b[1;31mThe Kernel crashed while executing code in the current cell or a previous cell. \n",
      "\u001b[1;31mPlease review the code in the cell(s) to identify a possible cause of the failure. \n",
      "\u001b[1;31mClick <a href='https://aka.ms/vscodeJupyterKernelCrash'>here</a> for more info. \n",
      "\u001b[1;31mView Jupyter <a href='command:jupyter.viewOutput'>log</a> for further details."
     ]
    }
   ],
   "source": [
    "import kerastuner as kt\n",
    "from tensorflow.keras import models, layers, optimizers, regularizers\n",
    "from tensorflow.keras.applications import InceptionV3\n",
    "\n",
    "def build_model(hp):\n",
    "    # base\n",
    "    base = InceptionV3(input_shape=input_shape,\n",
    "                       include_top=False, weights='imagenet')\n",
    "    base.trainable = False\n",
    "\n",
    "    x = layers.GlobalAveragePooling2D()(base.output)\n",
    "    x = layers.Dropout(\n",
    "        hp.Float('dropout', 0.1, 0.7, step=0.1))(x)\n",
    "    x = layers.Dense(\n",
    "        hp.Int('units', 128, 512, step=64),\n",
    "        activation='relu',\n",
    "        kernel_regularizer=regularizers.l2(\n",
    "            hp.Float('l2', 1e-5, 1e-2, sampling='log'))\n",
    "    )(x)\n",
    "    out = layers.Dense(num_classes, activation='softmax',\n",
    "        kernel_regularizer=regularizers.l2(\n",
    "            hp.Float('l2_out', 1e-5, 1e-2, sampling='log'))\n",
    "    )(x)\n",
    "\n",
    "    model = models.Model(inputs=base.input, outputs=out)\n",
    "\n",
    "    # choose lr via log-sampling\n",
    "    lr = hp.Float('learning_rate', 1e-4, 1e-2, sampling='log')\n",
    "    model.compile(\n",
    "        optimizer=optimizers.Adam(learning_rate=lr),\n",
    "        loss='sparse_categorical_crossentropy',\n",
    "        metrics=['accuracy']\n",
    "    )\n",
    "    return model\n",
    "\n",
    "tuner = kt.BayesianOptimization(\n",
    "    build_model,\n",
    "    objective='val_accuracy',\n",
    "    max_trials=20,\n",
    "    directory='my_tuner_dir',\n",
    "    project_name='inceptionV3_tuning',\n",
    "    overwrite=True,\n",
    ")\n",
    "\n",
    "tuner.search(\n",
    "    x = X_train,\n",
    "    y = y_train,\n",
    "    validation_data=(X_val, y_val),\n",
    "    epochs=10,\n",
    "    callbacks=[tf.keras.callbacks.EarlyStopping(patience=5)]\n",
    ")\n",
    "\n",
    "# Retrieve best hyperparameters\n",
    "best_hps = tuner.get_best_hyperparameters(num_trials=1)[0]\n",
    "print(f\"Optimal LR: {best_hps.get('learning_rate')}\")\n",
    "print(f\"Optimal Dropout: {best_hps.get('dropout')}\")\n",
    "print(f\"Optimal Dense units: {best_hps.get('units')}\")\n",
    "print(f\"Best L2: {best_hps.get('l2')}\")\n",
    "print(f\"Best L2 Out: {best_hps.get('l2_out')}\")"
   ]
  },
  {
   "cell_type": "code",
   "execution_count": null,
   "metadata": {},
   "outputs": [
    {
     "name": "stdout",
     "output_type": "stream",
     "text": [
      "0.0002387704211652459\n",
      "0.00011861225436114591\n"
     ]
    }
   ],
   "source": [
    "print(best_hps.get('l2'))\n",
    "print(best_hps.get('l2_out'))\n"
   ]
  },
  {
   "cell_type": "markdown",
   "metadata": {},
   "source": [
    "### Final Model"
   ]
  },
  {
   "cell_type": "markdown",
   "metadata": {},
   "source": [
    "Create final model based on keras tuner outputs\n",
    "\n",
    "- First iteration val accuracy = 0.74 but massive overfitting --> train: 0.98\n",
    "- Increased dropout, decreased dense layer unit and made LR reduce overtime --> val_acc: 0.71 train: 0.98"
   ]
  },
  {
   "cell_type": "code",
   "execution_count": null,
   "metadata": {},
   "outputs": [
    {
     "data": {
      "text/html": [
       "<pre style=\"white-space:pre;overflow-x:auto;line-height:normal;font-family:Menlo,'DejaVu Sans Mono',consolas,'Courier New',monospace\"><span style=\"font-weight: bold\">Model: \"sequential_4\"</span>\n",
       "</pre>\n"
      ],
      "text/plain": [
       "\u001b[1mModel: \"sequential_4\"\u001b[0m\n"
      ]
     },
     "metadata": {},
     "output_type": "display_data"
    },
    {
     "data": {
      "text/html": [
       "<pre style=\"white-space:pre;overflow-x:auto;line-height:normal;font-family:Menlo,'DejaVu Sans Mono',consolas,'Courier New',monospace\">┏━━━━━━━━━━━━━━━━━━━━━━━━━━━━━━━━━┳━━━━━━━━━━━━━━━━━━━━━━━━┳━━━━━━━━━━━━━━━┓\n",
       "┃<span style=\"font-weight: bold\"> Layer (type)                    </span>┃<span style=\"font-weight: bold\"> Output Shape           </span>┃<span style=\"font-weight: bold\">       Param # </span>┃\n",
       "┡━━━━━━━━━━━━━━━━━━━━━━━━━━━━━━━━━╇━━━━━━━━━━━━━━━━━━━━━━━━╇━━━━━━━━━━━━━━━┩\n",
       "│ mobilenetv2_1.00_224            │ (<span style=\"color: #00d7ff; text-decoration-color: #00d7ff\">None</span>, <span style=\"color: #00af00; text-decoration-color: #00af00\">7</span>, <span style=\"color: #00af00; text-decoration-color: #00af00\">7</span>, <span style=\"color: #00af00; text-decoration-color: #00af00\">1280</span>)     │     <span style=\"color: #00af00; text-decoration-color: #00af00\">2,257,984</span> │\n",
       "│ (<span style=\"color: #0087ff; text-decoration-color: #0087ff\">Functional</span>)                    │                        │               │\n",
       "├─────────────────────────────────┼────────────────────────┼───────────────┤\n",
       "│ global_average_pooling2d_5      │ (<span style=\"color: #00d7ff; text-decoration-color: #00d7ff\">None</span>, <span style=\"color: #00af00; text-decoration-color: #00af00\">1280</span>)           │             <span style=\"color: #00af00; text-decoration-color: #00af00\">0</span> │\n",
       "│ (<span style=\"color: #0087ff; text-decoration-color: #0087ff\">GlobalAveragePooling2D</span>)        │                        │               │\n",
       "├─────────────────────────────────┼────────────────────────┼───────────────┤\n",
       "│ dropout_5 (<span style=\"color: #0087ff; text-decoration-color: #0087ff\">Dropout</span>)             │ (<span style=\"color: #00d7ff; text-decoration-color: #00d7ff\">None</span>, <span style=\"color: #00af00; text-decoration-color: #00af00\">1280</span>)           │             <span style=\"color: #00af00; text-decoration-color: #00af00\">0</span> │\n",
       "├─────────────────────────────────┼────────────────────────┼───────────────┤\n",
       "│ dense_10 (<span style=\"color: #0087ff; text-decoration-color: #0087ff\">Dense</span>)                │ (<span style=\"color: #00d7ff; text-decoration-color: #00d7ff\">None</span>, <span style=\"color: #00af00; text-decoration-color: #00af00\">128</span>)            │       <span style=\"color: #00af00; text-decoration-color: #00af00\">163,968</span> │\n",
       "├─────────────────────────────────┼────────────────────────┼───────────────┤\n",
       "│ dense_11 (<span style=\"color: #0087ff; text-decoration-color: #0087ff\">Dense</span>)                │ (<span style=\"color: #00d7ff; text-decoration-color: #00d7ff\">None</span>, <span style=\"color: #00af00; text-decoration-color: #00af00\">13</span>)             │         <span style=\"color: #00af00; text-decoration-color: #00af00\">1,677</span> │\n",
       "└─────────────────────────────────┴────────────────────────┴───────────────┘\n",
       "</pre>\n"
      ],
      "text/plain": [
       "┏━━━━━━━━━━━━━━━━━━━━━━━━━━━━━━━━━┳━━━━━━━━━━━━━━━━━━━━━━━━┳━━━━━━━━━━━━━━━┓\n",
       "┃\u001b[1m \u001b[0m\u001b[1mLayer (type)                   \u001b[0m\u001b[1m \u001b[0m┃\u001b[1m \u001b[0m\u001b[1mOutput Shape          \u001b[0m\u001b[1m \u001b[0m┃\u001b[1m \u001b[0m\u001b[1m      Param #\u001b[0m\u001b[1m \u001b[0m┃\n",
       "┡━━━━━━━━━━━━━━━━━━━━━━━━━━━━━━━━━╇━━━━━━━━━━━━━━━━━━━━━━━━╇━━━━━━━━━━━━━━━┩\n",
       "│ mobilenetv2_1.00_224            │ (\u001b[38;5;45mNone\u001b[0m, \u001b[38;5;34m7\u001b[0m, \u001b[38;5;34m7\u001b[0m, \u001b[38;5;34m1280\u001b[0m)     │     \u001b[38;5;34m2,257,984\u001b[0m │\n",
       "│ (\u001b[38;5;33mFunctional\u001b[0m)                    │                        │               │\n",
       "├─────────────────────────────────┼────────────────────────┼───────────────┤\n",
       "│ global_average_pooling2d_5      │ (\u001b[38;5;45mNone\u001b[0m, \u001b[38;5;34m1280\u001b[0m)           │             \u001b[38;5;34m0\u001b[0m │\n",
       "│ (\u001b[38;5;33mGlobalAveragePooling2D\u001b[0m)        │                        │               │\n",
       "├─────────────────────────────────┼────────────────────────┼───────────────┤\n",
       "│ dropout_5 (\u001b[38;5;33mDropout\u001b[0m)             │ (\u001b[38;5;45mNone\u001b[0m, \u001b[38;5;34m1280\u001b[0m)           │             \u001b[38;5;34m0\u001b[0m │\n",
       "├─────────────────────────────────┼────────────────────────┼───────────────┤\n",
       "│ dense_10 (\u001b[38;5;33mDense\u001b[0m)                │ (\u001b[38;5;45mNone\u001b[0m, \u001b[38;5;34m128\u001b[0m)            │       \u001b[38;5;34m163,968\u001b[0m │\n",
       "├─────────────────────────────────┼────────────────────────┼───────────────┤\n",
       "│ dense_11 (\u001b[38;5;33mDense\u001b[0m)                │ (\u001b[38;5;45mNone\u001b[0m, \u001b[38;5;34m13\u001b[0m)             │         \u001b[38;5;34m1,677\u001b[0m │\n",
       "└─────────────────────────────────┴────────────────────────┴───────────────┘\n"
      ]
     },
     "metadata": {},
     "output_type": "display_data"
    },
    {
     "data": {
      "text/html": [
       "<pre style=\"white-space:pre;overflow-x:auto;line-height:normal;font-family:Menlo,'DejaVu Sans Mono',consolas,'Courier New',monospace\"><span style=\"font-weight: bold\"> Total params: </span><span style=\"color: #00af00; text-decoration-color: #00af00\">2,423,629</span> (9.25 MB)\n",
       "</pre>\n"
      ],
      "text/plain": [
       "\u001b[1m Total params: \u001b[0m\u001b[38;5;34m2,423,629\u001b[0m (9.25 MB)\n"
      ]
     },
     "metadata": {},
     "output_type": "display_data"
    },
    {
     "data": {
      "text/html": [
       "<pre style=\"white-space:pre;overflow-x:auto;line-height:normal;font-family:Menlo,'DejaVu Sans Mono',consolas,'Courier New',monospace\"><span style=\"font-weight: bold\"> Trainable params: </span><span style=\"color: #00af00; text-decoration-color: #00af00\">165,645</span> (647.05 KB)\n",
       "</pre>\n"
      ],
      "text/plain": [
       "\u001b[1m Trainable params: \u001b[0m\u001b[38;5;34m165,645\u001b[0m (647.05 KB)\n"
      ]
     },
     "metadata": {},
     "output_type": "display_data"
    },
    {
     "data": {
      "text/html": [
       "<pre style=\"white-space:pre;overflow-x:auto;line-height:normal;font-family:Menlo,'DejaVu Sans Mono',consolas,'Courier New',monospace\"><span style=\"font-weight: bold\"> Non-trainable params: </span><span style=\"color: #00af00; text-decoration-color: #00af00\">2,257,984</span> (8.61 MB)\n",
       "</pre>\n"
      ],
      "text/plain": [
       "\u001b[1m Non-trainable params: \u001b[0m\u001b[38;5;34m2,257,984\u001b[0m (8.61 MB)\n"
      ]
     },
     "metadata": {},
     "output_type": "display_data"
    }
   ],
   "source": [
    "from tensorflow.keras.regularizers import l2\n",
    "from sklearn.utils.class_weight import compute_class_weight\n",
    "\n",
    "# Load base model without top layer\n",
    "base_model = MobileNetV2(\n",
    "    input_shape=input_shape,  # Match your resized image shape\n",
    "    include_top=False,         # Don't include the original classifier\n",
    "    weights='imagenet'         # Use ImageNet-pretrained weights\n",
    ")\n",
    "\n",
    "# Freeze base model so we only train the new layers for now\n",
    "base_model.trainable = False\n",
    "\n",
    "model = models.Sequential([\n",
    "    base_model,                                # Pre-trained feature extractor\n",
    "    layers.GlobalAveragePooling2D(),           # Pool the spatial features\n",
    "    layers.Dropout(0.5),                       # Dropout for regularization\n",
    "    layers.Dense(128, activation='relu', kernel_regularizer=l2(0.0002)),  # L2 regularized Dense layer\n",
    "    layers.Dense(num_classes, activation='softmax', kernel_regularizer=l2(0.0001))  # Output layer with L2 regularizer\n",
    "])\n",
    "\n",
    "# Compile the model\n",
    "model.compile(\n",
    "    optimizer=optimizers.Adam(learning_rate=0.004), \n",
    "    loss='sparse_categorical_crossentropy',\n",
    "    metrics=['accuracy']\n",
    ")\n",
    "\n",
    "model.summary()"
   ]
  },
  {
   "cell_type": "markdown",
   "metadata": {},
   "source": [
    "### Model Training"
   ]
  },
  {
   "cell_type": "code",
   "execution_count": null,
   "metadata": {},
   "outputs": [],
   "source": [
    "# y_train = np.array(labels_train)  # Replace labels_train with your training label list\n",
    "# class_weights = compute_class_weight(\n",
    "#     class_weight='balanced',\n",
    "#     classes=np.unique(y_train),\n",
    "#     y=y_train\n",
    "# )\n",
    "\n",
    "# class_weights_dict = dict(enumerate(class_weights))\n",
    "# print(\"Computed class weights:\", class_weights_dict)"
   ]
  },
  {
   "cell_type": "code",
   "execution_count": null,
   "metadata": {},
   "outputs": [
    {
     "name": "stdout",
     "output_type": "stream",
     "text": [
      "Epoch 1/40\n",
      "\u001b[1m13/13\u001b[0m \u001b[32m━━━━━━━━━━━━━━━━━━━━\u001b[0m\u001b[37m\u001b[0m \u001b[1m0s\u001b[0m 259ms/step - accuracy: 0.1992 - loss: 3.0958\n",
      "Epoch 1: val_accuracy improved from -inf to 0.48077, saving model to models/cnidaria_models/mobilenetV2_final.keras\n",
      "\u001b[1m13/13\u001b[0m \u001b[32m━━━━━━━━━━━━━━━━━━━━\u001b[0m\u001b[37m\u001b[0m \u001b[1m15s\u001b[0m 702ms/step - accuracy: 0.2040 - loss: 3.0581 - val_accuracy: 0.4808 - val_loss: 1.5901 - learning_rate: 0.0040\n",
      "Epoch 2/40\n",
      "\u001b[1m11/13\u001b[0m \u001b[32m━━━━━━━━━━━━━━━━\u001b[0m\u001b[37m━━━━\u001b[0m \u001b[1m0s\u001b[0m 29ms/step - accuracy: 0.5170 - loss: 1.5577\n",
      "Epoch 2: val_accuracy improved from 0.48077 to 0.60577, saving model to models/cnidaria_models/mobilenetV2_final.keras\n",
      "\u001b[1m13/13\u001b[0m \u001b[32m━━━━━━━━━━━━━━━━━━━━\u001b[0m\u001b[37m\u001b[0m \u001b[1m1s\u001b[0m 63ms/step - accuracy: 0.5220 - loss: 1.5402 - val_accuracy: 0.6058 - val_loss: 1.2372 - learning_rate: 0.0040\n",
      "Epoch 3/40\n",
      "\u001b[1m13/13\u001b[0m \u001b[32m━━━━━━━━━━━━━━━━━━━━\u001b[0m\u001b[37m\u001b[0m \u001b[1m0s\u001b[0m 20ms/step - accuracy: 0.6314 - loss: 1.1688\n",
      "Epoch 3: val_accuracy did not improve from 0.60577\n",
      "\u001b[1m13/13\u001b[0m \u001b[32m━━━━━━━━━━━━━━━━━━━━\u001b[0m\u001b[37m\u001b[0m \u001b[1m0s\u001b[0m 26ms/step - accuracy: 0.6328 - loss: 1.1637 - val_accuracy: 0.5962 - val_loss: 1.1914 - learning_rate: 0.0040\n",
      "Epoch 4/40\n",
      "\u001b[1m13/13\u001b[0m \u001b[32m━━━━━━━━━━━━━━━━━━━━\u001b[0m\u001b[37m\u001b[0m \u001b[1m0s\u001b[0m 19ms/step - accuracy: 0.7576 - loss: 0.8712\n",
      "Epoch 4: val_accuracy improved from 0.60577 to 0.66346, saving model to models/cnidaria_models/mobilenetV2_final.keras\n",
      "\u001b[1m13/13\u001b[0m \u001b[32m━━━━━━━━━━━━━━━━━━━━\u001b[0m\u001b[37m\u001b[0m \u001b[1m1s\u001b[0m 53ms/step - accuracy: 0.7587 - loss: 0.8657 - val_accuracy: 0.6635 - val_loss: 1.0906 - learning_rate: 0.0040\n",
      "Epoch 5/40\n",
      "\u001b[1m13/13\u001b[0m \u001b[32m━━━━━━━━━━━━━━━━━━━━\u001b[0m\u001b[37m\u001b[0m \u001b[1m0s\u001b[0m 20ms/step - accuracy: 0.8396 - loss: 0.5734\n",
      "Epoch 5: val_accuracy did not improve from 0.66346\n",
      "\u001b[1m13/13\u001b[0m \u001b[32m━━━━━━━━━━━━━━━━━━━━\u001b[0m\u001b[37m\u001b[0m \u001b[1m0s\u001b[0m 27ms/step - accuracy: 0.8386 - loss: 0.5741 - val_accuracy: 0.6442 - val_loss: 1.1422 - learning_rate: 0.0040\n",
      "Epoch 6/40\n",
      "\u001b[1m13/13\u001b[0m \u001b[32m━━━━━━━━━━━━━━━━━━━━\u001b[0m\u001b[37m\u001b[0m \u001b[1m0s\u001b[0m 19ms/step - accuracy: 0.8433 - loss: 0.5522\n",
      "Epoch 6: val_accuracy did not improve from 0.66346\n",
      "\u001b[1m13/13\u001b[0m \u001b[32m━━━━━━━━━━━━━━━━━━━━\u001b[0m\u001b[37m\u001b[0m \u001b[1m0s\u001b[0m 26ms/step - accuracy: 0.8427 - loss: 0.5535 - val_accuracy: 0.6058 - val_loss: 1.1203 - learning_rate: 0.0040\n",
      "Epoch 7/40\n",
      "\u001b[1m11/13\u001b[0m \u001b[32m━━━━━━━━━━━━━━━━\u001b[0m\u001b[37m━━━━\u001b[0m \u001b[1m0s\u001b[0m 139ms/step - accuracy: 0.8698 - loss: 0.4590\n",
      "Epoch 7: val_accuracy did not improve from 0.66346\n",
      "\u001b[1m13/13\u001b[0m \u001b[32m━━━━━━━━━━━━━━━━━━━━\u001b[0m\u001b[37m\u001b[0m \u001b[1m2s\u001b[0m 126ms/step - accuracy: 0.8717 - loss: 0.4649 - val_accuracy: 0.6346 - val_loss: 1.1675 - learning_rate: 0.0040\n",
      "Epoch 8/40\n",
      "\u001b[1m13/13\u001b[0m \u001b[32m━━━━━━━━━━━━━━━━━━━━\u001b[0m\u001b[37m\u001b[0m \u001b[1m0s\u001b[0m 20ms/step - accuracy: 0.9026 - loss: 0.3974\n",
      "Epoch 8: val_accuracy did not improve from 0.66346\n",
      "\u001b[1m13/13\u001b[0m \u001b[32m━━━━━━━━━━━━━━━━━━━━\u001b[0m\u001b[37m\u001b[0m \u001b[1m0s\u001b[0m 27ms/step - accuracy: 0.9023 - loss: 0.3969 - val_accuracy: 0.6635 - val_loss: 1.0479 - learning_rate: 0.0020\n",
      "Epoch 9/40\n",
      "\u001b[1m13/13\u001b[0m \u001b[32m━━━━━━━━━━━━━━━━━━━━\u001b[0m\u001b[37m\u001b[0m \u001b[1m0s\u001b[0m 20ms/step - accuracy: 0.9143 - loss: 0.3036\n",
      "Epoch 9: val_accuracy improved from 0.66346 to 0.67308, saving model to models/cnidaria_models/mobilenetV2_final.keras\n",
      "\u001b[1m13/13\u001b[0m \u001b[32m━━━━━━━━━━━━━━━━━━━━\u001b[0m\u001b[37m\u001b[0m \u001b[1m1s\u001b[0m 55ms/step - accuracy: 0.9149 - loss: 0.3034 - val_accuracy: 0.6731 - val_loss: 1.1503 - learning_rate: 0.0020\n",
      "Epoch 10/40\n",
      "\u001b[1m13/13\u001b[0m \u001b[32m━━━━━━━━━━━━━━━━━━━━\u001b[0m\u001b[37m\u001b[0m \u001b[1m0s\u001b[0m 20ms/step - accuracy: 0.9586 - loss: 0.2526\n",
      "Epoch 10: val_accuracy improved from 0.67308 to 0.68269, saving model to models/cnidaria_models/mobilenetV2_final.keras\n",
      "\u001b[1m13/13\u001b[0m \u001b[32m━━━━━━━━━━━━━━━━━━━━\u001b[0m\u001b[37m\u001b[0m \u001b[1m1s\u001b[0m 55ms/step - accuracy: 0.9581 - loss: 0.2527 - val_accuracy: 0.6827 - val_loss: 1.1087 - learning_rate: 0.0020\n",
      "Epoch 11/40\n",
      "\u001b[1m13/13\u001b[0m \u001b[32m━━━━━━━━━━━━━━━━━━━━\u001b[0m\u001b[37m\u001b[0m \u001b[1m0s\u001b[0m 21ms/step - accuracy: 0.9194 - loss: 0.2990\n",
      "Epoch 11: val_accuracy did not improve from 0.68269\n",
      "\u001b[1m13/13\u001b[0m \u001b[32m━━━━━━━━━━━━━━━━━━━━\u001b[0m\u001b[37m\u001b[0m \u001b[1m0s\u001b[0m 29ms/step - accuracy: 0.9203 - loss: 0.2978 - val_accuracy: 0.6442 - val_loss: 1.0294 - learning_rate: 0.0020\n",
      "Epoch 12/40\n",
      "\u001b[1m13/13\u001b[0m \u001b[32m━━━━━━━━━━━━━━━━━━━━\u001b[0m\u001b[37m\u001b[0m \u001b[1m0s\u001b[0m 22ms/step - accuracy: 0.9632 - loss: 0.2475\n",
      "Epoch 12: val_accuracy improved from 0.68269 to 0.69231, saving model to models/cnidaria_models/mobilenetV2_final.keras\n",
      "\u001b[1m13/13\u001b[0m \u001b[32m━━━━━━━━━━━━━━━━━━━━\u001b[0m\u001b[37m\u001b[0m \u001b[1m1s\u001b[0m 59ms/step - accuracy: 0.9632 - loss: 0.2474 - val_accuracy: 0.6923 - val_loss: 1.1217 - learning_rate: 0.0020\n",
      "Epoch 13/40\n",
      "\u001b[1m13/13\u001b[0m \u001b[32m━━━━━━━━━━━━━━━━━━━━\u001b[0m\u001b[37m\u001b[0m \u001b[1m0s\u001b[0m 21ms/step - accuracy: 0.9682 - loss: 0.2334\n",
      "Epoch 13: val_accuracy did not improve from 0.69231\n",
      "\u001b[1m13/13\u001b[0m \u001b[32m━━━━━━━━━━━━━━━━━━━━\u001b[0m\u001b[37m\u001b[0m \u001b[1m0s\u001b[0m 29ms/step - accuracy: 0.9681 - loss: 0.2321 - val_accuracy: 0.6923 - val_loss: 1.0750 - learning_rate: 0.0020\n",
      "Epoch 14/40\n",
      "\u001b[1m13/13\u001b[0m \u001b[32m━━━━━━━━━━━━━━━━━━━━\u001b[0m\u001b[37m\u001b[0m \u001b[1m0s\u001b[0m 22ms/step - accuracy: 0.9628 - loss: 0.2202\n",
      "Epoch 14: val_accuracy did not improve from 0.69231\n",
      "\u001b[1m13/13\u001b[0m \u001b[32m━━━━━━━━━━━━━━━━━━━━\u001b[0m\u001b[37m\u001b[0m \u001b[1m0s\u001b[0m 29ms/step - accuracy: 0.9625 - loss: 0.2202 - val_accuracy: 0.6923 - val_loss: 1.0448 - learning_rate: 0.0020\n",
      "Epoch 15/40\n",
      "\u001b[1m13/13\u001b[0m \u001b[32m━━━━━━━━━━━━━━━━━━━━\u001b[0m\u001b[37m\u001b[0m \u001b[1m0s\u001b[0m 22ms/step - accuracy: 0.9820 - loss: 0.1624\n",
      "Epoch 15: val_accuracy did not improve from 0.69231\n",
      "\u001b[1m13/13\u001b[0m \u001b[32m━━━━━━━━━━━━━━━━━━━━\u001b[0m\u001b[37m\u001b[0m \u001b[1m0s\u001b[0m 30ms/step - accuracy: 0.9811 - loss: 0.1638 - val_accuracy: 0.6827 - val_loss: 1.0611 - learning_rate: 0.0010\n",
      "Epoch 16/40\n",
      "\u001b[1m13/13\u001b[0m \u001b[32m━━━━━━━━━━━━━━━━━━━━\u001b[0m\u001b[37m\u001b[0m \u001b[1m0s\u001b[0m 21ms/step - accuracy: 0.9655 - loss: 0.1750\n",
      "Epoch 16: val_accuracy did not improve from 0.69231\n",
      "\u001b[1m13/13\u001b[0m \u001b[32m━━━━━━━━━━━━━━━━━━━━\u001b[0m\u001b[37m\u001b[0m \u001b[1m0s\u001b[0m 29ms/step - accuracy: 0.9651 - loss: 0.1760 - val_accuracy: 0.6923 - val_loss: 0.9962 - learning_rate: 0.0010\n",
      "Epoch 17/40\n",
      "\u001b[1m13/13\u001b[0m \u001b[32m━━━━━━━━━━━━━━━━━━━━\u001b[0m\u001b[37m\u001b[0m \u001b[1m0s\u001b[0m 21ms/step - accuracy: 0.9759 - loss: 0.1698\n",
      "Epoch 17: val_accuracy did not improve from 0.69231\n",
      "\u001b[1m13/13\u001b[0m \u001b[32m━━━━━━━━━━━━━━━━━━━━\u001b[0m\u001b[37m\u001b[0m \u001b[1m0s\u001b[0m 29ms/step - accuracy: 0.9759 - loss: 0.1704 - val_accuracy: 0.6827 - val_loss: 1.0463 - learning_rate: 0.0010\n",
      "Epoch 18/40\n",
      "\u001b[1m13/13\u001b[0m \u001b[32m━━━━━━━━━━━━━━━━━━━━\u001b[0m\u001b[37m\u001b[0m \u001b[1m0s\u001b[0m 22ms/step - accuracy: 0.9754 - loss: 0.1737\n",
      "Epoch 18: val_accuracy improved from 0.69231 to 0.71154, saving model to models/cnidaria_models/mobilenetV2_final.keras\n",
      "\u001b[1m13/13\u001b[0m \u001b[32m━━━━━━━━━━━━━━━━━━━━\u001b[0m\u001b[37m\u001b[0m \u001b[1m1s\u001b[0m 64ms/step - accuracy: 0.9749 - loss: 0.1741 - val_accuracy: 0.7115 - val_loss: 1.0373 - learning_rate: 0.0010\n",
      "Epoch 19/40\n",
      "\u001b[1m13/13\u001b[0m \u001b[32m━━━━━━━━━━━━━━━━━━━━\u001b[0m\u001b[37m\u001b[0m \u001b[1m0s\u001b[0m 20ms/step - accuracy: 0.9745 - loss: 0.1676\n",
      "Epoch 19: val_accuracy did not improve from 0.71154\n",
      "\u001b[1m13/13\u001b[0m \u001b[32m━━━━━━━━━━━━━━━━━━━━\u001b[0m\u001b[37m\u001b[0m \u001b[1m0s\u001b[0m 27ms/step - accuracy: 0.9749 - loss: 0.1672 - val_accuracy: 0.6827 - val_loss: 1.0419 - learning_rate: 0.0010\n",
      "Epoch 20/40\n",
      "\u001b[1m13/13\u001b[0m \u001b[32m━━━━━━━━━━━━━━━━━━━━\u001b[0m\u001b[37m\u001b[0m \u001b[1m0s\u001b[0m 19ms/step - accuracy: 0.9744 - loss: 0.1663\n",
      "Epoch 20: val_accuracy did not improve from 0.71154\n",
      "\u001b[1m13/13\u001b[0m \u001b[32m━━━━━━━━━━━━━━━━━━━━\u001b[0m\u001b[37m\u001b[0m \u001b[1m0s\u001b[0m 26ms/step - accuracy: 0.9740 - loss: 0.1668 - val_accuracy: 0.6827 - val_loss: 1.0381 - learning_rate: 5.0000e-04\n",
      "Epoch 21/40\n",
      "\u001b[1m13/13\u001b[0m \u001b[32m━━━━━━━━━━━━━━━━━━━━\u001b[0m\u001b[37m\u001b[0m \u001b[1m0s\u001b[0m 20ms/step - accuracy: 0.9515 - loss: 0.1948\n",
      "Epoch 21: val_accuracy did not improve from 0.71154\n",
      "\u001b[1m13/13\u001b[0m \u001b[32m━━━━━━━━━━━━━━━━━━━━\u001b[0m\u001b[37m\u001b[0m \u001b[1m0s\u001b[0m 27ms/step - accuracy: 0.9524 - loss: 0.1939 - val_accuracy: 0.6923 - val_loss: 1.0221 - learning_rate: 5.0000e-04\n",
      "Epoch 22/40\n",
      "\u001b[1m13/13\u001b[0m \u001b[32m━━━━━━━━━━━━━━━━━━━━\u001b[0m\u001b[37m\u001b[0m \u001b[1m0s\u001b[0m 19ms/step - accuracy: 0.9958 - loss: 0.1579\n",
      "Epoch 22: val_accuracy did not improve from 0.71154\n",
      "\u001b[1m13/13\u001b[0m \u001b[32m━━━━━━━━━━━━━━━━━━━━\u001b[0m\u001b[37m\u001b[0m \u001b[1m0s\u001b[0m 27ms/step - accuracy: 0.9954 - loss: 0.1582 - val_accuracy: 0.6923 - val_loss: 1.0690 - learning_rate: 5.0000e-04\n",
      "Epoch 23/40\n",
      "\u001b[1m13/13\u001b[0m \u001b[32m━━━━━━━━━━━━━━━━━━━━\u001b[0m\u001b[37m\u001b[0m \u001b[1m0s\u001b[0m 20ms/step - accuracy: 0.9883 - loss: 0.1520\n",
      "Epoch 23: val_accuracy did not improve from 0.71154\n",
      "\u001b[1m13/13\u001b[0m \u001b[32m━━━━━━━━━━━━━━━━━━━━\u001b[0m\u001b[37m\u001b[0m \u001b[1m0s\u001b[0m 27ms/step - accuracy: 0.9875 - loss: 0.1528 - val_accuracy: 0.6827 - val_loss: 1.0502 - learning_rate: 2.5000e-04\n",
      "Epoch 24/40\n",
      "\u001b[1m13/13\u001b[0m \u001b[32m━━━━━━━━━━━━━━━━━━━━\u001b[0m\u001b[37m\u001b[0m \u001b[1m0s\u001b[0m 20ms/step - accuracy: 0.9781 - loss: 0.1554\n",
      "Epoch 24: val_accuracy did not improve from 0.71154\n",
      "\u001b[1m13/13\u001b[0m \u001b[32m━━━━━━━━━━━━━━━━━━━━\u001b[0m\u001b[37m\u001b[0m \u001b[1m0s\u001b[0m 27ms/step - accuracy: 0.9783 - loss: 0.1554 - val_accuracy: 0.7019 - val_loss: 1.0277 - learning_rate: 2.5000e-04\n",
      "Epoch 25/40\n",
      "\u001b[1m13/13\u001b[0m \u001b[32m━━━━━━━━━━━━━━━━━━━━\u001b[0m\u001b[37m\u001b[0m \u001b[1m0s\u001b[0m 20ms/step - accuracy: 0.9922 - loss: 0.1288\n",
      "Epoch 25: val_accuracy did not improve from 0.71154\n",
      "\u001b[1m13/13\u001b[0m \u001b[32m━━━━━━━━━━━━━━━━━━━━\u001b[0m\u001b[37m\u001b[0m \u001b[1m0s\u001b[0m 27ms/step - accuracy: 0.9922 - loss: 0.1288 - val_accuracy: 0.6923 - val_loss: 1.0296 - learning_rate: 2.5000e-04\n",
      "Epoch 26/40\n",
      "\u001b[1m13/13\u001b[0m \u001b[32m━━━━━━━━━━━━━━━━━━━━\u001b[0m\u001b[37m\u001b[0m \u001b[1m0s\u001b[0m 19ms/step - accuracy: 0.9806 - loss: 0.1406\n",
      "Epoch 26: val_accuracy did not improve from 0.71154\n",
      "\u001b[1m13/13\u001b[0m \u001b[32m━━━━━━━━━━━━━━━━━━━━\u001b[0m\u001b[37m\u001b[0m \u001b[1m0s\u001b[0m 27ms/step - accuracy: 0.9810 - loss: 0.1407 - val_accuracy: 0.7019 - val_loss: 1.0319 - learning_rate: 1.2500e-04\n",
      "Epoch 27/40\n",
      "\u001b[1m13/13\u001b[0m \u001b[32m━━━━━━━━━━━━━━━━━━━━\u001b[0m\u001b[37m\u001b[0m \u001b[1m0s\u001b[0m 19ms/step - accuracy: 0.9842 - loss: 0.1530\n",
      "Epoch 27: val_accuracy did not improve from 0.71154\n",
      "\u001b[1m13/13\u001b[0m \u001b[32m━━━━━━━━━━━━━━━━━━━━\u001b[0m\u001b[37m\u001b[0m \u001b[1m0s\u001b[0m 27ms/step - accuracy: 0.9845 - loss: 0.1526 - val_accuracy: 0.6923 - val_loss: 1.0309 - learning_rate: 1.2500e-04\n",
      "Epoch 28/40\n",
      "\u001b[1m13/13\u001b[0m \u001b[32m━━━━━━━━━━━━━━━━━━━━\u001b[0m\u001b[37m\u001b[0m \u001b[1m0s\u001b[0m 20ms/step - accuracy: 0.9876 - loss: 0.1316\n",
      "Epoch 28: val_accuracy did not improve from 0.71154\n",
      "\u001b[1m13/13\u001b[0m \u001b[32m━━━━━━━━━━━━━━━━━━━━\u001b[0m\u001b[37m\u001b[0m \u001b[1m0s\u001b[0m 27ms/step - accuracy: 0.9878 - loss: 0.1318 - val_accuracy: 0.6827 - val_loss: 1.0366 - learning_rate: 1.2500e-04\n",
      "Epoch 29/40\n",
      "\u001b[1m13/13\u001b[0m \u001b[32m━━━━━━━━━━━━━━━━━━━━\u001b[0m\u001b[37m\u001b[0m \u001b[1m0s\u001b[0m 20ms/step - accuracy: 0.9778 - loss: 0.1503\n",
      "Epoch 29: val_accuracy did not improve from 0.71154\n",
      "\u001b[1m13/13\u001b[0m \u001b[32m━━━━━━━━━━━━━━━━━━━━\u001b[0m\u001b[37m\u001b[0m \u001b[1m0s\u001b[0m 27ms/step - accuracy: 0.9780 - loss: 0.1507 - val_accuracy: 0.6827 - val_loss: 1.0347 - learning_rate: 6.2500e-05\n",
      "Epoch 30/40\n",
      "\u001b[1m13/13\u001b[0m \u001b[32m━━━━━━━━━━━━━━━━━━━━\u001b[0m\u001b[37m\u001b[0m \u001b[1m0s\u001b[0m 20ms/step - accuracy: 0.9782 - loss: 0.1627\n",
      "Epoch 30: val_accuracy did not improve from 0.71154\n",
      "\u001b[1m13/13\u001b[0m \u001b[32m━━━━━━━━━━━━━━━━━━━━\u001b[0m\u001b[37m\u001b[0m \u001b[1m0s\u001b[0m 27ms/step - accuracy: 0.9781 - loss: 0.1627 - val_accuracy: 0.6827 - val_loss: 1.0326 - learning_rate: 6.2500e-05\n",
      "Epoch 31/40\n",
      "\u001b[1m13/13\u001b[0m \u001b[32m━━━━━━━━━━━━━━━━━━━━\u001b[0m\u001b[37m\u001b[0m \u001b[1m0s\u001b[0m 19ms/step - accuracy: 0.9899 - loss: 0.1417\n",
      "Epoch 31: val_accuracy did not improve from 0.71154\n",
      "\u001b[1m13/13\u001b[0m \u001b[32m━━━━━━━━━━━━━━━━━━━━\u001b[0m\u001b[37m\u001b[0m \u001b[1m0s\u001b[0m 27ms/step - accuracy: 0.9898 - loss: 0.1421 - val_accuracy: 0.6827 - val_loss: 1.0327 - learning_rate: 6.2500e-05\n",
      "Epoch 32/40\n",
      "\u001b[1m13/13\u001b[0m \u001b[32m━━━━━━━━━━━━━━━━━━━━\u001b[0m\u001b[37m\u001b[0m \u001b[1m0s\u001b[0m 20ms/step - accuracy: 0.9796 - loss: 0.1477\n",
      "Epoch 32: val_accuracy did not improve from 0.71154\n",
      "\u001b[1m13/13\u001b[0m \u001b[32m━━━━━━━━━━━━━━━━━━━━\u001b[0m\u001b[37m\u001b[0m \u001b[1m0s\u001b[0m 27ms/step - accuracy: 0.9795 - loss: 0.1487 - val_accuracy: 0.6827 - val_loss: 1.0349 - learning_rate: 3.1250e-05\n",
      "Epoch 33/40\n",
      "\u001b[1m13/13\u001b[0m \u001b[32m━━━━━━━━━━━━━━━━━━━━\u001b[0m\u001b[37m\u001b[0m \u001b[1m0s\u001b[0m 20ms/step - accuracy: 0.9818 - loss: 0.1463\n",
      "Epoch 33: val_accuracy did not improve from 0.71154\n",
      "\u001b[1m13/13\u001b[0m \u001b[32m━━━━━━━━━━━━━━━━━━━━\u001b[0m\u001b[37m\u001b[0m \u001b[1m0s\u001b[0m 26ms/step - accuracy: 0.9810 - loss: 0.1475 - val_accuracy: 0.6827 - val_loss: 1.0359 - learning_rate: 3.1250e-05\n",
      "Epoch 34/40\n",
      "\u001b[1m13/13\u001b[0m \u001b[32m━━━━━━━━━━━━━━━━━━━━\u001b[0m\u001b[37m\u001b[0m \u001b[1m0s\u001b[0m 20ms/step - accuracy: 0.9828 - loss: 0.1621\n",
      "Epoch 34: val_accuracy did not improve from 0.71154\n",
      "\u001b[1m13/13\u001b[0m \u001b[32m━━━━━━━━━━━━━━━━━━━━\u001b[0m\u001b[37m\u001b[0m \u001b[1m0s\u001b[0m 27ms/step - accuracy: 0.9828 - loss: 0.1620 - val_accuracy: 0.6923 - val_loss: 1.0362 - learning_rate: 3.1250e-05\n",
      "Epoch 35/40\n",
      "\u001b[1m13/13\u001b[0m \u001b[32m━━━━━━━━━━━━━━━━━━━━\u001b[0m\u001b[37m\u001b[0m \u001b[1m0s\u001b[0m 21ms/step - accuracy: 0.9825 - loss: 0.1372\n",
      "Epoch 35: val_accuracy did not improve from 0.71154\n",
      "\u001b[1m13/13\u001b[0m \u001b[32m━━━━━━━━━━━━━━━━━━━━\u001b[0m\u001b[37m\u001b[0m \u001b[1m0s\u001b[0m 28ms/step - accuracy: 0.9825 - loss: 0.1376 - val_accuracy: 0.6923 - val_loss: 1.0359 - learning_rate: 1.5625e-05\n",
      "Epoch 36/40\n",
      "\u001b[1m13/13\u001b[0m \u001b[32m━━━━━━━━━━━━━━━━━━━━\u001b[0m\u001b[37m\u001b[0m \u001b[1m0s\u001b[0m 21ms/step - accuracy: 0.9928 - loss: 0.1456\n",
      "Epoch 36: val_accuracy did not improve from 0.71154\n",
      "\u001b[1m13/13\u001b[0m \u001b[32m━━━━━━━━━━━━━━━━━━━━\u001b[0m\u001b[37m\u001b[0m \u001b[1m0s\u001b[0m 28ms/step - accuracy: 0.9923 - loss: 0.1459 - val_accuracy: 0.6923 - val_loss: 1.0353 - learning_rate: 1.5625e-05\n",
      "Epoch 37/40\n",
      "\u001b[1m13/13\u001b[0m \u001b[32m━━━━━━━━━━━━━━━━━━━━\u001b[0m\u001b[37m\u001b[0m \u001b[1m0s\u001b[0m 21ms/step - accuracy: 0.9784 - loss: 0.1749\n",
      "Epoch 37: val_accuracy did not improve from 0.71154\n",
      "\u001b[1m13/13\u001b[0m \u001b[32m━━━━━━━━━━━━━━━━━━━━\u001b[0m\u001b[37m\u001b[0m \u001b[1m0s\u001b[0m 28ms/step - accuracy: 0.9784 - loss: 0.1742 - val_accuracy: 0.6923 - val_loss: 1.0349 - learning_rate: 1.5625e-05\n",
      "Epoch 38/40\n",
      "\u001b[1m13/13\u001b[0m \u001b[32m━━━━━━━━━━━━━━━━━━━━\u001b[0m\u001b[37m\u001b[0m \u001b[1m0s\u001b[0m 21ms/step - accuracy: 0.9876 - loss: 0.1458\n",
      "Epoch 38: val_accuracy did not improve from 0.71154\n",
      "\u001b[1m13/13\u001b[0m \u001b[32m━━━━━━━━━━━━━━━━━━━━\u001b[0m\u001b[37m\u001b[0m \u001b[1m0s\u001b[0m 29ms/step - accuracy: 0.9874 - loss: 0.1459 - val_accuracy: 0.6923 - val_loss: 1.0344 - learning_rate: 7.8125e-06\n",
      "Epoch 39/40\n",
      "\u001b[1m13/13\u001b[0m \u001b[32m━━━━━━━━━━━━━━━━━━━━\u001b[0m\u001b[37m\u001b[0m \u001b[1m0s\u001b[0m 21ms/step - accuracy: 0.9718 - loss: 0.1633\n",
      "Epoch 39: val_accuracy did not improve from 0.71154\n",
      "\u001b[1m13/13\u001b[0m \u001b[32m━━━━━━━━━━━━━━━━━━━━\u001b[0m\u001b[37m\u001b[0m \u001b[1m0s\u001b[0m 28ms/step - accuracy: 0.9724 - loss: 0.1620 - val_accuracy: 0.6923 - val_loss: 1.0339 - learning_rate: 7.8125e-06\n",
      "Epoch 40/40\n",
      "\u001b[1m13/13\u001b[0m \u001b[32m━━━━━━━━━━━━━━━━━━━━\u001b[0m\u001b[37m\u001b[0m \u001b[1m0s\u001b[0m 21ms/step - accuracy: 0.9909 - loss: 0.1432\n",
      "Epoch 40: val_accuracy did not improve from 0.71154\n",
      "\u001b[1m13/13\u001b[0m \u001b[32m━━━━━━━━━━━━━━━━━━━━\u001b[0m\u001b[37m\u001b[0m \u001b[1m0s\u001b[0m 28ms/step - accuracy: 0.9907 - loss: 0.1430 - val_accuracy: 0.6827 - val_loss: 1.0337 - learning_rate: 7.8125e-06\n"
     ]
    }
   ],
   "source": [
    "from tensorflow.keras.callbacks import ModelCheckpoint, EarlyStopping, ReduceLROnPlateau\n",
    "\n",
    "#callbacks\n",
    "checkpoint = ModelCheckpoint(\n",
    "    \"models/cnidaria_models/mobilenetV2_final.keras\",\n",
    "    monitor='val_accuracy',\n",
    "    mode = 'max',\n",
    "    save_best_only=True,\n",
    "    verbose=1\n",
    ")\n",
    "\n",
    "callbacks = [\n",
    "  #EarlyStopping(monitor='val_loss', patience=15, restore_best_weights=True),\n",
    "  ReduceLROnPlateau(monitor='val_loss', factor=0.5, patience=3, min_lr=1e-6),\n",
    "  checkpoint\n",
    "]\n",
    "\n",
    "history_final = model.fit(\n",
    "        train_ds,\n",
    "        validation_data=test_ds,\n",
    "        epochs=40,           # Start small, increase if needed\n",
    "        verbose=1,\n",
    "        callbacks=callbacks,\n",
    "    )\n",
    "\n",
    "#save the model\n",
    "model.save(\"models/cnidaria_models/mobilenetV2_final.keras\")"
   ]
  },
  {
   "cell_type": "code",
   "execution_count": null,
   "metadata": {},
   "outputs": [
    {
     "name": "stdout",
     "output_type": "stream",
     "text": [
      "Best validation accuracy: 0.7115384340286255\n"
     ]
    }
   ],
   "source": [
    "#get the best accuracy score\n",
    "best_accuracy = max(history_final.history['val_accuracy'])\n",
    "print(\"Best validation accuracy:\", best_accuracy)"
   ]
  },
  {
   "cell_type": "markdown",
   "metadata": {},
   "source": [
    "### Result Visualizations"
   ]
  },
  {
   "cell_type": "code",
   "execution_count": null,
   "metadata": {},
   "outputs": [],
   "source": [
    "#This function is used in notebook 2, notebook 3 and notebook 4\n",
    "import matplotlib.pyplot as plt\n",
    "\n",
    "def plot_loss(history):\n",
    "    \"\"\"\n",
    "    Plot the training and validation loss over epochs.\n",
    "\n",
    "    Parameters:\n",
    "    - history: History object returned by model.fit() containing training/validation loss values.\n",
    "\n",
    "    Returns:\n",
    "    - None (displays a plot of training and validation loss)\n",
    "    \"\"\"\n",
    "    plt.figure(figsize=(7, 2))\n",
    "    plt.plot(history.history['loss'], label='Training Loss')\n",
    "    plt.plot(history.history['val_loss'], label='Validation Loss')\n",
    "    plt.xlabel('Epochs')\n",
    "    plt.ylabel('Loss')\n",
    "    plt.legend()\n",
    "    plt.title('Training and Validation Loss')\n",
    "    plt.show()\n"
   ]
  },
  {
   "cell_type": "code",
   "execution_count": null,
   "metadata": {},
   "outputs": [
    {
     "data": {
      "image/png": "[encoded data removed]",
      "text/plain": [
       "<Figure size 700x200 with 1 Axes>"
      ]
     },
     "metadata": {},
     "output_type": "display_data"
    }
   ],
   "source": [
    "plot_loss(history_final)"
   ]
  },
  {
   "cell_type": "code",
   "execution_count": null,
   "metadata": {},
   "outputs": [
    {
     "data": {
      "image/png": "[encoded data removed]",
      "text/plain": [
       "<Figure size 800x400 with 1 Axes>"
      ]
     },
     "metadata": {},
     "output_type": "display_data"
    }
   ],
   "source": [
    "def plot_accuracy(history):\n",
    "    plt.figure(figsize=(8, 4))\n",
    "    plt.plot(history.history['accuracy'], label='Training Accuracy', marker='o')\n",
    "    plt.plot(history.history['val_accuracy'], label='Validation Accuracy', marker='o')\n",
    "    plt.xlabel('Epochs')\n",
    "    plt.ylabel('Accuracy')\n",
    "    plt.legend()\n",
    "    plt.title('Training and Validation Accuracy')\n",
    "    plt.grid(True)\n",
    "    plt.show()\n",
    "\n",
    "plot_accuracy(history_final)"
   ]
  },
  {
   "cell_type": "markdown",
   "metadata": {},
   "source": [
    "# 7. Clip"
   ]
  },
  {
   "cell_type": "code",
   "execution_count": null,
   "metadata": {},
   "outputs": [
    {
     "name": "stderr",
     "output_type": "stream",
     "text": [
      "/root/DeepLearning2425/tf-gpu/lib/python3.12/site-packages/tqdm/auto.py:21: TqdmWarning: IProgress not found. Please update jupyter and ipywidgets. See https://ipywidgets.readthedocs.io/en/stable/user_install.html\n",
      "  from .autonotebook import tqdm as notebook_tqdm\n"
     ]
    }
   ],
   "source": [
    "from sklearn.model_selection import train_test_split\n",
    "from sklearn.metrics import f1_score\n",
    "\n",
    "\n",
    "import torch\n",
    "from torch import nn\n",
    "from torch.utils.data import Dataset, DataLoader\n",
    "from torchvision import transforms\n",
    "from PIL import Image\n",
    "\n",
    "# Transformers for CLIP model and tokenizer\n",
    "from transformers import CLIPProcessor, CLIPModel\n",
    "\n",
    "\n",
    "\n",
    "from tqdm import tqdm  # progress bar"
   ]
  },
  {
   "cell_type": "code",
   "execution_count": null,
   "metadata": {},
   "outputs": [
    {
     "name": "stdout",
     "output_type": "stream",
     "text": [
      "Train samples: 517, Val samples: 130, Test samples: 162\n"
     ]
    }
   ],
   "source": [
    "train_df, val_df = train_test_split(cnidaria_train, test_size=0.2, random_state=42, stratify=cnidaria_train['family'])\n",
    "test_df = cnidaria_test.copy()\n",
    "print(f\"Train samples: {len(train_df)}, Val samples: {len(val_df)}, Test samples: {len(test_df)}\")"
   ]
  },
  {
   "cell_type": "markdown",
   "metadata": {},
   "source": [
    "## Transformers"
   ]
  },
  {
   "cell_type": "code",
   "execution_count": null,
   "metadata": {},
   "outputs": [],
   "source": [
    "train_transforms = transforms.Compose([\n",
    "    transforms.Resize((256, 256)),\n",
    "    transforms.RandomCrop(224),\n",
    "    transforms.RandomHorizontalFlip(),\n",
    "])\n",
    "\n",
    "val_test_transforms = transforms.Compose([\n",
    "    transforms.Resize((224, 224))\n",
    "])\n"
   ]
  },
  {
   "cell_type": "markdown",
   "metadata": {},
   "source": [
    "## PyTorch Dataset"
   ]
  },
  {
   "cell_type": "code",
   "execution_count": null,
   "metadata": {},
   "outputs": [],
   "source": [
    "import os\n",
    "from PIL import Image\n",
    "from torch.utils.data import Dataset\n",
    "\n",
    "class RareSpeciesDataset(Dataset):\n",
    "    def __init__(self, dataframe, transform, processor, root_dir, max_pixels=89478485):\n",
    "        self.df = dataframe.reset_index(drop=True)\n",
    "        self.transform = transform\n",
    "        self.processor = processor  \n",
    "        self.root_dir = root_dir\n",
    "        self.max_pixels = max_pixels  # Example threshold; adjust as needed\n",
    "\n",
    "    def __len__(self):\n",
    "        return len(self.df)\n",
    "    \n",
    "    def __getitem__(self, idx):\n",
    "        row = self.df.iloc[idx]\n",
    "        full_image_path = os.path.join(self.root_dir, row['file_path'])\n",
    "        \n",
    "        try:\n",
    "            image = Image.open(full_image_path).convert('RGB')\n",
    "        except Exception as e:\n",
    "            print(f\"Error loading image {full_image_path}: {e}\")\n",
    "            # Optionally return a dummy image\n",
    "            image = Image.new('RGB', (256, 256), (0, 0, 0))\n",
    "        \n",
    "        # Check if the image is very large, and if so, reduce resolution\n",
    "        if image.size[0] * image.size[1] > self.max_pixels:\n",
    "            # Halve both the width and the height\n",
    "            new_size = (image.size[0] // 2, image.size[1] // 2)\n",
    "            image = image.resize(new_size)\n",
    "            print(f\"Resized image {full_image_path} from {image.size} to {new_size}\")\n",
    "        \n",
    "        # Now apply your transforms (which likely includes another resize step)\n",
    "        image = self.transform(image)\n",
    "        caption = f\"a photo of {row['family']}\"\n",
    "        return image, caption\n"
   ]
  },
  {
   "cell_type": "code",
   "execution_count": null,
   "metadata": {},
   "outputs": [],
   "source": [
    "from torch.utils.data.sampler import WeightedRandomSampler\n",
    "import numpy as np\n",
    "\n",
    "# Calculate frequency for each family within Cnidaria\n",
    "family_counts = train_df['family'].value_counts().to_dict()\n",
    "\n",
    "# Compute sample weights: weight = 1 / (frequency of the family)\n",
    "weights = train_df['family'].apply(lambda x: 1.0 / family_counts[x]).values\n",
    "weights = np.array(weights)\n",
    "\n",
    "# Create the WeightedRandomSampler with replacement\n",
    "sampler = WeightedRandomSampler(\n",
    "    weights=weights,\n",
    "    num_samples=len(weights),  # number of samples per epoch\n",
    "    replacement=True\n",
    ")"
   ]
  },
  {
   "cell_type": "code",
   "execution_count": null,
   "metadata": {},
   "outputs": [],
   "source": [
    "def custom_collate_fn(batch):\n",
    "    # batch is a list of tuples, where each tuple is (image, caption)\n",
    "    images, captions = zip(*batch)\n",
    "    # Return images and captions as lists (they remain as PIL images)\n",
    "    return list(images), list(captions)"
   ]
  },
  {
   "cell_type": "code",
   "execution_count": null,
   "metadata": {},
   "outputs": [
    {
     "name": "stderr",
     "output_type": "stream",
     "text": [
      "Using a slow image processor as `use_fast` is unset and a slow processor was saved with this model. `use_fast=True` will be the default behavior in v4.52, even if the model was saved with a slow processor. This will result in minor differences in outputs. You'll still be able to use a slow processor with `use_fast=False`.\n"
     ]
    }
   ],
   "source": [
    "# Initialize the CLIP processor from transformers\n",
    "processor = CLIPProcessor.from_pretrained(\"openai/clip-vit-base-patch16\")\n",
    "\n",
    "# Assume that all your images are stored under the folder named \"rare_species\"\n",
    "root_directory = \"rare_species\"\n",
    "\n",
    "# Create dataset objects with the root_directory argument:\n",
    "train_dataset = RareSpeciesDataset(train_df, train_transforms, processor, root_directory)\n",
    "val_dataset   = RareSpeciesDataset(val_df, val_test_transforms, processor, root_directory)\n",
    "test_dataset  = RareSpeciesDataset(test_df, val_test_transforms, processor, root_directory)\n",
    "\n",
    "# Create the DataLoaders as before:\n",
    "train_loader = DataLoader(train_dataset, batch_size=32, num_workers=0, collate_fn=custom_collate_fn, sampler=sampler)\n",
    "val_loader = DataLoader(val_dataset, batch_size=32, shuffle=False, num_workers=0, collate_fn=custom_collate_fn)\n",
    "test_loader = DataLoader(test_dataset, batch_size=32, shuffle=False, num_workers=0, collate_fn=custom_collate_fn)"
   ]
  },
  {
   "cell_type": "markdown",
   "metadata": {},
   "source": [
    "## Model Setup"
   ]
  },
  {
   "cell_type": "code",
   "execution_count": null,
   "metadata": {},
   "outputs": [],
   "source": [
    "device = torch.device(\"cuda\" if torch.cuda.is_available() else \"cpu\")\n",
    "model = CLIPModel.from_pretrained(\"openai/clip-vit-base-patch16\").to(device)"
   ]
  },
  {
   "cell_type": "code",
   "execution_count": null,
   "metadata": {},
   "outputs": [],
   "source": [
    "# # save the model\n",
    "# model.save_pretrained(\"rare_species_clip_model\")\n",
    "# processor.save_pretrained(\"rare_species_clip_processor\")"
   ]
  },
  {
   "cell_type": "code",
   "execution_count": null,
   "metadata": {},
   "outputs": [],
   "source": [
    "# device = torch.device(\"cuda\" if torch.cuda.is_available() else \"cpu\")\n",
    "\n",
    "# # Load the model and processor\n",
    "# model = CLIPModel.from_pretrained(\"rare_species_clip_model\").to(device)\n",
    "# processor = CLIPProcessor.from_pretrained(\"rare_species_clip_processor\")"
   ]
  },
  {
   "cell_type": "code",
   "execution_count": null,
   "metadata": {},
   "outputs": [],
   "source": [
    "# optimizer = torch.optim.Adam(model.parameters(), lr=1e-4)\n",
    "# num_epochs = 40  # Adjust the number of epochs as needed\n",
    "\n",
    "# for epoch in range(num_epochs):\n",
    "#     model.train()\n",
    "#     total_loss = 0.0\n",
    "#     for images, captions in train_loader:\n",
    "#         # Process the list of PIL images and corresponding captions.\n",
    "#         inputs = processor(text=captions, images=images, return_tensors=\"pt\", padding=True)\n",
    "#         # Move all inputs to the proper device\n",
    "#         inputs = {k: v.to(device) for k, v in inputs.items()}\n",
    "        \n",
    "#         # Forward pass: get image and text embeddings from the model\n",
    "#         outputs = model(**inputs)\n",
    "#         image_embeds = outputs.image_embeds  # shape: [batch_size, embedding_dim]\n",
    "#         text_embeds = outputs.text_embeds    # shape: [batch_size, embedding_dim]\n",
    "        \n",
    "#         # Normalize embeddings to unit norm\n",
    "#         image_embeds = image_embeds / image_embeds.norm(dim=-1, keepdim=True)\n",
    "#         text_embeds = text_embeds / text_embeds.norm(dim=-1, keepdim=True)\n",
    "        \n",
    "#         # Compute cosine similarity\n",
    "#         logits_per_image = image_embeds @ text_embeds.t()\n",
    "#         logits_per_text = text_embeds @ image_embeds.t()\n",
    "        \n",
    "#         # Ground truth: the i-th image should match the i-th text.\n",
    "#         target = torch.arange(image_embeds.shape[0]).to(device)\n",
    "        \n",
    "#         loss_image = nn.CrossEntropyLoss()(logits_per_image, target)\n",
    "#         loss_text  = nn.CrossEntropyLoss()(logits_per_text, target)\n",
    "#         loss = (loss_image + loss_text) / 2\n",
    "        \n",
    "#         optimizer.zero_grad()\n",
    "#         loss.backward()\n",
    "#         optimizer.step()\n",
    "        \n",
    "#         total_loss += loss.item()\n",
    "        \n",
    "#     avg_loss = total_loss / len(train_loader)\n",
    "#     print(f\"Epoch {epoch+1}/{num_epochs}, Loss: {avg_loss:.4f}\")\n"
   ]
  },
  {
   "cell_type": "markdown",
   "metadata": {},
   "source": [
    "## Train and Evaluation"
   ]
  },
  {
   "cell_type": "code",
   "execution_count": null,
   "metadata": {},
   "outputs": [],
   "source": [
    "import os\n",
    "os.environ[\"TOKENIZERS_PARALLELISM\"] = \"false\""
   ]
  },
  {
   "cell_type": "code",
   "execution_count": null,
   "metadata": {},
   "outputs": [],
   "source": [
    "torch.backends.cudnn.benchmark = True"
   ]
  },
  {
   "cell_type": "code",
   "execution_count": null,
   "metadata": {},
   "outputs": [
    {
     "name": "stderr",
     "output_type": "stream",
     "text": [
      "Epoch 1/40:   0%|          | 0/17 [00:00<?, ?it/s]"
     ]
    },
    {
     "name": "stderr",
     "output_type": "stream",
     "text": [
      "                                                                      \r"
     ]
    },
    {
     "name": "stdout",
     "output_type": "stream",
     "text": [
      "Epoch 1/40 - Loss: 3.3029\n",
      "    Training   - Accuracy: 0.0484, F1 Score: 0.0331\n",
      "    Validation - Accuracy: 0.0615, F1 Score: 0.0258\n"
     ]
    },
    {
     "name": "stderr",
     "output_type": "stream",
     "text": [
      "                                                                      \r"
     ]
    },
    {
     "name": "stdout",
     "output_type": "stream",
     "text": [
      "Epoch 2/40 - Loss: 3.1759\n",
      "    Training   - Accuracy: 0.0542, F1 Score: 0.0362\n",
      "    Validation - Accuracy: 0.0538, F1 Score: 0.0182\n"
     ]
    },
    {
     "name": "stderr",
     "output_type": "stream",
     "text": [
      "                                                                      \r"
     ]
    },
    {
     "name": "stdout",
     "output_type": "stream",
     "text": [
      "Epoch 3/40 - Loss: 3.2300\n",
      "    Training   - Accuracy: 0.0484, F1 Score: 0.0374\n",
      "    Validation - Accuracy: 0.0385, F1 Score: 0.0125\n"
     ]
    },
    {
     "name": "stderr",
     "output_type": "stream",
     "text": [
      "                                                                      \r"
     ]
    },
    {
     "name": "stdout",
     "output_type": "stream",
     "text": [
      "Epoch 4/40 - Loss: 3.2020\n",
      "    Training   - Accuracy: 0.0522, F1 Score: 0.0387\n",
      "    Validation - Accuracy: 0.0462, F1 Score: 0.0294\n"
     ]
    },
    {
     "name": "stderr",
     "output_type": "stream",
     "text": [
      "                                                                      \r"
     ]
    },
    {
     "name": "stdout",
     "output_type": "stream",
     "text": [
      "Epoch 5/40 - Loss: 3.2847\n",
      "    Training   - Accuracy: 0.0658, F1 Score: 0.0534\n",
      "    Validation - Accuracy: 0.0615, F1 Score: 0.0326\n"
     ]
    },
    {
     "name": "stderr",
     "output_type": "stream",
     "text": [
      "                                                                      \r"
     ]
    },
    {
     "name": "stdout",
     "output_type": "stream",
     "text": [
      "Epoch 6/40 - Loss: 3.1482\n",
      "    Training   - Accuracy: 0.0503, F1 Score: 0.0443\n",
      "    Validation - Accuracy: 0.0538, F1 Score: 0.0321\n"
     ]
    },
    {
     "name": "stderr",
     "output_type": "stream",
     "text": [
      "                                                                      \r"
     ]
    },
    {
     "name": "stdout",
     "output_type": "stream",
     "text": [
      "Epoch 7/40 - Loss: 3.1825\n",
      "    Training   - Accuracy: 0.0619, F1 Score: 0.0422\n",
      "    Validation - Accuracy: 0.0538, F1 Score: 0.0328\n"
     ]
    },
    {
     "name": "stderr",
     "output_type": "stream",
     "text": [
      "                                                                      \r"
     ]
    },
    {
     "name": "stdout",
     "output_type": "stream",
     "text": [
      "Epoch 8/40 - Loss: 3.1508\n",
      "    Training   - Accuracy: 0.0638, F1 Score: 0.0564\n",
      "    Validation - Accuracy: 0.0462, F1 Score: 0.0147\n"
     ]
    },
    {
     "name": "stderr",
     "output_type": "stream",
     "text": [
      "                                                                      \r"
     ]
    },
    {
     "name": "stdout",
     "output_type": "stream",
     "text": [
      "Epoch 9/40 - Loss: 3.1261\n",
      "    Training   - Accuracy: 0.0735, F1 Score: 0.0584\n",
      "    Validation - Accuracy: 0.0538, F1 Score: 0.0282\n"
     ]
    },
    {
     "name": "stderr",
     "output_type": "stream",
     "text": [
      "                                                                       \r"
     ]
    },
    {
     "name": "stdout",
     "output_type": "stream",
     "text": [
      "Epoch 10/40 - Loss: 3.1150\n",
      "    Training   - Accuracy: 0.0638, F1 Score: 0.0478\n",
      "    Validation - Accuracy: 0.0615, F1 Score: 0.0395\n"
     ]
    },
    {
     "name": "stderr",
     "output_type": "stream",
     "text": [
      "                                                                       \r"
     ]
    },
    {
     "name": "stdout",
     "output_type": "stream",
     "text": [
      "Epoch 11/40 - Loss: 3.1454\n",
      "    Training   - Accuracy: 0.0619, F1 Score: 0.0465\n",
      "    Validation - Accuracy: 0.0538, F1 Score: 0.0311\n"
     ]
    },
    {
     "name": "stderr",
     "output_type": "stream",
     "text": [
      "                                                                       \r"
     ]
    },
    {
     "name": "stdout",
     "output_type": "stream",
     "text": [
      "Epoch 12/40 - Loss: 3.1440\n",
      "    Training   - Accuracy: 0.0870, F1 Score: 0.0661\n",
      "    Validation - Accuracy: 0.0615, F1 Score: 0.0316\n"
     ]
    },
    {
     "name": "stderr",
     "output_type": "stream",
     "text": [
      "                                                                       \r"
     ]
    },
    {
     "name": "stdout",
     "output_type": "stream",
     "text": [
      "Epoch 13/40 - Loss: 3.1256\n",
      "    Training   - Accuracy: 0.0600, F1 Score: 0.0404\n",
      "    Validation - Accuracy: 0.0846, F1 Score: 0.0709\n"
     ]
    },
    {
     "name": "stderr",
     "output_type": "stream",
     "text": [
      "                                                                       \r"
     ]
    },
    {
     "name": "stdout",
     "output_type": "stream",
     "text": [
      "Epoch 14/40 - Loss: 3.1642\n",
      "    Training   - Accuracy: 0.0561, F1 Score: 0.0477\n",
      "    Validation - Accuracy: 0.0615, F1 Score: 0.0322\n"
     ]
    },
    {
     "name": "stderr",
     "output_type": "stream",
     "text": [
      "                                                                       \r"
     ]
    },
    {
     "name": "stdout",
     "output_type": "stream",
     "text": [
      "Epoch 15/40 - Loss: 3.1708\n",
      "    Training   - Accuracy: 0.0658, F1 Score: 0.0553\n",
      "    Validation - Accuracy: 0.0615, F1 Score: 0.0500\n"
     ]
    },
    {
     "name": "stderr",
     "output_type": "stream",
     "text": [
      "                                                                       \r"
     ]
    },
    {
     "name": "stdout",
     "output_type": "stream",
     "text": [
      "Epoch 16/40 - Loss: 3.1811\n",
      "    Training   - Accuracy: 0.0735, F1 Score: 0.0604\n",
      "    Validation - Accuracy: 0.0769, F1 Score: 0.0547\n"
     ]
    },
    {
     "name": "stderr",
     "output_type": "stream",
     "text": [
      "                                                                       \r"
     ]
    },
    {
     "name": "stdout",
     "output_type": "stream",
     "text": [
      "Epoch 17/40 - Loss: 3.1745\n",
      "    Training   - Accuracy: 0.0580, F1 Score: 0.0466\n",
      "    Validation - Accuracy: 0.0615, F1 Score: 0.0340\n"
     ]
    },
    {
     "name": "stderr",
     "output_type": "stream",
     "text": [
      "                                                                       \r"
     ]
    },
    {
     "name": "stdout",
     "output_type": "stream",
     "text": [
      "Epoch 18/40 - Loss: 3.1114\n",
      "    Training   - Accuracy: 0.0696, F1 Score: 0.0562\n",
      "    Validation - Accuracy: 0.0462, F1 Score: 0.0323\n"
     ]
    },
    {
     "name": "stderr",
     "output_type": "stream",
     "text": [
      "                                                                       \r"
     ]
    },
    {
     "name": "stdout",
     "output_type": "stream",
     "text": [
      "Epoch 19/40 - Loss: 3.1387\n",
      "    Training   - Accuracy: 0.0677, F1 Score: 0.0512\n",
      "    Validation - Accuracy: 0.0692, F1 Score: 0.0467\n"
     ]
    },
    {
     "name": "stderr",
     "output_type": "stream",
     "text": [
      "                                                                       \r"
     ]
    },
    {
     "name": "stdout",
     "output_type": "stream",
     "text": [
      "Epoch 20/40 - Loss: 3.0758\n",
      "    Training   - Accuracy: 0.0638, F1 Score: 0.0436\n",
      "    Validation - Accuracy: 0.0385, F1 Score: 0.0246\n"
     ]
    },
    {
     "name": "stderr",
     "output_type": "stream",
     "text": [
      "                                                                       \r"
     ]
    },
    {
     "name": "stdout",
     "output_type": "stream",
     "text": [
      "Epoch 21/40 - Loss: 3.1484\n",
      "    Training   - Accuracy: 0.0561, F1 Score: 0.0390\n",
      "    Validation - Accuracy: 0.0846, F1 Score: 0.0575\n"
     ]
    },
    {
     "name": "stderr",
     "output_type": "stream",
     "text": [
      "                                                                       \r"
     ]
    },
    {
     "name": "stdout",
     "output_type": "stream",
     "text": [
      "Epoch 22/40 - Loss: 3.2219\n",
      "    Training   - Accuracy: 0.0658, F1 Score: 0.0481\n",
      "    Validation - Accuracy: 0.0462, F1 Score: 0.0391\n"
     ]
    },
    {
     "name": "stderr",
     "output_type": "stream",
     "text": [
      "                                                                       \r"
     ]
    },
    {
     "name": "stdout",
     "output_type": "stream",
     "text": [
      "Epoch 23/40 - Loss: 3.3195\n",
      "    Training   - Accuracy: 0.0309, F1 Score: 0.0192\n",
      "    Validation - Accuracy: 0.0385, F1 Score: 0.0147\n"
     ]
    },
    {
     "name": "stderr",
     "output_type": "stream",
     "text": [
      "                                                                       \r"
     ]
    },
    {
     "name": "stdout",
     "output_type": "stream",
     "text": [
      "Epoch 24/40 - Loss: 3.3565\n",
      "    Training   - Accuracy: 0.0290, F1 Score: 0.0145\n",
      "    Validation - Accuracy: 0.0231, F1 Score: 0.0126\n"
     ]
    },
    {
     "name": "stderr",
     "output_type": "stream",
     "text": [
      "                                                                       \r"
     ]
    },
    {
     "name": "stdout",
     "output_type": "stream",
     "text": [
      "Epoch 25/40 - Loss: 3.3285\n",
      "    Training   - Accuracy: 0.0271, F1 Score: 0.0144\n",
      "    Validation - Accuracy: 0.0385, F1 Score: 0.0160\n"
     ]
    },
    {
     "name": "stderr",
     "output_type": "stream",
     "text": [
      "                                                                       \r"
     ]
    },
    {
     "name": "stdout",
     "output_type": "stream",
     "text": [
      "Epoch 26/40 - Loss: 3.3389\n",
      "    Training   - Accuracy: 0.0193, F1 Score: 0.0095\n",
      "    Validation - Accuracy: 0.0308, F1 Score: 0.0271\n"
     ]
    },
    {
     "name": "stderr",
     "output_type": "stream",
     "text": [
      "                                                                       \r"
     ]
    },
    {
     "name": "stdout",
     "output_type": "stream",
     "text": [
      "Epoch 27/40 - Loss: 3.2988\n",
      "    Training   - Accuracy: 0.0290, F1 Score: 0.0157\n",
      "    Validation - Accuracy: 0.0154, F1 Score: 0.0065\n"
     ]
    },
    {
     "name": "stderr",
     "output_type": "stream",
     "text": [
      "                                                                       \r"
     ]
    },
    {
     "name": "stdout",
     "output_type": "stream",
     "text": [
      "Epoch 28/40 - Loss: 3.3239\n",
      "    Training   - Accuracy: 0.0193, F1 Score: 0.0138\n",
      "    Validation - Accuracy: 0.0308, F1 Score: 0.0166\n"
     ]
    },
    {
     "name": "stderr",
     "output_type": "stream",
     "text": [
      "                                                                       \r"
     ]
    },
    {
     "name": "stdout",
     "output_type": "stream",
     "text": [
      "Epoch 29/40 - Loss: 3.3025\n",
      "    Training   - Accuracy: 0.0445, F1 Score: 0.0326\n",
      "    Validation - Accuracy: 0.0385, F1 Score: 0.0186\n"
     ]
    },
    {
     "name": "stderr",
     "output_type": "stream",
     "text": [
      "                                                                       \r"
     ]
    },
    {
     "name": "stdout",
     "output_type": "stream",
     "text": [
      "Epoch 30/40 - Loss: 3.2821\n",
      "    Training   - Accuracy: 0.0387, F1 Score: 0.0286\n",
      "    Validation - Accuracy: 0.0385, F1 Score: 0.0241\n"
     ]
    },
    {
     "name": "stderr",
     "output_type": "stream",
     "text": [
      "                                                                       \r"
     ]
    },
    {
     "name": "stdout",
     "output_type": "stream",
     "text": [
      "Epoch 31/40 - Loss: 3.2880\n",
      "    Training   - Accuracy: 0.0619, F1 Score: 0.0469\n",
      "    Validation - Accuracy: 0.0308, F1 Score: 0.0190\n"
     ]
    },
    {
     "name": "stderr",
     "output_type": "stream",
     "text": [
      "                                                                       \r"
     ]
    },
    {
     "name": "stdout",
     "output_type": "stream",
     "text": [
      "Epoch 32/40 - Loss: 3.2443\n",
      "    Training   - Accuracy: 0.0561, F1 Score: 0.0439\n",
      "    Validation - Accuracy: 0.0308, F1 Score: 0.0170\n"
     ]
    },
    {
     "name": "stderr",
     "output_type": "stream",
     "text": [
      "                                                                       \r"
     ]
    },
    {
     "name": "stdout",
     "output_type": "stream",
     "text": [
      "Epoch 33/40 - Loss: 3.2085\n",
      "    Training   - Accuracy: 0.0812, F1 Score: 0.0757\n",
      "    Validation - Accuracy: 0.0231, F1 Score: 0.0126\n"
     ]
    },
    {
     "name": "stderr",
     "output_type": "stream",
     "text": [
      "                                                                       \r"
     ]
    },
    {
     "name": "stdout",
     "output_type": "stream",
     "text": [
      "Epoch 34/40 - Loss: 3.1239\n",
      "    Training   - Accuracy: 0.0948, F1 Score: 0.0719\n",
      "    Validation - Accuracy: 0.0462, F1 Score: 0.0244\n"
     ]
    },
    {
     "name": "stderr",
     "output_type": "stream",
     "text": [
      "                                                                       \r"
     ]
    },
    {
     "name": "stdout",
     "output_type": "stream",
     "text": [
      "Epoch 35/40 - Loss: 3.1324\n",
      "    Training   - Accuracy: 0.0851, F1 Score: 0.0715\n",
      "    Validation - Accuracy: 0.0692, F1 Score: 0.0366\n"
     ]
    },
    {
     "name": "stderr",
     "output_type": "stream",
     "text": [
      "                                                                       \r"
     ]
    },
    {
     "name": "stdout",
     "output_type": "stream",
     "text": [
      "Epoch 36/40 - Loss: 3.1370\n",
      "    Training   - Accuracy: 0.0851, F1 Score: 0.0748\n",
      "    Validation - Accuracy: 0.0615, F1 Score: 0.0384\n"
     ]
    },
    {
     "name": "stderr",
     "output_type": "stream",
     "text": [
      "                                                                       \r"
     ]
    },
    {
     "name": "stdout",
     "output_type": "stream",
     "text": [
      "Epoch 37/40 - Loss: 3.1447\n",
      "    Training   - Accuracy: 0.0561, F1 Score: 0.0381\n",
      "    Validation - Accuracy: 0.0615, F1 Score: 0.0480\n"
     ]
    },
    {
     "name": "stderr",
     "output_type": "stream",
     "text": [
      "                                                                       \r"
     ]
    },
    {
     "name": "stdout",
     "output_type": "stream",
     "text": [
      "Epoch 38/40 - Loss: 3.1016\n",
      "    Training   - Accuracy: 0.0716, F1 Score: 0.0519\n",
      "    Validation - Accuracy: 0.0769, F1 Score: 0.0641\n"
     ]
    },
    {
     "name": "stderr",
     "output_type": "stream",
     "text": [
      "                                                                       \r"
     ]
    },
    {
     "name": "stdout",
     "output_type": "stream",
     "text": [
      "Epoch 39/40 - Loss: 3.0580\n",
      "    Training   - Accuracy: 0.0754, F1 Score: 0.0573\n",
      "    Validation - Accuracy: 0.0769, F1 Score: 0.0486\n"
     ]
    },
    {
     "name": "stderr",
     "output_type": "stream",
     "text": [
      "                                                                       \r"
     ]
    },
    {
     "name": "stdout",
     "output_type": "stream",
     "text": [
      "Epoch 40/40 - Loss: 3.0212\n",
      "    Training   - Accuracy: 0.0735, F1 Score: 0.0566\n",
      "    Validation - Accuracy: 0.0846, F1 Score: 0.0554\n"
     ]
    }
   ],
   "source": [
    "import numpy as np\n",
    "from sklearn.metrics import f1_score\n",
    "import torch\n",
    "from torch import nn\n",
    "from tqdm import tqdm  # progress bar\n",
    "from torch.amp import autocast, GradScaler  # new API usage\n",
    "\n",
    "# Modified evaluation function remains unchanged\n",
    "def evaluate_model(loader, model, processor, device):\n",
    "    model.eval()\n",
    "    all_preds = []\n",
    "    all_targets = []\n",
    "    with torch.no_grad():\n",
    "        for images, captions in tqdm(loader, desc=\"Evaluating\", leave=False):\n",
    "            inputs = processor(text=captions, images=images, return_tensors=\"pt\", padding=True)\n",
    "            inputs = {k: v.to(device) for k, v in inputs.items()}\n",
    "            \n",
    "            outputs = model(**inputs)\n",
    "            image_embeds = outputs.image_embeds\n",
    "            text_embeds  = outputs.text_embeds\n",
    "            \n",
    "            image_embeds = image_embeds / image_embeds.norm(dim=-1, keepdim=True)\n",
    "            text_embeds  = text_embeds / text_embeds.norm(dim=-1, keepdim=True)\n",
    "            \n",
    "            sims = image_embeds @ text_embeds.t()\n",
    "            \n",
    "            preds = sims.argmax(dim=1).cpu().numpy()\n",
    "            targets = np.arange(sims.shape[0])\n",
    "            \n",
    "            all_preds.extend(preds)\n",
    "            all_targets.extend(targets)\n",
    "            \n",
    "    all_preds = np.array(all_preds)\n",
    "    all_targets = np.array(all_targets)\n",
    "    accuracy = np.mean(all_preds == all_targets)\n",
    "    f1 = f1_score(all_targets, all_preds, average='macro')\n",
    "    return accuracy, f1\n",
    "\n",
    "# History lists for tracking metrics over epochs\n",
    "num_epochs = 40\n",
    "optimizer = torch.optim.Adam(model.parameters(), lr=1e-4)\n",
    "scaler = GradScaler(device='cuda')  # Initialize the scaler with device_type\n",
    "\n",
    "train_loss_history = [] \n",
    "train_acc_history, train_f1_history = [], []\n",
    "val_acc_history, val_f1_history = [], []\n",
    "\n",
    "for epoch in range(num_epochs):\n",
    "    model.train()\n",
    "    running_loss = 0.0\n",
    "    \n",
    "    train_bar = tqdm(train_loader, desc=f\"Epoch {epoch+1}/{num_epochs}\", leave=False)\n",
    "    for images, captions in train_bar:\n",
    "        optimizer.zero_grad()\n",
    "        inputs = processor(text=captions, images=images, return_tensors=\"pt\", padding=True)\n",
    "        inputs = {k: v.to(device) for k, v in inputs.items()}\n",
    "        \n",
    "        with autocast(device_type='cuda'):\n",
    "            outputs = model(**inputs)\n",
    "            image_embeds = outputs.image_embeds\n",
    "            text_embeds  = outputs.text_embeds\n",
    "            \n",
    "            image_embeds = image_embeds / image_embeds.norm(dim=-1, keepdim=True)\n",
    "            text_embeds  = text_embeds  / text_embeds.norm(dim=-1, keepdim=True)\n",
    "            \n",
    "            logits_per_image = image_embeds @ text_embeds.t()\n",
    "            logits_per_text  = text_embeds @ image_embeds.t()\n",
    "            \n",
    "            target = torch.arange(image_embeds.shape[0]).to(device)\n",
    "            \n",
    "            loss_img = nn.CrossEntropyLoss()(logits_per_image, target)\n",
    "            loss_txt = nn.CrossEntropyLoss()(logits_per_text, target)\n",
    "            loss = (loss_img + loss_txt) / 2\n",
    "        \n",
    "        scaler.scale(loss).backward()\n",
    "        scaler.step(optimizer)\n",
    "        scaler.update()\n",
    "        \n",
    "        running_loss += loss.item()\n",
    "        train_bar.set_postfix(loss=loss.item())\n",
    "    \n",
    "    avg_loss = running_loss / len(train_loader)\n",
    "    train_loss_history.append(avg_loss)\n",
    "    \n",
    "    train_accuracy, train_f1 = evaluate_model(train_loader, model, processor, device)\n",
    "    val_accuracy, val_f1 = evaluate_model(val_loader, model, processor, device)\n",
    "    \n",
    "    train_acc_history.append(train_accuracy)\n",
    "    train_f1_history.append(train_f1)\n",
    "    val_acc_history.append(val_accuracy)\n",
    "    val_f1_history.append(val_f1)\n",
    "    \n",
    "    print(f\"Epoch {epoch+1}/{num_epochs} - Loss: {avg_loss:.4f}\")\n",
    "    print(f\"    Training   - Accuracy: {train_accuracy:.4f}, F1 Score: {train_f1:.4f}\")\n",
    "    print(f\"    Validation - Accuracy: {val_accuracy:.4f}, F1 Score: {val_f1:.4f}\")\n",
    "\n",
    "# Save the model and processor\n",
    "model.save_pretrained(\"rare_species_clip_model\")\n",
    "processor.save_pretrained(\"rare_species_clip_processor\")\n",
    "\n",
    "# Save the training history\n",
    "import pandas as pd\n",
    "history_df = pd.DataFrame({\n",
    "    \"train_loss\": train_loss_history,\n",
    "    \"train_accuracy\": train_acc_history,\n",
    "    \"train_f1\": train_f1_history,\n",
    "    \"val_accuracy\": val_acc_history,\n",
    "    \"val_f1\": val_f1_history\n",
    "})\n",
    "history_df.to_csv(\"training_history.csv\", index=False)"
   ]
  },
  {
   "cell_type": "code",
   "execution_count": null,
   "metadata": {},
   "outputs": [
    {
     "data": {
      "image/png": "[encoded data removed]",
      "text/plain": [
       "<Figure size 1400x600 with 2 Axes>"
      ]
     },
     "metadata": {},
     "output_type": "display_data"
    }
   ],
   "source": [
    "#plot the training history and validation history\n",
    "import matplotlib.pyplot as plt\n",
    "import seaborn as sns\n",
    "def plot_training_history(history_df):\n",
    "    plt.figure(figsize=(14, 6))\n",
    "\n",
    "    # Loss\n",
    "    plt.subplot(1, 2, 1)\n",
    "    plt.plot(history_df['train_loss'], label='Train Loss', color='blue')\n",
    "    plt.title('Training Loss')\n",
    "    plt.xlabel('Epochs')\n",
    "    plt.ylabel('Loss')\n",
    "    plt.legend()\n",
    "\n",
    "    # Accuracy\n",
    "    plt.subplot(1, 2, 2)\n",
    "    plt.plot(history_df['train_accuracy'], label='Train Accuracy', color='green')\n",
    "    plt.plot(history_df['val_accuracy'], label='Validation Accuracy', color='orange')\n",
    "    plt.title('Training and Validation Accuracy')\n",
    "    plt.xlabel('Epochs')\n",
    "    plt.ylabel('Accuracy')\n",
    "    plt.legend()\n",
    "\n",
    "    plt.tight_layout()\n",
    "    plt.show()\n",
    "plot_training_history(history_df)"
   ]
  }
 ],
 "metadata": {
  "kernelspec": {
   "display_name": ".venv",
   "language": "python",
   "name": "python3"
  },
  "language_info": {
   "codemirror_mode": {
    "name": "ipython",
    "version": 3
   },
   "file_extension": ".py",
   "mimetype": "text/x-python",
   "name": "python",
   "nbconvert_exporter": "python",
   "pygments_lexer": "ipython3",
   "version": "3.12.3"
  }
 },
 "nbformat": 4,
 "nbformat_minor": 2
}
