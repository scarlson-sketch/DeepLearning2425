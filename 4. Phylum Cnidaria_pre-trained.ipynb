{
 "cells": [
  {
   "cell_type": "markdown",
   "metadata": {},
   "source": [
    "## **<h3 align=\"center\"> Deep Learning - Project </h3>**\n",
    "# **<h3 align=\"center\"> Phylum Cnidaria - Tim </h3>**\n",
    "**Group 4 members:**<br>\n",
    "Alexandra Pinto - 20211599@novaims.unl.pt - 20211599<br>\n",
    "Steven Carlson - 20240554@novaims.unl.pt - 20240554<br>\n",
    "Sven Goerdes - 20240503@novaims.unl.pt - 20240503<br>\n",
    "Tim Straub - 20240505@novaims.unl.pt - 20240505<br>\n",
    "Zofia Wojcik  - 20240654@novaims.unl.pt - 20240654<br>"
   ]
  },
  {
   "cell_type": "markdown",
   "metadata": {},
   "source": [
    "# Table of Contents\n",
    "* [1. Introduction](#intro)\n",
    "* [2. Setup](#setup)\n",
    "* [3. Data Loading](#dataloading)\n",
    "* [4. Image Preprocessing](#imagepreprocessing)\n",
    "* [5. Neural Networks Models](#nnmodels)\n",
    "\n"
   ]
  },
  {
   "cell_type": "markdown",
   "metadata": {},
   "source": [
    "# 1. Introduction <a class=\"anchor\" id=\"intro\"></a>\n",
    "\n",
    "In this third notebook, we will preprocess images from the **Chordata** phylum and develop a deep learning model to accurately classify them at the family level."
   ]
  },
  {
   "cell_type": "markdown",
   "metadata": {},
   "source": [
    "# 2. Setup <a class=\"anchor\" id=\"setup\"></a>\n",
    "In this section, we will import the necessary libraries that will be used throughout the notebook. These libraries will help with data handling and image processing."
   ]
  },
  {
   "cell_type": "code",
   "execution_count": 1,
   "metadata": {},
   "outputs": [
    {
     "name": "stderr",
     "output_type": "stream",
     "text": [
      "2025-04-10 21:24:14.163716: E external/local_xla/xla/stream_executor/cuda/cuda_fft.cc:467] Unable to register cuFFT factory: Attempting to register factory for plugin cuFFT when one has already been registered\n",
      "WARNING: All log messages before absl::InitializeLog() is called are written to STDERR\n",
      "E0000 00:00:1744316654.178693   82968 cuda_dnn.cc:8579] Unable to register cuDNN factory: Attempting to register factory for plugin cuDNN when one has already been registered\n",
      "E0000 00:00:1744316654.183070   82968 cuda_blas.cc:1407] Unable to register cuBLAS factory: Attempting to register factory for plugin cuBLAS when one has already been registered\n",
      "W0000 00:00:1744316654.195197   82968 computation_placer.cc:177] computation placer already registered. Please check linkage and avoid linking the same target more than once.\n",
      "W0000 00:00:1744316654.195222   82968 computation_placer.cc:177] computation placer already registered. Please check linkage and avoid linking the same target more than once.\n",
      "W0000 00:00:1744316654.195223   82968 computation_placer.cc:177] computation placer already registered. Please check linkage and avoid linking the same target more than once.\n",
      "W0000 00:00:1744316654.195225   82968 computation_placer.cc:177] computation placer already registered. Please check linkage and avoid linking the same target more than once.\n",
      "2025-04-10 21:24:14.199728: I tensorflow/core/platform/cpu_feature_guard.cc:210] This TensorFlow binary is optimized to use available CPU instructions in performance-critical operations.\n",
      "To enable the following instructions: AVX2 FMA, in other operations, rebuild TensorFlow with the appropriate compiler flags.\n"
     ]
    }
   ],
   "source": [
    "# Standard libraries\n",
    "import pandas as pd\n",
    "import numpy as np\n",
    "import os\n",
    "import matplotlib.pyplot as plt\n",
    "import zipfile\n",
    "import seaborn as sns\n",
    "\n",
    "# Libraries for image processing\n",
    "from glob import glob\n",
    "from PIL import Image\n",
    "\n",
    "from tensorflow.keras.applications import MobileNetV2\n",
    "from tensorflow.keras.applications.mobilenet_v2 import preprocess_input as mobilenet_preprocess\n",
    "from tensorflow.keras import layers, models, optimizers"
   ]
  },
  {
   "cell_type": "code",
   "execution_count": 2,
   "metadata": {},
   "outputs": [
    {
     "name": "stdout",
     "output_type": "stream",
     "text": [
      "Memory growth set for GPUs\n"
     ]
    }
   ],
   "source": [
    "import tensorflow as tf\n",
    "gpus = tf.config.list_physical_devices('GPU')\n",
    "if gpus:\n",
    "    try:\n",
    "        for gpu in gpus:\n",
    "            tf.config.experimental.set_memory_growth(gpu, True)\n",
    "        print(\"Memory growth set for GPUs\")\n",
    "    except RuntimeError as e:\n",
    "        print(e)\n"
   ]
  },
  {
   "cell_type": "markdown",
   "metadata": {},
   "source": [
    "# 3. Data Loading <a class=\"anchor\" id=\"dataloading\"></a>\n",
    "\n",
    "Let's open the train and test for Chordata Phylum."
   ]
  },
  {
   "cell_type": "code",
   "execution_count": 3,
   "metadata": {},
   "outputs": [
    {
     "data": {
      "text/html": [
       "<div>\n",
       "<style scoped>\n",
       "    .dataframe tbody tr th:only-of-type {\n",
       "        vertical-align: middle;\n",
       "    }\n",
       "\n",
       "    .dataframe tbody tr th {\n",
       "        vertical-align: top;\n",
       "    }\n",
       "\n",
       "    .dataframe thead th {\n",
       "        text-align: right;\n",
       "    }\n",
       "</style>\n",
       "<table border=\"1\" class=\"dataframe\">\n",
       "  <thead>\n",
       "    <tr style=\"text-align: right;\">\n",
       "      <th></th>\n",
       "      <th>eol_content_id</th>\n",
       "      <th>eol_page_id</th>\n",
       "      <th>kingdom</th>\n",
       "      <th>phylum</th>\n",
       "      <th>family</th>\n",
       "      <th>file_path</th>\n",
       "      <th>resized_image</th>\n",
       "      <th>noBackground_image</th>\n",
       "    </tr>\n",
       "  </thead>\n",
       "  <tbody>\n",
       "    <tr>\n",
       "      <th>0</th>\n",
       "      <td>28219388</td>\n",
       "      <td>45276311</td>\n",
       "      <td>animalia</td>\n",
       "      <td>cnidaria</td>\n",
       "      <td>acroporidae</td>\n",
       "      <td>cnidaria_acroporidae/28219388_45276311_eol-ful...</td>\n",
       "      <td>[[[76 74 72]\\n  [72 70 71]\\n  [76 72 74]\\n  .....</td>\n",
       "      <td>[[[  0   0   0]\\n  [  0   0   0]\\n  [  0   0  ...</td>\n",
       "    </tr>\n",
       "    <tr>\n",
       "      <th>1</th>\n",
       "      <td>29729570</td>\n",
       "      <td>45276321</td>\n",
       "      <td>animalia</td>\n",
       "      <td>cnidaria</td>\n",
       "      <td>acroporidae</td>\n",
       "      <td>cnidaria_acroporidae/29729570_45276321_eol-ful...</td>\n",
       "      <td>[[[203 203 171]\\n  [196 189 159]\\n  [209 197 1...</td>\n",
       "      <td>[[[  0   0   0]\\n  [141 188 211]\\n  [203 214 1...</td>\n",
       "    </tr>\n",
       "    <tr>\n",
       "      <th>2</th>\n",
       "      <td>20332243</td>\n",
       "      <td>46545536</td>\n",
       "      <td>animalia</td>\n",
       "      <td>cnidaria</td>\n",
       "      <td>lobophylliidae</td>\n",
       "      <td>cnidaria_lobophylliidae/20332243_46545536_eol-...</td>\n",
       "      <td>[[[  9 159  90]\\n  [  8 181 108]\\n  [  2 212 1...</td>\n",
       "      <td>[[[0 0 0]\\n  [0 0 0]\\n  [0 0 0]\\n  ...\\n  [0 0...</td>\n",
       "    </tr>\n",
       "  </tbody>\n",
       "</table>\n",
       "</div>"
      ],
      "text/plain": [
       "   eol_content_id  eol_page_id   kingdom    phylum          family  \\\n",
       "0        28219388     45276311  animalia  cnidaria     acroporidae   \n",
       "1        29729570     45276321  animalia  cnidaria     acroporidae   \n",
       "2        20332243     46545536  animalia  cnidaria  lobophylliidae   \n",
       "\n",
       "                                           file_path  \\\n",
       "0  cnidaria_acroporidae/28219388_45276311_eol-ful...   \n",
       "1  cnidaria_acroporidae/29729570_45276321_eol-ful...   \n",
       "2  cnidaria_lobophylliidae/20332243_46545536_eol-...   \n",
       "\n",
       "                                       resized_image  \\\n",
       "0  [[[76 74 72]\\n  [72 70 71]\\n  [76 72 74]\\n  .....   \n",
       "1  [[[203 203 171]\\n  [196 189 159]\\n  [209 197 1...   \n",
       "2  [[[  9 159  90]\\n  [  8 181 108]\\n  [  2 212 1...   \n",
       "\n",
       "                                  noBackground_image  \n",
       "0  [[[  0   0   0]\\n  [  0   0   0]\\n  [  0   0  ...  \n",
       "1  [[[  0   0   0]\\n  [141 188 211]\\n  [203 214 1...  \n",
       "2  [[[0 0 0]\\n  [0 0 0]\\n  [0 0 0]\\n  ...\\n  [0 0...  "
      ]
     },
     "execution_count": 3,
     "metadata": {},
     "output_type": "execute_result"
    }
   ],
   "source": [
    "# Load the DataFrame from the CSV file\n",
    "cnidaria_train = pd.read_csv(\"train_test_splits/cnidaria_train_processed.csv\")\n",
    "cnidaria_train.head(3)"
   ]
  },
  {
   "cell_type": "code",
   "execution_count": 4,
   "metadata": {},
   "outputs": [
    {
     "data": {
      "text/html": [
       "<div>\n",
       "<style scoped>\n",
       "    .dataframe tbody tr th:only-of-type {\n",
       "        vertical-align: middle;\n",
       "    }\n",
       "\n",
       "    .dataframe tbody tr th {\n",
       "        vertical-align: top;\n",
       "    }\n",
       "\n",
       "    .dataframe thead th {\n",
       "        text-align: right;\n",
       "    }\n",
       "</style>\n",
       "<table border=\"1\" class=\"dataframe\">\n",
       "  <thead>\n",
       "    <tr style=\"text-align: right;\">\n",
       "      <th></th>\n",
       "      <th>eol_content_id</th>\n",
       "      <th>eol_page_id</th>\n",
       "      <th>kingdom</th>\n",
       "      <th>phylum</th>\n",
       "      <th>family</th>\n",
       "      <th>file_path</th>\n",
       "      <th>resized_image</th>\n",
       "      <th>noBackground_image</th>\n",
       "    </tr>\n",
       "  </thead>\n",
       "  <tbody>\n",
       "    <tr>\n",
       "      <th>0</th>\n",
       "      <td>21699228</td>\n",
       "      <td>45276518</td>\n",
       "      <td>animalia</td>\n",
       "      <td>cnidaria</td>\n",
       "      <td>agariciidae</td>\n",
       "      <td>cnidaria_agariciidae/21699228_45276518_eol-ful...</td>\n",
       "      <td>[[[ 81 148 190]\\n  [ 83 150 192]\\n  [ 84 151 1...</td>\n",
       "      <td>[[[  0   0   0]\\n  [  0   0   0]\\n  [  0   0  ...</td>\n",
       "    </tr>\n",
       "    <tr>\n",
       "      <th>1</th>\n",
       "      <td>2746810</td>\n",
       "      <td>45276959</td>\n",
       "      <td>animalia</td>\n",
       "      <td>cnidaria</td>\n",
       "      <td>siderastreidae</td>\n",
       "      <td>cnidaria_siderastreidae/2746810_45276959_eol-f...</td>\n",
       "      <td>[[[192 220 224]\\n  [193 221 225]\\n  [193 221 2...</td>\n",
       "      <td>[[[  0   0   0]\\n  [  0   0   0]\\n  [  0   0  ...</td>\n",
       "    </tr>\n",
       "    <tr>\n",
       "      <th>2</th>\n",
       "      <td>29729172</td>\n",
       "      <td>45276583</td>\n",
       "      <td>animalia</td>\n",
       "      <td>cnidaria</td>\n",
       "      <td>fungiidae</td>\n",
       "      <td>cnidaria_fungiidae/29729172_45276583_eol-full-...</td>\n",
       "      <td>[[[126 145  82]\\n  [ 48  61  50]\\n  [ 48  57  ...</td>\n",
       "      <td>[[[0 0 0]\\n  [0 0 0]\\n  [0 0 0]\\n  ...\\n  [0 0...</td>\n",
       "    </tr>\n",
       "  </tbody>\n",
       "</table>\n",
       "</div>"
      ],
      "text/plain": [
       "   eol_content_id  eol_page_id   kingdom    phylum          family  \\\n",
       "0        21699228     45276518  animalia  cnidaria     agariciidae   \n",
       "1         2746810     45276959  animalia  cnidaria  siderastreidae   \n",
       "2        29729172     45276583  animalia  cnidaria       fungiidae   \n",
       "\n",
       "                                           file_path  \\\n",
       "0  cnidaria_agariciidae/21699228_45276518_eol-ful...   \n",
       "1  cnidaria_siderastreidae/2746810_45276959_eol-f...   \n",
       "2  cnidaria_fungiidae/29729172_45276583_eol-full-...   \n",
       "\n",
       "                                       resized_image  \\\n",
       "0  [[[ 81 148 190]\\n  [ 83 150 192]\\n  [ 84 151 1...   \n",
       "1  [[[192 220 224]\\n  [193 221 225]\\n  [193 221 2...   \n",
       "2  [[[126 145  82]\\n  [ 48  61  50]\\n  [ 48  57  ...   \n",
       "\n",
       "                                  noBackground_image  \n",
       "0  [[[  0   0   0]\\n  [  0   0   0]\\n  [  0   0  ...  \n",
       "1  [[[  0   0   0]\\n  [  0   0   0]\\n  [  0   0  ...  \n",
       "2  [[[0 0 0]\\n  [0 0 0]\\n  [0 0 0]\\n  ...\\n  [0 0...  "
      ]
     },
     "execution_count": 4,
     "metadata": {},
     "output_type": "execute_result"
    }
   ],
   "source": [
    "# Load the DataFrame from the CSV file\n",
    "cnidaria_test = pd.read_csv(\"train_test_splits/cnidaria_test_processed.csv\")\n",
    "cnidaria_test.head(3)"
   ]
  },
  {
   "cell_type": "code",
   "execution_count": 5,
   "metadata": {},
   "outputs": [
    {
     "data": {
      "text/plain": [
       "((647, 8), (162, 8))"
      ]
     },
     "execution_count": 5,
     "metadata": {},
     "output_type": "execute_result"
    }
   ],
   "source": [
    "cnidaria_train.shape, cnidaria_test.shape"
   ]
  },
  {
   "cell_type": "code",
   "execution_count": 6,
   "metadata": {},
   "outputs": [
    {
     "data": {
      "text/plain": [
       "family\n",
       "acroporidae         168\n",
       "agariciidae          95\n",
       "euphylliidae         72\n",
       "faviidae             48\n",
       "merulinidae          48\n",
       "pocilloporidae       48\n",
       "helioporidae         24\n",
       "lobophylliidae       24\n",
       "dendrophylliidae     24\n",
       "siderastreidae       24\n",
       "fungiidae            24\n",
       "diploastraeidae      24\n",
       "meandrinidae         24\n",
       "Name: count, dtype: int64"
      ]
     },
     "execution_count": 6,
     "metadata": {},
     "output_type": "execute_result"
    }
   ],
   "source": [
    "cnidaria_train['family'].value_counts()"
   ]
  },
  {
   "cell_type": "code",
   "execution_count": 7,
   "metadata": {},
   "outputs": [
    {
     "data": {
      "text/plain": [
       "13"
      ]
     },
     "execution_count": 7,
     "metadata": {},
     "output_type": "execute_result"
    }
   ],
   "source": [
    "cnidaria_train[\"family\"].nunique()"
   ]
  },
  {
   "cell_type": "code",
   "execution_count": null,
   "metadata": {},
   "outputs": [
    {
     "ename": "NameError",
     "evalue": "name 'label_to_index' is not defined",
     "output_type": "error",
     "traceback": [
      "\u001b[31m---------------------------------------------------------------------------\u001b[39m",
      "\u001b[31mNameError\u001b[39m                                 Traceback (most recent call last)",
      "\u001b[36mCell\u001b[39m\u001b[36m \u001b[39m\u001b[32mIn[8]\u001b[39m\u001b[32m, line 14\u001b[39m\n\u001b[32m      6\u001b[39m \u001b[38;5;66;03m# --- Assume your DataFrame columns are already set ---\u001b[39;00m\n\u001b[32m      7\u001b[39m \u001b[38;5;66;03m# cnidaria_train contains:\u001b[39;00m\n\u001b[32m      8\u001b[39m \u001b[38;5;66;03m#   - \"noBackground_image\": preprocessed image arrays (shape [224,224,3] for each)\u001b[39;00m\n\u001b[32m   (...)\u001b[39m\u001b[32m     11\u001b[39m \n\u001b[32m     12\u001b[39m \u001b[38;5;66;03m# Convert the \"noBackground_image\" column to a stacked NumPy array for training and test images:\u001b[39;00m\n\u001b[32m     13\u001b[39m X_train = np.stack(cnidaria_train[\u001b[33m\"\u001b[39m\u001b[33mnoBackground_image\u001b[39m\u001b[33m\"\u001b[39m].values)\n\u001b[32m---> \u001b[39m\u001b[32m14\u001b[39m y_train = np.array([\u001b[43mlabel_to_index\u001b[49m[label] \u001b[38;5;28;01mfor\u001b[39;00m label \u001b[38;5;129;01min\u001b[39;00m cnidaria_train[\u001b[33m\"\u001b[39m\u001b[33mfamily\u001b[39m\u001b[33m\"\u001b[39m]])\n\u001b[32m     16\u001b[39m X_test  = np.stack(cnidaria_test[\u001b[33m\"\u001b[39m\u001b[33mnoBackground_image\u001b[39m\u001b[33m\"\u001b[39m].values)\n\u001b[32m     17\u001b[39m y_test  = np.array([label_to_index[label] \u001b[38;5;28;01mfor\u001b[39;00m label \u001b[38;5;129;01min\u001b[39;00m cnidaria_test[\u001b[33m\"\u001b[39m\u001b[33mfamily\u001b[39m\u001b[33m\"\u001b[39m]])\n",
      "\u001b[31mNameError\u001b[39m: name 'label_to_index' is not defined"
     ]
    }
   ],
   "source": [
    "import numpy as np\n",
    "import tensorflow as tf\n",
    "import pandas as pd\n",
    "from sklearn.model_selection import train_test_split\n",
    "\n",
    "# --- Assume your DataFrame columns are already set ---\n",
    "# cnidaria_train contains:\n",
    "#   - \"noBackground_image\": preprocessed image arrays (shape [224,224,3] for each)\n",
    "#   - \"family\": the family label as a string\n",
    "# And label_to_index and label_names are already defined.\n",
    "\n",
    "# Convert the \"noBackground_image\" column to a stacked NumPy array for training and test images:\n",
    "X_train = np.stack(cnidaria_train[\"noBackground_image\"].values)\n",
    "y_train = np.array([label_to_index[label] for label in cnidaria_train[\"family\"]])\n",
    "\n",
    "X_test  = np.stack(cnidaria_test[\"noBackground_image\"].values)\n",
    "y_test  = np.array([label_to_index[label] for label in cnidaria_test[\"family\"]])\n",
    "\n",
    "print(\"X_train shape:\", X_train.shape)  # Should be (num_samples, 224, 224, 3)\n",
    "print(\"X_test shape:\", X_test.shape)\n",
    "\n",
    "# --- Split Training Data into Train and Validation Sets (80/20 split) ---\n",
    "X_tr, X_val, y_tr, y_val = train_test_split(X_train, y_train, test_size=0.2, random_state=42)\n",
    "\n",
    "print(\"Training set size:\", X_tr.shape[0])\n",
    "print(\"Validation set size:\", X_val.shape[0])\n",
    "\n",
    "# --- Create TensorFlow Datasets from the NumPy Arrays ---\n",
    "\n",
    "# For training dataset:\n",
    "train_ds = tf.data.Dataset.from_tensor_slices((X_tr, y_tr))\n",
    "train_ds = train_ds.shuffle(buffer_size=len(X_tr), seed=42)\n",
    "train_ds = train_ds.batch(8).prefetch(tf.data.AUTOTUNE)\n",
    "\n",
    "# For validation dataset:\n",
    "val_ds = tf.data.Dataset.from_tensor_slices((X_val, y_val))\n",
    "val_ds = val_ds.batch(8).prefetch(tf.data.AUTOTUNE)\n",
    "\n",
    "# For test dataset:\n",
    "test_ds = tf.data.Dataset.from_tensor_slices((X_test, y_test))\n",
    "test_ds = test_ds.batch(8).prefetch(tf.data.AUTOTUNE)\n",
    "\n",
    "\n"
   ]
  },
  {
   "cell_type": "markdown",
   "metadata": {},
   "source": [
    "# 4. Image Preprocessing <a class=\"anchor\" id=\"imagepreprocessing\"></a>"
   ]
  },
  {
   "cell_type": "markdown",
   "metadata": {},
   "source": [
    "## 4.2 Advanced Preprocessing"
   ]
  },
  {
   "cell_type": "code",
   "execution_count": null,
   "metadata": {},
   "outputs": [],
   "source": [
    "#Define model shape\n",
    "num_classes = cnidaria_train['family'].nunique() #number of classes = number of families\n",
    "batch_size = 32\n",
    "input_shape = (224, 224, 3)\n",
    "image_size = (224, 224)\n",
    "value_range = (0.0, 1.0)"
   ]
  },
  {
   "cell_type": "markdown",
   "metadata": {},
   "source": [
    "### Augmentation"
   ]
  },
  {
   "cell_type": "code",
   "execution_count": null,
   "metadata": {},
   "outputs": [
    {
     "name": "stderr",
     "output_type": "stream",
     "text": [
      "I0000 00:00:1744316510.977792   82552 gpu_device.cc:2019] Created device /job:localhost/replica:0/task:0/device:GPU:0 with 5329 MB memory:  -> device: 0, name: NVIDIA GeForce RTX 3070, pci bus id: 0000:07:00.0, compute capability: 8.6\n"
     ]
    }
   ],
   "source": [
    "#Function to augment the images\n",
    "def augment_image(image, label):\n",
    "\n",
    "    #Randomly change brightness\n",
    "    image = tf.image.random_brightness(image, max_delta=0.2)\n",
    "\n",
    "    #Apply geometric augmentations\n",
    "    image = geometric_augmentation_layers(image, training=True) # Apply geometric augmentations\n",
    "    image = tf.clip_by_value(image, 0.0, 1.0)\n",
    "    \n",
    "    return image, label\n",
    "\n",
    "\n",
    "# Geometric augmentations\n",
    "geometric_augmentation_layers = tf.keras.Sequential(\n",
    "    [\n",
    "        # Randomly flip horizontally\n",
    "        tf.keras.layers.RandomFlip(\"horizontal\"),\n",
    "\n",
    "        # Randomly rotate\n",
    "        tf.keras.layers.RandomRotation(factor=0.12),\n",
    "\n",
    "        # Random zoom\n",
    "        tf.keras.layers.RandomZoom(height_factor=(-0.35, 0.35), # Corresponds to [0.8, 1.2] of original height\n",
    "                                   width_factor=(-0.35, 0.35)), # Corresponds to [0.8, 1.2] of original width\n",
    "\n",
    "        # Random shift\n",
    "        tf.keras.layers.RandomTranslation(height_factor=0.20,\n",
    "                                          width_factor=0.20),\n",
    "\n",
    "        # Contrast\n",
    "        tf.keras.layers.RandomContrast(factor=0.25),\n",
    "\n",
    "    ],\n",
    "    name=\"geometric_augmentations\",\n",
    ")"
   ]
  },
  {
   "cell_type": "markdown",
   "metadata": {},
   "source": [
    "### Pre-Process Pipeline"
   ]
  },
  {
   "cell_type": "code",
   "execution_count": null,
   "metadata": {},
   "outputs": [],
   "source": [
    "#Function to preprocess the images\n",
    "def process_image(file_path, label):\n",
    "    image = tf.io.read_file(file_path) # Read the image file\n",
    "    image = tf.image.decode_jpeg(image, channels=3) # Decode the JPEG image\n",
    "    image = tf.image.resize(image, image_size) # Resize the image to the target size\n",
    "    \n",
    "    #CHANGE THIS LINE DEPENDING ON WHICH PRE-TRAINED MODEL IS BEING USED\n",
    "    \n",
    "    #image = resnet_preprocess(image)  # Apply ResNet50 preprocessing\n",
    "    image = mobilenet_preprocess(image)  # Apply MobileNetV2 preprocessing\n",
    "    #image = efficientnet_preprocess(image)  # Apply EfficientNetB0 preprocessing\n",
    "    #image = densenet_preprocess(image)  # Apply DenseNet121 preprocessing\n",
    "    #image = inception_preprocess(image)  # Apply InceptionV3 preprocessing\n",
    "    #image = tf.cast(image, tf.float32) / 255.0  # Apply ConvNeXt\n",
    "    return image, label"
   ]
  },
  {
   "cell_type": "markdown",
   "metadata": {},
   "source": [
    "### Tensorflow data set"
   ]
  },
  {
   "cell_type": "code",
   "execution_count": null,
   "metadata": {},
   "outputs": [],
   "source": [
    "import os\n",
    "import tensorflow as tf\n",
    "\n",
    "# --- Your existing steps for creating full paths and mapping labels ---\n",
    "root_dir = \"/root/DeepLearning2425/rare_species\"\n",
    "\n",
    "# Append full file paths to training and test DataFrames\n",
    "cnidaria_train['full_path'] = cnidaria_train['file_path'].apply(lambda x: os.path.normpath(os.path.join(root_dir, x)))\n",
    "cnidaria_test['full_path'] = cnidaria_test['file_path'].apply(lambda x: os.path.normpath(os.path.join(root_dir, x)))\n",
    "\n",
    "file_paths_train = cnidaria_train['full_path'].tolist()\n",
    "labels_train = cnidaria_train['family'].tolist()\n",
    "\n",
    "file_paths_test = cnidaria_test['full_path'].tolist()\n",
    "labels_test = cnidaria_test['family'].tolist()\n",
    "\n",
    "# Map the labels to integers\n",
    "label_names = sorted(set(labels_train))  # Get the unique labels\n",
    "label_to_index = {name: i for i, name in enumerate(label_names)}  # Create a mapping from labels to integers\n",
    "labels_train = [label_to_index[label] for label in labels_train]\n",
    "labels_test = [label_to_index[label] for label in labels_test]\n",
    "\n",
    "# print(file_paths_train[:5])\n",
    "# print(labels_train[:5])\n",
    "# print(file_paths_test[:5])\n",
    "# print(labels_test[:5])\n",
    "\n",
    "# # --- Calculate which classes are \"minority\" based on a threshold ---\n",
    "# minority_threshold = 24\n",
    "# family_counts = cnidaria_train['family'].value_counts()\n",
    "# minority_families = family_counts[family_counts <= minority_threshold].index.tolist()\n",
    "# minority_indices = [label_to_index[fam] for fam in minority_families if fam in label_to_index]\n",
    "# print(\"Minority class indices:\", minority_indices)\n",
    "# minority_indices_tf = tf.constant(minority_indices, dtype=tf.int32)\n",
    "\n",
    "# # --- Create the base dataset ---\n",
    "# data = tf.data.Dataset.from_tensor_slices((file_paths_train, labels_train))\n",
    "# data = data.shuffle(buffer_size=len(file_paths_train), reshuffle_each_iteration=False, seed=42)\n",
    "\n",
    "# # --- Split train/val ---\n",
    "# train_size = int(0.8 * len(file_paths_train))  # 80% for training, 20% for validation\n",
    "# train = data.take(train_size)\n",
    "# val = data.skip(train_size)\n",
    "\n",
    "# # --- Oversampling Minority Classes ---\n",
    "# oversample_factor = 2  # Adjust this factor as desired\n",
    "\n",
    "# # Filter the training dataset into minority and majority subsets\n",
    "# minority_ds = train.filter(lambda fp, label: tf.reduce_any(tf.equal(label, minority_indices_tf)))\n",
    "# majority_ds = train.filter(lambda fp, label: tf.logical_not(tf.reduce_any(tf.equal(label, minority_indices_tf))))\n",
    "\n",
    "# # Repeat the minority dataset to oversample it\n",
    "# minority_ds = minority_ds.repeat(oversample_factor)\n",
    "\n",
    "# # Concatenate the majority and oversampled minority datasets\n",
    "# # Note: It's advisable to re-shuffle after concatenation\n",
    "# train = majority_ds.concatenate(minority_ds)\n",
    "# train = train.shuffle(buffer_size=train_size, reshuffle_each_iteration=True, seed=42)\n",
    "\n",
    "# # --- Training Preprocess Pipeline ---\n",
    "# train = train.map(process_image, num_parallel_calls=tf.data.AUTOTUNE)\n",
    "# train = train.cache()\n",
    "# # Use your augmentation function here; if you want targeted augmentation instead, replace with conditional_augment.\n",
    "# train = train.map(augment_image, num_parallel_calls=tf.data.AUTOTUNE)\n",
    "# train = train.batch(8).prefetch(buffer_size=tf.data.AUTOTUNE)\n",
    "\n",
    "# # --- Validation Preprocess Pipeline ---\n",
    "# val = val.map(process_image, num_parallel_calls=tf.data.AUTOTUNE)\n",
    "# val = val.cache()\n",
    "# val = val.batch(8).prefetch(buffer_size=tf.data.AUTOTUNE)\n",
    "\n",
    "# # --- Test Preprocess Pipeline ---\n",
    "# test = tf.data.Dataset.from_tensor_slices((file_paths_test, labels_test))\n",
    "# test = test.map(process_image, num_parallel_calls=tf.data.AUTOTUNE)\n",
    "# test = test.cache().batch(8).prefetch(tf.data.AUTOTUNE)"
   ]
  },
  {
   "cell_type": "code",
   "execution_count": null,
   "metadata": {},
   "outputs": [
    {
     "name": "stdout",
     "output_type": "stream",
     "text": [
      "X_tr shape: (517,)\n",
      "X_val shape: (130,)\n",
      "X_test shape: (162,)\n"
     ]
    }
   ],
   "source": [
    "import os\n",
    "import numpy as np\n",
    "import tensorflow as tf\n",
    "import pandas as pd\n",
    "from sklearn.model_selection import train_test_split\n",
    "\n",
    "# Assume that your DataFrame (cnidaria_train and cnidaria_test) is already updated\n",
    "# with a \"noBackground_image\" column that contains NumPy arrays.\n",
    "# And that cnidaria_train['family'] contains the family labels.\n",
    "# Also assume label_to_index mapping and label_names are already defined.\n",
    "\n",
    "# For training data:\n",
    "X_train = np.stack(cnidaria_train[\"noBackground_image\"].values)\n",
    "y_train = np.array([label_to_index[label] for label in cnidaria_train[\"family\"]])\n",
    "\n",
    "# For test data:\n",
    "X_test = np.stack(cnidaria_test[\"noBackground_image\"].values)\n",
    "y_test = np.array([label_to_index[label] for label in cnidaria_test[\"family\"]])\n",
    "\n",
    "# Split the training data into train and validation sets (80%/20% split)\n",
    "X_tr, X_val, y_tr, y_val = train_test_split(X_train, y_train, test_size=0.2, random_state=42)\n",
    "\n",
    "print(\"X_tr shape:\", X_tr.shape)\n",
    "print(\"X_val shape:\", X_val.shape)\n",
    "print(\"X_test shape:\", X_test.shape)\n",
    "\n",
    "# Create TensorFlow datasets from NumPy arrays\n",
    "train_ds = tf.data.Dataset.from_tensor_slices((X_tr, y_tr))\n",
    "train_ds = train_ds.shuffle(buffer_size=len(X_tr), seed=42).batch(8).prefetch(tf.data.AUTOTUNE)\n",
    "\n",
    "val_ds = tf.data.Dataset.from_tensor_slices((X_val, y_val))\n",
    "val_ds = val_ds.batch(8).prefetch(tf.data.AUTOTUNE)\n",
    "\n",
    "test_ds = tf.data.Dataset.from_tensor_slices((X_test, y_test))\n",
    "test_ds = test_ds.batch(8).prefetch(tf.data.AUTOTUNE)"
   ]
  },
  {
   "cell_type": "code",
   "execution_count": null,
   "metadata": {},
   "outputs": [],
   "source": [
    "# import os\n",
    "# import math\n",
    "# import tensorflow as tf\n",
    "# import pandas as pd\n",
    "\n",
    "# # --- Your existing dataset creation ---\n",
    "# root_dir = \"/root/DeepLearning2425/rare_species\"\n",
    "\n",
    "# # Construct full file paths for train and test DataFrames.\n",
    "# cnidaria_train['full_path'] = cnidaria_train['file_path'].apply(lambda x: os.path.normpath(os.path.join(root_dir, x)))\n",
    "# cnidaria_test['full_path']  = cnidaria_test['file_path'].apply(lambda x: os.path.normpath(os.path.join(root_dir, x)))\n",
    "\n",
    "# file_paths_train = cnidaria_train['full_path'].tolist()\n",
    "# labels_train = cnidaria_train['family'].tolist()\n",
    "\n",
    "# file_paths_test = cnidaria_test['full_path'].tolist()\n",
    "# labels_test = cnidaria_test['family'].tolist()\n",
    "\n",
    "# # Map the labels to integers.\n",
    "# label_names = sorted(set(labels_train))  # Unique family names sorted alphabetically.\n",
    "# label_to_index = {name: i for i, name in enumerate(label_names)}\n",
    "# labels_train = [label_to_index[label] for label in labels_train]\n",
    "# labels_test  = [label_to_index[label] for label in labels_test]\n",
    "\n",
    "# print(\"Sample train paths:\", file_paths_train[:5])\n",
    "# print(\"Sample train labels:\", labels_train[:5])\n",
    "# print(\"Sample test paths:\", file_paths_test[:5])\n",
    "# print(\"Sample test labels:\", labels_test[:5])\n",
    "\n",
    "# # Create the initial dataset.\n",
    "# data = tf.data.Dataset.from_tensor_slices((file_paths_train, labels_train))\n",
    "# data = data.shuffle(buffer_size=len(file_paths_train), reshuffle_each_iteration=False, seed=42)\n",
    "\n",
    "# # --- Split train and validation ---\n",
    "# train_size = int(0.8 * len(file_paths_train))  # 80% for training, 20% for validation\n",
    "# train = data.take(train_size)\n",
    "# val = data.skip(train_size)\n",
    "\n",
    "# # --- Compute label distribution in training set ---\n",
    "# train_labels = []\n",
    "# for _, label in train:\n",
    "#     train_labels.append(label.numpy())\n",
    "# train_labels = pd.Series(train_labels)\n",
    "# train_distribution = train_labels.value_counts().sort_index()\n",
    "# # Map integer index back to family names for display.\n",
    "# train_distribution.index = [label_names[i] for i in train_distribution.index]\n",
    "# print(\"Training set label distribution:\")\n",
    "# print(train_distribution)\n",
    "\n",
    "# # --- Compute oversampling factors: ---\n",
    "# # Determine the count of the majority class.\n",
    "# max_count = train_distribution.max()\n",
    "# # For each class, the factor to oversample is the ceiling of (max_count / class_count).\n",
    "# oversampling_factors = {fam: math.ceil(max_count / count) for fam, count in train_distribution.items()}\n",
    "# print(\"Oversampling factors:\")\n",
    "# print(oversampling_factors)\n",
    "\n",
    "# # --- Build balanced training dataset via oversampling ---\n",
    "# # For each unique class label, create a dataset filtered by that label and repeat it.\n",
    "# oversampled_ds_list = []\n",
    "# for class_idx in sorted(train_labels.unique()):\n",
    "#     # Find the class name from the mapping.\n",
    "#     class_name = label_names[class_idx]\n",
    "#     factor = oversampling_factors[class_name]\n",
    "#     ds_class = train.filter(lambda fp, label, ci=class_idx: tf.equal(label, ci))\n",
    "#     ds_class = ds_class.repeat(factor)  # Repeat this subset 'factor' times.\n",
    "#     oversampled_ds_list.append(ds_class)\n",
    "\n",
    "# # Concatenate all oversampled class datasets together.\n",
    "# balanced_train = oversampled_ds_list[0]\n",
    "# for ds in oversampled_ds_list[1:]:\n",
    "#     balanced_train = balanced_train.concatenate(ds)\n",
    "\n",
    "# # Shuffle the balanced training dataset again.\n",
    "# balanced_train = balanced_train.shuffle(buffer_size=1000, reshuffle_each_iteration=True, seed=42)\n",
    "\n",
    "# # --- Continue with your preprocessing pipeline ---\n",
    "# # Assume process_image and augment_image are defined earlier.\n",
    "# balanced_train = balanced_train.map(process_image, num_parallel_calls=tf.data.AUTOTUNE)\n",
    "# balanced_train = balanced_train.cache()\n",
    "# balanced_train = balanced_train.map(augment_image, num_parallel_calls=tf.data.AUTOTUNE)\n",
    "# balanced_train = balanced_train.batch(8).prefetch(buffer_size=tf.data.AUTOTUNE)\n",
    "\n",
    "# # Validation pipeline remains unchanged.\n",
    "# val = val.map(process_image, num_parallel_calls=tf.data.AUTOTUNE)\n",
    "# val = val.cache()\n",
    "# val = val.batch(8).prefetch(buffer_size=tf.data.AUTOTUNE)\n",
    "\n",
    "# # Test pipeline remains unchanged.\n",
    "# test = tf.data.Dataset.from_tensor_slices((file_paths_test, labels_test))\n",
    "# test = test.map(process_image, num_parallel_calls=tf.data.AUTOTUNE)\n",
    "# test = test.cache().batch(8).prefetch(tf.data.AUTOTUNE)\n"
   ]
  },
  {
   "cell_type": "markdown",
   "metadata": {},
   "source": [
    "# 5. Neural Network Models <a class=\"anchor\" id=\"nnmodels\"></a>"
   ]
  },
  {
   "cell_type": "code",
   "execution_count": null,
   "metadata": {},
   "outputs": [
    {
     "name": "stdout",
     "output_type": "stream",
     "text": [
      "TensorFlow version: 2.19.0\n",
      "GPUs: [PhysicalDevice(name='/physical_device:GPU:0', device_type='GPU')]\n"
     ]
    }
   ],
   "source": [
    "import tensorflow as tf\n",
    "print(\"TensorFlow version:\", tf.__version__)\n",
    "print(\"GPUs:\", tf.config.list_physical_devices('GPU'))"
   ]
  },
  {
   "cell_type": "code",
   "execution_count": null,
   "metadata": {},
   "outputs": [],
   "source": [
    "from tensorflow.keras.models import Model\n",
    "from tensorflow.keras.layers import Input, Conv2D, MaxPooling2D, Flatten, Dense, Dropout\n",
    "from tensorflow.keras.utils import to_categorical\n",
    "from tensorflow.keras.regularizers import l2\n",
    "from tensorflow.keras.callbacks import EarlyStopping, ModelCheckpoint\n",
    "from sklearn.preprocessing import LabelEncoder\n",
    "import numpy as np\n",
    "import os\n",
    "from tensorflow.keras.callbacks import ModelCheckpoint\n",
    "# Compute class weights\n",
    "from sklearn.utils.class_weight import compute_class_weight"
   ]
  },
  {
   "cell_type": "markdown",
   "metadata": {},
   "source": [
    "## 5.1 Baseline MobileNetV2"
   ]
  },
  {
   "cell_type": "markdown",
   "metadata": {},
   "source": [
    "### Model Setup"
   ]
  },
  {
   "cell_type": "code",
   "execution_count": null,
   "metadata": {},
   "outputs": [
    {
     "data": {
      "text/html": [
       "<pre style=\"white-space:pre;overflow-x:auto;line-height:normal;font-family:Menlo,'DejaVu Sans Mono',consolas,'Courier New',monospace\"><span style=\"font-weight: bold\">Model: \"sequential\"</span>\n",
       "</pre>\n"
      ],
      "text/plain": [
       "\u001b[1mModel: \"sequential\"\u001b[0m\n"
      ]
     },
     "metadata": {},
     "output_type": "display_data"
    },
    {
     "data": {
      "text/html": [
       "<pre style=\"white-space:pre;overflow-x:auto;line-height:normal;font-family:Menlo,'DejaVu Sans Mono',consolas,'Courier New',monospace\">┏━━━━━━━━━━━━━━━━━━━━━━━━━━━━━━━━━┳━━━━━━━━━━━━━━━━━━━━━━━━┳━━━━━━━━━━━━━━━┓\n",
       "┃<span style=\"font-weight: bold\"> Layer (type)                    </span>┃<span style=\"font-weight: bold\"> Output Shape           </span>┃<span style=\"font-weight: bold\">       Param # </span>┃\n",
       "┡━━━━━━━━━━━━━━━━━━━━━━━━━━━━━━━━━╇━━━━━━━━━━━━━━━━━━━━━━━━╇━━━━━━━━━━━━━━━┩\n",
       "│ mobilenetv2_1.00_224            │ (<span style=\"color: #00d7ff; text-decoration-color: #00d7ff\">None</span>, <span style=\"color: #00af00; text-decoration-color: #00af00\">7</span>, <span style=\"color: #00af00; text-decoration-color: #00af00\">7</span>, <span style=\"color: #00af00; text-decoration-color: #00af00\">1280</span>)     │     <span style=\"color: #00af00; text-decoration-color: #00af00\">2,257,984</span> │\n",
       "│ (<span style=\"color: #0087ff; text-decoration-color: #0087ff\">Functional</span>)                    │                        │               │\n",
       "├─────────────────────────────────┼────────────────────────┼───────────────┤\n",
       "│ global_average_pooling2d        │ (<span style=\"color: #00d7ff; text-decoration-color: #00d7ff\">None</span>, <span style=\"color: #00af00; text-decoration-color: #00af00\">1280</span>)           │             <span style=\"color: #00af00; text-decoration-color: #00af00\">0</span> │\n",
       "│ (<span style=\"color: #0087ff; text-decoration-color: #0087ff\">GlobalAveragePooling2D</span>)        │                        │               │\n",
       "├─────────────────────────────────┼────────────────────────┼───────────────┤\n",
       "│ dropout (<span style=\"color: #0087ff; text-decoration-color: #0087ff\">Dropout</span>)               │ (<span style=\"color: #00d7ff; text-decoration-color: #00d7ff\">None</span>, <span style=\"color: #00af00; text-decoration-color: #00af00\">1280</span>)           │             <span style=\"color: #00af00; text-decoration-color: #00af00\">0</span> │\n",
       "├─────────────────────────────────┼────────────────────────┼───────────────┤\n",
       "│ dense (<span style=\"color: #0087ff; text-decoration-color: #0087ff\">Dense</span>)                   │ (<span style=\"color: #00d7ff; text-decoration-color: #00d7ff\">None</span>, <span style=\"color: #00af00; text-decoration-color: #00af00\">128</span>)            │       <span style=\"color: #00af00; text-decoration-color: #00af00\">163,968</span> │\n",
       "├─────────────────────────────────┼────────────────────────┼───────────────┤\n",
       "│ dense_1 (<span style=\"color: #0087ff; text-decoration-color: #0087ff\">Dense</span>)                 │ (<span style=\"color: #00d7ff; text-decoration-color: #00d7ff\">None</span>, <span style=\"color: #00af00; text-decoration-color: #00af00\">13</span>)             │         <span style=\"color: #00af00; text-decoration-color: #00af00\">1,677</span> │\n",
       "└─────────────────────────────────┴────────────────────────┴───────────────┘\n",
       "</pre>\n"
      ],
      "text/plain": [
       "┏━━━━━━━━━━━━━━━━━━━━━━━━━━━━━━━━━┳━━━━━━━━━━━━━━━━━━━━━━━━┳━━━━━━━━━━━━━━━┓\n",
       "┃\u001b[1m \u001b[0m\u001b[1mLayer (type)                   \u001b[0m\u001b[1m \u001b[0m┃\u001b[1m \u001b[0m\u001b[1mOutput Shape          \u001b[0m\u001b[1m \u001b[0m┃\u001b[1m \u001b[0m\u001b[1m      Param #\u001b[0m\u001b[1m \u001b[0m┃\n",
       "┡━━━━━━━━━━━━━━━━━━━━━━━━━━━━━━━━━╇━━━━━━━━━━━━━━━━━━━━━━━━╇━━━━━━━━━━━━━━━┩\n",
       "│ mobilenetv2_1.00_224            │ (\u001b[38;5;45mNone\u001b[0m, \u001b[38;5;34m7\u001b[0m, \u001b[38;5;34m7\u001b[0m, \u001b[38;5;34m1280\u001b[0m)     │     \u001b[38;5;34m2,257,984\u001b[0m │\n",
       "│ (\u001b[38;5;33mFunctional\u001b[0m)                    │                        │               │\n",
       "├─────────────────────────────────┼────────────────────────┼───────────────┤\n",
       "│ global_average_pooling2d        │ (\u001b[38;5;45mNone\u001b[0m, \u001b[38;5;34m1280\u001b[0m)           │             \u001b[38;5;34m0\u001b[0m │\n",
       "│ (\u001b[38;5;33mGlobalAveragePooling2D\u001b[0m)        │                        │               │\n",
       "├─────────────────────────────────┼────────────────────────┼───────────────┤\n",
       "│ dropout (\u001b[38;5;33mDropout\u001b[0m)               │ (\u001b[38;5;45mNone\u001b[0m, \u001b[38;5;34m1280\u001b[0m)           │             \u001b[38;5;34m0\u001b[0m │\n",
       "├─────────────────────────────────┼────────────────────────┼───────────────┤\n",
       "│ dense (\u001b[38;5;33mDense\u001b[0m)                   │ (\u001b[38;5;45mNone\u001b[0m, \u001b[38;5;34m128\u001b[0m)            │       \u001b[38;5;34m163,968\u001b[0m │\n",
       "├─────────────────────────────────┼────────────────────────┼───────────────┤\n",
       "│ dense_1 (\u001b[38;5;33mDense\u001b[0m)                 │ (\u001b[38;5;45mNone\u001b[0m, \u001b[38;5;34m13\u001b[0m)             │         \u001b[38;5;34m1,677\u001b[0m │\n",
       "└─────────────────────────────────┴────────────────────────┴───────────────┘\n"
      ]
     },
     "metadata": {},
     "output_type": "display_data"
    },
    {
     "data": {
      "text/html": [
       "<pre style=\"white-space:pre;overflow-x:auto;line-height:normal;font-family:Menlo,'DejaVu Sans Mono',consolas,'Courier New',monospace\"><span style=\"font-weight: bold\"> Total params: </span><span style=\"color: #00af00; text-decoration-color: #00af00\">2,423,629</span> (9.25 MB)\n",
       "</pre>\n"
      ],
      "text/plain": [
       "\u001b[1m Total params: \u001b[0m\u001b[38;5;34m2,423,629\u001b[0m (9.25 MB)\n"
      ]
     },
     "metadata": {},
     "output_type": "display_data"
    },
    {
     "data": {
      "text/html": [
       "<pre style=\"white-space:pre;overflow-x:auto;line-height:normal;font-family:Menlo,'DejaVu Sans Mono',consolas,'Courier New',monospace\"><span style=\"font-weight: bold\"> Trainable params: </span><span style=\"color: #00af00; text-decoration-color: #00af00\">165,645</span> (647.05 KB)\n",
       "</pre>\n"
      ],
      "text/plain": [
       "\u001b[1m Trainable params: \u001b[0m\u001b[38;5;34m165,645\u001b[0m (647.05 KB)\n"
      ]
     },
     "metadata": {},
     "output_type": "display_data"
    },
    {
     "data": {
      "text/html": [
       "<pre style=\"white-space:pre;overflow-x:auto;line-height:normal;font-family:Menlo,'DejaVu Sans Mono',consolas,'Courier New',monospace\"><span style=\"font-weight: bold\"> Non-trainable params: </span><span style=\"color: #00af00; text-decoration-color: #00af00\">2,257,984</span> (8.61 MB)\n",
       "</pre>\n"
      ],
      "text/plain": [
       "\u001b[1m Non-trainable params: \u001b[0m\u001b[38;5;34m2,257,984\u001b[0m (8.61 MB)\n"
      ]
     },
     "metadata": {},
     "output_type": "display_data"
    }
   ],
   "source": [
    "from tensorflow.keras.regularizers import l2\n",
    "from sklearn.utils.class_weight import compute_class_weight\n",
    "\n",
    "# Load base model without top layer\n",
    "base_model = MobileNetV2(\n",
    "    input_shape=input_shape,  # Match your resized image shape\n",
    "    include_top=False,         # Don't include the original classifier\n",
    "    weights='imagenet'         # Use ImageNet-pretrained weights\n",
    ")\n",
    "\n",
    "# Freeze base model so we only train the new layers for now\n",
    "base_model.trainable = False\n",
    "\n",
    "model = models.Sequential([\n",
    "    base_model,                                # Pre-trained feature extractor\n",
    "    layers.GlobalAveragePooling2D(),           # Pool the spatial features\n",
    "    layers.Dropout(0.3),                       # Dropout for regularization\n",
    "    layers.Dense(128, activation='relu', kernel_regularizer=l2(0.001)),  # L2 regularized Dense layer\n",
    "    layers.Dense(num_classes, activation='softmax', kernel_regularizer=l2(0.001))  # Output layer with L2 regularizer\n",
    "])\n",
    "\n",
    "# Compile the model\n",
    "model.compile(\n",
    "    optimizer=optimizers.Adam(learning_rate=1e-4),  # Use a lower learning rate for fine-tuning\n",
    "    loss='sparse_categorical_crossentropy',\n",
    "    metrics=['accuracy']\n",
    ")\n",
    "\n",
    "model.summary()"
   ]
  },
  {
   "cell_type": "markdown",
   "metadata": {},
   "source": [
    "### Model Training"
   ]
  },
  {
   "cell_type": "code",
   "execution_count": null,
   "metadata": {},
   "outputs": [
    {
     "name": "stdout",
     "output_type": "stream",
     "text": [
      "Computed class weights: {0: np.float64(0.29624542124542125), 1: np.float64(0.5238866396761134), 2: np.float64(2.073717948717949), 3: np.float64(2.073717948717949), 4: np.float64(0.6912393162393162), 5: np.float64(1.0368589743589745), 6: np.float64(2.073717948717949), 7: np.float64(2.073717948717949), 8: np.float64(2.073717948717949), 9: np.float64(2.073717948717949), 10: np.float64(1.0368589743589745), 11: np.float64(1.0368589743589745), 12: np.float64(2.073717948717949)}\n"
     ]
    }
   ],
   "source": [
    "y_train = np.array(labels_train)  # Replace labels_train with your training label list\n",
    "class_weights = compute_class_weight(\n",
    "    class_weight='balanced',\n",
    "    classes=np.unique(y_train),\n",
    "    y=y_train\n",
    ")\n",
    "\n",
    "class_weights_dict = dict(enumerate(class_weights))\n",
    "print(\"Computed class weights:\", class_weights_dict)"
   ]
  },
  {
   "cell_type": "code",
   "execution_count": null,
   "metadata": {},
   "outputs": [
    {
     "name": "stdout",
     "output_type": "stream",
     "text": [
      "Epoch 1/40\n"
     ]
    },
    {
     "ename": "ValueError",
     "evalue": "Exception encountered when calling Sequential.call().\n\n\u001b[1mInvalid input shape for input Tensor(\"sequential_1/Cast:0\", shape=(None,), dtype=float32). Expected shape (None, 224, 224, 3), but input has incompatible shape (None,)\u001b[0m\n\nArguments received by Sequential.call():\n  • inputs=tf.Tensor(shape=(None,), dtype=string)\n  • training=True\n  • mask=None",
     "output_type": "error",
     "traceback": [
      "\u001b[31m---------------------------------------------------------------------------\u001b[39m",
      "\u001b[31mValueError\u001b[39m                                Traceback (most recent call last)",
      "\u001b[36mCell\u001b[39m\u001b[36m \u001b[39m\u001b[32mIn[19]\u001b[39m\u001b[32m, line 11\u001b[39m\n\u001b[32m      3\u001b[39m \u001b[38;5;66;03m#callbacks\u001b[39;00m\n\u001b[32m      4\u001b[39m checkpoint = ModelCheckpoint(\n\u001b[32m      5\u001b[39m     \u001b[33m\"\u001b[39m\u001b[33mmodels/cnidaria_models/finetuned_best_model.keras\u001b[39m\u001b[33m\"\u001b[39m,\n\u001b[32m      6\u001b[39m     monitor=\u001b[33m'\u001b[39m\u001b[33mval_loss\u001b[39m\u001b[33m'\u001b[39m,\n\u001b[32m      7\u001b[39m     save_best_only=\u001b[38;5;28;01mTrue\u001b[39;00m,\n\u001b[32m      8\u001b[39m     verbose=\u001b[32m1\u001b[39m\n\u001b[32m      9\u001b[39m )\n\u001b[32m---> \u001b[39m\u001b[32m11\u001b[39m history = \u001b[43mmodel\u001b[49m\u001b[43m.\u001b[49m\u001b[43mfit\u001b[49m\u001b[43m(\u001b[49m\n\u001b[32m     12\u001b[39m \u001b[43m        \u001b[49m\u001b[43mtrain_ds\u001b[49m\u001b[43m,\u001b[49m\n\u001b[32m     13\u001b[39m \u001b[43m        \u001b[49m\u001b[43mvalidation_data\u001b[49m\u001b[43m=\u001b[49m\u001b[43mval_ds\u001b[49m\u001b[43m,\u001b[49m\n\u001b[32m     14\u001b[39m \u001b[43m        \u001b[49m\u001b[43mepochs\u001b[49m\u001b[43m=\u001b[49m\u001b[32;43m40\u001b[39;49m\u001b[43m,\u001b[49m\u001b[43m           \u001b[49m\u001b[38;5;66;43;03m# Start small, increase if needed\u001b[39;49;00m\n\u001b[32m     15\u001b[39m \u001b[43m        \u001b[49m\u001b[43mverbose\u001b[49m\u001b[43m=\u001b[49m\u001b[32;43m1\u001b[39;49m\n\u001b[32m     16\u001b[39m \u001b[43m    \u001b[49m\u001b[43m)\u001b[49m\n\u001b[32m     18\u001b[39m \u001b[38;5;66;03m#save the model\u001b[39;00m\n\u001b[32m     19\u001b[39m model.save(\u001b[33m\"\u001b[39m\u001b[33mmodels/cnidaria_models/finetuned_model.keras\u001b[39m\u001b[33m\"\u001b[39m)\n",
      "\u001b[36mFile \u001b[39m\u001b[32m~/DeepLearning2425/tf-gpu/lib/python3.12/site-packages/keras/src/utils/traceback_utils.py:122\u001b[39m, in \u001b[36mfilter_traceback.<locals>.error_handler\u001b[39m\u001b[34m(*args, **kwargs)\u001b[39m\n\u001b[32m    119\u001b[39m     filtered_tb = _process_traceback_frames(e.__traceback__)\n\u001b[32m    120\u001b[39m     \u001b[38;5;66;03m# To get the full stack trace, call:\u001b[39;00m\n\u001b[32m    121\u001b[39m     \u001b[38;5;66;03m# `keras.config.disable_traceback_filtering()`\u001b[39;00m\n\u001b[32m--> \u001b[39m\u001b[32m122\u001b[39m     \u001b[38;5;28;01mraise\u001b[39;00m e.with_traceback(filtered_tb) \u001b[38;5;28;01mfrom\u001b[39;00m\u001b[38;5;250m \u001b[39m\u001b[38;5;28;01mNone\u001b[39;00m\n\u001b[32m    123\u001b[39m \u001b[38;5;28;01mfinally\u001b[39;00m:\n\u001b[32m    124\u001b[39m     \u001b[38;5;28;01mdel\u001b[39;00m filtered_tb\n",
      "\u001b[36mFile \u001b[39m\u001b[32m~/DeepLearning2425/tf-gpu/lib/python3.12/site-packages/keras/src/models/functional.py:273\u001b[39m, in \u001b[36mFunctional._adjust_input_rank\u001b[39m\u001b[34m(self, flat_inputs)\u001b[39m\n\u001b[32m    271\u001b[39m             adjusted.append(ops.expand_dims(x, axis=-\u001b[32m1\u001b[39m))\n\u001b[32m    272\u001b[39m             \u001b[38;5;28;01mcontinue\u001b[39;00m\n\u001b[32m--> \u001b[39m\u001b[32m273\u001b[39m     \u001b[38;5;28;01mraise\u001b[39;00m \u001b[38;5;167;01mValueError\u001b[39;00m(\n\u001b[32m    274\u001b[39m         \u001b[33mf\u001b[39m\u001b[33m\"\u001b[39m\u001b[33mInvalid input shape for input \u001b[39m\u001b[38;5;132;01m{\u001b[39;00mx\u001b[38;5;132;01m}\u001b[39;00m\u001b[33m. Expected shape \u001b[39m\u001b[33m\"\u001b[39m\n\u001b[32m    275\u001b[39m         \u001b[33mf\u001b[39m\u001b[33m\"\u001b[39m\u001b[38;5;132;01m{\u001b[39;00mref_shape\u001b[38;5;132;01m}\u001b[39;00m\u001b[33m, but input has incompatible shape \u001b[39m\u001b[38;5;132;01m{\u001b[39;00mx.shape\u001b[38;5;132;01m}\u001b[39;00m\u001b[33m\"\u001b[39m\n\u001b[32m    276\u001b[39m     )\n\u001b[32m    277\u001b[39m \u001b[38;5;66;03m# Add back metadata.\u001b[39;00m\n\u001b[32m    278\u001b[39m \u001b[38;5;28;01mfor\u001b[39;00m i \u001b[38;5;129;01min\u001b[39;00m \u001b[38;5;28mrange\u001b[39m(\u001b[38;5;28mlen\u001b[39m(flat_inputs)):\n",
      "\u001b[31mValueError\u001b[39m: Exception encountered when calling Sequential.call().\n\n\u001b[1mInvalid input shape for input Tensor(\"sequential_1/Cast:0\", shape=(None,), dtype=float32). Expected shape (None, 224, 224, 3), but input has incompatible shape (None,)\u001b[0m\n\nArguments received by Sequential.call():\n  • inputs=tf.Tensor(shape=(None,), dtype=string)\n  • training=True\n  • mask=None"
     ]
    }
   ],
   "source": [
    "from tensorflow.keras.callbacks import ModelCheckpoint\n",
    "\n",
    "#callbacks\n",
    "checkpoint = ModelCheckpoint(\n",
    "    \"models/cnidaria_models/finetuned_best_model.keras\",\n",
    "    monitor='val_loss',\n",
    "    save_best_only=True,\n",
    "    verbose=1\n",
    ")\n",
    "\n",
    "history = model.fit(\n",
    "        train_ds,\n",
    "        validation_data=val_ds,\n",
    "        epochs=40,           # Start small, increase if needed\n",
    "        verbose=1\n",
    "    )\n",
    "\n",
    "#save the model\n",
    "model.save(\"models/cnidaria_models/finetuned_model.keras\")"
   ]
  },
  {
   "cell_type": "code",
   "execution_count": null,
   "metadata": {},
   "outputs": [
    {
     "name": "stdout",
     "output_type": "stream",
     "text": [
      "Best validation accuracy: 0.4076923131942749\n"
     ]
    }
   ],
   "source": [
    "#get the best accuracy score\n",
    "best_accuracy = max(history.history['val_accuracy'])\n",
    "print(\"Best validation accuracy:\", best_accuracy)"
   ]
  },
  {
   "cell_type": "markdown",
   "metadata": {},
   "source": [
    "### Result Visualizations"
   ]
  },
  {
   "cell_type": "code",
   "execution_count": null,
   "metadata": {},
   "outputs": [],
   "source": [
    "#This function is used in notebook 2, notebook 3 and notebook 4\n",
    "import matplotlib.pyplot as plt\n",
    "\n",
    "def plot_loss(history):\n",
    "    \"\"\"\n",
    "    Plot the training and validation loss over epochs.\n",
    "\n",
    "    Parameters:\n",
    "    - history: History object returned by model.fit() containing training/validation loss values.\n",
    "\n",
    "    Returns:\n",
    "    - None (displays a plot of training and validation loss)\n",
    "    \"\"\"\n",
    "    plt.figure(figsize=(7, 2))\n",
    "    plt.plot(history.history['loss'], label='Training Loss')\n",
    "    plt.plot(history.history['val_loss'], label='Validation Loss')\n",
    "    plt.xlabel('Epochs')\n",
    "    plt.ylabel('Loss')\n",
    "    plt.legend()\n",
    "    plt.title('Training and Validation Loss')\n",
    "    plt.show()\n"
   ]
  },
  {
   "cell_type": "code",
   "execution_count": null,
   "metadata": {},
   "outputs": [
    {
     "data": {
      "image/png": "[encoded data removed]",
      "text/plain": [
       "<Figure size 700x200 with 1 Axes>"
      ]
     },
     "metadata": {},
     "output_type": "display_data"
    }
   ],
   "source": [
    "plot_loss(history)"
   ]
  },
  {
   "cell_type": "code",
   "execution_count": null,
   "metadata": {},
   "outputs": [
    {
     "data": {
      "image/png": "[encoded data removed]",
      "text/plain": [
       "<Figure size 800x400 with 1 Axes>"
      ]
     },
     "metadata": {},
     "output_type": "display_data"
    }
   ],
   "source": [
    "def plot_accuracy(history):\n",
    "    plt.figure(figsize=(8, 4))\n",
    "    plt.plot(history.history['accuracy'], label='Training Accuracy', marker='o')\n",
    "    plt.plot(history.history['val_accuracy'], label='Validation Accuracy', marker='o')\n",
    "    plt.xlabel('Epochs')\n",
    "    plt.ylabel('Accuracy')\n",
    "    plt.legend()\n",
    "    plt.title('Training and Validation Accuracy')\n",
    "    plt.grid(True)\n",
    "    plt.show()\n",
    "\n",
    "plot_accuracy(history)"
   ]
  },
  {
   "cell_type": "code",
   "execution_count": null,
   "metadata": {},
   "outputs": [
    {
     "name": "stdout",
     "output_type": "stream",
     "text": [
      "\u001b[1m17/17\u001b[0m \u001b[32m━━━━━━━━━━━━━━━━━━━━\u001b[0m\u001b[37m\u001b[0m \u001b[1m7s\u001b[0m 208ms/step\n"
     ]
    },
    {
     "data": {
      "image/png": "[encoded data removed]",
      "text/plain": [
       "<Figure size 1000x800 with 2 Axes>"
      ]
     },
     "metadata": {},
     "output_type": "display_data"
    },
    {
     "name": "stdout",
     "output_type": "stream",
     "text": [
      "                  precision    recall  f1-score   support\n",
      "\n",
      "     acroporidae       0.94      0.44      0.60        36\n",
      "     agariciidae       0.29      0.11      0.16        18\n",
      "dendrophylliidae       0.20      0.25      0.22         4\n",
      " diploastraeidae       0.00      0.00      0.00         8\n",
      "    euphylliidae       0.00      0.00      0.00        13\n",
      "        faviidae       0.30      0.78      0.44         9\n",
      "       fungiidae       0.36      0.57      0.44         7\n",
      "    helioporidae       0.25      0.14      0.18         7\n",
      "  lobophylliidae       0.38      1.00      0.55         3\n",
      "    meandrinidae       0.75      1.00      0.86         3\n",
      "     merulinidae       0.14      0.50      0.22         6\n",
      "  pocilloporidae       0.45      0.62      0.53         8\n",
      "  siderastreidae       0.35      0.75      0.48         8\n",
      "\n",
      "        accuracy                           0.39       130\n",
      "       macro avg       0.34      0.47      0.36       130\n",
      "    weighted avg       0.44      0.39      0.36       130\n",
      "\n"
     ]
    }
   ],
   "source": [
    "import numpy as np\n",
    "import matplotlib.pyplot as plt\n",
    "import seaborn as sns\n",
    "from sklearn.metrics import confusion_matrix, classification_report\n",
    "\n",
    "# Generate predictions for the validation set\n",
    "# This returns probabilities, so we use argmax to obtain predicted class indices.\n",
    "y_val_pred_probs = model.predict(val)\n",
    "y_val_pred = np.argmax(y_val_pred_probs, axis=1)\n",
    "\n",
    "# Extract the true labels from the validation dataset\n",
    "y_val_true = []\n",
    "for images, labels in val:\n",
    "    # Convert labels from a tensor to a NumPy array and extend our list.\n",
    "    y_val_true.extend(labels.numpy())\n",
    "y_val_true = np.array(y_val_true)\n",
    "\n",
    "# Compute the confusion matrix\n",
    "cm = confusion_matrix(y_val_true, y_val_pred)\n",
    "\n",
    "# Optional: if you have the label names (sorted list of unique labels), use them for tick labels\n",
    "# For example, if defined earlier:\n",
    "# label_names = sorted(set(labels_train))\n",
    "# If not, you can omit xticklabels and yticklabels\n",
    "plt.figure(figsize=(10, 8))\n",
    "sns.heatmap(cm, annot=True, fmt=\"d\", cmap=\"Blues\", \n",
    "            xticklabels=label_names, yticklabels=label_names)\n",
    "plt.xlabel(\"Predicted Label\")\n",
    "plt.ylabel(\"True Label\")\n",
    "plt.title(\"Confusion Matrix - Validation Set\")\n",
    "plt.show()\n",
    "\n",
    "# Print a detailed classification report\n",
    "print(classification_report(y_val_true, y_val_pred, target_names=label_names))\n"
   ]
  }
 ],
 "metadata": {
  "kernelspec": {
   "display_name": "tf-gpu",
   "language": "python",
   "name": "python3"
  },
  "language_info": {
   "codemirror_mode": {
    "name": "ipython",
    "version": 3
   },
   "file_extension": ".py",
   "mimetype": "text/x-python",
   "name": "python",
   "nbconvert_exporter": "python",
   "pygments_lexer": "ipython3",
   "version": "3.12.3"
  }
 },
 "nbformat": 4,
 "nbformat_minor": 2
}
