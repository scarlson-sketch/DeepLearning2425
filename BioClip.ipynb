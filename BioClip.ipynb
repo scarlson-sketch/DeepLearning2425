{
 "cells": [
  {
   "cell_type": "markdown",
   "metadata": {},
   "source": [
    "## **<h3 align=\"center\"> Deep Learning - Project </h3>**\n",
    "# **<h3 align=\"center\">Preprocessing</h3>**\n",
    "**Group 4 members:**<br>\n",
    "Alexandra Pinto - 20211599@novaims.unl.pt - 20211599<br>\n",
    "Steven Carlson - 20240554@novaims.unl.pt - 20240554<br>\n",
    "Sven Goerdes - 20240503@novaims.unl.pt - 20240503<br>\n",
    "Tim Straub - 20240505@novaims.unl.pt - 20240505<br>\n",
    "Zofia Wojcik  - 20240654@novaims.unl.pt - 20240654<br>"
   ]
  },
  {
   "cell_type": "markdown",
   "metadata": {},
   "source": [
    "# Table of Contents\n",
    "* [1. Introduction](#intro)\n",
    "* [2. Setup](#setup)\n",
    "* [3. Data Loading and Exploration](#dataloadandexpl)\n",
    "    * [3.1. Data Loading](#data_loading)\n",
    "    * [3.2. Validating File Paths](#val_file_path)\n",
    "    * [3.3. Checking for Missing or Duplicate Values](#NaN_and_duplicates)\n",
    "    * [3.4. Visualization](#visualization)\n",
    "* [4. General Image Preprocessing](#image_preproc)\n",
    "    * [4.1. Visualization](#image_visualization)\n",
    "    * [4.2. Image Duplicates](#image_duplicates)\n",
    "    * [4.3. Channels](#image_channels)\n",
    "    * [4.4. Text Recognition](#text_recognition)\n",
    "    * [4.5. Human Recognition](#human_recognition)\n",
    "\n",
    "* [5. Train Test Split](#train_test_split)\n"
   ]
  },
  {
   "cell_type": "code",
   "execution_count": 1,
   "metadata": {},
   "outputs": [],
   "source": [
    "#we can also connect to drive and have the images there "
   ]
  },
  {
   "cell_type": "markdown",
   "metadata": {},
   "source": [
    "# 1. Introduction <a class=\"anchor\" id=\"intro\"></a>\n",
    "\n",
    "This project focuses on developing a deep learning model to classify rare species based on images. The dataset comes from the Encyclopedia of Life (EOL) and is curated as part of the *BioCLIP: A Vision Foundation Model for the Tree of Life* study. The full study is available in our repository [here](<Project Description/BioCLIP_study.pdf>).  \n",
    "In this notebook, we will focus on setting up the environment and preprocessing the data. This includes loading the dataset, exploring its structure, splitting it into training, validation, and test sets, and applying necessary image transformations. These steps are crucial for ensuring that the model is trained effectively and generalizes well to new data.  "
   ]
  },
  {
   "cell_type": "markdown",
   "metadata": {},
   "source": [
    "# 2. Setup <a class=\"anchor\" id=\"setup\"></a>\n",
    "In this section, we will import the necessary libraries that will be used throughout the notebook. These libraries will help with data handling and image processing."
   ]
  },
  {
   "cell_type": "code",
   "execution_count": 2,
   "metadata": {},
   "outputs": [
    {
     "name": "stderr",
     "output_type": "stream",
     "text": [
      "2025-04-15 23:50:47.074423: E external/local_xla/xla/stream_executor/cuda/cuda_fft.cc:467] Unable to register cuFFT factory: Attempting to register factory for plugin cuFFT when one has already been registered\n",
      "WARNING: All log messages before absl::InitializeLog() is called are written to STDERR\n",
      "E0000 00:00:1744757447.189873    3544 cuda_dnn.cc:8579] Unable to register cuDNN factory: Attempting to register factory for plugin cuDNN when one has already been registered\n",
      "E0000 00:00:1744757447.222405    3544 cuda_blas.cc:1407] Unable to register cuBLAS factory: Attempting to register factory for plugin cuBLAS when one has already been registered\n",
      "W0000 00:00:1744757447.486006    3544 computation_placer.cc:177] computation placer already registered. Please check linkage and avoid linking the same target more than once.\n",
      "W0000 00:00:1744757447.486030    3544 computation_placer.cc:177] computation placer already registered. Please check linkage and avoid linking the same target more than once.\n",
      "W0000 00:00:1744757447.486032    3544 computation_placer.cc:177] computation placer already registered. Please check linkage and avoid linking the same target more than once.\n",
      "W0000 00:00:1744757447.486033    3544 computation_placer.cc:177] computation placer already registered. Please check linkage and avoid linking the same target more than once.\n",
      "2025-04-15 23:50:47.513140: I tensorflow/core/platform/cpu_feature_guard.cc:210] This TensorFlow binary is optimized to use available CPU instructions in performance-critical operations.\n",
      "To enable the following instructions: AVX2 FMA, in other operations, rebuild TensorFlow with the appropriate compiler flags.\n"
     ]
    },
    {
     "name": "stdout",
     "output_type": "stream",
     "text": [
      "TensorFlow version: 2.19.0\n",
      "GPUs: [PhysicalDevice(name='/physical_device:GPU:0', device_type='GPU')]\n"
     ]
    }
   ],
   "source": [
    "import tensorflow as tf\n",
    "print(\"TensorFlow version:\", tf.__version__)\n",
    "print(\"GPUs:\", tf.config.list_physical_devices('GPU'))"
   ]
  },
  {
   "cell_type": "code",
   "execution_count": 3,
   "metadata": {},
   "outputs": [
    {
     "name": "stdout",
     "output_type": "stream",
     "text": [
      "TensorFlow version: 2.19.0\n",
      "GPUs: [PhysicalDevice(name='/physical_device:GPU:0', device_type='GPU')]\n"
     ]
    }
   ],
   "source": [
    "# Standard libraries\n",
    "import pandas as pd\n",
    "import numpy as np\n",
    "import os\n",
    "import matplotlib.pyplot as plt\n",
    "import zipfile\n",
    "import seaborn as sns\n",
    "\n",
    "# Libraries for image processing\n",
    "from glob import glob\n",
    "from PIL import Image\n",
    "# pip install ImageHash\n",
    "import imagehash\n",
    "\n",
    "# Train test split\n",
    "from sklearn.model_selection import train_test_split\n",
    "\n",
    "\n",
    "# Tensorflow for GPU\n",
    "import tensorflow as tf\n",
    "print(\"TensorFlow version:\", tf.__version__)\n",
    "print(\"GPUs:\", tf.config.list_physical_devices('GPU'))"
   ]
  },
  {
   "cell_type": "markdown",
   "metadata": {},
   "source": [
    "# 3. Data Loading & Exploration <a class=\"anchor\" id=\"dataloadandexpl\"></a>"
   ]
  },
  {
   "cell_type": "markdown",
   "metadata": {},
   "source": [
    "## 3.1. Data Loading <a class=\"anchor\" id=\"data_loading\"></a>\n",
    "In this section, we'll start by unzipping the dataset and loading the metadata CSV file. This allows us to explore the data and validate the image paths."
   ]
  },
  {
   "cell_type": "code",
   "execution_count": 4,
   "metadata": {},
   "outputs": [],
   "source": [
    "# Defining the paths\n",
    "zip_path = \"rare_species 1.zip\"\n",
    "extract_path = \"rare_species\"\n",
    "csv_path = os.path.join(extract_path, \"metadata.csv\")  \n",
    "\n",
    "# Extract the ZIP file \n",
    "if not os.path.exists(extract_path):\n",
    "    with zipfile.ZipFile(zip_path, 'r') as zip_ref:\n",
    "        zip_ref.extractall(extract_path)"
   ]
  },
  {
   "cell_type": "markdown",
   "metadata": {},
   "source": [
    "Now that we already extract the zip file let's check the metadata as well as checking the path."
   ]
  },
  {
   "cell_type": "code",
   "execution_count": 5,
   "metadata": {},
   "outputs": [
    {
     "name": "stdout",
     "output_type": "stream",
     "text": [
      "Metadata Loaded:\n"
     ]
    },
    {
     "data": {
      "text/html": [
       "<div>\n",
       "<style scoped>\n",
       "    .dataframe tbody tr th:only-of-type {\n",
       "        vertical-align: middle;\n",
       "    }\n",
       "\n",
       "    .dataframe tbody tr th {\n",
       "        vertical-align: top;\n",
       "    }\n",
       "\n",
       "    .dataframe thead th {\n",
       "        text-align: right;\n",
       "    }\n",
       "</style>\n",
       "<table border=\"1\" class=\"dataframe\">\n",
       "  <thead>\n",
       "    <tr style=\"text-align: right;\">\n",
       "      <th></th>\n",
       "      <th>eol_content_id</th>\n",
       "      <th>eol_page_id</th>\n",
       "      <th>kingdom</th>\n",
       "      <th>phylum</th>\n",
       "      <th>family</th>\n",
       "      <th>file_path</th>\n",
       "    </tr>\n",
       "    <tr>\n",
       "      <th>rare_species_id</th>\n",
       "      <th></th>\n",
       "      <th></th>\n",
       "      <th></th>\n",
       "      <th></th>\n",
       "      <th></th>\n",
       "      <th></th>\n",
       "    </tr>\n",
       "  </thead>\n",
       "  <tbody>\n",
       "    <tr>\n",
       "      <th>75fd91cb-2881-41cd-88e6-de451e8b60e2</th>\n",
       "      <td>12853737</td>\n",
       "      <td>449393</td>\n",
       "      <td>animalia</td>\n",
       "      <td>mollusca</td>\n",
       "      <td>unionidae</td>\n",
       "      <td>mollusca_unionidae/12853737_449393_eol-full-si...</td>\n",
       "    </tr>\n",
       "    <tr>\n",
       "      <th>28c508bc-63ff-4e60-9c8f-1934367e1528</th>\n",
       "      <td>20969394</td>\n",
       "      <td>793083</td>\n",
       "      <td>animalia</td>\n",
       "      <td>chordata</td>\n",
       "      <td>geoemydidae</td>\n",
       "      <td>chordata_geoemydidae/20969394_793083_eol-full-...</td>\n",
       "    </tr>\n",
       "    <tr>\n",
       "      <th>00372441-588c-4af8-9665-29bee20822c0</th>\n",
       "      <td>28895411</td>\n",
       "      <td>319982</td>\n",
       "      <td>animalia</td>\n",
       "      <td>chordata</td>\n",
       "      <td>cryptobranchidae</td>\n",
       "      <td>chordata_cryptobranchidae/28895411_319982_eol-...</td>\n",
       "    </tr>\n",
       "    <tr>\n",
       "      <th>29cc6040-6af2-49ee-86ec-ab7d89793828</th>\n",
       "      <td>29658536</td>\n",
       "      <td>45510188</td>\n",
       "      <td>animalia</td>\n",
       "      <td>chordata</td>\n",
       "      <td>turdidae</td>\n",
       "      <td>chordata_turdidae/29658536_45510188_eol-full-s...</td>\n",
       "    </tr>\n",
       "    <tr>\n",
       "      <th>94004bff-3a33-4758-8125-bf72e6e57eab</th>\n",
       "      <td>21252576</td>\n",
       "      <td>7250886</td>\n",
       "      <td>animalia</td>\n",
       "      <td>chordata</td>\n",
       "      <td>indriidae</td>\n",
       "      <td>chordata_indriidae/21252576_7250886_eol-full-s...</td>\n",
       "    </tr>\n",
       "  </tbody>\n",
       "</table>\n",
       "</div>"
      ],
      "text/plain": [
       "                                      eol_content_id  eol_page_id   kingdom  \\\n",
       "rare_species_id                                                               \n",
       "75fd91cb-2881-41cd-88e6-de451e8b60e2        12853737       449393  animalia   \n",
       "28c508bc-63ff-4e60-9c8f-1934367e1528        20969394       793083  animalia   \n",
       "00372441-588c-4af8-9665-29bee20822c0        28895411       319982  animalia   \n",
       "29cc6040-6af2-49ee-86ec-ab7d89793828        29658536     45510188  animalia   \n",
       "94004bff-3a33-4758-8125-bf72e6e57eab        21252576      7250886  animalia   \n",
       "\n",
       "                                        phylum            family  \\\n",
       "rare_species_id                                                    \n",
       "75fd91cb-2881-41cd-88e6-de451e8b60e2  mollusca         unionidae   \n",
       "28c508bc-63ff-4e60-9c8f-1934367e1528  chordata       geoemydidae   \n",
       "00372441-588c-4af8-9665-29bee20822c0  chordata  cryptobranchidae   \n",
       "29cc6040-6af2-49ee-86ec-ab7d89793828  chordata          turdidae   \n",
       "94004bff-3a33-4758-8125-bf72e6e57eab  chordata         indriidae   \n",
       "\n",
       "                                                                              file_path  \n",
       "rare_species_id                                                                          \n",
       "75fd91cb-2881-41cd-88e6-de451e8b60e2  mollusca_unionidae/12853737_449393_eol-full-si...  \n",
       "28c508bc-63ff-4e60-9c8f-1934367e1528  chordata_geoemydidae/20969394_793083_eol-full-...  \n",
       "00372441-588c-4af8-9665-29bee20822c0  chordata_cryptobranchidae/28895411_319982_eol-...  \n",
       "29cc6040-6af2-49ee-86ec-ab7d89793828  chordata_turdidae/29658536_45510188_eol-full-s...  \n",
       "94004bff-3a33-4758-8125-bf72e6e57eab  chordata_indriidae/21252576_7250886_eol-full-s...  "
      ]
     },
     "execution_count": 5,
     "metadata": {},
     "output_type": "execute_result"
    }
   ],
   "source": [
    "# Load metadata CSV\n",
    "df = pd.read_csv(csv_path, index_col=\"rare_species_id\")\n",
    "print(\"Metadata Loaded:\")\n",
    "df.head()"
   ]
  },
  {
   "cell_type": "code",
   "execution_count": 6,
   "metadata": {},
   "outputs": [
    {
     "name": "stdout",
     "output_type": "stream",
     "text": [
      "<class 'pandas.core.frame.DataFrame'>\n",
      "Index: 11983 entries, 75fd91cb-2881-41cd-88e6-de451e8b60e2 to 54894a59-151f-4814-ac32-3a336841e58e\n",
      "Data columns (total 6 columns):\n",
      " #   Column          Non-Null Count  Dtype \n",
      "---  ------          --------------  ----- \n",
      " 0   eol_content_id  11983 non-null  int64 \n",
      " 1   eol_page_id     11983 non-null  int64 \n",
      " 2   kingdom         11983 non-null  object\n",
      " 3   phylum          11983 non-null  object\n",
      " 4   family          11983 non-null  object\n",
      " 5   file_path       11983 non-null  object\n",
      "dtypes: int64(2), object(4)\n",
      "memory usage: 655.3+ KB\n"
     ]
    }
   ],
   "source": [
    "df.info()"
   ]
  },
  {
   "cell_type": "markdown",
   "metadata": {},
   "source": [
    "## 3.2. Validating File Paths <a class=\"anchor\" id=\"val_file_path\"></a>\n",
    "The file paths in the dataset follow a specific structure based on the metadata columns. We will check that the file paths match this expected format:\n",
    "\n",
    "- The folder name in the path should be a combination of the phylum and family.\n",
    "- The filename should consist of the eol_content_id and eol_page_id."
   ]
  },
  {
   "cell_type": "code",
   "execution_count": 7,
   "metadata": {},
   "outputs": [
    {
     "name": "stdout",
     "output_type": "stream",
     "text": [
      "✅ All file paths match the expected format.\n"
     ]
    }
   ],
   "source": [
    "# Function to check if file_path matches expected format\n",
    "def validate_file_paths(df):\n",
    "    mismatches = []\n",
    "    \n",
    "    for idx, row in df.iterrows():\n",
    "        # Extract expected components\n",
    "        expected_folder = f\"{row['phylum']}_{row['family']}\"\n",
    "        expected_filename = f\"{row['eol_content_id']}_{row['eol_page_id']}\"\n",
    "\n",
    "        # Extract actual components from file_path\n",
    "        actual_parts = row[\"file_path\"].split(\"/\")\n",
    "        \n",
    "        if len(actual_parts) != 2:  # Ensure it follows the expected structure\n",
    "            mismatches.append((idx, \"Invalid path structure\"))\n",
    "            continue\n",
    "        \n",
    "        actual_folder, actual_filename = actual_parts\n",
    "        actual_filename = actual_filename.split(\"_eol-\")[0]  # Remove trailing parts\n",
    "\n",
    "        # Check for mismatches\n",
    "        if actual_folder != expected_folder or actual_filename != expected_filename:\n",
    "            mismatches.append((idx, actual_folder, expected_folder, actual_filename, expected_filename))\n",
    "\n",
    "    # Convert results to DataFrame for easy review\n",
    "    if mismatches:\n",
    "        mismatch_df = pd.DataFrame(mismatches, columns=[\"Index\", \"Actual Folder\", \"Expected Folder\", \"Actual Filename\", \"Expected Filename\"])\n",
    "        print(\"⚠️ Mismatches Found:\")\n",
    "        display(mismatch_df)\n",
    "    else:\n",
    "        print(\"✅ All file paths match the expected format.\")\n",
    "\n",
    "# Run validation\n",
    "validate_file_paths(df)\n"
   ]
  },
  {
   "cell_type": "markdown",
   "metadata": {},
   "source": [
    "## 3.3. Checking for Missing or Duplicate Values <a class=\"anchor\" id=\"NaN_and_duplicates\"></a>\n",
    "\n",
    "In this section, we will check for missing values and duplicates in the metadata."
   ]
  },
  {
   "cell_type": "code",
   "execution_count": 8,
   "metadata": {},
   "outputs": [
    {
     "data": {
      "text/html": [
       "<div>\n",
       "<style scoped>\n",
       "    .dataframe tbody tr th:only-of-type {\n",
       "        vertical-align: middle;\n",
       "    }\n",
       "\n",
       "    .dataframe tbody tr th {\n",
       "        vertical-align: top;\n",
       "    }\n",
       "\n",
       "    .dataframe thead th {\n",
       "        text-align: right;\n",
       "    }\n",
       "</style>\n",
       "<table border=\"1\" class=\"dataframe\">\n",
       "  <thead>\n",
       "    <tr style=\"text-align: right;\">\n",
       "      <th></th>\n",
       "      <th>kingdom</th>\n",
       "      <th>phylum</th>\n",
       "      <th>family</th>\n",
       "      <th>file_path</th>\n",
       "    </tr>\n",
       "  </thead>\n",
       "  <tbody>\n",
       "    <tr>\n",
       "      <th>count</th>\n",
       "      <td>11983</td>\n",
       "      <td>11983</td>\n",
       "      <td>11983</td>\n",
       "      <td>11983</td>\n",
       "    </tr>\n",
       "    <tr>\n",
       "      <th>unique</th>\n",
       "      <td>1</td>\n",
       "      <td>5</td>\n",
       "      <td>202</td>\n",
       "      <td>11983</td>\n",
       "    </tr>\n",
       "    <tr>\n",
       "      <th>top</th>\n",
       "      <td>animalia</td>\n",
       "      <td>chordata</td>\n",
       "      <td>dactyloidae</td>\n",
       "      <td>chordata_lemuridae/9465817_326525_eol-full-siz...</td>\n",
       "    </tr>\n",
       "    <tr>\n",
       "      <th>freq</th>\n",
       "      <td>11983</td>\n",
       "      <td>9952</td>\n",
       "      <td>300</td>\n",
       "      <td>1</td>\n",
       "    </tr>\n",
       "  </tbody>\n",
       "</table>\n",
       "</div>"
      ],
      "text/plain": [
       "         kingdom    phylum       family  \\\n",
       "count      11983     11983        11983   \n",
       "unique         1         5          202   \n",
       "top     animalia  chordata  dactyloidae   \n",
       "freq       11983      9952          300   \n",
       "\n",
       "                                                file_path  \n",
       "count                                               11983  \n",
       "unique                                              11983  \n",
       "top     chordata_lemuridae/9465817_326525_eol-full-siz...  \n",
       "freq                                                    1  "
      ]
     },
     "execution_count": 8,
     "metadata": {},
     "output_type": "execute_result"
    }
   ],
   "source": [
    "df.describe(include=\"O\")"
   ]
  },
  {
   "cell_type": "code",
   "execution_count": 9,
   "metadata": {},
   "outputs": [
    {
     "name": "stdout",
     "output_type": "stream",
     "text": [
      "\n",
      "Number of duplicate rows:\n"
     ]
    },
    {
     "data": {
      "text/plain": [
       "np.int64(0)"
      ]
     },
     "execution_count": 9,
     "metadata": {},
     "output_type": "execute_result"
    }
   ],
   "source": [
    "# Check for duplicate values\n",
    "print(\"\\nNumber of duplicate rows:\")\n",
    "df.duplicated().sum()"
   ]
  },
  {
   "cell_type": "markdown",
   "metadata": {},
   "source": [
    "\n",
    "Missing Values: There are no missing values in the dataset.\n",
    "\n",
    "Duplicates: There are no duplicate rows in the metadata. Each row is unique based on the rare_species_id index.\n",
    "\n",
    "Value Distribution: By checking the frequency of the most common values in each column, we can observe how the categories are distributed.\n",
    "\n",
    "Given that the data is clean (no missing values, no duplicates), we can now proceed to explore the distribution of our data visually to better understand the representation of species across different categories such as phylum and family."
   ]
  },
  {
   "cell_type": "markdown",
   "metadata": {},
   "source": [
    "## 3.4. Visualization <a class=\"anchor\" id=\"visualization\"></a>\n",
    "\n",
    "Visualization is crucial in understanding  metadata. <br>"
   ]
  },
  {
   "cell_type": "code",
   "execution_count": 10,
   "metadata": {},
   "outputs": [],
   "source": [
    "def plot_count_with_annotations(data, column, top_n=20, bottom_n=False, figsize=(6, 4)):\n",
    "    '''\n",
    "    Plot the distribution of classes in a specified column of a DataFrame, showing the top or bottom N classes.\n",
    "    \n",
    "    Parameters:\n",
    "    data (DataFrame): The DataFrame containing the data to plot.\n",
    "    column (str): The column in the DataFrame for which the distribution will be plotted.\n",
    "    top_n (int, optional): The number of top classes to display. Default is 20.\n",
    "    bottom_n (bool, optional): Whether to show the bottom N classes instead of top N. Default is False.\n",
    "    figsize (tuple, optional): The size of the figure (width, height). Default is (6, 4).\n",
    "    \n",
    "    Returns:\n",
    "    None (displays the plot)\n",
    "    '''\n",
    "    # Get class counts\n",
    "    class_counts = data[column].value_counts()\n",
    "    \n",
    "    # Get top N or bottom N classes\n",
    "    if bottom_n:\n",
    "        class_counts = class_counts.tail(top_n)  # bottom N\n",
    "    else:\n",
    "        class_counts = class_counts.head(top_n)  # top N\n",
    "    \n",
    "    plt.figure(figsize=figsize)\n",
    "    ax = sns.barplot(x=class_counts.index, y=class_counts.values)\n",
    "    \n",
    "    # Add annotations for each bar\n",
    "    for p in ax.patches:\n",
    "        height = p.get_height()\n",
    "        if height > 0:\n",
    "            ax.annotate(f'{int(height)}',  # Format count without decimals\n",
    "                        (p.get_x() + p.get_width() / 2., height),\n",
    "                        ha='center', va='center', \n",
    "                        xytext=(0, 5), textcoords='offset points')\n",
    "    \n",
    "    plt.title(f'Top {top_n} {column} Classes' if not bottom_n else f'Bottom {top_n} {column} Classes')\n",
    "    plt.xlabel(column)\n",
    "    plt.ylabel('Count')\n",
    "    plt.xticks(rotation=90)\n",
    "    plt.show()"
   ]
  },
  {
   "cell_type": "code",
   "execution_count": 11,
   "metadata": {},
   "outputs": [
    {
     "data": {
      "image/png": "[encoded data removed]",
      "text/plain": [
       "<Figure size 600x400 with 1 Axes>"
      ]
     },
     "metadata": {},
     "output_type": "display_data"
    }
   ],
   "source": [
    "# Visualize the distribution of species across different phyla\n",
    "plot_count_with_annotations(df, 'phylum', figsize=(6, 4))"
   ]
  },
  {
   "cell_type": "code",
   "execution_count": 12,
   "metadata": {},
   "outputs": [
    {
     "data": {
      "image/png": "[encoded data removed]",
      "text/plain": [
       "<Figure size 800x400 with 1 Axes>"
      ]
     },
     "metadata": {},
     "output_type": "display_data"
    }
   ],
   "source": [
    "# Plot the top 20 families\n",
    "plot_count_with_annotations(df, 'family', top_n=20, figsize=(8, 4))"
   ]
  },
  {
   "cell_type": "code",
   "execution_count": null,
   "metadata": {},
   "outputs": [],
   "source": [
    "# Plot the bottom 20 families\n",
    "plot_count_with_annotations(df, 'family', top_n=20, bottom_n=True, figsize=(8, 4))"
   ]
  },
  {
   "cell_type": "markdown",
   "metadata": {},
   "source": [
    "We can also explore the distribution of family inside each phylum. "
   ]
  },
  {
   "cell_type": "code",
   "execution_count": null,
   "metadata": {},
   "outputs": [],
   "source": [
    "def print_unique_families_per_phylum(data, phylum_column='phylum', family_column='family'):\n",
    "    '''\n",
    "    Print the count of unique families per phylum.\n",
    "    \n",
    "    Parameters:\n",
    "    data (DataFrame): The DataFrame containing the data.\n",
    "    phylum_column (str, optional): The column for the phylum. Default is 'phylum'.\n",
    "    family_column (str, optional): The column for the family. Default is 'family'.\n",
    "    \n",
    "    Returns:\n",
    "    None (prints the counts)\n",
    "    '''\n",
    "    unique_families_per_phylum = data.groupby(phylum_column)[family_column].nunique()\n",
    "    print(\"Unique Families per Phylum:\")\n",
    "    print(unique_families_per_phylum)\n",
    "\n",
    "print_unique_families_per_phylum(df)"
   ]
  },
  {
   "cell_type": "code",
   "execution_count": null,
   "metadata": {},
   "outputs": [],
   "source": [
    "def plot_family_distribution_by_phylum(data, phylum_column='phylum', family_column='family', \n",
    "                                       selected_phylum=None, top_n=20, figsize=(6, 4)):\n",
    "    '''\n",
    "    Plot the distribution of families within each phylum. \n",
    "    For a specific phylum (selected_phylum), show top N families, otherwise, show all families.\n",
    "    \n",
    "    Parameters:\n",
    "    data (DataFrame): The DataFrame containing the data to plot.\n",
    "    phylum_column (str, optional): The column for the phylum. Default is 'phylum'.\n",
    "    family_column (str, optional): The column for the family. Default is 'family'.\n",
    "    selected_phylum (str, optional): The phylum for which to display top N families. Default is None (show all).\n",
    "    top_n (int, optional): Number of top families to display for the selected phylum. Default is 20.\n",
    "    figsize (tuple, optional): The size of the figure (width, height). Default is (12, 8).\n",
    "    \n",
    "    Returns:\n",
    "    None (displays the plot)\n",
    "    '''\n",
    "    # Filter data for the selected phylum (if provided)\n",
    "    if selected_phylum:\n",
    "        selected_phylum_data = data[data[phylum_column] == selected_phylum]\n",
    "        family_counts = selected_phylum_data[family_column].value_counts()\n",
    "\n",
    "        # Get top N families for the selected phylum\n",
    "        top_families = family_counts.head(top_n).index\n",
    "        \n",
    "        # Filter data for top N families of selected phylum\n",
    "        filtered_data = selected_phylum_data[selected_phylum_data[family_column].isin(top_families)]\n",
    "        \n",
    "        # Plot top N families for selected phylum\n",
    "        plt.figure(figsize=figsize)\n",
    "        sns.countplot(data=filtered_data, x=family_column, order=top_families, color='skyblue')\n",
    "        \n",
    "        # Add count labels above each bar\n",
    "        for p in plt.gca().patches:\n",
    "            height = p.get_height()\n",
    "            if height > 0:\n",
    "                plt.gca().annotate(f'{int(height)}', (p.get_x() + p.get_width() / 2., height),\n",
    "                                   ha='center', va='center', xytext=(0, 5), textcoords='offset points')\n",
    "\n",
    "        plt.title(f'Families in Phylum {selected_phylum}')\n",
    "        plt.xlabel(family_column)\n",
    "        plt.ylabel('Count')\n",
    "        plt.xticks(rotation=90)\n",
    "        plt.tight_layout()\n",
    "        plt.show()\n",
    "    \n",
    "    else:\n",
    "        # For all phyla, plot distribution without filtering top N\n",
    "        plt.figure(figsize=figsize)\n",
    "        sns.countplot(data=data, x=family_column, hue=phylum_column, color='skyblue')\n",
    "\n",
    "        # Add count labels above each bar\n",
    "        for p in plt.gca().patches:\n",
    "            height = p.get_height()\n",
    "            if height > 0:\n",
    "                plt.gca().annotate(f'{int(height)}', (p.get_x() + p.get_width() / 2., height),\n",
    "                                   ha='center', va='center', xytext=(0, 5), textcoords='offset points')\n",
    "\n",
    "        plt.title('Family Distribution Across All Phyla')\n",
    "        plt.xlabel(family_column)\n",
    "        plt.ylabel('Count')\n",
    "        plt.xticks(rotation=90)\n",
    "        plt.tight_layout()\n",
    "        plt.show()"
   ]
  },
  {
   "cell_type": "code",
   "execution_count": null,
   "metadata": {},
   "outputs": [],
   "source": [
    "plot_family_distribution_by_phylum(df, selected_phylum=\"arthropoda\")"
   ]
  },
  {
   "cell_type": "code",
   "execution_count": null,
   "metadata": {},
   "outputs": [],
   "source": [
    "plot_family_distribution_by_phylum(df, selected_phylum=\"chordata\", top_n=10)"
   ]
  },
  {
   "cell_type": "code",
   "execution_count": null,
   "metadata": {},
   "outputs": [],
   "source": [
    "plot_family_distribution_by_phylum(df, selected_phylum=\"cnidaria\")"
   ]
  },
  {
   "cell_type": "code",
   "execution_count": null,
   "metadata": {},
   "outputs": [],
   "source": [
    "plot_family_distribution_by_phylum(df, selected_phylum=\"echinodermata\")"
   ]
  },
  {
   "cell_type": "code",
   "execution_count": null,
   "metadata": {},
   "outputs": [],
   "source": [
    "plot_family_distribution_by_phylum(df, selected_phylum=\"mollusca\")"
   ]
  },
  {
   "cell_type": "markdown",
   "metadata": {},
   "source": [
    "# 4. General Image Preprocessing <a class=\"anchor\" id=\"image_preproc\"></a>\n",
    "Before splitting the images by phylum, we will randomly check some samples and perform general preprocessing.\n",
    "## 4.1. Visualization <a class=\"anchor\" id=\"image_visualization\"></a>\n"
   ]
  },
  {
   "cell_type": "markdown",
   "metadata": {},
   "source": [
    "To start lets run a code that will random display 5 mages for each phylum."
   ]
  },
  {
   "cell_type": "code",
   "execution_count": null,
   "metadata": {},
   "outputs": [],
   "source": [
    "def show_sample_images_by_phylum(df, image_folder, num_samples=5, figsize=(15, 15)):\n",
    "    '''\n",
    "    Display sample images for each phylum in a grid. 5 random samples for each phylum.\n",
    "    \n",
    "    Parameters:\n",
    "    df (DataFrame): The DataFrame containing the metadata and image paths.\n",
    "    image_folder (str): The folder containing the image files.\n",
    "    num_samples (int, optional): Number of images to display for each phylum. Default is 5.\n",
    "    figsize (tuple, optional): The size of the figure. Default is (15, 15).\n",
    "    \n",
    "    Returns:\n",
    "    None (displays the plot)\n",
    "    '''\n",
    "    # Group by phylum and sample `num_samples` images from each phylum\n",
    "    phylum_groups = df.groupby('phylum')\n",
    "    \n",
    "    # Determine the number of rows and columns for the grid\n",
    "    num_phyla = len(phylum_groups)\n",
    "    rows = num_phyla\n",
    "    cols = num_samples\n",
    "    \n",
    "    # Create a figure with a grid layout\n",
    "    fig, axes = plt.subplots(rows, cols, figsize=figsize)\n",
    "    \n",
    "    # Iterate through each phylum and display images\n",
    "    for i, (phylum, group) in enumerate(phylum_groups):\n",
    "        # Sample images for the current phylum\n",
    "        sample_df = group.sample(min(num_samples, len(group)))\n",
    "        \n",
    "        for j, (_, row) in enumerate(sample_df.iterrows()):\n",
    "            img_path = os.path.join(image_folder, row['file_path'])\n",
    "            ax = axes[i, j] if num_phyla > 1 else axes[j]\n",
    "            \n",
    "            if os.path.exists(img_path):\n",
    "                image = Image.open(img_path)\n",
    "                ax.imshow(image)\n",
    "                ax.set_title(f'{row[\"phylum\"]}')\n",
    "            else:\n",
    "                ax.set_title(\"Missing Image\")\n",
    "            ax.axis(\"off\")\n",
    "        \n",
    "        # Set title for each phylum row\n",
    "        axes[i, 0].set_ylabel(phylum, fontsize=12, rotation=0, labelpad=30)\n",
    "\n",
    "    # Adjust layout for better visualization\n",
    "    plt.tight_layout()\n",
    "    plt.show()\n",
    "\n",
    "show_sample_images_by_phylum(df, extract_path, num_samples=5)"
   ]
  },
  {
   "cell_type": "markdown",
   "metadata": {},
   "source": [
    "We have images of varying sizes across different phyla and even within each phylum. Since we've decided to split the dataset by phylum, we will handle the rescaling accordingly for each phylum.\n",
    "\n",
    "Additionally, there are some general preprocessing steps we can apply:\n",
    "\n",
    "- Detect duplicate images: identify and remove any duplicate images from the dataset to ensure we don't have redundant data.\n",
    "\n",
    "- Check RGB channels: verify the number of channels in each image, as some images may have only two channels instead of the standard three (RGB).\n",
    "\n",
    "- Identify letters in images: implement code to detect any text (letters) present within the images.\n",
    "\n",
    "- Identify human beings"
   ]
  },
  {
   "cell_type": "markdown",
   "metadata": {},
   "source": [
    "## 4.2. Image Duplicates <a class=\"anchor\" id=\"image_ duplicates\"></a>\n",
    "\n",
    "Image hashing is a technique that converts an image into a unique or near-unique value (hash) based on its visual content. This allows for quick comparison between images, even if they are slightly altered (e.g., resized or rotated). By using image hashing, we can efficiently identify duplicate or near-duplicate images in a dataset without comparing every pixel, making it a useful tool for cleaning up large image datasets and avoiding redundancy.\n"
   ]
  },
  {
   "cell_type": "code",
   "execution_count": null,
   "metadata": {},
   "outputs": [],
   "source": [
    "# def find_duplicate_images(df, image_folder):\n",
    "#     \"\"\"\n",
    "#     Identify duplicate images in the dataframe based on their hash values.\n",
    "    \n",
    "#     Parameters:\n",
    "#     df (DataFrame): The DataFrame containing the metadata and image paths.\n",
    "#     image_folder (str): The folder containing the image files.\n",
    "    \n",
    "#     Returns:\n",
    "#     duplicates (DataFrame): DataFrame containing the duplicates.\n",
    "#     \"\"\"\n",
    "#     # Dictionary to store image hashes\n",
    "#     image_hashes = {}\n",
    "#     duplicates = []\n",
    "\n",
    "#     # Iterate through the dataframe and calculate hashes for each image\n",
    "#     for _, row in df.iterrows():\n",
    "#         img_path = os.path.join(image_folder, row['file_path'])\n",
    "        \n",
    "#         if os.path.exists(img_path):\n",
    "#             # Open the image\n",
    "#             img = Image.open(img_path)\n",
    "            \n",
    "#             # Calculate the hash of the image (you can use different algorithms)\n",
    "#             img_hash = imagehash.phash(img)\n",
    "            \n",
    "#             # Check if the hash already exists\n",
    "#             if img_hash in image_hashes:\n",
    "#                 # If duplicate found, add to the duplicates list\n",
    "#                 duplicates.append({\n",
    "#                     'original_image': image_hashes[img_hash],\n",
    "#                     'duplicate_image': img_path,\n",
    "#                     'hash': img_hash\n",
    "#                 })\n",
    "#             else:\n",
    "#                 # Store the hash with the image path\n",
    "#                 image_hashes[img_hash] = img_path\n",
    "    \n",
    "#     # Convert duplicates list to DataFrame for better visualization\n",
    "#     duplicates_df = pd.DataFrame(duplicates)\n",
    "    \n",
    "#     return duplicates_df\n",
    "\n",
    "# duplicates_df = find_duplicate_images(df, extract_path)\n",
    "# if not duplicates_df.empty:\n",
    "#     print(\"Found duplicates:\")\n",
    "#     print(duplicates_df)\n",
    "# else:\n",
    "#     print(\"No duplicates found.\")"
   ]
  },
  {
   "cell_type": "code",
   "execution_count": null,
   "metadata": {},
   "outputs": [],
   "source": [
    "df"
   ]
  },
  {
   "cell_type": "code",
   "execution_count": null,
   "metadata": {},
   "outputs": [],
   "source": [
    "# def find_duplicate_images(df, image_folder):\n",
    "#     \"\"\"\n",
    "#     Find image duplicates in a dataset using perceptual hash (pHash).\n",
    "#     Also includes the ID of the original image.\n",
    "\n",
    "#     Parameters:\n",
    "#     - df: DataFrame with at least 'file_path' and 'rare_species_id' as the index.\n",
    "#     - image_folder: base folder where all images are stored.\n",
    "\n",
    "#     Returns:\n",
    "#     - duplicates_df: DataFrame with original, duplicate, hash, and original image ID.\n",
    "#     \"\"\"\n",
    "\n",
    "#     # Temporarily reset the index so we can use 'rare_species_id' as a column\n",
    "#     df_reset = df.reset_index()\n",
    "\n",
    "#     image_hashes = {}  # hash -> original image path\n",
    "#     id_lookup = dict(zip(df_reset['file_path'], df_reset['rare_species_id']))  # file_path -> ID\n",
    "#     duplicates = []\n",
    "\n",
    "#     for _, row in df_reset.iterrows():\n",
    "#         file_path = row['file_path']\n",
    "#         full_path = os.path.join(image_folder, file_path)\n",
    "\n",
    "#         if os.path.exists(full_path):\n",
    "#             try:\n",
    "#                 img = Image.open(full_path)\n",
    "#                 img_hash = imagehash.phash(img)\n",
    "\n",
    "#                 if img_hash in image_hashes:\n",
    "#                     original_path = image_hashes[img_hash]\n",
    "#                     original_id = id_lookup.get(original_path)\n",
    "\n",
    "#                     duplicates.append({\n",
    "#                         \"original_image\": original_path,\n",
    "#                         \"original_image_id\": original_id,\n",
    "#                         \"duplicate_image\": file_path,\n",
    "#                         \"hash\": str(img_hash)\n",
    "#                     })\n",
    "#                 else:\n",
    "#                     image_hashes[img_hash] = file_path\n",
    "\n",
    "#             except Exception as e:\n",
    "#                 print(f\"Couldn't process image {full_path}: {e}\")\n",
    "\n",
    "#     # Return to the original index structure after processing\n",
    "#     return pd.DataFrame(duplicates)\n",
    "\n",
    "# # Example usage:\n",
    "# duplicates_df = find_duplicate_images(df, extract_path)\n",
    "\n",
    "# if not duplicates_df.empty:\n",
    "#     print(\"Found duplicates:\")\n",
    "#     display(duplicates_df)\n",
    "# else:\n",
    "#     print(\"No duplicates found!\")"
   ]
  },
  {
   "cell_type": "markdown",
   "metadata": {},
   "source": [
    "Let's store the DataFrame in our repository to avoid re-running the code every time, as it takes around 10 minutes to execute. This will make our workflow more efficient."
   ]
  },
  {
   "cell_type": "code",
   "execution_count": null,
   "metadata": {},
   "outputs": [],
   "source": [
    "# # Save the DataFrame to a CSV file in the repository\n",
    "# duplicates_df.to_csv(\"duplicates.csv\", index=False)"
   ]
  },
  {
   "cell_type": "code",
   "execution_count": null,
   "metadata": {},
   "outputs": [],
   "source": [
    "# Load the DataFrame from the CSV file\n",
    "duplicates_df = pd.read_csv(\"duplicates.csv\")\n",
    "duplicates_df.head(3)"
   ]
  },
  {
   "cell_type": "markdown",
   "metadata": {},
   "source": [
    "We looked into the list of possible duplicate images that were flagged using perceptual hashing. To double-check, we opened them side by side and reviewed them manually."
   ]
  },
  {
   "cell_type": "code",
   "execution_count": null,
   "metadata": {},
   "outputs": [],
   "source": [
    "# for index, row in duplicates_df.iterrows():\n",
    "#     original_image_path = os.path.join(extract_path, row['original_image'])\n",
    "#     duplicate_image_path = os.path.join(extract_path, row['duplicate_image'])\n",
    "\n",
    "#     # Extract phylum and family from the file path\n",
    "#     phylum_family = os.path.dirname(row['original_image']).split(os.sep)[-1]\n",
    "\n",
    "#     try:\n",
    "#         # Open images\n",
    "#         original_image = Image.open(original_image_path)\n",
    "#         duplicate_image = Image.open(duplicate_image_path)\n",
    "        \n",
    "#         # Create side-by-side plot\n",
    "#         fig, axes = plt.subplots(1, 2, figsize=(6, 3))\n",
    "#         fig.suptitle(f\"Phylum_Family: {phylum_family}\", fontsize=8, fontweight=\"bold\")\n",
    "\n",
    "#         axes[0].imshow(original_image)\n",
    "#         axes[0].axis(\"off\")\n",
    "#         axes[0].set_title(\"Original\")\n",
    "\n",
    "#         axes[1].imshow(duplicate_image)\n",
    "#         axes[1].axis(\"off\")\n",
    "#         axes[1].set_title(\"Duplicate\")\n",
    "\n",
    "#         plt.show()\n",
    "    \n",
    "#     except Exception as e:\n",
    "#         print(f\"Error opening images: {e}\")\n"
   ]
  },
  {
   "cell_type": "markdown",
   "metadata": {},
   "source": [
    "Most were clearly duplicates and safe to remove — except for a few in the `arthropoda_apidae` group. These turned out to show different individuals or slightly different scenes, so we decided to keep them.\n",
    "\n",
    "We're now removing all the real duplicates, but keeping the ones from `arthropoda_apidae` since they're not actually identical. This will help clean up the dataset without losing meaningful data."
   ]
  },
  {
   "cell_type": "code",
   "execution_count": null,
   "metadata": {},
   "outputs": [],
   "source": [
    "df.head(3)"
   ]
  },
  {
   "cell_type": "code",
   "execution_count": null,
   "metadata": {},
   "outputs": [],
   "source": [
    "duplicates_df"
   ]
  },
  {
   "cell_type": "code",
   "execution_count": null,
   "metadata": {},
   "outputs": [],
   "source": [
    "# Creating a copy of the original DataFrame to remove duplicates\n",
    "df_no_duplicates = df.copy()\n",
    "\n",
    "# Loop through the detected duplicates\n",
    "for index, row in duplicates_df.iterrows():\n",
    "    duplicate_path = row['duplicate_image']\n",
    "    phylum_family = os.path.dirname(duplicate_path).split(os.sep)[-1]\n",
    "\n",
    "    # Only drop the row if the duplicate is not from arthropoda_apidae\n",
    "    if phylum_family != \"arthropoda_apidae\":\n",
    "        df_no_duplicates = df_no_duplicates[df_no_duplicates['file_path'] != duplicate_path]\n",
    "        print(f\"Dropped row for: {duplicate_path}\")\n",
    "    else:\n",
    "        print(f\"Kept (not a real duplicate): {duplicate_path}\")"
   ]
  },
  {
   "cell_type": "code",
   "execution_count": null,
   "metadata": {},
   "outputs": [],
   "source": [
    "#Lets check that were deleted 161-2 images\n",
    "#Print the shape of the DataFrame before and after removing duplicates\n",
    "print(\"Original DataFrame shape:\", df.shape)\n",
    "print(\"DataFrame shape after removing duplicates:\", df_no_duplicates.shape)"
   ]
  },
  {
   "cell_type": "code",
   "execution_count": null,
   "metadata": {},
   "outputs": [],
   "source": [
    "df.shape[0]-df_no_duplicates.shape[0]"
   ]
  },
  {
   "cell_type": "code",
   "execution_count": null,
   "metadata": {},
   "outputs": [],
   "source": [
    "df_no_duplicates.info()"
   ]
  },
  {
   "cell_type": "markdown",
   "metadata": {},
   "source": [
    "## 4.3. Channels <a class=\"anchor\" id=\"image_ channels\"></a>\n",
    "Let's first check that they are all in the same "
   ]
  },
  {
   "cell_type": "code",
   "execution_count": null,
   "metadata": {},
   "outputs": [],
   "source": [
    "def check_image_channels(df, image_folder):\n",
    "    \"\"\"\n",
    "    Check the number of channels for each image in the dataset.\n",
    "    \n",
    "    Parameters:\n",
    "    df (DataFrame): The DataFrame containing image metadata.\n",
    "    image_folder (str): The folder where the images are stored.\n",
    "    \n",
    "    Returns:\n",
    "    None (prints out images with a different number of channels)\n",
    "    \"\"\"\n",
    "    for _, row in df.iterrows():\n",
    "        img_path = os.path.join(image_folder, row['file_path'])\n",
    "        if os.path.exists(img_path):\n",
    "            try:\n",
    "                image = Image.open(img_path)\n",
    "                mode = image.mode\n",
    "                channels = len(mode)  # For 'RGB' it will return 3, for 'L' it will return 1 (grayscale)\n",
    "                \n",
    "                if channels != 3:  # If the number of channels is not 3 (RGB)\n",
    "                    print(f\"Image {img_path} has {channels} channels (mode: {mode})\")\n",
    "            except Exception as e:\n",
    "                print(f\"Error with image {img_path}: {e}\")\n",
    "\n",
    "check_image_channels(df_no_duplicates, \"path_to_your_image_folder\")"
   ]
  },
  {
   "cell_type": "markdown",
   "metadata": {},
   "source": [
    "# 5. Train Val Test Split  <a class=\"anchor\" id=\"train_test_split\"></a>"
   ]
  },
  {
   "cell_type": "code",
   "execution_count": null,
   "metadata": {},
   "outputs": [],
   "source": [
    "from sklearn.model_selection import train_test_split\n",
    "from sklearn.metrics import f1_score\n",
    "\n",
    "\n",
    "import torch\n",
    "from torch import nn\n",
    "from torch.utils.data import Dataset, DataLoader\n",
    "from torchvision import transforms\n",
    "from PIL import Image\n",
    "\n",
    "# Transformers for CLIP model and tokenizer\n",
    "from transformers import CLIPProcessor, CLIPModel\n",
    "\n",
    "\n",
    "\n",
    "from tqdm import tqdm  # progress bar\n"
   ]
  },
  {
   "cell_type": "code",
   "execution_count": null,
   "metadata": {},
   "outputs": [],
   "source": [
    "train_df, temp_df = train_test_split(df_no_duplicates, test_size=0.3, random_state=42, stratify=df_no_duplicates['family'])\n",
    "val_df, test_df = train_test_split(temp_df, test_size=0.5, random_state=42, stratify=temp_df['family'])\n",
    "\n",
    "print(f\"Train samples: {len(train_df)}, Val samples: {len(val_df)}, Test samples: {len(test_df)}\")"
   ]
  },
  {
   "cell_type": "markdown",
   "metadata": {},
   "source": [
    "# 6. BioClip Pre-Processing"
   ]
  },
  {
   "cell_type": "markdown",
   "metadata": {},
   "source": [
    "## Transformers"
   ]
  },
  {
   "cell_type": "code",
   "execution_count": null,
   "metadata": {},
   "outputs": [],
   "source": [
    "train_transforms = transforms.Compose([\n",
    "    transforms.Resize((256, 256)),\n",
    "    transforms.RandomCrop(224),\n",
    "    transforms.RandomHorizontalFlip(),\n",
    "])\n",
    "\n",
    "val_test_transforms = transforms.Compose([\n",
    "    transforms.Resize((224, 224))\n",
    "])\n"
   ]
  },
  {
   "cell_type": "markdown",
   "metadata": {},
   "source": [
    "## PyTorch Dataset"
   ]
  },
  {
   "cell_type": "code",
   "execution_count": null,
   "metadata": {},
   "outputs": [],
   "source": [
    "import os\n",
    "from PIL import Image\n",
    "from torch.utils.data import Dataset\n",
    "\n",
    "class RareSpeciesDataset(Dataset):\n",
    "    def __init__(self, dataframe, transform, processor, root_dir, max_pixels=89478485):\n",
    "        self.df = dataframe.reset_index(drop=True)\n",
    "        self.transform = transform\n",
    "        self.processor = processor  \n",
    "        self.root_dir = root_dir\n",
    "        self.max_pixels = max_pixels  # Example threshold; adjust as needed\n",
    "\n",
    "    def __len__(self):\n",
    "        return len(self.df)\n",
    "    \n",
    "    def __getitem__(self, idx):\n",
    "        row = self.df.iloc[idx]\n",
    "        full_image_path = os.path.join(self.root_dir, row['file_path'])\n",
    "        \n",
    "        try:\n",
    "            image = Image.open(full_image_path).convert('RGB')\n",
    "        except Exception as e:\n",
    "            print(f\"Error loading image {full_image_path}: {e}\")\n",
    "            # Optionally return a dummy image\n",
    "            image = Image.new('RGB', (256, 256), (0, 0, 0))\n",
    "        \n",
    "        # Check if the image is very large, and if so, reduce resolution\n",
    "        if image.size[0] * image.size[1] > self.max_pixels:\n",
    "            # Halve both the width and the height\n",
    "            new_size = (image.size[0] // 2, image.size[1] // 2)\n",
    "            image = image.resize(new_size)\n",
    "            print(f\"Resized image {full_image_path} from {image.size} to {new_size}\")\n",
    "        \n",
    "        # Now apply your transforms (which likely includes another resize step)\n",
    "        image = self.transform(image)\n",
    "        caption = f\"a photo of {row['family']}\"\n",
    "        return image, caption\n"
   ]
  },
  {
   "cell_type": "code",
   "execution_count": null,
   "metadata": {},
   "outputs": [],
   "source": [
    "def custom_collate_fn(batch):\n",
    "    # batch is a list of tuples, where each tuple is (image, caption)\n",
    "    images, captions = zip(*batch)\n",
    "    # Return images and captions as lists (they remain as PIL images)\n",
    "    return list(images), list(captions)"
   ]
  },
  {
   "cell_type": "code",
   "execution_count": null,
   "metadata": {},
   "outputs": [],
   "source": [
    "# Initialize the CLIP processor from transformers\n",
    "processor = CLIPProcessor.from_pretrained(\"openai/clip-vit-base-patch16\")\n",
    "\n",
    "# Assume that all your images are stored under the folder named \"rare_species\"\n",
    "root_directory = \"rare_species\"\n",
    "\n",
    "# Create dataset objects with the root_directory argument:\n",
    "train_dataset = RareSpeciesDataset(train_df, train_transforms, processor, root_directory)\n",
    "val_dataset   = RareSpeciesDataset(val_df, val_test_transforms, processor, root_directory)\n",
    "test_dataset  = RareSpeciesDataset(test_df, val_test_transforms, processor, root_directory)\n",
    "\n",
    "# Create the DataLoaders as before:\n",
    "train_loader = DataLoader(train_dataset, batch_size=16, shuffle=True, num_workers=0, collate_fn=custom_collate_fn)\n",
    "val_loader = DataLoader(val_dataset, batch_size=16, shuffle=False, num_workers=0, collate_fn=custom_collate_fn)\n",
    "test_loader = DataLoader(test_dataset, batch_size=16, shuffle=False, num_workers=0, collate_fn=custom_collate_fn)"
   ]
  },
  {
   "cell_type": "markdown",
   "metadata": {},
   "source": [
    "# 7. Model"
   ]
  },
  {
   "cell_type": "markdown",
   "metadata": {},
   "source": [
    "## Architecture"
   ]
  },
  {
   "cell_type": "code",
   "execution_count": null,
   "metadata": {},
   "outputs": [],
   "source": [
    "device = torch.device(\"cuda\" if torch.cuda.is_available() else \"cpu\")\n",
    "model = CLIPModel.from_pretrained(\"openai/clip-vit-base-patch16\").to(device)"
   ]
  },
  {
   "cell_type": "code",
   "execution_count": null,
   "metadata": {},
   "outputs": [],
   "source": [
    "# # save the model\n",
    "# model.save_pretrained(\"rare_species_clip_model\")\n",
    "# processor.save_pretrained(\"rare_species_clip_processor\")"
   ]
  },
  {
   "cell_type": "code",
   "execution_count": null,
   "metadata": {},
   "outputs": [],
   "source": [
    "# device = torch.device(\"cuda\" if torch.cuda.is_available() else \"cpu\")\n",
    "\n",
    "# # Load the model and processor\n",
    "# model = CLIPModel.from_pretrained(\"rare_species_clip_model\").to(device)\n",
    "# processor = CLIPProcessor.from_pretrained(\"rare_species_clip_processor\")"
   ]
  },
  {
   "cell_type": "code",
   "execution_count": null,
   "metadata": {},
   "outputs": [],
   "source": [
    "# optimizer = torch.optim.Adam(model.parameters(), lr=1e-4)\n",
    "# num_epochs = 40  # Adjust the number of epochs as needed\n",
    "\n",
    "# for epoch in range(num_epochs):\n",
    "#     model.train()\n",
    "#     total_loss = 0.0\n",
    "#     for images, captions in train_loader:\n",
    "#         # Process the list of PIL images and corresponding captions.\n",
    "#         inputs = processor(text=captions, images=images, return_tensors=\"pt\", padding=True)\n",
    "#         # Move all inputs to the proper device\n",
    "#         inputs = {k: v.to(device) for k, v in inputs.items()}\n",
    "        \n",
    "#         # Forward pass: get image and text embeddings from the model\n",
    "#         outputs = model(**inputs)\n",
    "#         image_embeds = outputs.image_embeds  # shape: [batch_size, embedding_dim]\n",
    "#         text_embeds = outputs.text_embeds    # shape: [batch_size, embedding_dim]\n",
    "        \n",
    "#         # Normalize embeddings to unit norm\n",
    "#         image_embeds = image_embeds / image_embeds.norm(dim=-1, keepdim=True)\n",
    "#         text_embeds = text_embeds / text_embeds.norm(dim=-1, keepdim=True)\n",
    "        \n",
    "#         # Compute cosine similarity\n",
    "#         logits_per_image = image_embeds @ text_embeds.t()\n",
    "#         logits_per_text = text_embeds @ image_embeds.t()\n",
    "        \n",
    "#         # Ground truth: the i-th image should match the i-th text.\n",
    "#         target = torch.arange(image_embeds.shape[0]).to(device)\n",
    "        \n",
    "#         loss_image = nn.CrossEntropyLoss()(logits_per_image, target)\n",
    "#         loss_text  = nn.CrossEntropyLoss()(logits_per_text, target)\n",
    "#         loss = (loss_image + loss_text) / 2\n",
    "        \n",
    "#         optimizer.zero_grad()\n",
    "#         loss.backward()\n",
    "#         optimizer.step()\n",
    "        \n",
    "#         total_loss += loss.item()\n",
    "        \n",
    "#     avg_loss = total_loss / len(train_loader)\n",
    "#     print(f\"Epoch {epoch+1}/{num_epochs}, Loss: {avg_loss:.4f}\")\n"
   ]
  },
  {
   "cell_type": "markdown",
   "metadata": {},
   "source": [
    "## Train and Evaluation"
   ]
  },
  {
   "cell_type": "code",
   "execution_count": null,
   "metadata": {},
   "outputs": [],
   "source": [
    "import os\n",
    "os.environ[\"TOKENIZERS_PARALLELISM\"] = \"false\""
   ]
  },
  {
   "cell_type": "code",
   "execution_count": null,
   "metadata": {},
   "outputs": [],
   "source": [
    "torch.backends.cudnn.benchmark = True"
   ]
  },
  {
   "cell_type": "code",
   "execution_count": null,
   "metadata": {},
   "outputs": [],
   "source": [
    "import numpy as np\n",
    "from sklearn.metrics import f1_score\n",
    "import torch\n",
    "from torch import nn\n",
    "from tqdm import tqdm  # progress bar\n",
    "from torch.amp import autocast, GradScaler  # new API usage\n",
    "\n",
    "# Modified evaluation function remains unchanged\n",
    "def evaluate_model(loader, model, processor, device):\n",
    "    model.eval()\n",
    "    all_preds = []\n",
    "    all_targets = []\n",
    "    with torch.no_grad():\n",
    "        for images, captions in tqdm(loader, desc=\"Evaluating\", leave=False):\n",
    "            inputs = processor(text=captions, images=images, return_tensors=\"pt\", padding=True)\n",
    "            inputs = {k: v.to(device) for k, v in inputs.items()}\n",
    "            \n",
    "            outputs = model(**inputs)\n",
    "            image_embeds = outputs.image_embeds\n",
    "            text_embeds  = outputs.text_embeds\n",
    "            \n",
    "            image_embeds = image_embeds / image_embeds.norm(dim=-1, keepdim=True)\n",
    "            text_embeds  = text_embeds / text_embeds.norm(dim=-1, keepdim=True)\n",
    "            \n",
    "            sims = image_embeds @ text_embeds.t()\n",
    "            \n",
    "            preds = sims.argmax(dim=1).cpu().numpy()\n",
    "            targets = np.arange(sims.shape[0])\n",
    "            \n",
    "            all_preds.extend(preds)\n",
    "            all_targets.extend(targets)\n",
    "            \n",
    "    all_preds = np.array(all_preds)\n",
    "    all_targets = np.array(all_targets)\n",
    "    accuracy = np.mean(all_preds == all_targets)\n",
    "    f1 = f1_score(all_targets, all_preds, average='macro')\n",
    "    return accuracy, f1\n",
    "\n",
    "# History lists for tracking metrics over epochs\n",
    "num_epochs = 40\n",
    "optimizer = torch.optim.Adam(model.parameters(), lr=1e-4)\n",
    "scaler = GradScaler(device='cuda')  # Initialize the scaler with device_type\n",
    "\n",
    "train_loss_history = [] \n",
    "train_acc_history, train_f1_history = [], []\n",
    "val_acc_history, val_f1_history = [], []\n",
    "\n",
    "for epoch in range(num_epochs):\n",
    "    model.train()\n",
    "    running_loss = 0.0\n",
    "    \n",
    "    train_bar = tqdm(train_loader, desc=f\"Epoch {epoch+1}/{num_epochs}\", leave=False)\n",
    "    for images, captions in train_bar:\n",
    "        optimizer.zero_grad()\n",
    "        inputs = processor(text=captions, images=images, return_tensors=\"pt\", padding=True)\n",
    "        inputs = {k: v.to(device) for k, v in inputs.items()}\n",
    "        \n",
    "        with autocast(device_type='cuda'):\n",
    "            outputs = model(**inputs)\n",
    "            image_embeds = outputs.image_embeds\n",
    "            text_embeds  = outputs.text_embeds\n",
    "            \n",
    "            image_embeds = image_embeds / image_embeds.norm(dim=-1, keepdim=True)\n",
    "            text_embeds  = text_embeds  / text_embeds.norm(dim=-1, keepdim=True)\n",
    "            \n",
    "            logits_per_image = image_embeds @ text_embeds.t()\n",
    "            logits_per_text  = text_embeds @ image_embeds.t()\n",
    "            \n",
    "            target = torch.arange(image_embeds.shape[0]).to(device)\n",
    "            \n",
    "            loss_img = nn.CrossEntropyLoss()(logits_per_image, target)\n",
    "            loss_txt = nn.CrossEntropyLoss()(logits_per_text, target)\n",
    "            loss = (loss_img + loss_txt) / 2\n",
    "        \n",
    "        scaler.scale(loss).backward()\n",
    "        scaler.step(optimizer)\n",
    "        scaler.update()\n",
    "        \n",
    "        running_loss += loss.item()\n",
    "        train_bar.set_postfix(loss=loss.item())\n",
    "    \n",
    "    avg_loss = running_loss / len(train_loader)\n",
    "    train_loss_history.append(avg_loss)\n",
    "    \n",
    "    train_accuracy, train_f1 = evaluate_model(train_loader, model, processor, device)\n",
    "    val_accuracy, val_f1 = evaluate_model(val_loader, model, processor, device)\n",
    "    \n",
    "    train_acc_history.append(train_accuracy)\n",
    "    train_f1_history.append(train_f1)\n",
    "    val_acc_history.append(val_accuracy)\n",
    "    val_f1_history.append(val_f1)\n",
    "    \n",
    "    print(f\"Epoch {epoch+1}/{num_epochs} - Loss: {avg_loss:.4f}\")\n",
    "    print(f\"    Training   - Accuracy: {train_accuracy:.4f}, F1 Score: {train_f1:.4f}\")\n",
    "    print(f\"    Validation - Accuracy: {val_accuracy:.4f}, F1 Score: {val_f1:.4f}\")\n",
    "\n",
    "# Save the model and processor\n",
    "model.save_pretrained(\"rare_species_clip_model\")\n",
    "processor.save_pretrained(\"rare_species_clip_processor\")\n",
    "\n",
    "# Save the training history\n",
    "import pandas as pd\n",
    "history_df = pd.DataFrame({\n",
    "    \"train_loss\": train_loss_history,\n",
    "    \"train_accuracy\": train_acc_history,\n",
    "    \"train_f1\": train_f1_history,\n",
    "    \"val_accuracy\": val_acc_history,\n",
    "    \"val_f1\": val_f1_history\n",
    "})\n",
    "history_df.to_csv(\"training_history.csv\", index=False)"
   ]
  }
 ],
 "metadata": {
  "kernelspec": {
   "display_name": "tf-gpu",
   "language": "python",
   "name": "python3"
  },
  "language_info": {
   "codemirror_mode": {
    "name": "ipython",
    "version": 3
   },
   "file_extension": ".py",
   "mimetype": "text/x-python",
   "name": "python",
   "nbconvert_exporter": "python",
   "pygments_lexer": "ipython3",
   "version": "3.12.3"
  }
 },
 "nbformat": 4,
 "nbformat_minor": 2
}
