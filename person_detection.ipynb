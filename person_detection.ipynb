{
 "cells": [
  {
   "cell_type": "markdown",
   "metadata": {},
   "source": [
    "# This is working for binary detection of anything - hands, face, body, etc.\n",
    "We will need to discuss if this is really what we want and how we want to handle people/faces, etc."
   ]
  },
  {
   "cell_type": "code",
   "execution_count": null,
   "metadata": {},
   "outputs": [],
   "source": [
    "# Load model directly\n",
    "from transformers import AutoImageProcessor, AutoModelForObjectDetection\n",
    "\n",
    "processor = AutoImageProcessor.from_pretrained(\"UnicornTowa/detr-finetuned-person-detecting-v3\")\n",
    "model = AutoModelForObjectDetection.from_pretrained(\"UnicornTowa/detr-finetuned-person-detecting-v3\")"
   ]
  },
  {
   "cell_type": "code",
   "execution_count": null,
   "metadata": {},
   "outputs": [],
   "source": [
    "from ultralytics import YOLO\n",
    "import cv2\n",
    "import numpy as np\n",
    "import requests\n",
    "from PIL import Image\n",
    "from io import BytesIO\n",
    "import os\n",
    "\n",
    "# Load model\n",
    "model = YOLO(\"yolov8n.pt\")\n",
    "\n",
    "folder_path = r\"C:\\Users\\sacar\\OneDrive\\Documents\\Semester 2 NOVA\\DL\\DeepLearning2425\\rare_species\\chordata_emydidae\"\n",
    "\n",
    "for filename in os.listdir(folder_path):\n",
    "    img_path = os.path.join(folder_path, filename)\n",
    "\n",
    "    # Load and convert image\n",
    "    img = Image.open(img_path).convert(\"RGB\")\n",
    "    img_np = np.array(img)\n",
    "\n",
    "    # Run inference\n",
    "    results = model(img)[0]\n",
    "\n",
    "    # Check if any class == 0 (person)\n",
    "    has_person = any(cls == 0 for cls in results.boxes.cls)\n",
    "\n",
    "    # Output result\n",
    "    if has_person:\n",
    "        print(f\"Person detected in {folder_path}\\{filename}\")\n",
    "    else:\n",
    "        print(f\"No person in {folder_path}\\{filename}\")\n",
    "\n",
    "\n",
    "\n"
   ]
  }
 ],
 "metadata": {
  "kernelspec": {
   "display_name": "tf_env39",
   "language": "python",
   "name": "python3"
  },
  "language_info": {
   "codemirror_mode": {
    "name": "ipython",
    "version": 3
   },
   "file_extension": ".py",
   "mimetype": "text/x-python",
   "name": "python",
   "nbconvert_exporter": "python",
   "pygments_lexer": "ipython3",
   "version": "3.9.13"
  }
 },
 "nbformat": 4,
 "nbformat_minor": 2
}
